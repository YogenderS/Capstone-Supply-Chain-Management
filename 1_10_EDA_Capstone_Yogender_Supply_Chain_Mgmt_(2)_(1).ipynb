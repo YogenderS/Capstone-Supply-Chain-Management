{
  "cells": [
    {
      "cell_type": "markdown",
      "source": [
        "# PART A\n",
        "#Business Problem\n",
        "A FMCG company has entered into the instant noodles business two years back. Their higher \n",
        "management has notices that there is a miss match in the demand and supply. Where the demand is \n",
        "high, supply is pretty low and where the demand is low, supply is pretty high. In both the ways it is an \n",
        "inventory cost loss to the company; hence, the higher management wants to optimize the supply \n",
        "quantity in each and every warehouse in entire country.\n",
        "#Goal & Objective: \n",
        "The objective of this exercise is to build a model, using historical data that will \n",
        "determine an optimum weight of the product to be shipped each time to the warehouse.\n",
        "Also try to analysis the demand pattern in different pockets of the country so management can drive \n",
        "the advertisement campaign particular in those pockets.\n",
        "This is the first phase of the agreement; hence, company has shared very limited information. Once \n",
        "you are able to showcase a tangible impact with this much of information then company will open the \n",
        "360 degree data lake for your consulting company to build a more robust model."
      ],
      "metadata": {
        "id": "3zYlsZsMwxqS"
      },
      "id": "3zYlsZsMwxqS"
    },
    {
      "cell_type": "code",
      "source": [
        "import numpy as np\n",
        "import pandas as pd\n",
        "import seaborn as sns\n",
        "import matplotlib\n",
        "from matplotlib import pyplot as plt\n",
        "from sklearn.preprocessing import StandardScaler\n",
        "from sklearn.model_selection import train_test_split\n",
        "from sklearn.linear_model import LinearRegression\n",
        "from sklearn import tree\n",
        "from sklearn.ensemble import RandomForestRegressor\n",
        "from sklearn.neural_network import MLPRegressor\n",
        "from sklearn.metrics import mean_squared_error\n",
        "from sklearn.metrics import mean_absolute_error\n",
        "from sklearn.model_selection import GridSearchCV"
      ],
      "metadata": {
        "id": "wZUOsMH6wZbO"
      },
      "id": "wZUOsMH6wZbO",
      "execution_count": null,
      "outputs": []
    },
    {
      "cell_type": "code",
      "execution_count": null,
      "metadata": {
        "id": "5ccfbb8b"
      },
      "outputs": [],
      "source": [
        "sns.set()\n",
        "sns.set_palette(palette='deep')\n",
        "import folium\n",
        "from folium.plugins import FastMarkerCluster #For Interactive Maps of World"
      ],
      "id": "5ccfbb8b"
    },
    {
      "cell_type": "code",
      "execution_count": null,
      "metadata": {
        "colab": {
          "base_uri": "https://localhost:8080/",
          "height": 300
        },
        "id": "f7c0cdc5",
        "outputId": "7b5254c2-2cf0-4fb1-a9c9-f6790e82b6ce"
      },
      "outputs": [
        {
          "output_type": "execute_result",
          "data": {
            "text/plain": [
              "  Ware_house_ID WH_Manager_ID Location_type WH_capacity_size   zone  \\\n",
              "0     WH_100000     EID_50000         Urban            Small   West   \n",
              "1     WH_100001     EID_50001         Rural            Large  North   \n",
              "2     WH_100002     EID_50002         Rural              Mid  South   \n",
              "3     WH_100003     EID_50003         Rural              Mid  North   \n",
              "4     WH_100004     EID_50004         Rural            Large  North   \n",
              "\n",
              "  WH_regional_zone  num_refill_req  transport_issue  Competitor_in_mkt  \\\n",
              "0           Zone 6               3                1                  2   \n",
              "1           Zone 5               0                0                  4   \n",
              "2           Zone 2               1                0                  4   \n",
              "3           Zone 3               7                4                  2   \n",
              "4           Zone 5               3                1                  2   \n",
              "\n",
              "   retail_shop_num  ... electric_supply  dist_from_hub  workers_num  \\\n",
              "0             4651  ...               1             91         29.0   \n",
              "1             6217  ...               1            210         31.0   \n",
              "2             4306  ...               0            161         37.0   \n",
              "3             6000  ...               0            103         21.0   \n",
              "4             4740  ...               1            112         25.0   \n",
              "\n",
              "   wh_est_year  storage_issue_reported  temp_reg_mach  \\\n",
              "0          NaN                      13              0   \n",
              "1          NaN                       4              0   \n",
              "2          NaN                      17              0   \n",
              "3          NaN                      17              1   \n",
              "4       2009.0                      18              0   \n",
              "\n",
              "   approved_wh_govt_certificate  wh_breakdown  govt_check  product_wg_ton  \n",
              "0                             A             5          15           17115  \n",
              "1                             A             3          17            5074  \n",
              "2                             A             6          22           23137  \n",
              "3                            A+             3          27           22115  \n",
              "4                             C             6          24           24071  \n",
              "\n",
              "[5 rows x 24 columns]"
            ],
            "text/html": [
              "\n",
              "  <div id=\"df-929878ee-3a56-436b-b41e-43effe9b11c6\">\n",
              "    <div class=\"colab-df-container\">\n",
              "      <div>\n",
              "<style scoped>\n",
              "    .dataframe tbody tr th:only-of-type {\n",
              "        vertical-align: middle;\n",
              "    }\n",
              "\n",
              "    .dataframe tbody tr th {\n",
              "        vertical-align: top;\n",
              "    }\n",
              "\n",
              "    .dataframe thead th {\n",
              "        text-align: right;\n",
              "    }\n",
              "</style>\n",
              "<table border=\"1\" class=\"dataframe\">\n",
              "  <thead>\n",
              "    <tr style=\"text-align: right;\">\n",
              "      <th></th>\n",
              "      <th>Ware_house_ID</th>\n",
              "      <th>WH_Manager_ID</th>\n",
              "      <th>Location_type</th>\n",
              "      <th>WH_capacity_size</th>\n",
              "      <th>zone</th>\n",
              "      <th>WH_regional_zone</th>\n",
              "      <th>num_refill_req</th>\n",
              "      <th>transport_issue</th>\n",
              "      <th>Competitor_in_mkt</th>\n",
              "      <th>retail_shop_num</th>\n",
              "      <th>...</th>\n",
              "      <th>electric_supply</th>\n",
              "      <th>dist_from_hub</th>\n",
              "      <th>workers_num</th>\n",
              "      <th>wh_est_year</th>\n",
              "      <th>storage_issue_reported</th>\n",
              "      <th>temp_reg_mach</th>\n",
              "      <th>approved_wh_govt_certificate</th>\n",
              "      <th>wh_breakdown</th>\n",
              "      <th>govt_check</th>\n",
              "      <th>product_wg_ton</th>\n",
              "    </tr>\n",
              "  </thead>\n",
              "  <tbody>\n",
              "    <tr>\n",
              "      <th>0</th>\n",
              "      <td>WH_100000</td>\n",
              "      <td>EID_50000</td>\n",
              "      <td>Urban</td>\n",
              "      <td>Small</td>\n",
              "      <td>West</td>\n",
              "      <td>Zone 6</td>\n",
              "      <td>3</td>\n",
              "      <td>1</td>\n",
              "      <td>2</td>\n",
              "      <td>4651</td>\n",
              "      <td>...</td>\n",
              "      <td>1</td>\n",
              "      <td>91</td>\n",
              "      <td>29.0</td>\n",
              "      <td>NaN</td>\n",
              "      <td>13</td>\n",
              "      <td>0</td>\n",
              "      <td>A</td>\n",
              "      <td>5</td>\n",
              "      <td>15</td>\n",
              "      <td>17115</td>\n",
              "    </tr>\n",
              "    <tr>\n",
              "      <th>1</th>\n",
              "      <td>WH_100001</td>\n",
              "      <td>EID_50001</td>\n",
              "      <td>Rural</td>\n",
              "      <td>Large</td>\n",
              "      <td>North</td>\n",
              "      <td>Zone 5</td>\n",
              "      <td>0</td>\n",
              "      <td>0</td>\n",
              "      <td>4</td>\n",
              "      <td>6217</td>\n",
              "      <td>...</td>\n",
              "      <td>1</td>\n",
              "      <td>210</td>\n",
              "      <td>31.0</td>\n",
              "      <td>NaN</td>\n",
              "      <td>4</td>\n",
              "      <td>0</td>\n",
              "      <td>A</td>\n",
              "      <td>3</td>\n",
              "      <td>17</td>\n",
              "      <td>5074</td>\n",
              "    </tr>\n",
              "    <tr>\n",
              "      <th>2</th>\n",
              "      <td>WH_100002</td>\n",
              "      <td>EID_50002</td>\n",
              "      <td>Rural</td>\n",
              "      <td>Mid</td>\n",
              "      <td>South</td>\n",
              "      <td>Zone 2</td>\n",
              "      <td>1</td>\n",
              "      <td>0</td>\n",
              "      <td>4</td>\n",
              "      <td>4306</td>\n",
              "      <td>...</td>\n",
              "      <td>0</td>\n",
              "      <td>161</td>\n",
              "      <td>37.0</td>\n",
              "      <td>NaN</td>\n",
              "      <td>17</td>\n",
              "      <td>0</td>\n",
              "      <td>A</td>\n",
              "      <td>6</td>\n",
              "      <td>22</td>\n",
              "      <td>23137</td>\n",
              "    </tr>\n",
              "    <tr>\n",
              "      <th>3</th>\n",
              "      <td>WH_100003</td>\n",
              "      <td>EID_50003</td>\n",
              "      <td>Rural</td>\n",
              "      <td>Mid</td>\n",
              "      <td>North</td>\n",
              "      <td>Zone 3</td>\n",
              "      <td>7</td>\n",
              "      <td>4</td>\n",
              "      <td>2</td>\n",
              "      <td>6000</td>\n",
              "      <td>...</td>\n",
              "      <td>0</td>\n",
              "      <td>103</td>\n",
              "      <td>21.0</td>\n",
              "      <td>NaN</td>\n",
              "      <td>17</td>\n",
              "      <td>1</td>\n",
              "      <td>A+</td>\n",
              "      <td>3</td>\n",
              "      <td>27</td>\n",
              "      <td>22115</td>\n",
              "    </tr>\n",
              "    <tr>\n",
              "      <th>4</th>\n",
              "      <td>WH_100004</td>\n",
              "      <td>EID_50004</td>\n",
              "      <td>Rural</td>\n",
              "      <td>Large</td>\n",
              "      <td>North</td>\n",
              "      <td>Zone 5</td>\n",
              "      <td>3</td>\n",
              "      <td>1</td>\n",
              "      <td>2</td>\n",
              "      <td>4740</td>\n",
              "      <td>...</td>\n",
              "      <td>1</td>\n",
              "      <td>112</td>\n",
              "      <td>25.0</td>\n",
              "      <td>2009.0</td>\n",
              "      <td>18</td>\n",
              "      <td>0</td>\n",
              "      <td>C</td>\n",
              "      <td>6</td>\n",
              "      <td>24</td>\n",
              "      <td>24071</td>\n",
              "    </tr>\n",
              "  </tbody>\n",
              "</table>\n",
              "<p>5 rows × 24 columns</p>\n",
              "</div>\n",
              "      <button class=\"colab-df-convert\" onclick=\"convertToInteractive('df-929878ee-3a56-436b-b41e-43effe9b11c6')\"\n",
              "              title=\"Convert this dataframe to an interactive table.\"\n",
              "              style=\"display:none;\">\n",
              "        \n",
              "  <svg xmlns=\"http://www.w3.org/2000/svg\" height=\"24px\"viewBox=\"0 0 24 24\"\n",
              "       width=\"24px\">\n",
              "    <path d=\"M0 0h24v24H0V0z\" fill=\"none\"/>\n",
              "    <path d=\"M18.56 5.44l.94 2.06.94-2.06 2.06-.94-2.06-.94-.94-2.06-.94 2.06-2.06.94zm-11 1L8.5 8.5l.94-2.06 2.06-.94-2.06-.94L8.5 2.5l-.94 2.06-2.06.94zm10 10l.94 2.06.94-2.06 2.06-.94-2.06-.94-.94-2.06-.94 2.06-2.06.94z\"/><path d=\"M17.41 7.96l-1.37-1.37c-.4-.4-.92-.59-1.43-.59-.52 0-1.04.2-1.43.59L10.3 9.45l-7.72 7.72c-.78.78-.78 2.05 0 2.83L4 21.41c.39.39.9.59 1.41.59.51 0 1.02-.2 1.41-.59l7.78-7.78 2.81-2.81c.8-.78.8-2.07 0-2.86zM5.41 20L4 18.59l7.72-7.72 1.47 1.35L5.41 20z\"/>\n",
              "  </svg>\n",
              "      </button>\n",
              "      \n",
              "  <style>\n",
              "    .colab-df-container {\n",
              "      display:flex;\n",
              "      flex-wrap:wrap;\n",
              "      gap: 12px;\n",
              "    }\n",
              "\n",
              "    .colab-df-convert {\n",
              "      background-color: #E8F0FE;\n",
              "      border: none;\n",
              "      border-radius: 50%;\n",
              "      cursor: pointer;\n",
              "      display: none;\n",
              "      fill: #1967D2;\n",
              "      height: 32px;\n",
              "      padding: 0 0 0 0;\n",
              "      width: 32px;\n",
              "    }\n",
              "\n",
              "    .colab-df-convert:hover {\n",
              "      background-color: #E2EBFA;\n",
              "      box-shadow: 0px 1px 2px rgba(60, 64, 67, 0.3), 0px 1px 3px 1px rgba(60, 64, 67, 0.15);\n",
              "      fill: #174EA6;\n",
              "    }\n",
              "\n",
              "    [theme=dark] .colab-df-convert {\n",
              "      background-color: #3B4455;\n",
              "      fill: #D2E3FC;\n",
              "    }\n",
              "\n",
              "    [theme=dark] .colab-df-convert:hover {\n",
              "      background-color: #434B5C;\n",
              "      box-shadow: 0px 1px 3px 1px rgba(0, 0, 0, 0.15);\n",
              "      filter: drop-shadow(0px 1px 2px rgba(0, 0, 0, 0.3));\n",
              "      fill: #FFFFFF;\n",
              "    }\n",
              "  </style>\n",
              "\n",
              "      <script>\n",
              "        const buttonEl =\n",
              "          document.querySelector('#df-929878ee-3a56-436b-b41e-43effe9b11c6 button.colab-df-convert');\n",
              "        buttonEl.style.display =\n",
              "          google.colab.kernel.accessAllowed ? 'block' : 'none';\n",
              "\n",
              "        async function convertToInteractive(key) {\n",
              "          const element = document.querySelector('#df-929878ee-3a56-436b-b41e-43effe9b11c6');\n",
              "          const dataTable =\n",
              "            await google.colab.kernel.invokeFunction('convertToInteractive',\n",
              "                                                     [key], {});\n",
              "          if (!dataTable) return;\n",
              "\n",
              "          const docLinkHtml = 'Like what you see? Visit the ' +\n",
              "            '<a target=\"_blank\" href=https://colab.research.google.com/notebooks/data_table.ipynb>data table notebook</a>'\n",
              "            + ' to learn more about interactive tables.';\n",
              "          element.innerHTML = '';\n",
              "          dataTable['output_type'] = 'display_data';\n",
              "          await google.colab.output.renderOutput(dataTable, element);\n",
              "          const docLink = document.createElement('div');\n",
              "          docLink.innerHTML = docLinkHtml;\n",
              "          element.appendChild(docLink);\n",
              "        }\n",
              "      </script>\n",
              "    </div>\n",
              "  </div>\n",
              "  "
            ]
          },
          "metadata": {},
          "execution_count": 6
        }
      ],
      "source": [
        "# import os\n",
        "# os.chdir('C:\\\\GL Class\\\\Solution Preparation\\EDA')\n",
        "listings= pd.read_csv('/content/Data.csv')\n",
        "listings.head()"
      ],
      "id": "f7c0cdc5"
    },
    {
      "cell_type": "code",
      "execution_count": null,
      "metadata": {
        "id": "24914909"
      },
      "outputs": [],
      "source": [
        "pd.options.display.max_columns = None"
      ],
      "id": "24914909"
    },
    {
      "cell_type": "code",
      "execution_count": null,
      "metadata": {
        "colab": {
          "base_uri": "https://localhost:8080/",
          "height": 322
        },
        "id": "772fd802",
        "outputId": "4de53ecd-ecb8-49da-e5bf-20f6297452df"
      },
      "outputs": [
        {
          "output_type": "execute_result",
          "data": {
            "text/plain": [
              "  Ware_house_ID WH_Manager_ID Location_type WH_capacity_size   zone  \\\n",
              "0     WH_100000     EID_50000         Urban            Small   West   \n",
              "1     WH_100001     EID_50001         Rural            Large  North   \n",
              "2     WH_100002     EID_50002         Rural              Mid  South   \n",
              "3     WH_100003     EID_50003         Rural              Mid  North   \n",
              "4     WH_100004     EID_50004         Rural            Large  North   \n",
              "\n",
              "  WH_regional_zone  num_refill_req  transport_issue  Competitor_in_mkt  \\\n",
              "0           Zone 6               3                1                  2   \n",
              "1           Zone 5               0                0                  4   \n",
              "2           Zone 2               1                0                  4   \n",
              "3           Zone 3               7                4                  2   \n",
              "4           Zone 5               3                1                  2   \n",
              "\n",
              "   retail_shop_num  wh_owner_type  distributor_num  flood_impacted  \\\n",
              "0             4651         Rented               24               0   \n",
              "1             6217  Company Owned               47               0   \n",
              "2             4306  Company Owned               64               0   \n",
              "3             6000         Rented               50               0   \n",
              "4             4740  Company Owned               42               1   \n",
              "\n",
              "   flood_proof  electric_supply  dist_from_hub  workers_num  wh_est_year  \\\n",
              "0            1                1             91         29.0          NaN   \n",
              "1            0                1            210         31.0          NaN   \n",
              "2            0                0            161         37.0          NaN   \n",
              "3            0                0            103         21.0          NaN   \n",
              "4            0                1            112         25.0       2009.0   \n",
              "\n",
              "   storage_issue_reported  temp_reg_mach approved_wh_govt_certificate  \\\n",
              "0                      13              0                            A   \n",
              "1                       4              0                            A   \n",
              "2                      17              0                            A   \n",
              "3                      17              1                           A+   \n",
              "4                      18              0                            C   \n",
              "\n",
              "   wh_breakdown  govt_check  product_wg_ton  \n",
              "0             5          15           17115  \n",
              "1             3          17            5074  \n",
              "2             6          22           23137  \n",
              "3             3          27           22115  \n",
              "4             6          24           24071  "
            ],
            "text/html": [
              "\n",
              "  <div id=\"df-5c60d370-4861-4495-bc48-df3d8343f4f9\">\n",
              "    <div class=\"colab-df-container\">\n",
              "      <div>\n",
              "<style scoped>\n",
              "    .dataframe tbody tr th:only-of-type {\n",
              "        vertical-align: middle;\n",
              "    }\n",
              "\n",
              "    .dataframe tbody tr th {\n",
              "        vertical-align: top;\n",
              "    }\n",
              "\n",
              "    .dataframe thead th {\n",
              "        text-align: right;\n",
              "    }\n",
              "</style>\n",
              "<table border=\"1\" class=\"dataframe\">\n",
              "  <thead>\n",
              "    <tr style=\"text-align: right;\">\n",
              "      <th></th>\n",
              "      <th>Ware_house_ID</th>\n",
              "      <th>WH_Manager_ID</th>\n",
              "      <th>Location_type</th>\n",
              "      <th>WH_capacity_size</th>\n",
              "      <th>zone</th>\n",
              "      <th>WH_regional_zone</th>\n",
              "      <th>num_refill_req</th>\n",
              "      <th>transport_issue</th>\n",
              "      <th>Competitor_in_mkt</th>\n",
              "      <th>retail_shop_num</th>\n",
              "      <th>wh_owner_type</th>\n",
              "      <th>distributor_num</th>\n",
              "      <th>flood_impacted</th>\n",
              "      <th>flood_proof</th>\n",
              "      <th>electric_supply</th>\n",
              "      <th>dist_from_hub</th>\n",
              "      <th>workers_num</th>\n",
              "      <th>wh_est_year</th>\n",
              "      <th>storage_issue_reported</th>\n",
              "      <th>temp_reg_mach</th>\n",
              "      <th>approved_wh_govt_certificate</th>\n",
              "      <th>wh_breakdown</th>\n",
              "      <th>govt_check</th>\n",
              "      <th>product_wg_ton</th>\n",
              "    </tr>\n",
              "  </thead>\n",
              "  <tbody>\n",
              "    <tr>\n",
              "      <th>0</th>\n",
              "      <td>WH_100000</td>\n",
              "      <td>EID_50000</td>\n",
              "      <td>Urban</td>\n",
              "      <td>Small</td>\n",
              "      <td>West</td>\n",
              "      <td>Zone 6</td>\n",
              "      <td>3</td>\n",
              "      <td>1</td>\n",
              "      <td>2</td>\n",
              "      <td>4651</td>\n",
              "      <td>Rented</td>\n",
              "      <td>24</td>\n",
              "      <td>0</td>\n",
              "      <td>1</td>\n",
              "      <td>1</td>\n",
              "      <td>91</td>\n",
              "      <td>29.0</td>\n",
              "      <td>NaN</td>\n",
              "      <td>13</td>\n",
              "      <td>0</td>\n",
              "      <td>A</td>\n",
              "      <td>5</td>\n",
              "      <td>15</td>\n",
              "      <td>17115</td>\n",
              "    </tr>\n",
              "    <tr>\n",
              "      <th>1</th>\n",
              "      <td>WH_100001</td>\n",
              "      <td>EID_50001</td>\n",
              "      <td>Rural</td>\n",
              "      <td>Large</td>\n",
              "      <td>North</td>\n",
              "      <td>Zone 5</td>\n",
              "      <td>0</td>\n",
              "      <td>0</td>\n",
              "      <td>4</td>\n",
              "      <td>6217</td>\n",
              "      <td>Company Owned</td>\n",
              "      <td>47</td>\n",
              "      <td>0</td>\n",
              "      <td>0</td>\n",
              "      <td>1</td>\n",
              "      <td>210</td>\n",
              "      <td>31.0</td>\n",
              "      <td>NaN</td>\n",
              "      <td>4</td>\n",
              "      <td>0</td>\n",
              "      <td>A</td>\n",
              "      <td>3</td>\n",
              "      <td>17</td>\n",
              "      <td>5074</td>\n",
              "    </tr>\n",
              "    <tr>\n",
              "      <th>2</th>\n",
              "      <td>WH_100002</td>\n",
              "      <td>EID_50002</td>\n",
              "      <td>Rural</td>\n",
              "      <td>Mid</td>\n",
              "      <td>South</td>\n",
              "      <td>Zone 2</td>\n",
              "      <td>1</td>\n",
              "      <td>0</td>\n",
              "      <td>4</td>\n",
              "      <td>4306</td>\n",
              "      <td>Company Owned</td>\n",
              "      <td>64</td>\n",
              "      <td>0</td>\n",
              "      <td>0</td>\n",
              "      <td>0</td>\n",
              "      <td>161</td>\n",
              "      <td>37.0</td>\n",
              "      <td>NaN</td>\n",
              "      <td>17</td>\n",
              "      <td>0</td>\n",
              "      <td>A</td>\n",
              "      <td>6</td>\n",
              "      <td>22</td>\n",
              "      <td>23137</td>\n",
              "    </tr>\n",
              "    <tr>\n",
              "      <th>3</th>\n",
              "      <td>WH_100003</td>\n",
              "      <td>EID_50003</td>\n",
              "      <td>Rural</td>\n",
              "      <td>Mid</td>\n",
              "      <td>North</td>\n",
              "      <td>Zone 3</td>\n",
              "      <td>7</td>\n",
              "      <td>4</td>\n",
              "      <td>2</td>\n",
              "      <td>6000</td>\n",
              "      <td>Rented</td>\n",
              "      <td>50</td>\n",
              "      <td>0</td>\n",
              "      <td>0</td>\n",
              "      <td>0</td>\n",
              "      <td>103</td>\n",
              "      <td>21.0</td>\n",
              "      <td>NaN</td>\n",
              "      <td>17</td>\n",
              "      <td>1</td>\n",
              "      <td>A+</td>\n",
              "      <td>3</td>\n",
              "      <td>27</td>\n",
              "      <td>22115</td>\n",
              "    </tr>\n",
              "    <tr>\n",
              "      <th>4</th>\n",
              "      <td>WH_100004</td>\n",
              "      <td>EID_50004</td>\n",
              "      <td>Rural</td>\n",
              "      <td>Large</td>\n",
              "      <td>North</td>\n",
              "      <td>Zone 5</td>\n",
              "      <td>3</td>\n",
              "      <td>1</td>\n",
              "      <td>2</td>\n",
              "      <td>4740</td>\n",
              "      <td>Company Owned</td>\n",
              "      <td>42</td>\n",
              "      <td>1</td>\n",
              "      <td>0</td>\n",
              "      <td>1</td>\n",
              "      <td>112</td>\n",
              "      <td>25.0</td>\n",
              "      <td>2009.0</td>\n",
              "      <td>18</td>\n",
              "      <td>0</td>\n",
              "      <td>C</td>\n",
              "      <td>6</td>\n",
              "      <td>24</td>\n",
              "      <td>24071</td>\n",
              "    </tr>\n",
              "  </tbody>\n",
              "</table>\n",
              "</div>\n",
              "      <button class=\"colab-df-convert\" onclick=\"convertToInteractive('df-5c60d370-4861-4495-bc48-df3d8343f4f9')\"\n",
              "              title=\"Convert this dataframe to an interactive table.\"\n",
              "              style=\"display:none;\">\n",
              "        \n",
              "  <svg xmlns=\"http://www.w3.org/2000/svg\" height=\"24px\"viewBox=\"0 0 24 24\"\n",
              "       width=\"24px\">\n",
              "    <path d=\"M0 0h24v24H0V0z\" fill=\"none\"/>\n",
              "    <path d=\"M18.56 5.44l.94 2.06.94-2.06 2.06-.94-2.06-.94-.94-2.06-.94 2.06-2.06.94zm-11 1L8.5 8.5l.94-2.06 2.06-.94-2.06-.94L8.5 2.5l-.94 2.06-2.06.94zm10 10l.94 2.06.94-2.06 2.06-.94-2.06-.94-.94-2.06-.94 2.06-2.06.94z\"/><path d=\"M17.41 7.96l-1.37-1.37c-.4-.4-.92-.59-1.43-.59-.52 0-1.04.2-1.43.59L10.3 9.45l-7.72 7.72c-.78.78-.78 2.05 0 2.83L4 21.41c.39.39.9.59 1.41.59.51 0 1.02-.2 1.41-.59l7.78-7.78 2.81-2.81c.8-.78.8-2.07 0-2.86zM5.41 20L4 18.59l7.72-7.72 1.47 1.35L5.41 20z\"/>\n",
              "  </svg>\n",
              "      </button>\n",
              "      \n",
              "  <style>\n",
              "    .colab-df-container {\n",
              "      display:flex;\n",
              "      flex-wrap:wrap;\n",
              "      gap: 12px;\n",
              "    }\n",
              "\n",
              "    .colab-df-convert {\n",
              "      background-color: #E8F0FE;\n",
              "      border: none;\n",
              "      border-radius: 50%;\n",
              "      cursor: pointer;\n",
              "      display: none;\n",
              "      fill: #1967D2;\n",
              "      height: 32px;\n",
              "      padding: 0 0 0 0;\n",
              "      width: 32px;\n",
              "    }\n",
              "\n",
              "    .colab-df-convert:hover {\n",
              "      background-color: #E2EBFA;\n",
              "      box-shadow: 0px 1px 2px rgba(60, 64, 67, 0.3), 0px 1px 3px 1px rgba(60, 64, 67, 0.15);\n",
              "      fill: #174EA6;\n",
              "    }\n",
              "\n",
              "    [theme=dark] .colab-df-convert {\n",
              "      background-color: #3B4455;\n",
              "      fill: #D2E3FC;\n",
              "    }\n",
              "\n",
              "    [theme=dark] .colab-df-convert:hover {\n",
              "      background-color: #434B5C;\n",
              "      box-shadow: 0px 1px 3px 1px rgba(0, 0, 0, 0.15);\n",
              "      filter: drop-shadow(0px 1px 2px rgba(0, 0, 0, 0.3));\n",
              "      fill: #FFFFFF;\n",
              "    }\n",
              "  </style>\n",
              "\n",
              "      <script>\n",
              "        const buttonEl =\n",
              "          document.querySelector('#df-5c60d370-4861-4495-bc48-df3d8343f4f9 button.colab-df-convert');\n",
              "        buttonEl.style.display =\n",
              "          google.colab.kernel.accessAllowed ? 'block' : 'none';\n",
              "\n",
              "        async function convertToInteractive(key) {\n",
              "          const element = document.querySelector('#df-5c60d370-4861-4495-bc48-df3d8343f4f9');\n",
              "          const dataTable =\n",
              "            await google.colab.kernel.invokeFunction('convertToInteractive',\n",
              "                                                     [key], {});\n",
              "          if (!dataTable) return;\n",
              "\n",
              "          const docLinkHtml = 'Like what you see? Visit the ' +\n",
              "            '<a target=\"_blank\" href=https://colab.research.google.com/notebooks/data_table.ipynb>data table notebook</a>'\n",
              "            + ' to learn more about interactive tables.';\n",
              "          element.innerHTML = '';\n",
              "          dataTable['output_type'] = 'display_data';\n",
              "          await google.colab.output.renderOutput(dataTable, element);\n",
              "          const docLink = document.createElement('div');\n",
              "          docLink.innerHTML = docLinkHtml;\n",
              "          element.appendChild(docLink);\n",
              "        }\n",
              "      </script>\n",
              "    </div>\n",
              "  </div>\n",
              "  "
            ]
          },
          "metadata": {},
          "execution_count": 8
        }
      ],
      "source": [
        "listings.head()"
      ],
      "id": "772fd802"
    },
    {
      "cell_type": "code",
      "execution_count": null,
      "metadata": {
        "colab": {
          "base_uri": "https://localhost:8080/"
        },
        "id": "00a0f5fa",
        "outputId": "632c028e-f4ca-41f9-b205-1f99f03d31a4"
      },
      "outputs": [
        {
          "output_type": "execute_result",
          "data": {
            "text/plain": [
              "(25000, 24)"
            ]
          },
          "metadata": {},
          "execution_count": 9
        }
      ],
      "source": [
        "## Checking the shape of the data: Number of columns and rows\n",
        "\n",
        "listings.shape"
      ],
      "id": "00a0f5fa"
    },
    {
      "cell_type": "code",
      "execution_count": null,
      "metadata": {
        "colab": {
          "base_uri": "https://localhost:8080/"
        },
        "id": "7059d26e",
        "outputId": "a4429be6-36b8-41c9-c59a-e5f75ca9a9b5"
      },
      "outputs": [
        {
          "output_type": "stream",
          "name": "stdout",
          "text": [
            "<class 'pandas.core.frame.DataFrame'>\n",
            "RangeIndex: 25000 entries, 0 to 24999\n",
            "Data columns (total 24 columns):\n",
            " #   Column                        Non-Null Count  Dtype  \n",
            "---  ------                        --------------  -----  \n",
            " 0   Ware_house_ID                 25000 non-null  object \n",
            " 1   WH_Manager_ID                 25000 non-null  object \n",
            " 2   Location_type                 25000 non-null  object \n",
            " 3   WH_capacity_size              25000 non-null  object \n",
            " 4   zone                          25000 non-null  object \n",
            " 5   WH_regional_zone              25000 non-null  object \n",
            " 6   num_refill_req                25000 non-null  int64  \n",
            " 7   transport_issue               25000 non-null  int64  \n",
            " 8   Competitor_in_mkt             25000 non-null  int64  \n",
            " 9   retail_shop_num               25000 non-null  int64  \n",
            " 10  wh_owner_type                 25000 non-null  object \n",
            " 11  distributor_num               25000 non-null  int64  \n",
            " 12  flood_impacted                25000 non-null  int64  \n",
            " 13  flood_proof                   25000 non-null  int64  \n",
            " 14  electric_supply               25000 non-null  int64  \n",
            " 15  dist_from_hub                 25000 non-null  int64  \n",
            " 16  workers_num                   24010 non-null  float64\n",
            " 17  wh_est_year                   13119 non-null  float64\n",
            " 18  storage_issue_reported        25000 non-null  int64  \n",
            " 19  temp_reg_mach                 25000 non-null  int64  \n",
            " 20  approved_wh_govt_certificate  24092 non-null  object \n",
            " 21  wh_breakdown                  25000 non-null  int64  \n",
            " 22  govt_check                    25000 non-null  int64  \n",
            " 23  product_wg_ton                25000 non-null  int64  \n",
            "dtypes: float64(2), int64(14), object(8)\n",
            "memory usage: 4.6+ MB\n"
          ]
        }
      ],
      "source": [
        "listings.info()"
      ],
      "id": "7059d26e"
    },
    {
      "cell_type": "code",
      "execution_count": null,
      "metadata": {
        "colab": {
          "base_uri": "https://localhost:8080/"
        },
        "id": "1760f9fc",
        "outputId": "3f3313c0-c7e9-4218-97c2-2c995218d83c",
        "scrolled": true
      },
      "outputs": [
        {
          "output_type": "execute_result",
          "data": {
            "text/plain": [
              "wh_est_year                     11881\n",
              "workers_num                       990\n",
              "approved_wh_govt_certificate      908\n",
              "dtype: int64"
            ]
          },
          "metadata": {},
          "execution_count": 11
        }
      ],
      "source": [
        "### Examine missing values   What is standard practice of dropping Nan Valus????\n",
        "listings_na = listings.isna().sum()\n",
        "listings_na[listings_na.values > 0].sort_values(ascending=False) # Find out all variables that contain missing values"
      ],
      "id": "1760f9fc"
    },
    {
      "cell_type": "code",
      "execution_count": null,
      "metadata": {
        "id": "471565fc"
      },
      "outputs": [],
      "source": [
        "#Target Variable Analysis"
      ],
      "id": "471565fc"
    },
    {
      "cell_type": "code",
      "execution_count": null,
      "metadata": {
        "colab": {
          "base_uri": "https://localhost:8080/"
        },
        "id": "98131356",
        "outputId": "2881feba-1ea6-439c-decd-26ef39b9e9d6",
        "scrolled": true
      },
      "outputs": [
        {
          "output_type": "execute_result",
          "data": {
            "text/plain": [
              "count     25000.000000\n",
              "unique             NaN\n",
              "top                NaN\n",
              "freq               NaN\n",
              "mean      22102.632920\n",
              "std       11607.755077\n",
              "min        2065.000000\n",
              "25%       13059.000000\n",
              "50%       22101.000000\n",
              "75%       30103.000000\n",
              "max       55151.000000\n",
              "Name: product_wg_ton, dtype: float64"
            ]
          },
          "metadata": {},
          "execution_count": 13
        }
      ],
      "source": [
        "### Let's examine the target column which is product_wg_ton\n",
        "\n",
        "listings.describe(include=\"all\")[\"product_wg_ton\"]"
      ],
      "id": "98131356"
    },
    {
      "cell_type": "code",
      "execution_count": null,
      "metadata": {
        "colab": {
          "base_uri": "https://localhost:8080/"
        },
        "id": "70541f41",
        "outputId": "347ef409-3d49-44d0-f08d-023efdcafc93"
      },
      "outputs": [
        {
          "output_type": "stream",
          "name": "stdout",
          "text": [
            "0.5% properties have a product_wg_ton lower than  3090.99\n",
            "  1% properties have a product_wg_ton lower than  3130.00\n",
            "  5% properties have a product_wg_ton lower than  5128.00\n",
            " 10% properties have a product_wg_ton lower than  6134.00\n",
            " 90% properties have a product_wg_ton lower than  37147.00\n",
            " 95% properties have a product_wg_ton lower than  43113.00\n",
            " 99% properties have a product_wg_ton lower than  51075.02\n",
            "99.5% properties have a product_wg_ton lower than  52117.01\n"
          ]
        }
      ],
      "source": [
        "#Let's look at the distribution of price at different percentiles\n",
        "print(\"0.5% properties have a product_wg_ton lower than {0: .2f}\".format(np.percentile(listings[\"product_wg_ton\"], 0.5)))\n",
        "print(\"  1% properties have a product_wg_ton lower than {0: .2f}\".format(np.percentile(listings[\"product_wg_ton\"], 1)))\n",
        "print(\"  5% properties have a product_wg_ton lower than {0: .2f}\".format(np.percentile(listings[\"product_wg_ton\"], 5)))\n",
        "print(\" 10% properties have a product_wg_ton lower than {0: .2f}\".format(np.percentile(listings[\"product_wg_ton\"], 10)))\n",
        "print(\" 90% properties have a product_wg_ton lower than {0: .2f}\".format(np.percentile(listings[\"product_wg_ton\"], 90)))\n",
        "print(\" 95% properties have a product_wg_ton lower than {0: .2f}\".format(np.percentile(listings[\"product_wg_ton\"], 95)))\n",
        "print(\" 99% properties have a product_wg_ton lower than {0: .2f}\".format(np.percentile(listings[\"product_wg_ton\"], 99)))\n",
        "print(\"99.5% properties have a product_wg_ton lower than {0: .2f}\".format(np.percentile(listings[\"product_wg_ton\"], 99.5)))"
      ],
      "id": "70541f41"
    },
    {
      "cell_type": "code",
      "execution_count": null,
      "metadata": {
        "colab": {
          "base_uri": "https://localhost:8080/",
          "height": 629
        },
        "id": "29d27472",
        "outputId": "8b88de3d-f327-4deb-d5e0-0bc7d26d8048"
      },
      "outputs": [
        {
          "output_type": "stream",
          "name": "stderr",
          "text": [
            "/usr/local/lib/python3.8/dist-packages/seaborn/distributions.py:2619: FutureWarning: `distplot` is a deprecated function and will be removed in a future version. Please adapt your code to use either `displot` (a figure-level function with similar flexibility) or `histplot` (an axes-level function for histograms).\n",
            "  warnings.warn(msg, FutureWarning)\n"
          ]
        },
        {
          "output_type": "execute_result",
          "data": {
            "text/plain": [
              "<matplotlib.axes._subplots.AxesSubplot at 0x7f2b597b3490>"
            ]
          },
          "metadata": {},
          "execution_count": 15
        },
        {
          "output_type": "display_data",
          "data": {
            "text/plain": [
              "<Figure size 1368x648 with 1 Axes>"
            ],
            "image/png": "[encoded data removed]"
          },
          "metadata": {}
        }
      ],
      "source": [
        "plt.figure(figsize=(19,9))\n",
        "sns.distplot(listings[\"product_wg_ton\"],bins = 26,kde = False,color = 'b',hist_kws = {'linewidth' : 0.5,'edgecolor' : 'black'})"
      ],
      "id": "29d27472"
    },
    {
      "cell_type": "code",
      "execution_count": null,
      "metadata": {
        "id": "4c4e87d2"
      },
      "outputs": [],
      "source": [
        "#Log transformation of target variable"
      ],
      "id": "4c4e87d2"
    },
    {
      "cell_type": "code",
      "execution_count": null,
      "metadata": {
        "colab": {
          "base_uri": "https://localhost:8080/",
          "height": 285
        },
        "id": "e6616546",
        "outputId": "c2136d4e-3b4a-411b-bb96-14579dec76c5",
        "scrolled": true
      },
      "outputs": [
        {
          "output_type": "display_data",
          "data": {
            "text/plain": [
              "<Figure size 432x288 with 1 Axes>"
            ],
            "image/png": "[encoded data removed]"
          },
          "metadata": {}
        }
      ],
      "source": [
        "sns.histplot(np.log(listings[\"product_wg_ton\"]),bins=20);"
      ],
      "id": "e6616546"
    },
    {
      "cell_type": "code",
      "execution_count": null,
      "metadata": {
        "colab": {
          "base_uri": "https://localhost:8080/"
        },
        "id": "7001633c",
        "outputId": "762e63a3-8005-4cad-8ec7-1b0e9a51039c"
      },
      "outputs": [
        {
          "output_type": "stream",
          "name": "stderr",
          "text": [
            "<ipython-input-18-28df6a01928b>:1: DeprecationWarning: `np.object` is a deprecated alias for the builtin `object`. To silence this warning, use `object` by itself. Doing this will not modify any behavior and is safe. \n",
            "Deprecated in NumPy 1.20; for more details and guidance: https://numpy.org/devdocs/release/1.20.0-notes.html#deprecations\n",
            "  listings[\"flood_impacted\"]=listings[\"flood_impacted\"].astype(np.object)\n",
            "<ipython-input-18-28df6a01928b>:2: DeprecationWarning: `np.object` is a deprecated alias for the builtin `object`. To silence this warning, use `object` by itself. Doing this will not modify any behavior and is safe. \n",
            "Deprecated in NumPy 1.20; for more details and guidance: https://numpy.org/devdocs/release/1.20.0-notes.html#deprecations\n",
            "  listings[\"flood_proof\"]=listings[\"flood_proof\"].astype(np.object)\n",
            "<ipython-input-18-28df6a01928b>:3: DeprecationWarning: `np.object` is a deprecated alias for the builtin `object`. To silence this warning, use `object` by itself. Doing this will not modify any behavior and is safe. \n",
            "Deprecated in NumPy 1.20; for more details and guidance: https://numpy.org/devdocs/release/1.20.0-notes.html#deprecations\n",
            "  listings[\"electric_supply\"]=listings[\"electric_supply\"].astype(np.object)\n",
            "<ipython-input-18-28df6a01928b>:4: DeprecationWarning: `np.object` is a deprecated alias for the builtin `object`. To silence this warning, use `object` by itself. Doing this will not modify any behavior and is safe. \n",
            "Deprecated in NumPy 1.20; for more details and guidance: https://numpy.org/devdocs/release/1.20.0-notes.html#deprecations\n",
            "  listings[\"temp_reg_mach\"]=listings[\"temp_reg_mach\"].astype(np.object)\n"
          ]
        }
      ],
      "source": [
        "listings[\"flood_impacted\"]=listings[\"flood_impacted\"].astype(np.object)\n",
        "listings[\"flood_proof\"]=listings[\"flood_proof\"].astype(np.object)\n",
        "listings[\"electric_supply\"]=listings[\"electric_supply\"].astype(np.object)\n",
        "listings[\"temp_reg_mach\"]=listings[\"temp_reg_mach\"].astype(np.object)"
      ],
      "id": "7001633c"
    },
    {
      "cell_type": "code",
      "execution_count": null,
      "metadata": {
        "colab": {
          "base_uri": "https://localhost:8080/"
        },
        "id": "8bbb1c86",
        "outputId": "00ba0023-f25a-43dd-b003-07e1a0418ca2"
      },
      "outputs": [
        {
          "output_type": "execute_result",
          "data": {
            "text/plain": [
              "Ware_house_ID                       0\n",
              "WH_Manager_ID                       0\n",
              "Location_type                       0\n",
              "WH_capacity_size                    0\n",
              "zone                                0\n",
              "WH_regional_zone                    0\n",
              "num_refill_req                      0\n",
              "transport_issue                     0\n",
              "Competitor_in_mkt                   0\n",
              "retail_shop_num                     0\n",
              "wh_owner_type                       0\n",
              "distributor_num                     0\n",
              "flood_impacted                      0\n",
              "flood_proof                         0\n",
              "electric_supply                     0\n",
              "dist_from_hub                       0\n",
              "workers_num                       990\n",
              "wh_est_year                     11881\n",
              "storage_issue_reported              0\n",
              "temp_reg_mach                       0\n",
              "approved_wh_govt_certificate      908\n",
              "wh_breakdown                        0\n",
              "govt_check                          0\n",
              "product_wg_ton                      0\n",
              "dtype: int64"
            ]
          },
          "metadata": {},
          "execution_count": 19
        }
      ],
      "source": [
        "listings.isnull().sum()"
      ],
      "id": "8bbb1c86"
    },
    {
      "cell_type": "code",
      "execution_count": null,
      "metadata": {
        "id": "20427864"
      },
      "outputs": [],
      "source": [
        "for column in listings[['workers_num', 'wh_est_year']]:\n",
        "    median = listings[column].median()\n",
        "    listings[column] = listings[column].fillna(median)"
      ],
      "id": "20427864"
    },
    {
      "cell_type": "markdown",
      "metadata": {
        "id": "qnMnSq2kILyb"
      },
      "source": [
        "Adding New Feature Duration of Estblished Warehouse Years "
      ],
      "id": "qnMnSq2kILyb"
    },
    {
      "cell_type": "code",
      "execution_count": null,
      "metadata": {
        "id": "zz0eqIYukgzZ"
      },
      "outputs": [],
      "source": [
        "listings[\"Current_Year\"] = 2023"
      ],
      "id": "zz0eqIYukgzZ"
    },
    {
      "cell_type": "code",
      "execution_count": null,
      "metadata": {
        "id": "GiGMdtrYpKMD"
      },
      "outputs": [],
      "source": [
        "listings[\"Dur_Wh_Est_Year\"] = listings[\"Current_Year\"]-listings[\"wh_est_year\"]"
      ],
      "id": "GiGMdtrYpKMD"
    },
    {
      "cell_type": "code",
      "execution_count": null,
      "metadata": {
        "colab": {
          "base_uri": "https://localhost:8080/",
          "height": 488
        },
        "id": "iBAHBRsEpnpJ",
        "outputId": "e9ff2114-2c1e-4ac8-883d-8b99c65edfb9"
      },
      "outputs": [
        {
          "output_type": "execute_result",
          "data": {
            "text/plain": [
              "                          count         mean           std     min      25%  \\\n",
              "num_refill_req          25000.0      4.08904      2.606612     0.0      2.0   \n",
              "transport_issue         25000.0      0.77368      1.199449     0.0      0.0   \n",
              "Competitor_in_mkt       25000.0      3.10420      1.141663     0.0      2.0   \n",
              "retail_shop_num         25000.0   4985.71156   1052.825252  1821.0   4313.0   \n",
              "distributor_num         25000.0     42.41812     16.064329    15.0     29.0   \n",
              "dist_from_hub           25000.0    163.53732     62.718609    55.0    109.0   \n",
              "workers_num             25000.0     28.90700      7.717275    10.0     24.0   \n",
              "wh_est_year             25000.0   2009.20108      5.456731  1996.0   2009.0   \n",
              "storage_issue_reported  25000.0     17.13044      9.161108     0.0     10.0   \n",
              "wh_breakdown            25000.0      3.48204      1.690335     0.0      2.0   \n",
              "govt_check              25000.0     18.81228      8.632382     1.0     11.0   \n",
              "product_wg_ton          25000.0  22102.63292  11607.755077  2065.0  13059.0   \n",
              "Current_Year            25000.0   2023.00000      0.000000  2023.0   2023.0   \n",
              "Dur_Wh_Est_Year         25000.0     13.79892      5.456731     0.0     13.0   \n",
              "\n",
              "                            50%      75%      max  \n",
              "num_refill_req              4.0      6.0      8.0  \n",
              "transport_issue             0.0      1.0      5.0  \n",
              "Competitor_in_mkt           3.0      4.0     12.0  \n",
              "retail_shop_num          4859.0   5500.0  11008.0  \n",
              "distributor_num            42.0     56.0     70.0  \n",
              "dist_from_hub             164.0    218.0    271.0  \n",
              "workers_num                28.0     33.0     98.0  \n",
              "wh_est_year              2009.0   2010.0   2023.0  \n",
              "storage_issue_reported     18.0     24.0     39.0  \n",
              "wh_breakdown                3.0      5.0      6.0  \n",
              "govt_check                 21.0     26.0     32.0  \n",
              "product_wg_ton          22101.0  30103.0  55151.0  \n",
              "Current_Year             2023.0   2023.0   2023.0  \n",
              "Dur_Wh_Est_Year            14.0     14.0     27.0  "
            ],
            "text/html": [
              "\n",
              "  <div id=\"df-212c85ec-a69d-47a4-a0d4-45dbc6e1ab03\">\n",
              "    <div class=\"colab-df-container\">\n",
              "      <div>\n",
              "<style scoped>\n",
              "    .dataframe tbody tr th:only-of-type {\n",
              "        vertical-align: middle;\n",
              "    }\n",
              "\n",
              "    .dataframe tbody tr th {\n",
              "        vertical-align: top;\n",
              "    }\n",
              "\n",
              "    .dataframe thead th {\n",
              "        text-align: right;\n",
              "    }\n",
              "</style>\n",
              "<table border=\"1\" class=\"dataframe\">\n",
              "  <thead>\n",
              "    <tr style=\"text-align: right;\">\n",
              "      <th></th>\n",
              "      <th>count</th>\n",
              "      <th>mean</th>\n",
              "      <th>std</th>\n",
              "      <th>min</th>\n",
              "      <th>25%</th>\n",
              "      <th>50%</th>\n",
              "      <th>75%</th>\n",
              "      <th>max</th>\n",
              "    </tr>\n",
              "  </thead>\n",
              "  <tbody>\n",
              "    <tr>\n",
              "      <th>num_refill_req</th>\n",
              "      <td>25000.0</td>\n",
              "      <td>4.08904</td>\n",
              "      <td>2.606612</td>\n",
              "      <td>0.0</td>\n",
              "      <td>2.0</td>\n",
              "      <td>4.0</td>\n",
              "      <td>6.0</td>\n",
              "      <td>8.0</td>\n",
              "    </tr>\n",
              "    <tr>\n",
              "      <th>transport_issue</th>\n",
              "      <td>25000.0</td>\n",
              "      <td>0.77368</td>\n",
              "      <td>1.199449</td>\n",
              "      <td>0.0</td>\n",
              "      <td>0.0</td>\n",
              "      <td>0.0</td>\n",
              "      <td>1.0</td>\n",
              "      <td>5.0</td>\n",
              "    </tr>\n",
              "    <tr>\n",
              "      <th>Competitor_in_mkt</th>\n",
              "      <td>25000.0</td>\n",
              "      <td>3.10420</td>\n",
              "      <td>1.141663</td>\n",
              "      <td>0.0</td>\n",
              "      <td>2.0</td>\n",
              "      <td>3.0</td>\n",
              "      <td>4.0</td>\n",
              "      <td>12.0</td>\n",
              "    </tr>\n",
              "    <tr>\n",
              "      <th>retail_shop_num</th>\n",
              "      <td>25000.0</td>\n",
              "      <td>4985.71156</td>\n",
              "      <td>1052.825252</td>\n",
              "      <td>1821.0</td>\n",
              "      <td>4313.0</td>\n",
              "      <td>4859.0</td>\n",
              "      <td>5500.0</td>\n",
              "      <td>11008.0</td>\n",
              "    </tr>\n",
              "    <tr>\n",
              "      <th>distributor_num</th>\n",
              "      <td>25000.0</td>\n",
              "      <td>42.41812</td>\n",
              "      <td>16.064329</td>\n",
              "      <td>15.0</td>\n",
              "      <td>29.0</td>\n",
              "      <td>42.0</td>\n",
              "      <td>56.0</td>\n",
              "      <td>70.0</td>\n",
              "    </tr>\n",
              "    <tr>\n",
              "      <th>dist_from_hub</th>\n",
              "      <td>25000.0</td>\n",
              "      <td>163.53732</td>\n",
              "      <td>62.718609</td>\n",
              "      <td>55.0</td>\n",
              "      <td>109.0</td>\n",
              "      <td>164.0</td>\n",
              "      <td>218.0</td>\n",
              "      <td>271.0</td>\n",
              "    </tr>\n",
              "    <tr>\n",
              "      <th>workers_num</th>\n",
              "      <td>25000.0</td>\n",
              "      <td>28.90700</td>\n",
              "      <td>7.717275</td>\n",
              "      <td>10.0</td>\n",
              "      <td>24.0</td>\n",
              "      <td>28.0</td>\n",
              "      <td>33.0</td>\n",
              "      <td>98.0</td>\n",
              "    </tr>\n",
              "    <tr>\n",
              "      <th>wh_est_year</th>\n",
              "      <td>25000.0</td>\n",
              "      <td>2009.20108</td>\n",
              "      <td>5.456731</td>\n",
              "      <td>1996.0</td>\n",
              "      <td>2009.0</td>\n",
              "      <td>2009.0</td>\n",
              "      <td>2010.0</td>\n",
              "      <td>2023.0</td>\n",
              "    </tr>\n",
              "    <tr>\n",
              "      <th>storage_issue_reported</th>\n",
              "      <td>25000.0</td>\n",
              "      <td>17.13044</td>\n",
              "      <td>9.161108</td>\n",
              "      <td>0.0</td>\n",
              "      <td>10.0</td>\n",
              "      <td>18.0</td>\n",
              "      <td>24.0</td>\n",
              "      <td>39.0</td>\n",
              "    </tr>\n",
              "    <tr>\n",
              "      <th>wh_breakdown</th>\n",
              "      <td>25000.0</td>\n",
              "      <td>3.48204</td>\n",
              "      <td>1.690335</td>\n",
              "      <td>0.0</td>\n",
              "      <td>2.0</td>\n",
              "      <td>3.0</td>\n",
              "      <td>5.0</td>\n",
              "      <td>6.0</td>\n",
              "    </tr>\n",
              "    <tr>\n",
              "      <th>govt_check</th>\n",
              "      <td>25000.0</td>\n",
              "      <td>18.81228</td>\n",
              "      <td>8.632382</td>\n",
              "      <td>1.0</td>\n",
              "      <td>11.0</td>\n",
              "      <td>21.0</td>\n",
              "      <td>26.0</td>\n",
              "      <td>32.0</td>\n",
              "    </tr>\n",
              "    <tr>\n",
              "      <th>product_wg_ton</th>\n",
              "      <td>25000.0</td>\n",
              "      <td>22102.63292</td>\n",
              "      <td>11607.755077</td>\n",
              "      <td>2065.0</td>\n",
              "      <td>13059.0</td>\n",
              "      <td>22101.0</td>\n",
              "      <td>30103.0</td>\n",
              "      <td>55151.0</td>\n",
              "    </tr>\n",
              "    <tr>\n",
              "      <th>Current_Year</th>\n",
              "      <td>25000.0</td>\n",
              "      <td>2023.00000</td>\n",
              "      <td>0.000000</td>\n",
              "      <td>2023.0</td>\n",
              "      <td>2023.0</td>\n",
              "      <td>2023.0</td>\n",
              "      <td>2023.0</td>\n",
              "      <td>2023.0</td>\n",
              "    </tr>\n",
              "    <tr>\n",
              "      <th>Dur_Wh_Est_Year</th>\n",
              "      <td>25000.0</td>\n",
              "      <td>13.79892</td>\n",
              "      <td>5.456731</td>\n",
              "      <td>0.0</td>\n",
              "      <td>13.0</td>\n",
              "      <td>14.0</td>\n",
              "      <td>14.0</td>\n",
              "      <td>27.0</td>\n",
              "    </tr>\n",
              "  </tbody>\n",
              "</table>\n",
              "</div>\n",
              "      <button class=\"colab-df-convert\" onclick=\"convertToInteractive('df-212c85ec-a69d-47a4-a0d4-45dbc6e1ab03')\"\n",
              "              title=\"Convert this dataframe to an interactive table.\"\n",
              "              style=\"display:none;\">\n",
              "        \n",
              "  <svg xmlns=\"http://www.w3.org/2000/svg\" height=\"24px\"viewBox=\"0 0 24 24\"\n",
              "       width=\"24px\">\n",
              "    <path d=\"M0 0h24v24H0V0z\" fill=\"none\"/>\n",
              "    <path d=\"M18.56 5.44l.94 2.06.94-2.06 2.06-.94-2.06-.94-.94-2.06-.94 2.06-2.06.94zm-11 1L8.5 8.5l.94-2.06 2.06-.94-2.06-.94L8.5 2.5l-.94 2.06-2.06.94zm10 10l.94 2.06.94-2.06 2.06-.94-2.06-.94-.94-2.06-.94 2.06-2.06.94z\"/><path d=\"M17.41 7.96l-1.37-1.37c-.4-.4-.92-.59-1.43-.59-.52 0-1.04.2-1.43.59L10.3 9.45l-7.72 7.72c-.78.78-.78 2.05 0 2.83L4 21.41c.39.39.9.59 1.41.59.51 0 1.02-.2 1.41-.59l7.78-7.78 2.81-2.81c.8-.78.8-2.07 0-2.86zM5.41 20L4 18.59l7.72-7.72 1.47 1.35L5.41 20z\"/>\n",
              "  </svg>\n",
              "      </button>\n",
              "      \n",
              "  <style>\n",
              "    .colab-df-container {\n",
              "      display:flex;\n",
              "      flex-wrap:wrap;\n",
              "      gap: 12px;\n",
              "    }\n",
              "\n",
              "    .colab-df-convert {\n",
              "      background-color: #E8F0FE;\n",
              "      border: none;\n",
              "      border-radius: 50%;\n",
              "      cursor: pointer;\n",
              "      display: none;\n",
              "      fill: #1967D2;\n",
              "      height: 32px;\n",
              "      padding: 0 0 0 0;\n",
              "      width: 32px;\n",
              "    }\n",
              "\n",
              "    .colab-df-convert:hover {\n",
              "      background-color: #E2EBFA;\n",
              "      box-shadow: 0px 1px 2px rgba(60, 64, 67, 0.3), 0px 1px 3px 1px rgba(60, 64, 67, 0.15);\n",
              "      fill: #174EA6;\n",
              "    }\n",
              "\n",
              "    [theme=dark] .colab-df-convert {\n",
              "      background-color: #3B4455;\n",
              "      fill: #D2E3FC;\n",
              "    }\n",
              "\n",
              "    [theme=dark] .colab-df-convert:hover {\n",
              "      background-color: #434B5C;\n",
              "      box-shadow: 0px 1px 3px 1px rgba(0, 0, 0, 0.15);\n",
              "      filter: drop-shadow(0px 1px 2px rgba(0, 0, 0, 0.3));\n",
              "      fill: #FFFFFF;\n",
              "    }\n",
              "  </style>\n",
              "\n",
              "      <script>\n",
              "        const buttonEl =\n",
              "          document.querySelector('#df-212c85ec-a69d-47a4-a0d4-45dbc6e1ab03 button.colab-df-convert');\n",
              "        buttonEl.style.display =\n",
              "          google.colab.kernel.accessAllowed ? 'block' : 'none';\n",
              "\n",
              "        async function convertToInteractive(key) {\n",
              "          const element = document.querySelector('#df-212c85ec-a69d-47a4-a0d4-45dbc6e1ab03');\n",
              "          const dataTable =\n",
              "            await google.colab.kernel.invokeFunction('convertToInteractive',\n",
              "                                                     [key], {});\n",
              "          if (!dataTable) return;\n",
              "\n",
              "          const docLinkHtml = 'Like what you see? Visit the ' +\n",
              "            '<a target=\"_blank\" href=https://colab.research.google.com/notebooks/data_table.ipynb>data table notebook</a>'\n",
              "            + ' to learn more about interactive tables.';\n",
              "          element.innerHTML = '';\n",
              "          dataTable['output_type'] = 'display_data';\n",
              "          await google.colab.output.renderOutput(dataTable, element);\n",
              "          const docLink = document.createElement('div');\n",
              "          docLink.innerHTML = docLinkHtml;\n",
              "          element.appendChild(docLink);\n",
              "        }\n",
              "      </script>\n",
              "    </div>\n",
              "  </div>\n",
              "  "
            ]
          },
          "metadata": {},
          "execution_count": 23
        }
      ],
      "source": [
        "listings.describe().T"
      ],
      "id": "iBAHBRsEpnpJ"
    },
    {
      "cell_type": "code",
      "execution_count": null,
      "metadata": {
        "id": "-xbxF-lrsMsK"
      },
      "outputs": [],
      "source": [
        "listings.drop('Current_Year',\n",
        "  axis='columns', inplace=True)"
      ],
      "id": "-xbxF-lrsMsK"
    },
    {
      "cell_type": "code",
      "execution_count": null,
      "metadata": {
        "id": "y8-iBGIFsvGW"
      },
      "outputs": [],
      "source": [
        "listings.drop('wh_est_year',\n",
        "  axis='columns', inplace=True)"
      ],
      "id": "y8-iBGIFsvGW"
    },
    {
      "cell_type": "code",
      "execution_count": null,
      "metadata": {
        "colab": {
          "base_uri": "https://localhost:8080/"
        },
        "id": "pwDNz87zxlH4",
        "outputId": "1a88be24-cc62-47f8-b812-981241eb43ad"
      },
      "outputs": [
        {
          "output_type": "stream",
          "name": "stdout",
          "text": [
            "['Ware_house_ID', 'WH_Manager_ID', 'Location_type', 'WH_capacity_size', 'zone', 'WH_regional_zone', 'wh_owner_type', 'flood_impacted', 'flood_proof', 'electric_supply', 'temp_reg_mach', 'approved_wh_govt_certificate']\n",
            "['num_refill_req', 'transport_issue', 'Competitor_in_mkt', 'retail_shop_num', 'distributor_num', 'dist_from_hub', 'workers_num', 'storage_issue_reported', 'wh_breakdown', 'govt_check', 'product_wg_ton', 'Dur_Wh_Est_Year']\n"
          ]
        }
      ],
      "source": [
        "cat = []\n",
        "num = []\n",
        "for i in listings.columns:\n",
        "    if listings[i].dtype == 'object':\n",
        "        cat.append(i)\n",
        "    else:\n",
        "        num.append(i)\n",
        "print(cat)\n",
        "print(num)\n",
        "x_num=listings[num]\n",
        "y_cat=listings[cat]"
      ],
      "id": "pwDNz87zxlH4"
    },
    {
      "cell_type": "code",
      "source": [
        "# Write Assumption of ANOVA-shapiro for normality\n",
        "# Levene for Variance"
      ],
      "metadata": {
        "id": "GPCTqU7vcFGH"
      },
      "id": "GPCTqU7vcFGH",
      "execution_count": null,
      "outputs": []
    },
    {
      "cell_type": "code",
      "source": [
        "from statsmodels.formula.api import ols      # For n-way ANOVA\n",
        "from statsmodels.stats.anova import _get_covariance,anova_lm # For n-way ANOVA"
      ],
      "metadata": {
        "id": "H1AqcHdWepKJ"
      },
      "id": "H1AqcHdWepKJ",
      "execution_count": null,
      "outputs": []
    },
    {
      "cell_type": "code",
      "source": [
        "formula = 'product_wg_ton ~ C(approved_wh_govt_certificate)'\n",
        "model = ols(formula, listings).fit()\n",
        "aov_table = anova_lm(model)\n",
        "print(aov_table)"
      ],
      "metadata": {
        "id": "ETEJFO3LebDo",
        "colab": {
          "base_uri": "https://localhost:8080/"
        },
        "outputId": "86ae67d5-60ee-4d48-b0e2-bbe220f97937"
      },
      "execution_count": null,
      "outputs": [
        {
          "output_type": "stream",
          "name": "stdout",
          "text": [
            "                                      df        sum_sq       mean_sq  \\\n",
            "C(approved_wh_govt_certificate)      4.0  1.117469e+11  2.793672e+10   \n",
            "Residual                         24087.0  2.988157e+12  1.240568e+08   \n",
            "\n",
            "                                          F         PR(>F)  \n",
            "C(approved_wh_govt_certificate)  225.192881  4.048325e-190  \n",
            "Residual                                NaN            NaN  \n"
          ]
        }
      ],
      "id": "ETEJFO3LebDo"
    },
    {
      "cell_type": "code",
      "source": [
        "formula = 'product_wg_ton ~ C(temp_reg_mach)'\n",
        "model = ols(formula, listings).fit()\n",
        "aov_table = anova_lm(model)\n",
        "print(aov_table)"
      ],
      "metadata": {
        "colab": {
          "base_uri": "https://localhost:8080/"
        },
        "id": "rG-PRyN0hdL8",
        "outputId": "2aa65664-7dbc-4b97-e602-9f7dc94f91bf"
      },
      "id": "rG-PRyN0hdL8",
      "execution_count": null,
      "outputs": [
        {
          "output_type": "stream",
          "name": "stdout",
          "text": [
            "                       df        sum_sq       mean_sq           F  \\\n",
            "C(temp_reg_mach)      1.0  3.479598e+10  3.479598e+10  260.930561   \n",
            "Residual          24998.0  3.333569e+12  1.333534e+08         NaN   \n",
            "\n",
            "                        PR(>F)  \n",
            "C(temp_reg_mach)  2.126171e-58  \n",
            "Residual                   NaN  \n"
          ]
        }
      ]
    },
    {
      "cell_type": "code",
      "source": [
        "formula = 'product_wg_ton ~ C(electric_supply)'\n",
        "model = ols(formula, listings).fit()\n",
        "aov_table = anova_lm(model)\n",
        "print(aov_table)"
      ],
      "metadata": {
        "colab": {
          "base_uri": "https://localhost:8080/"
        },
        "id": "kA2KqIUvhn9i",
        "outputId": "5d3ac880-c85d-4bca-da09-959df08a843c"
      },
      "id": "kA2KqIUvhn9i",
      "execution_count": null,
      "outputs": [
        {
          "output_type": "stream",
          "name": "stdout",
          "text": [
            "                         df        sum_sq       mean_sq         F    PR(>F)\n",
            "C(electric_supply)      1.0  1.571268e+07  1.571268e+07  0.116611  0.732743\n",
            "Residual            24998.0  3.368349e+12  1.347447e+08       NaN       NaN\n"
          ]
        }
      ]
    },
    {
      "cell_type": "code",
      "source": [
        "formula = 'product_wg_ton ~ C(flood_proof)'\n",
        "model = ols(formula, listings).fit()\n",
        "aov_table = anova_lm(model)\n",
        "print(aov_table)"
      ],
      "metadata": {
        "colab": {
          "base_uri": "https://localhost:8080/"
        },
        "id": "Xs4q9cBZh3Xh",
        "outputId": "a6dd629d-23e6-471d-c309-5eaa51fdab68"
      },
      "id": "Xs4q9cBZh3Xh",
      "execution_count": null,
      "outputs": [
        {
          "output_type": "stream",
          "name": "stdout",
          "text": [
            "                     df        sum_sq       mean_sq         F    PR(>F)\n",
            "C(flood_proof)      1.0  6.564515e+05  6.564515e+05  0.004872  0.944355\n",
            "Residual        24998.0  3.368364e+12  1.347453e+08       NaN       NaN\n"
          ]
        }
      ]
    },
    {
      "cell_type": "code",
      "source": [
        "formula = 'product_wg_ton ~ C(flood_impacted)'\n",
        "model = ols(formula, listings).fit()\n",
        "aov_table = anova_lm(model)\n",
        "print(aov_table)"
      ],
      "metadata": {
        "colab": {
          "base_uri": "https://localhost:8080/"
        },
        "id": "gNM_JJxciHes",
        "outputId": "978241c0-1748-4785-93be-5393d7d22714"
      },
      "id": "gNM_JJxciHes",
      "execution_count": null,
      "outputs": [
        {
          "output_type": "stream",
          "name": "stdout",
          "text": [
            "                        df        sum_sq       mean_sq         F    PR(>F)\n",
            "C(flood_impacted)      1.0  1.780221e+07  1.780221e+07  0.132118  0.716249\n",
            "Residual           24998.0  3.368347e+12  1.347447e+08       NaN       NaN\n"
          ]
        }
      ]
    },
    {
      "cell_type": "code",
      "source": [
        "formula = 'product_wg_ton ~ C(wh_owner_type)'\n",
        "model = ols(formula, listings).fit()\n",
        "aov_table = anova_lm(model)\n",
        "print(aov_table)"
      ],
      "metadata": {
        "colab": {
          "base_uri": "https://localhost:8080/"
        },
        "id": "Jd8RSzhWh3jj",
        "outputId": "c68597a4-c038-40cb-805d-d3b6f3173619"
      },
      "id": "Jd8RSzhWh3jj",
      "execution_count": null,
      "outputs": [
        {
          "output_type": "stream",
          "name": "stdout",
          "text": [
            "                       df        sum_sq       mean_sq        F    PR(>F)\n",
            "C(wh_owner_type)      1.0  1.135892e+08  1.135892e+08  0.84302  0.358543\n",
            "Residual          24998.0  3.368251e+12  1.347408e+08      NaN       NaN\n"
          ]
        }
      ]
    },
    {
      "cell_type": "code",
      "source": [
        "formula = 'product_wg_ton ~ C(WH_regional_zone)'\n",
        "model = ols(formula, listings).fit()\n",
        "aov_table = anova_lm(model)\n",
        "print(aov_table)"
      ],
      "metadata": {
        "colab": {
          "base_uri": "https://localhost:8080/"
        },
        "id": "A90KFo1ah3tw",
        "outputId": "9b26fe10-016a-4b03-c78a-93a9f35c9820"
      },
      "id": "A90KFo1ah3tw",
      "execution_count": null,
      "outputs": [
        {
          "output_type": "stream",
          "name": "stdout",
          "text": [
            "                          df        sum_sq       mean_sq         F    PR(>F)\n",
            "C(WH_regional_zone)      5.0  7.713408e+08  1.542682e+08  1.144966  0.333954\n",
            "Residual             24994.0  3.367593e+12  1.347361e+08       NaN       NaN\n"
          ]
        }
      ]
    },
    {
      "cell_type": "code",
      "source": [
        "formula = 'product_wg_ton ~ C(zone)'\n",
        "model = ols(formula, listings).fit()\n",
        "aov_table = anova_lm(model)\n",
        "print(aov_table)"
      ],
      "metadata": {
        "colab": {
          "base_uri": "https://localhost:8080/"
        },
        "id": "j55QJrdqh4mJ",
        "outputId": "d2943d64-eef7-4978-f036-4dfa338b4031"
      },
      "id": "j55QJrdqh4mJ",
      "execution_count": null,
      "outputs": [
        {
          "output_type": "stream",
          "name": "stdout",
          "text": [
            "               df        sum_sq       mean_sq         F    PR(>F)\n",
            "C(zone)       3.0  4.468839e+08  1.489613e+08  1.105561  0.345349\n",
            "Residual  24996.0  3.367918e+12  1.347383e+08       NaN       NaN\n"
          ]
        }
      ]
    },
    {
      "cell_type": "code",
      "source": [
        "formula = 'product_wg_ton ~ C(WH_capacity_size)'\n",
        "model = ols(formula, listings).fit()\n",
        "aov_table = anova_lm(model)\n",
        "print(aov_table)"
      ],
      "metadata": {
        "colab": {
          "base_uri": "https://localhost:8080/"
        },
        "id": "mj_dRv8mh42T",
        "outputId": "4caa7107-0976-4976-92af-c9aafe11a9ca"
      },
      "id": "mj_dRv8mh42T",
      "execution_count": null,
      "outputs": [
        {
          "output_type": "stream",
          "name": "stdout",
          "text": [
            "                          df        sum_sq       mean_sq         F    PR(>F)\n",
            "C(WH_capacity_size)      2.0  2.979142e+08  1.489571e+08  1.105525  0.331053\n",
            "Residual             24997.0  3.368067e+12  1.347388e+08       NaN       NaN\n"
          ]
        }
      ]
    },
    {
      "cell_type": "code",
      "source": [
        "formula = 'product_wg_ton ~ C(Location_type)'\n",
        "model = ols(formula, listings).fit()\n",
        "aov_table = anova_lm(model)\n",
        "print(aov_table)"
      ],
      "metadata": {
        "colab": {
          "base_uri": "https://localhost:8080/"
        },
        "id": "mfgdOHjljOuQ",
        "outputId": "6fa565b9-abdd-4036-eb52-262fd0304493"
      },
      "id": "mfgdOHjljOuQ",
      "execution_count": null,
      "outputs": [
        {
          "output_type": "stream",
          "name": "stdout",
          "text": [
            "                       df        sum_sq       mean_sq           F  \\\n",
            "C(Location_type)      1.0  1.872875e+10  1.872875e+10  139.770772   \n",
            "Residual          24998.0  3.349636e+12  1.339962e+08         NaN   \n",
            "\n",
            "                        PR(>F)  \n",
            "C(Location_type)  3.639843e-32  \n",
            "Residual                   NaN  \n"
          ]
        }
      ]
    },
    {
      "cell_type": "code",
      "source": [
        "from scipy import stats"
      ],
      "metadata": {
        "id": "A8Epse11RhNY"
      },
      "id": "A8Epse11RhNY",
      "execution_count": null,
      "outputs": []
    },
    {
      "cell_type": "code",
      "source": [
        "x_num.describe()"
      ],
      "metadata": {
        "colab": {
          "base_uri": "https://localhost:8080/",
          "height": 364
        },
        "id": "OMJRojw3SZAU",
        "outputId": "567c319d-d4a3-4872-aeef-024158c0e006"
      },
      "id": "OMJRojw3SZAU",
      "execution_count": null,
      "outputs": [
        {
          "output_type": "execute_result",
          "data": {
            "text/plain": [
              "       num_refill_req  transport_issue  Competitor_in_mkt  retail_shop_num  \\\n",
              "count    25000.000000     25000.000000       25000.000000     25000.000000   \n",
              "mean         4.089040         0.773680           3.104200      4985.711560   \n",
              "std          2.606612         1.199449           1.141663      1052.825252   \n",
              "min          0.000000         0.000000           0.000000      1821.000000   \n",
              "25%          2.000000         0.000000           2.000000      4313.000000   \n",
              "50%          4.000000         0.000000           3.000000      4859.000000   \n",
              "75%          6.000000         1.000000           4.000000      5500.000000   \n",
              "max          8.000000         5.000000          12.000000     11008.000000   \n",
              "\n",
              "       distributor_num  dist_from_hub   workers_num  storage_issue_reported  \\\n",
              "count     25000.000000   25000.000000  25000.000000            25000.000000   \n",
              "mean         42.418120     163.537320     28.907000               17.130440   \n",
              "std          16.064329      62.718609      7.717275                9.161108   \n",
              "min          15.000000      55.000000     10.000000                0.000000   \n",
              "25%          29.000000     109.000000     24.000000               10.000000   \n",
              "50%          42.000000     164.000000     28.000000               18.000000   \n",
              "75%          56.000000     218.000000     33.000000               24.000000   \n",
              "max          70.000000     271.000000     98.000000               39.000000   \n",
              "\n",
              "       wh_breakdown    govt_check  product_wg_ton  Dur_Wh_Est_Year  \n",
              "count  25000.000000  25000.000000    25000.000000     25000.000000  \n",
              "mean       3.482040     18.812280    22102.632920        13.798920  \n",
              "std        1.690335      8.632382    11607.755077         5.456731  \n",
              "min        0.000000      1.000000     2065.000000         0.000000  \n",
              "25%        2.000000     11.000000    13059.000000        13.000000  \n",
              "50%        3.000000     21.000000    22101.000000        14.000000  \n",
              "75%        5.000000     26.000000    30103.000000        14.000000  \n",
              "max        6.000000     32.000000    55151.000000        27.000000  "
            ],
            "text/html": [
              "\n",
              "  <div id=\"df-eac658e2-75d0-47aa-8305-f184acbae365\">\n",
              "    <div class=\"colab-df-container\">\n",
              "      <div>\n",
              "<style scoped>\n",
              "    .dataframe tbody tr th:only-of-type {\n",
              "        vertical-align: middle;\n",
              "    }\n",
              "\n",
              "    .dataframe tbody tr th {\n",
              "        vertical-align: top;\n",
              "    }\n",
              "\n",
              "    .dataframe thead th {\n",
              "        text-align: right;\n",
              "    }\n",
              "</style>\n",
              "<table border=\"1\" class=\"dataframe\">\n",
              "  <thead>\n",
              "    <tr style=\"text-align: right;\">\n",
              "      <th></th>\n",
              "      <th>num_refill_req</th>\n",
              "      <th>transport_issue</th>\n",
              "      <th>Competitor_in_mkt</th>\n",
              "      <th>retail_shop_num</th>\n",
              "      <th>distributor_num</th>\n",
              "      <th>dist_from_hub</th>\n",
              "      <th>workers_num</th>\n",
              "      <th>storage_issue_reported</th>\n",
              "      <th>wh_breakdown</th>\n",
              "      <th>govt_check</th>\n",
              "      <th>product_wg_ton</th>\n",
              "      <th>Dur_Wh_Est_Year</th>\n",
              "    </tr>\n",
              "  </thead>\n",
              "  <tbody>\n",
              "    <tr>\n",
              "      <th>count</th>\n",
              "      <td>25000.000000</td>\n",
              "      <td>25000.000000</td>\n",
              "      <td>25000.000000</td>\n",
              "      <td>25000.000000</td>\n",
              "      <td>25000.000000</td>\n",
              "      <td>25000.000000</td>\n",
              "      <td>25000.000000</td>\n",
              "      <td>25000.000000</td>\n",
              "      <td>25000.000000</td>\n",
              "      <td>25000.000000</td>\n",
              "      <td>25000.000000</td>\n",
              "      <td>25000.000000</td>\n",
              "    </tr>\n",
              "    <tr>\n",
              "      <th>mean</th>\n",
              "      <td>4.089040</td>\n",
              "      <td>0.773680</td>\n",
              "      <td>3.104200</td>\n",
              "      <td>4985.711560</td>\n",
              "      <td>42.418120</td>\n",
              "      <td>163.537320</td>\n",
              "      <td>28.907000</td>\n",
              "      <td>17.130440</td>\n",
              "      <td>3.482040</td>\n",
              "      <td>18.812280</td>\n",
              "      <td>22102.632920</td>\n",
              "      <td>13.798920</td>\n",
              "    </tr>\n",
              "    <tr>\n",
              "      <th>std</th>\n",
              "      <td>2.606612</td>\n",
              "      <td>1.199449</td>\n",
              "      <td>1.141663</td>\n",
              "      <td>1052.825252</td>\n",
              "      <td>16.064329</td>\n",
              "      <td>62.718609</td>\n",
              "      <td>7.717275</td>\n",
              "      <td>9.161108</td>\n",
              "      <td>1.690335</td>\n",
              "      <td>8.632382</td>\n",
              "      <td>11607.755077</td>\n",
              "      <td>5.456731</td>\n",
              "    </tr>\n",
              "    <tr>\n",
              "      <th>min</th>\n",
              "      <td>0.000000</td>\n",
              "      <td>0.000000</td>\n",
              "      <td>0.000000</td>\n",
              "      <td>1821.000000</td>\n",
              "      <td>15.000000</td>\n",
              "      <td>55.000000</td>\n",
              "      <td>10.000000</td>\n",
              "      <td>0.000000</td>\n",
              "      <td>0.000000</td>\n",
              "      <td>1.000000</td>\n",
              "      <td>2065.000000</td>\n",
              "      <td>0.000000</td>\n",
              "    </tr>\n",
              "    <tr>\n",
              "      <th>25%</th>\n",
              "      <td>2.000000</td>\n",
              "      <td>0.000000</td>\n",
              "      <td>2.000000</td>\n",
              "      <td>4313.000000</td>\n",
              "      <td>29.000000</td>\n",
              "      <td>109.000000</td>\n",
              "      <td>24.000000</td>\n",
              "      <td>10.000000</td>\n",
              "      <td>2.000000</td>\n",
              "      <td>11.000000</td>\n",
              "      <td>13059.000000</td>\n",
              "      <td>13.000000</td>\n",
              "    </tr>\n",
              "    <tr>\n",
              "      <th>50%</th>\n",
              "      <td>4.000000</td>\n",
              "      <td>0.000000</td>\n",
              "      <td>3.000000</td>\n",
              "      <td>4859.000000</td>\n",
              "      <td>42.000000</td>\n",
              "      <td>164.000000</td>\n",
              "      <td>28.000000</td>\n",
              "      <td>18.000000</td>\n",
              "      <td>3.000000</td>\n",
              "      <td>21.000000</td>\n",
              "      <td>22101.000000</td>\n",
              "      <td>14.000000</td>\n",
              "    </tr>\n",
              "    <tr>\n",
              "      <th>75%</th>\n",
              "      <td>6.000000</td>\n",
              "      <td>1.000000</td>\n",
              "      <td>4.000000</td>\n",
              "      <td>5500.000000</td>\n",
              "      <td>56.000000</td>\n",
              "      <td>218.000000</td>\n",
              "      <td>33.000000</td>\n",
              "      <td>24.000000</td>\n",
              "      <td>5.000000</td>\n",
              "      <td>26.000000</td>\n",
              "      <td>30103.000000</td>\n",
              "      <td>14.000000</td>\n",
              "    </tr>\n",
              "    <tr>\n",
              "      <th>max</th>\n",
              "      <td>8.000000</td>\n",
              "      <td>5.000000</td>\n",
              "      <td>12.000000</td>\n",
              "      <td>11008.000000</td>\n",
              "      <td>70.000000</td>\n",
              "      <td>271.000000</td>\n",
              "      <td>98.000000</td>\n",
              "      <td>39.000000</td>\n",
              "      <td>6.000000</td>\n",
              "      <td>32.000000</td>\n",
              "      <td>55151.000000</td>\n",
              "      <td>27.000000</td>\n",
              "    </tr>\n",
              "  </tbody>\n",
              "</table>\n",
              "</div>\n",
              "      <button class=\"colab-df-convert\" onclick=\"convertToInteractive('df-eac658e2-75d0-47aa-8305-f184acbae365')\"\n",
              "              title=\"Convert this dataframe to an interactive table.\"\n",
              "              style=\"display:none;\">\n",
              "        \n",
              "  <svg xmlns=\"http://www.w3.org/2000/svg\" height=\"24px\"viewBox=\"0 0 24 24\"\n",
              "       width=\"24px\">\n",
              "    <path d=\"M0 0h24v24H0V0z\" fill=\"none\"/>\n",
              "    <path d=\"M18.56 5.44l.94 2.06.94-2.06 2.06-.94-2.06-.94-.94-2.06-.94 2.06-2.06.94zm-11 1L8.5 8.5l.94-2.06 2.06-.94-2.06-.94L8.5 2.5l-.94 2.06-2.06.94zm10 10l.94 2.06.94-2.06 2.06-.94-2.06-.94-.94-2.06-.94 2.06-2.06.94z\"/><path d=\"M17.41 7.96l-1.37-1.37c-.4-.4-.92-.59-1.43-.59-.52 0-1.04.2-1.43.59L10.3 9.45l-7.72 7.72c-.78.78-.78 2.05 0 2.83L4 21.41c.39.39.9.59 1.41.59.51 0 1.02-.2 1.41-.59l7.78-7.78 2.81-2.81c.8-.78.8-2.07 0-2.86zM5.41 20L4 18.59l7.72-7.72 1.47 1.35L5.41 20z\"/>\n",
              "  </svg>\n",
              "      </button>\n",
              "      \n",
              "  <style>\n",
              "    .colab-df-container {\n",
              "      display:flex;\n",
              "      flex-wrap:wrap;\n",
              "      gap: 12px;\n",
              "    }\n",
              "\n",
              "    .colab-df-convert {\n",
              "      background-color: #E8F0FE;\n",
              "      border: none;\n",
              "      border-radius: 50%;\n",
              "      cursor: pointer;\n",
              "      display: none;\n",
              "      fill: #1967D2;\n",
              "      height: 32px;\n",
              "      padding: 0 0 0 0;\n",
              "      width: 32px;\n",
              "    }\n",
              "\n",
              "    .colab-df-convert:hover {\n",
              "      background-color: #E2EBFA;\n",
              "      box-shadow: 0px 1px 2px rgba(60, 64, 67, 0.3), 0px 1px 3px 1px rgba(60, 64, 67, 0.15);\n",
              "      fill: #174EA6;\n",
              "    }\n",
              "\n",
              "    [theme=dark] .colab-df-convert {\n",
              "      background-color: #3B4455;\n",
              "      fill: #D2E3FC;\n",
              "    }\n",
              "\n",
              "    [theme=dark] .colab-df-convert:hover {\n",
              "      background-color: #434B5C;\n",
              "      box-shadow: 0px 1px 3px 1px rgba(0, 0, 0, 0.15);\n",
              "      filter: drop-shadow(0px 1px 2px rgba(0, 0, 0, 0.3));\n",
              "      fill: #FFFFFF;\n",
              "    }\n",
              "  </style>\n",
              "\n",
              "      <script>\n",
              "        const buttonEl =\n",
              "          document.querySelector('#df-eac658e2-75d0-47aa-8305-f184acbae365 button.colab-df-convert');\n",
              "        buttonEl.style.display =\n",
              "          google.colab.kernel.accessAllowed ? 'block' : 'none';\n",
              "\n",
              "        async function convertToInteractive(key) {\n",
              "          const element = document.querySelector('#df-eac658e2-75d0-47aa-8305-f184acbae365');\n",
              "          const dataTable =\n",
              "            await google.colab.kernel.invokeFunction('convertToInteractive',\n",
              "                                                     [key], {});\n",
              "          if (!dataTable) return;\n",
              "\n",
              "          const docLinkHtml = 'Like what you see? Visit the ' +\n",
              "            '<a target=\"_blank\" href=https://colab.research.google.com/notebooks/data_table.ipynb>data table notebook</a>'\n",
              "            + ' to learn more about interactive tables.';\n",
              "          element.innerHTML = '';\n",
              "          dataTable['output_type'] = 'display_data';\n",
              "          await google.colab.output.renderOutput(dataTable, element);\n",
              "          const docLink = document.createElement('div');\n",
              "          docLink.innerHTML = docLinkHtml;\n",
              "          element.appendChild(docLink);\n",
              "        }\n",
              "      </script>\n",
              "    </div>\n",
              "  </div>\n",
              "  "
            ]
          },
          "metadata": {},
          "execution_count": 40
        }
      ]
    },
    {
      "cell_type": "code",
      "source": [
        "Skewness = pd.DataFrame({'Skewness' : [stats.skew(listings.product_wg_ton),stats.skew(listings.Dur_Wh_Est_Year),stats.skew(listings.govt_check),\n",
        "                                       stats.skew(listings.storage_issue_reported),stats.skew(listings.workers_num),stats.skew(listings.dist_from_hub),\n",
        "                                       stats.skew(listings.distributor_num),stats.skew(listings.retail_shop_num),stats.skew(listings.Competitor_in_mkt)\n",
        "                                       ,stats.skew(listings.transport_issue),stats.skew(listings.num_refill_req)]},\n",
        "                        index=['product_wg_ton','Dur_Wh_Est_Year','govt_check','storage_issue_reported','workers_num','dist_from_hub','distributor_num'\n",
        "                        ,'retail_shop_num','Competitor_in_mkt','transport_issue','num_refill_req'])  # Measure the skeweness of the required columns\n",
        "Skewness"
      ],
      "metadata": {
        "colab": {
          "base_uri": "https://localhost:8080/",
          "height": 394
        },
        "id": "FdEARlvLRCb1",
        "outputId": "e6b3ac4d-e95d-492d-91ee-9d6c577616bd"
      },
      "id": "FdEARlvLRCb1",
      "execution_count": null,
      "outputs": [
        {
          "output_type": "execute_result",
          "data": {
            "text/plain": [
              "                        Skewness\n",
              "product_wg_ton          0.331611\n",
              "Dur_Wh_Est_Year        -0.117099\n",
              "govt_check             -0.363240\n",
              "storage_issue_reported  0.113338\n",
              "workers_num             1.095016\n",
              "dist_from_hub          -0.005998\n",
              "distributor_num         0.015212\n",
              "retail_shop_num         0.908247\n",
              "Competitor_in_mkt       0.978397\n",
              "transport_issue         1.610810\n",
              "num_refill_req         -0.075212"
            ],
            "text/html": [
              "\n",
              "  <div id=\"df-d62ca155-755f-4e50-a02c-26e18b0b2593\">\n",
              "    <div class=\"colab-df-container\">\n",
              "      <div>\n",
              "<style scoped>\n",
              "    .dataframe tbody tr th:only-of-type {\n",
              "        vertical-align: middle;\n",
              "    }\n",
              "\n",
              "    .dataframe tbody tr th {\n",
              "        vertical-align: top;\n",
              "    }\n",
              "\n",
              "    .dataframe thead th {\n",
              "        text-align: right;\n",
              "    }\n",
              "</style>\n",
              "<table border=\"1\" class=\"dataframe\">\n",
              "  <thead>\n",
              "    <tr style=\"text-align: right;\">\n",
              "      <th></th>\n",
              "      <th>Skewness</th>\n",
              "    </tr>\n",
              "  </thead>\n",
              "  <tbody>\n",
              "    <tr>\n",
              "      <th>product_wg_ton</th>\n",
              "      <td>0.331611</td>\n",
              "    </tr>\n",
              "    <tr>\n",
              "      <th>Dur_Wh_Est_Year</th>\n",
              "      <td>-0.117099</td>\n",
              "    </tr>\n",
              "    <tr>\n",
              "      <th>govt_check</th>\n",
              "      <td>-0.363240</td>\n",
              "    </tr>\n",
              "    <tr>\n",
              "      <th>storage_issue_reported</th>\n",
              "      <td>0.113338</td>\n",
              "    </tr>\n",
              "    <tr>\n",
              "      <th>workers_num</th>\n",
              "      <td>1.095016</td>\n",
              "    </tr>\n",
              "    <tr>\n",
              "      <th>dist_from_hub</th>\n",
              "      <td>-0.005998</td>\n",
              "    </tr>\n",
              "    <tr>\n",
              "      <th>distributor_num</th>\n",
              "      <td>0.015212</td>\n",
              "    </tr>\n",
              "    <tr>\n",
              "      <th>retail_shop_num</th>\n",
              "      <td>0.908247</td>\n",
              "    </tr>\n",
              "    <tr>\n",
              "      <th>Competitor_in_mkt</th>\n",
              "      <td>0.978397</td>\n",
              "    </tr>\n",
              "    <tr>\n",
              "      <th>transport_issue</th>\n",
              "      <td>1.610810</td>\n",
              "    </tr>\n",
              "    <tr>\n",
              "      <th>num_refill_req</th>\n",
              "      <td>-0.075212</td>\n",
              "    </tr>\n",
              "  </tbody>\n",
              "</table>\n",
              "</div>\n",
              "      <button class=\"colab-df-convert\" onclick=\"convertToInteractive('df-d62ca155-755f-4e50-a02c-26e18b0b2593')\"\n",
              "              title=\"Convert this dataframe to an interactive table.\"\n",
              "              style=\"display:none;\">\n",
              "        \n",
              "  <svg xmlns=\"http://www.w3.org/2000/svg\" height=\"24px\"viewBox=\"0 0 24 24\"\n",
              "       width=\"24px\">\n",
              "    <path d=\"M0 0h24v24H0V0z\" fill=\"none\"/>\n",
              "    <path d=\"M18.56 5.44l.94 2.06.94-2.06 2.06-.94-2.06-.94-.94-2.06-.94 2.06-2.06.94zm-11 1L8.5 8.5l.94-2.06 2.06-.94-2.06-.94L8.5 2.5l-.94 2.06-2.06.94zm10 10l.94 2.06.94-2.06 2.06-.94-2.06-.94-.94-2.06-.94 2.06-2.06.94z\"/><path d=\"M17.41 7.96l-1.37-1.37c-.4-.4-.92-.59-1.43-.59-.52 0-1.04.2-1.43.59L10.3 9.45l-7.72 7.72c-.78.78-.78 2.05 0 2.83L4 21.41c.39.39.9.59 1.41.59.51 0 1.02-.2 1.41-.59l7.78-7.78 2.81-2.81c.8-.78.8-2.07 0-2.86zM5.41 20L4 18.59l7.72-7.72 1.47 1.35L5.41 20z\"/>\n",
              "  </svg>\n",
              "      </button>\n",
              "      \n",
              "  <style>\n",
              "    .colab-df-container {\n",
              "      display:flex;\n",
              "      flex-wrap:wrap;\n",
              "      gap: 12px;\n",
              "    }\n",
              "\n",
              "    .colab-df-convert {\n",
              "      background-color: #E8F0FE;\n",
              "      border: none;\n",
              "      border-radius: 50%;\n",
              "      cursor: pointer;\n",
              "      display: none;\n",
              "      fill: #1967D2;\n",
              "      height: 32px;\n",
              "      padding: 0 0 0 0;\n",
              "      width: 32px;\n",
              "    }\n",
              "\n",
              "    .colab-df-convert:hover {\n",
              "      background-color: #E2EBFA;\n",
              "      box-shadow: 0px 1px 2px rgba(60, 64, 67, 0.3), 0px 1px 3px 1px rgba(60, 64, 67, 0.15);\n",
              "      fill: #174EA6;\n",
              "    }\n",
              "\n",
              "    [theme=dark] .colab-df-convert {\n",
              "      background-color: #3B4455;\n",
              "      fill: #D2E3FC;\n",
              "    }\n",
              "\n",
              "    [theme=dark] .colab-df-convert:hover {\n",
              "      background-color: #434B5C;\n",
              "      box-shadow: 0px 1px 3px 1px rgba(0, 0, 0, 0.15);\n",
              "      filter: drop-shadow(0px 1px 2px rgba(0, 0, 0, 0.3));\n",
              "      fill: #FFFFFF;\n",
              "    }\n",
              "  </style>\n",
              "\n",
              "      <script>\n",
              "        const buttonEl =\n",
              "          document.querySelector('#df-d62ca155-755f-4e50-a02c-26e18b0b2593 button.colab-df-convert');\n",
              "        buttonEl.style.display =\n",
              "          google.colab.kernel.accessAllowed ? 'block' : 'none';\n",
              "\n",
              "        async function convertToInteractive(key) {\n",
              "          const element = document.querySelector('#df-d62ca155-755f-4e50-a02c-26e18b0b2593');\n",
              "          const dataTable =\n",
              "            await google.colab.kernel.invokeFunction('convertToInteractive',\n",
              "                                                     [key], {});\n",
              "          if (!dataTable) return;\n",
              "\n",
              "          const docLinkHtml = 'Like what you see? Visit the ' +\n",
              "            '<a target=\"_blank\" href=https://colab.research.google.com/notebooks/data_table.ipynb>data table notebook</a>'\n",
              "            + ' to learn more about interactive tables.';\n",
              "          element.innerHTML = '';\n",
              "          dataTable['output_type'] = 'display_data';\n",
              "          await google.colab.output.renderOutput(dataTable, element);\n",
              "          const docLink = document.createElement('div');\n",
              "          docLink.innerHTML = docLinkHtml;\n",
              "          element.appendChild(docLink);\n",
              "        }\n",
              "      </script>\n",
              "    </div>\n",
              "  </div>\n",
              "  "
            ]
          },
          "metadata": {},
          "execution_count": 41
        }
      ]
    },
    {
      "cell_type": "code",
      "source": [
        "stats.shapiro(listings['product_wg_ton'])"
      ],
      "metadata": {
        "colab": {
          "base_uri": "https://localhost:8080/"
        },
        "id": "w2whY7sIc-rt",
        "outputId": "0417e44a-3f5e-4837-c9ff-868f3856e572"
      },
      "id": "w2whY7sIc-rt",
      "execution_count": null,
      "outputs": [
        {
          "output_type": "stream",
          "name": "stderr",
          "text": [
            "/usr/local/lib/python3.8/dist-packages/scipy/stats/morestats.py:1760: UserWarning: p-value may not be accurate for N > 5000.\n",
            "  warnings.warn(\"p-value may not be accurate for N > 5000.\")\n"
          ]
        },
        {
          "output_type": "execute_result",
          "data": {
            "text/plain": [
              "ShapiroResult(statistic=0.9705008864402771, pvalue=0.0)"
            ]
          },
          "metadata": {},
          "execution_count": 42
        }
      ]
    },
    {
      "cell_type": "code",
      "execution_count": null,
      "metadata": {
        "colab": {
          "base_uri": "https://localhost:8080/"
        },
        "id": "-hnoQ-4ElPqj",
        "outputId": "70847bb1-6187-4226-8bd6-d8abea7a8115"
      },
      "outputs": [
        {
          "output_type": "stream",
          "name": "stdout",
          "text": [
            "<class 'pandas.core.frame.DataFrame'>\n",
            "RangeIndex: 25000 entries, 0 to 24999\n",
            "Data columns (total 24 columns):\n",
            " #   Column                        Non-Null Count  Dtype  \n",
            "---  ------                        --------------  -----  \n",
            " 0   Ware_house_ID                 25000 non-null  object \n",
            " 1   WH_Manager_ID                 25000 non-null  object \n",
            " 2   Location_type                 25000 non-null  object \n",
            " 3   WH_capacity_size              25000 non-null  object \n",
            " 4   zone                          25000 non-null  object \n",
            " 5   WH_regional_zone              25000 non-null  object \n",
            " 6   num_refill_req                25000 non-null  int64  \n",
            " 7   transport_issue               25000 non-null  int64  \n",
            " 8   Competitor_in_mkt             25000 non-null  int64  \n",
            " 9   retail_shop_num               25000 non-null  int64  \n",
            " 10  wh_owner_type                 25000 non-null  object \n",
            " 11  distributor_num               25000 non-null  int64  \n",
            " 12  flood_impacted                25000 non-null  object \n",
            " 13  flood_proof                   25000 non-null  object \n",
            " 14  electric_supply               25000 non-null  object \n",
            " 15  dist_from_hub                 25000 non-null  int64  \n",
            " 16  workers_num                   25000 non-null  float64\n",
            " 17  storage_issue_reported        25000 non-null  int64  \n",
            " 18  temp_reg_mach                 25000 non-null  object \n",
            " 19  approved_wh_govt_certificate  24092 non-null  object \n",
            " 20  wh_breakdown                  25000 non-null  int64  \n",
            " 21  govt_check                    25000 non-null  int64  \n",
            " 22  product_wg_ton                25000 non-null  int64  \n",
            " 23  Dur_Wh_Est_Year               25000 non-null  float64\n",
            "dtypes: float64(2), int64(10), object(12)\n",
            "memory usage: 4.6+ MB\n"
          ]
        }
      ],
      "source": [
        "listings.info()"
      ],
      "id": "-hnoQ-4ElPqj"
    },
    {
      "cell_type": "code",
      "execution_count": null,
      "metadata": {
        "id": "3f81006d"
      },
      "outputs": [],
      "source": [
        "for column in ['approved_wh_govt_certificate']:\n",
        "    listings[column].fillna(listings[column].mode()[0],inplace = True)"
      ],
      "id": "3f81006d"
    },
    {
      "cell_type": "code",
      "execution_count": null,
      "metadata": {
        "colab": {
          "base_uri": "https://localhost:8080/"
        },
        "id": "60d3d524",
        "outputId": "affed15e-8cc5-4dbe-d472-d5fbc273bbc9"
      },
      "outputs": [
        {
          "output_type": "stream",
          "name": "stdout",
          "text": [
            "Number of duplicate rows = 0\n"
          ]
        }
      ],
      "source": [
        "dups = listings.duplicated()\n",
        "print('Number of duplicate rows = %d' % (dups.sum()))\n"
      ],
      "id": "60d3d524"
    },
    {
      "cell_type": "code",
      "execution_count": null,
      "metadata": {
        "colab": {
          "base_uri": "https://localhost:8080/",
          "height": 364
        },
        "id": "9d858ed6",
        "outputId": "5e2bbcf2-7fed-4719-be2b-d551570d1641"
      },
      "outputs": [
        {
          "output_type": "execute_result",
          "data": {
            "text/plain": [
              "       num_refill_req  transport_issue  Competitor_in_mkt  retail_shop_num  \\\n",
              "count    25000.000000     25000.000000       25000.000000     25000.000000   \n",
              "mean         4.089040         0.773680           3.104200      4985.711560   \n",
              "std          2.606612         1.199449           1.141663      1052.825252   \n",
              "min          0.000000         0.000000           0.000000      1821.000000   \n",
              "25%          2.000000         0.000000           2.000000      4313.000000   \n",
              "50%          4.000000         0.000000           3.000000      4859.000000   \n",
              "75%          6.000000         1.000000           4.000000      5500.000000   \n",
              "max          8.000000         5.000000          12.000000     11008.000000   \n",
              "\n",
              "       distributor_num  dist_from_hub   workers_num  storage_issue_reported  \\\n",
              "count     25000.000000   25000.000000  25000.000000            25000.000000   \n",
              "mean         42.418120     163.537320     28.907000               17.130440   \n",
              "std          16.064329      62.718609      7.717275                9.161108   \n",
              "min          15.000000      55.000000     10.000000                0.000000   \n",
              "25%          29.000000     109.000000     24.000000               10.000000   \n",
              "50%          42.000000     164.000000     28.000000               18.000000   \n",
              "75%          56.000000     218.000000     33.000000               24.000000   \n",
              "max          70.000000     271.000000     98.000000               39.000000   \n",
              "\n",
              "       wh_breakdown    govt_check  product_wg_ton  Dur_Wh_Est_Year  \n",
              "count  25000.000000  25000.000000    25000.000000     25000.000000  \n",
              "mean       3.482040     18.812280    22102.632920        13.798920  \n",
              "std        1.690335      8.632382    11607.755077         5.456731  \n",
              "min        0.000000      1.000000     2065.000000         0.000000  \n",
              "25%        2.000000     11.000000    13059.000000        13.000000  \n",
              "50%        3.000000     21.000000    22101.000000        14.000000  \n",
              "75%        5.000000     26.000000    30103.000000        14.000000  \n",
              "max        6.000000     32.000000    55151.000000        27.000000  "
            ],
            "text/html": [
              "\n",
              "  <div id=\"df-190dd522-288d-4ced-9890-7cf693df6fa5\">\n",
              "    <div class=\"colab-df-container\">\n",
              "      <div>\n",
              "<style scoped>\n",
              "    .dataframe tbody tr th:only-of-type {\n",
              "        vertical-align: middle;\n",
              "    }\n",
              "\n",
              "    .dataframe tbody tr th {\n",
              "        vertical-align: top;\n",
              "    }\n",
              "\n",
              "    .dataframe thead th {\n",
              "        text-align: right;\n",
              "    }\n",
              "</style>\n",
              "<table border=\"1\" class=\"dataframe\">\n",
              "  <thead>\n",
              "    <tr style=\"text-align: right;\">\n",
              "      <th></th>\n",
              "      <th>num_refill_req</th>\n",
              "      <th>transport_issue</th>\n",
              "      <th>Competitor_in_mkt</th>\n",
              "      <th>retail_shop_num</th>\n",
              "      <th>distributor_num</th>\n",
              "      <th>dist_from_hub</th>\n",
              "      <th>workers_num</th>\n",
              "      <th>storage_issue_reported</th>\n",
              "      <th>wh_breakdown</th>\n",
              "      <th>govt_check</th>\n",
              "      <th>product_wg_ton</th>\n",
              "      <th>Dur_Wh_Est_Year</th>\n",
              "    </tr>\n",
              "  </thead>\n",
              "  <tbody>\n",
              "    <tr>\n",
              "      <th>count</th>\n",
              "      <td>25000.000000</td>\n",
              "      <td>25000.000000</td>\n",
              "      <td>25000.000000</td>\n",
              "      <td>25000.000000</td>\n",
              "      <td>25000.000000</td>\n",
              "      <td>25000.000000</td>\n",
              "      <td>25000.000000</td>\n",
              "      <td>25000.000000</td>\n",
              "      <td>25000.000000</td>\n",
              "      <td>25000.000000</td>\n",
              "      <td>25000.000000</td>\n",
              "      <td>25000.000000</td>\n",
              "    </tr>\n",
              "    <tr>\n",
              "      <th>mean</th>\n",
              "      <td>4.089040</td>\n",
              "      <td>0.773680</td>\n",
              "      <td>3.104200</td>\n",
              "      <td>4985.711560</td>\n",
              "      <td>42.418120</td>\n",
              "      <td>163.537320</td>\n",
              "      <td>28.907000</td>\n",
              "      <td>17.130440</td>\n",
              "      <td>3.482040</td>\n",
              "      <td>18.812280</td>\n",
              "      <td>22102.632920</td>\n",
              "      <td>13.798920</td>\n",
              "    </tr>\n",
              "    <tr>\n",
              "      <th>std</th>\n",
              "      <td>2.606612</td>\n",
              "      <td>1.199449</td>\n",
              "      <td>1.141663</td>\n",
              "      <td>1052.825252</td>\n",
              "      <td>16.064329</td>\n",
              "      <td>62.718609</td>\n",
              "      <td>7.717275</td>\n",
              "      <td>9.161108</td>\n",
              "      <td>1.690335</td>\n",
              "      <td>8.632382</td>\n",
              "      <td>11607.755077</td>\n",
              "      <td>5.456731</td>\n",
              "    </tr>\n",
              "    <tr>\n",
              "      <th>min</th>\n",
              "      <td>0.000000</td>\n",
              "      <td>0.000000</td>\n",
              "      <td>0.000000</td>\n",
              "      <td>1821.000000</td>\n",
              "      <td>15.000000</td>\n",
              "      <td>55.000000</td>\n",
              "      <td>10.000000</td>\n",
              "      <td>0.000000</td>\n",
              "      <td>0.000000</td>\n",
              "      <td>1.000000</td>\n",
              "      <td>2065.000000</td>\n",
              "      <td>0.000000</td>\n",
              "    </tr>\n",
              "    <tr>\n",
              "      <th>25%</th>\n",
              "      <td>2.000000</td>\n",
              "      <td>0.000000</td>\n",
              "      <td>2.000000</td>\n",
              "      <td>4313.000000</td>\n",
              "      <td>29.000000</td>\n",
              "      <td>109.000000</td>\n",
              "      <td>24.000000</td>\n",
              "      <td>10.000000</td>\n",
              "      <td>2.000000</td>\n",
              "      <td>11.000000</td>\n",
              "      <td>13059.000000</td>\n",
              "      <td>13.000000</td>\n",
              "    </tr>\n",
              "    <tr>\n",
              "      <th>50%</th>\n",
              "      <td>4.000000</td>\n",
              "      <td>0.000000</td>\n",
              "      <td>3.000000</td>\n",
              "      <td>4859.000000</td>\n",
              "      <td>42.000000</td>\n",
              "      <td>164.000000</td>\n",
              "      <td>28.000000</td>\n",
              "      <td>18.000000</td>\n",
              "      <td>3.000000</td>\n",
              "      <td>21.000000</td>\n",
              "      <td>22101.000000</td>\n",
              "      <td>14.000000</td>\n",
              "    </tr>\n",
              "    <tr>\n",
              "      <th>75%</th>\n",
              "      <td>6.000000</td>\n",
              "      <td>1.000000</td>\n",
              "      <td>4.000000</td>\n",
              "      <td>5500.000000</td>\n",
              "      <td>56.000000</td>\n",
              "      <td>218.000000</td>\n",
              "      <td>33.000000</td>\n",
              "      <td>24.000000</td>\n",
              "      <td>5.000000</td>\n",
              "      <td>26.000000</td>\n",
              "      <td>30103.000000</td>\n",
              "      <td>14.000000</td>\n",
              "    </tr>\n",
              "    <tr>\n",
              "      <th>max</th>\n",
              "      <td>8.000000</td>\n",
              "      <td>5.000000</td>\n",
              "      <td>12.000000</td>\n",
              "      <td>11008.000000</td>\n",
              "      <td>70.000000</td>\n",
              "      <td>271.000000</td>\n",
              "      <td>98.000000</td>\n",
              "      <td>39.000000</td>\n",
              "      <td>6.000000</td>\n",
              "      <td>32.000000</td>\n",
              "      <td>55151.000000</td>\n",
              "      <td>27.000000</td>\n",
              "    </tr>\n",
              "  </tbody>\n",
              "</table>\n",
              "</div>\n",
              "      <button class=\"colab-df-convert\" onclick=\"convertToInteractive('df-190dd522-288d-4ced-9890-7cf693df6fa5')\"\n",
              "              title=\"Convert this dataframe to an interactive table.\"\n",
              "              style=\"display:none;\">\n",
              "        \n",
              "  <svg xmlns=\"http://www.w3.org/2000/svg\" height=\"24px\"viewBox=\"0 0 24 24\"\n",
              "       width=\"24px\">\n",
              "    <path d=\"M0 0h24v24H0V0z\" fill=\"none\"/>\n",
              "    <path d=\"M18.56 5.44l.94 2.06.94-2.06 2.06-.94-2.06-.94-.94-2.06-.94 2.06-2.06.94zm-11 1L8.5 8.5l.94-2.06 2.06-.94-2.06-.94L8.5 2.5l-.94 2.06-2.06.94zm10 10l.94 2.06.94-2.06 2.06-.94-2.06-.94-.94-2.06-.94 2.06-2.06.94z\"/><path d=\"M17.41 7.96l-1.37-1.37c-.4-.4-.92-.59-1.43-.59-.52 0-1.04.2-1.43.59L10.3 9.45l-7.72 7.72c-.78.78-.78 2.05 0 2.83L4 21.41c.39.39.9.59 1.41.59.51 0 1.02-.2 1.41-.59l7.78-7.78 2.81-2.81c.8-.78.8-2.07 0-2.86zM5.41 20L4 18.59l7.72-7.72 1.47 1.35L5.41 20z\"/>\n",
              "  </svg>\n",
              "      </button>\n",
              "      \n",
              "  <style>\n",
              "    .colab-df-container {\n",
              "      display:flex;\n",
              "      flex-wrap:wrap;\n",
              "      gap: 12px;\n",
              "    }\n",
              "\n",
              "    .colab-df-convert {\n",
              "      background-color: #E8F0FE;\n",
              "      border: none;\n",
              "      border-radius: 50%;\n",
              "      cursor: pointer;\n",
              "      display: none;\n",
              "      fill: #1967D2;\n",
              "      height: 32px;\n",
              "      padding: 0 0 0 0;\n",
              "      width: 32px;\n",
              "    }\n",
              "\n",
              "    .colab-df-convert:hover {\n",
              "      background-color: #E2EBFA;\n",
              "      box-shadow: 0px 1px 2px rgba(60, 64, 67, 0.3), 0px 1px 3px 1px rgba(60, 64, 67, 0.15);\n",
              "      fill: #174EA6;\n",
              "    }\n",
              "\n",
              "    [theme=dark] .colab-df-convert {\n",
              "      background-color: #3B4455;\n",
              "      fill: #D2E3FC;\n",
              "    }\n",
              "\n",
              "    [theme=dark] .colab-df-convert:hover {\n",
              "      background-color: #434B5C;\n",
              "      box-shadow: 0px 1px 3px 1px rgba(0, 0, 0, 0.15);\n",
              "      filter: drop-shadow(0px 1px 2px rgba(0, 0, 0, 0.3));\n",
              "      fill: #FFFFFF;\n",
              "    }\n",
              "  </style>\n",
              "\n",
              "      <script>\n",
              "        const buttonEl =\n",
              "          document.querySelector('#df-190dd522-288d-4ced-9890-7cf693df6fa5 button.colab-df-convert');\n",
              "        buttonEl.style.display =\n",
              "          google.colab.kernel.accessAllowed ? 'block' : 'none';\n",
              "\n",
              "        async function convertToInteractive(key) {\n",
              "          const element = document.querySelector('#df-190dd522-288d-4ced-9890-7cf693df6fa5');\n",
              "          const dataTable =\n",
              "            await google.colab.kernel.invokeFunction('convertToInteractive',\n",
              "                                                     [key], {});\n",
              "          if (!dataTable) return;\n",
              "\n",
              "          const docLinkHtml = 'Like what you see? Visit the ' +\n",
              "            '<a target=\"_blank\" href=https://colab.research.google.com/notebooks/data_table.ipynb>data table notebook</a>'\n",
              "            + ' to learn more about interactive tables.';\n",
              "          element.innerHTML = '';\n",
              "          dataTable['output_type'] = 'display_data';\n",
              "          await google.colab.output.renderOutput(dataTable, element);\n",
              "          const docLink = document.createElement('div');\n",
              "          docLink.innerHTML = docLinkHtml;\n",
              "          element.appendChild(docLink);\n",
              "        }\n",
              "      </script>\n",
              "    </div>\n",
              "  </div>\n",
              "  "
            ]
          },
          "metadata": {},
          "execution_count": 46
        }
      ],
      "source": [
        "x_num.describe()"
      ],
      "id": "9d858ed6"
    },
    {
      "cell_type": "code",
      "execution_count": null,
      "metadata": {
        "colab": {
          "base_uri": "https://localhost:8080/",
          "height": 256
        },
        "id": "d76c2a07",
        "outputId": "0b2e3363-3734-4aca-b332-0f69b1d1ca4e"
      },
      "outputs": [
        {
          "output_type": "execute_result",
          "data": {
            "text/plain": [
              "       Ware_house_ID WH_Manager_ID Location_type WH_capacity_size   zone  \\\n",
              "count          25000         25000         25000            25000  25000   \n",
              "unique         25000         25000             2                3      4   \n",
              "top        WH_100000     EID_50000         Rural            Large  North   \n",
              "freq               1             1         22957            10169  10278   \n",
              "\n",
              "       WH_regional_zone  wh_owner_type  flood_impacted  flood_proof  \\\n",
              "count             25000          25000           25000        25000   \n",
              "unique                6              2               2            2   \n",
              "top              Zone 6  Company Owned               0            0   \n",
              "freq               8339          13578           22546        23634   \n",
              "\n",
              "        electric_supply  temp_reg_mach approved_wh_govt_certificate  \n",
              "count             25000          25000                        24092  \n",
              "unique                2              2                            5  \n",
              "top                   1              0                            C  \n",
              "freq              16422          17418                         5501  "
            ],
            "text/html": [
              "\n",
              "  <div id=\"df-4dab5811-816c-4312-8296-d9cfdae79614\">\n",
              "    <div class=\"colab-df-container\">\n",
              "      <div>\n",
              "<style scoped>\n",
              "    .dataframe tbody tr th:only-of-type {\n",
              "        vertical-align: middle;\n",
              "    }\n",
              "\n",
              "    .dataframe tbody tr th {\n",
              "        vertical-align: top;\n",
              "    }\n",
              "\n",
              "    .dataframe thead th {\n",
              "        text-align: right;\n",
              "    }\n",
              "</style>\n",
              "<table border=\"1\" class=\"dataframe\">\n",
              "  <thead>\n",
              "    <tr style=\"text-align: right;\">\n",
              "      <th></th>\n",
              "      <th>Ware_house_ID</th>\n",
              "      <th>WH_Manager_ID</th>\n",
              "      <th>Location_type</th>\n",
              "      <th>WH_capacity_size</th>\n",
              "      <th>zone</th>\n",
              "      <th>WH_regional_zone</th>\n",
              "      <th>wh_owner_type</th>\n",
              "      <th>flood_impacted</th>\n",
              "      <th>flood_proof</th>\n",
              "      <th>electric_supply</th>\n",
              "      <th>temp_reg_mach</th>\n",
              "      <th>approved_wh_govt_certificate</th>\n",
              "    </tr>\n",
              "  </thead>\n",
              "  <tbody>\n",
              "    <tr>\n",
              "      <th>count</th>\n",
              "      <td>25000</td>\n",
              "      <td>25000</td>\n",
              "      <td>25000</td>\n",
              "      <td>25000</td>\n",
              "      <td>25000</td>\n",
              "      <td>25000</td>\n",
              "      <td>25000</td>\n",
              "      <td>25000</td>\n",
              "      <td>25000</td>\n",
              "      <td>25000</td>\n",
              "      <td>25000</td>\n",
              "      <td>24092</td>\n",
              "    </tr>\n",
              "    <tr>\n",
              "      <th>unique</th>\n",
              "      <td>25000</td>\n",
              "      <td>25000</td>\n",
              "      <td>2</td>\n",
              "      <td>3</td>\n",
              "      <td>4</td>\n",
              "      <td>6</td>\n",
              "      <td>2</td>\n",
              "      <td>2</td>\n",
              "      <td>2</td>\n",
              "      <td>2</td>\n",
              "      <td>2</td>\n",
              "      <td>5</td>\n",
              "    </tr>\n",
              "    <tr>\n",
              "      <th>top</th>\n",
              "      <td>WH_100000</td>\n",
              "      <td>EID_50000</td>\n",
              "      <td>Rural</td>\n",
              "      <td>Large</td>\n",
              "      <td>North</td>\n",
              "      <td>Zone 6</td>\n",
              "      <td>Company Owned</td>\n",
              "      <td>0</td>\n",
              "      <td>0</td>\n",
              "      <td>1</td>\n",
              "      <td>0</td>\n",
              "      <td>C</td>\n",
              "    </tr>\n",
              "    <tr>\n",
              "      <th>freq</th>\n",
              "      <td>1</td>\n",
              "      <td>1</td>\n",
              "      <td>22957</td>\n",
              "      <td>10169</td>\n",
              "      <td>10278</td>\n",
              "      <td>8339</td>\n",
              "      <td>13578</td>\n",
              "      <td>22546</td>\n",
              "      <td>23634</td>\n",
              "      <td>16422</td>\n",
              "      <td>17418</td>\n",
              "      <td>5501</td>\n",
              "    </tr>\n",
              "  </tbody>\n",
              "</table>\n",
              "</div>\n",
              "      <button class=\"colab-df-convert\" onclick=\"convertToInteractive('df-4dab5811-816c-4312-8296-d9cfdae79614')\"\n",
              "              title=\"Convert this dataframe to an interactive table.\"\n",
              "              style=\"display:none;\">\n",
              "        \n",
              "  <svg xmlns=\"http://www.w3.org/2000/svg\" height=\"24px\"viewBox=\"0 0 24 24\"\n",
              "       width=\"24px\">\n",
              "    <path d=\"M0 0h24v24H0V0z\" fill=\"none\"/>\n",
              "    <path d=\"M18.56 5.44l.94 2.06.94-2.06 2.06-.94-2.06-.94-.94-2.06-.94 2.06-2.06.94zm-11 1L8.5 8.5l.94-2.06 2.06-.94-2.06-.94L8.5 2.5l-.94 2.06-2.06.94zm10 10l.94 2.06.94-2.06 2.06-.94-2.06-.94-.94-2.06-.94 2.06-2.06.94z\"/><path d=\"M17.41 7.96l-1.37-1.37c-.4-.4-.92-.59-1.43-.59-.52 0-1.04.2-1.43.59L10.3 9.45l-7.72 7.72c-.78.78-.78 2.05 0 2.83L4 21.41c.39.39.9.59 1.41.59.51 0 1.02-.2 1.41-.59l7.78-7.78 2.81-2.81c.8-.78.8-2.07 0-2.86zM5.41 20L4 18.59l7.72-7.72 1.47 1.35L5.41 20z\"/>\n",
              "  </svg>\n",
              "      </button>\n",
              "      \n",
              "  <style>\n",
              "    .colab-df-container {\n",
              "      display:flex;\n",
              "      flex-wrap:wrap;\n",
              "      gap: 12px;\n",
              "    }\n",
              "\n",
              "    .colab-df-convert {\n",
              "      background-color: #E8F0FE;\n",
              "      border: none;\n",
              "      border-radius: 50%;\n",
              "      cursor: pointer;\n",
              "      display: none;\n",
              "      fill: #1967D2;\n",
              "      height: 32px;\n",
              "      padding: 0 0 0 0;\n",
              "      width: 32px;\n",
              "    }\n",
              "\n",
              "    .colab-df-convert:hover {\n",
              "      background-color: #E2EBFA;\n",
              "      box-shadow: 0px 1px 2px rgba(60, 64, 67, 0.3), 0px 1px 3px 1px rgba(60, 64, 67, 0.15);\n",
              "      fill: #174EA6;\n",
              "    }\n",
              "\n",
              "    [theme=dark] .colab-df-convert {\n",
              "      background-color: #3B4455;\n",
              "      fill: #D2E3FC;\n",
              "    }\n",
              "\n",
              "    [theme=dark] .colab-df-convert:hover {\n",
              "      background-color: #434B5C;\n",
              "      box-shadow: 0px 1px 3px 1px rgba(0, 0, 0, 0.15);\n",
              "      filter: drop-shadow(0px 1px 2px rgba(0, 0, 0, 0.3));\n",
              "      fill: #FFFFFF;\n",
              "    }\n",
              "  </style>\n",
              "\n",
              "      <script>\n",
              "        const buttonEl =\n",
              "          document.querySelector('#df-4dab5811-816c-4312-8296-d9cfdae79614 button.colab-df-convert');\n",
              "        buttonEl.style.display =\n",
              "          google.colab.kernel.accessAllowed ? 'block' : 'none';\n",
              "\n",
              "        async function convertToInteractive(key) {\n",
              "          const element = document.querySelector('#df-4dab5811-816c-4312-8296-d9cfdae79614');\n",
              "          const dataTable =\n",
              "            await google.colab.kernel.invokeFunction('convertToInteractive',\n",
              "                                                     [key], {});\n",
              "          if (!dataTable) return;\n",
              "\n",
              "          const docLinkHtml = 'Like what you see? Visit the ' +\n",
              "            '<a target=\"_blank\" href=https://colab.research.google.com/notebooks/data_table.ipynb>data table notebook</a>'\n",
              "            + ' to learn more about interactive tables.';\n",
              "          element.innerHTML = '';\n",
              "          dataTable['output_type'] = 'display_data';\n",
              "          await google.colab.output.renderOutput(dataTable, element);\n",
              "          const docLink = document.createElement('div');\n",
              "          docLink.innerHTML = docLinkHtml;\n",
              "          element.appendChild(docLink);\n",
              "        }\n",
              "      </script>\n",
              "    </div>\n",
              "  </div>\n",
              "  "
            ]
          },
          "metadata": {},
          "execution_count": 47
        }
      ],
      "source": [
        "y_cat.describe(include='all')"
      ],
      "id": "d76c2a07"
    },
    {
      "cell_type": "code",
      "execution_count": null,
      "metadata": {
        "colab": {
          "base_uri": "https://localhost:8080/",
          "height": 324
        },
        "id": "f43044df",
        "outputId": "1b2a1a26-78e2-491d-8b9a-262f78f911a4"
      },
      "outputs": [
        {
          "output_type": "display_data",
          "data": {
            "text/plain": [
              "<Figure size 1368x864 with 0 Axes>"
            ]
          },
          "metadata": {}
        },
        {
          "output_type": "display_data",
          "data": {
            "text/plain": [
              "<Figure size 432x288 with 2 Axes>"
            ],
            "image/png": "[encoded data removed]"
          },
          "metadata": {}
        }
      ],
      "source": [
        "plt.figure(figsize=(19,12))\n",
        "listings.hist(by='Location_type',column = 'product_wg_ton');"
      ],
      "id": "f43044df"
    },
    {
      "cell_type": "code",
      "execution_count": null,
      "metadata": {
        "colab": {
          "base_uri": "https://localhost:8080/",
          "height": 324
        },
        "id": "536a9faa",
        "outputId": "dcd73ffb-268e-475b-f8a0-89013a31287f"
      },
      "outputs": [
        {
          "output_type": "display_data",
          "data": {
            "text/plain": [
              "<Figure size 1368x864 with 0 Axes>"
            ]
          },
          "metadata": {}
        },
        {
          "output_type": "display_data",
          "data": {
            "text/plain": [
              "<Figure size 432x288 with 4 Axes>"
            ],
            "image/png": "[encoded data removed]"
          },
          "metadata": {}
        }
      ],
      "source": [
        "plt.figure(figsize=(19,12))\n",
        "listings.hist(by='WH_capacity_size',column = 'product_wg_ton');"
      ],
      "id": "536a9faa"
    },
    {
      "cell_type": "code",
      "execution_count": null,
      "metadata": {
        "colab": {
          "base_uri": "https://localhost:8080/",
          "height": 324
        },
        "id": "fe38466a",
        "outputId": "322da8e2-9149-49cb-8396-a784eafe4851"
      },
      "outputs": [
        {
          "output_type": "display_data",
          "data": {
            "text/plain": [
              "<Figure size 1368x864 with 0 Axes>"
            ]
          },
          "metadata": {}
        },
        {
          "output_type": "display_data",
          "data": {
            "text/plain": [
              "<Figure size 432x288 with 4 Axes>"
            ],
            "image/png": "[encoded data removed]"
          },
          "metadata": {}
        }
      ],
      "source": [
        "plt.figure(figsize=(19,12))\n",
        "listings.hist(by='zone',column = 'product_wg_ton');"
      ],
      "id": "fe38466a"
    },
    {
      "cell_type": "code",
      "execution_count": null,
      "metadata": {
        "colab": {
          "base_uri": "https://localhost:8080/",
          "height": 324
        },
        "id": "33050043",
        "outputId": "2438441c-bed1-40f1-d354-16374c01f58c"
      },
      "outputs": [
        {
          "output_type": "display_data",
          "data": {
            "text/plain": [
              "<Figure size 1368x864 with 0 Axes>"
            ]
          },
          "metadata": {}
        },
        {
          "output_type": "display_data",
          "data": {
            "text/plain": [
              "<Figure size 432x288 with 6 Axes>"
            ],
            "image/png": "[encoded data removed]"
          },
          "metadata": {}
        }
      ],
      "source": [
        "plt.figure(figsize=(19,12))\n",
        "listings.hist(by='WH_regional_zone',column = 'product_wg_ton');"
      ],
      "id": "33050043"
    },
    {
      "cell_type": "code",
      "execution_count": null,
      "metadata": {
        "colab": {
          "base_uri": "https://localhost:8080/",
          "height": 324
        },
        "id": "3674c9fd",
        "outputId": "f407585e-0b54-41d9-effa-83fedb76806a"
      },
      "outputs": [
        {
          "output_type": "display_data",
          "data": {
            "text/plain": [
              "<Figure size 1368x864 with 0 Axes>"
            ]
          },
          "metadata": {}
        },
        {
          "output_type": "display_data",
          "data": {
            "text/plain": [
              "<Figure size 432x288 with 2 Axes>"
            ],
            "image/png": "[encoded data removed]"
          },
          "metadata": {}
        }
      ],
      "source": [
        "plt.figure(figsize=(19,12))\n",
        "listings.hist(by='wh_owner_type',column = 'product_wg_ton');"
      ],
      "id": "3674c9fd"
    },
    {
      "cell_type": "code",
      "execution_count": null,
      "metadata": {
        "colab": {
          "base_uri": "https://localhost:8080/",
          "height": 324
        },
        "id": "9b3df33c",
        "outputId": "8677fc72-b62e-4e9b-ee1e-60caf4e12db6"
      },
      "outputs": [
        {
          "output_type": "display_data",
          "data": {
            "text/plain": [
              "<Figure size 1368x864 with 0 Axes>"
            ]
          },
          "metadata": {}
        },
        {
          "output_type": "display_data",
          "data": {
            "text/plain": [
              "<Figure size 432x288 with 6 Axes>"
            ],
            "image/png": "[encoded data removed]"
          },
          "metadata": {}
        }
      ],
      "source": [
        "plt.figure(figsize=(19,12))\n",
        "listings.hist(by='approved_wh_govt_certificate',column = 'product_wg_ton');"
      ],
      "id": "9b3df33c"
    },
    {
      "cell_type": "code",
      "execution_count": null,
      "metadata": {
        "id": "5ceae7d2"
      },
      "outputs": [],
      "source": [
        "def univariateAnalysis_numeric(column,nbins):\n",
        "    print(\"Description of \" + column)\n",
        "    print(\"----------------------------------------------------------------------------\")\n",
        "    print(x_num[column].describe(),end=' ')\n",
        "    \n",
        "    \n",
        "    plt.figure()\n",
        "    print(\"Distribution of \" + column)\n",
        "    print(\"----------------------------------------------------------------------------\")\n",
        "    sns.distplot(x_num[column], kde=False, color='g');\n",
        "    plt.show()\n",
        "    \n",
        "    plt.figure()\n",
        "    print(\"BoxPlot of \" + column)\n",
        "    print(\"----------------------------------------------------------------------------\")\n",
        "    ax = sns.boxplot(x=x_num[column])\n",
        "    plt.show()"
      ],
      "id": "5ceae7d2"
    },
    {
      "cell_type": "code",
      "execution_count": null,
      "metadata": {
        "colab": {
          "base_uri": "https://localhost:8080/"
        },
        "id": "dff848a0",
        "outputId": "31b648e5-065c-4e2f-c7de-2f902bbd6b0b"
      },
      "outputs": [
        {
          "output_type": "execute_result",
          "data": {
            "text/plain": [
              "12"
            ]
          },
          "metadata": {},
          "execution_count": 55
        }
      ],
      "source": [
        "df_num = listings.select_dtypes(include = ['float64', 'int64'])\n",
        "lstnumericcolumns = list(df_num.columns.values)\n",
        "len(lstnumericcolumns)"
      ],
      "id": "dff848a0"
    },
    {
      "cell_type": "code",
      "execution_count": null,
      "metadata": {
        "colab": {
          "base_uri": "https://localhost:8080/"
        },
        "id": "drMLxTkCuTxE",
        "outputId": "6119f4a5-fef8-4ef0-dc4b-7f87d4f543ad"
      },
      "outputs": [
        {
          "output_type": "execute_result",
          "data": {
            "text/plain": [
              "count    25000.000000\n",
              "mean        13.798920\n",
              "std          5.456731\n",
              "min          0.000000\n",
              "25%         13.000000\n",
              "50%         14.000000\n",
              "75%         14.000000\n",
              "max         27.000000\n",
              "Name: Dur_Wh_Est_Year, dtype: float64"
            ]
          },
          "metadata": {},
          "execution_count": 56
        }
      ],
      "source": [
        "listings.Dur_Wh_Est_Year.describe()"
      ],
      "id": "drMLxTkCuTxE"
    },
    {
      "cell_type": "code",
      "execution_count": null,
      "metadata": {
        "colab": {
          "base_uri": "https://localhost:8080/",
          "height": 1000
        },
        "id": "49ad6ea3",
        "outputId": "9ae2236b-3b72-4a91-9d16-7e4080587308"
      },
      "outputs": [
        {
          "output_type": "stream",
          "name": "stdout",
          "text": [
            "Description of num_refill_req\n",
            "----------------------------------------------------------------------------\n",
            "count    25000.000000\n",
            "mean         4.089040\n",
            "std          2.606612\n",
            "min          0.000000\n",
            "25%          2.000000\n",
            "50%          4.000000\n",
            "75%          6.000000\n",
            "max          8.000000\n",
            "Name: num_refill_req, dtype: float64 Distribution of num_refill_req\n",
            "----------------------------------------------------------------------------\n"
          ]
        },
        {
          "output_type": "stream",
          "name": "stderr",
          "text": [
            "/usr/local/lib/python3.8/dist-packages/seaborn/distributions.py:2619: FutureWarning: `distplot` is a deprecated function and will be removed in a future version. Please adapt your code to use either `displot` (a figure-level function with similar flexibility) or `histplot` (an axes-level function for histograms).\n",
            "  warnings.warn(msg, FutureWarning)\n"
          ]
        },
        {
          "output_type": "display_data",
          "data": {
            "text/plain": [
              "<Figure size 432x288 with 1 Axes>"
            ],
            "image/png": "[encoded data removed]"
          },
          "metadata": {}
        },
        {
          "output_type": "stream",
          "name": "stdout",
          "text": [
            "BoxPlot of num_refill_req\n",
            "----------------------------------------------------------------------------\n"
          ]
        },
        {
          "output_type": "display_data",
          "data": {
            "text/plain": [
              "<Figure size 432x288 with 1 Axes>"
            ],
            "image/png": "[encoded data removed]"
          },
          "metadata": {}
        },
        {
          "output_type": "stream",
          "name": "stdout",
          "text": [
            "Description of transport_issue\n",
            "----------------------------------------------------------------------------\n",
            "count    25000.000000\n",
            "mean         0.773680\n",
            "std          1.199449\n",
            "min          0.000000\n",
            "25%          0.000000\n",
            "50%          0.000000\n",
            "75%          1.000000\n",
            "max          5.000000\n",
            "Name: transport_issue, dtype: float64 Distribution of transport_issue\n",
            "----------------------------------------------------------------------------\n"
          ]
        },
        {
          "output_type": "stream",
          "name": "stderr",
          "text": [
            "/usr/local/lib/python3.8/dist-packages/seaborn/distributions.py:2619: FutureWarning: `distplot` is a deprecated function and will be removed in a future version. Please adapt your code to use either `displot` (a figure-level function with similar flexibility) or `histplot` (an axes-level function for histograms).\n",
            "  warnings.warn(msg, FutureWarning)\n"
          ]
        },
        {
          "output_type": "display_data",
          "data": {
            "text/plain": [
              "<Figure size 432x288 with 1 Axes>"
            ],
            "image/png": "[encoded data removed]"
          },
          "metadata": {}
        },
        {
          "output_type": "stream",
          "name": "stdout",
          "text": [
            "BoxPlot of transport_issue\n",
            "----------------------------------------------------------------------------\n"
          ]
        },
        {
          "output_type": "display_data",
          "data": {
            "text/plain": [
              "<Figure size 432x288 with 1 Axes>"
            ],
            "image/png": "[encoded data removed]"
          },
          "metadata": {}
        },
        {
          "output_type": "stream",
          "name": "stdout",
          "text": [
            "Description of Competitor_in_mkt\n",
            "----------------------------------------------------------------------------\n",
            "count    25000.000000\n",
            "mean         3.104200\n",
            "std          1.141663\n",
            "min          0.000000\n",
            "25%          2.000000\n",
            "50%          3.000000\n",
            "75%          4.000000\n",
            "max         12.000000\n",
            "Name: Competitor_in_mkt, dtype: float64 Distribution of Competitor_in_mkt\n",
            "----------------------------------------------------------------------------\n"
          ]
        },
        {
          "output_type": "stream",
          "name": "stderr",
          "text": [
            "/usr/local/lib/python3.8/dist-packages/seaborn/distributions.py:2619: FutureWarning: `distplot` is a deprecated function and will be removed in a future version. Please adapt your code to use either `displot` (a figure-level function with similar flexibility) or `histplot` (an axes-level function for histograms).\n",
            "  warnings.warn(msg, FutureWarning)\n"
          ]
        },
        {
          "output_type": "display_data",
          "data": {
            "text/plain": [
              "<Figure size 432x288 with 1 Axes>"
            ],
            "image/png": "[encoded data removed]"
          },
          "metadata": {}
        },
        {
          "output_type": "stream",
          "name": "stdout",
          "text": [
            "BoxPlot of Competitor_in_mkt\n",
            "----------------------------------------------------------------------------\n"
          ]
        },
        {
          "output_type": "display_data",
          "data": {
            "text/plain": [
              "<Figure size 432x288 with 1 Axes>"
            ],
            "image/png": "[encoded data removed]"
          },
          "metadata": {}
        },
        {
          "output_type": "stream",
          "name": "stdout",
          "text": [
            "Description of retail_shop_num\n",
            "----------------------------------------------------------------------------\n",
            "count    25000.000000\n",
            "mean      4985.711560\n",
            "std       1052.825252\n",
            "min       1821.000000\n",
            "25%       4313.000000\n",
            "50%       4859.000000\n",
            "75%       5500.000000\n",
            "max      11008.000000\n",
            "Name: retail_shop_num, dtype: float64 Distribution of retail_shop_num\n",
            "----------------------------------------------------------------------------\n"
          ]
        },
        {
          "output_type": "stream",
          "name": "stderr",
          "text": [
            "/usr/local/lib/python3.8/dist-packages/seaborn/distributions.py:2619: FutureWarning: `distplot` is a deprecated function and will be removed in a future version. Please adapt your code to use either `displot` (a figure-level function with similar flexibility) or `histplot` (an axes-level function for histograms).\n",
            "  warnings.warn(msg, FutureWarning)\n"
          ]
        },
        {
          "output_type": "display_data",
          "data": {
            "text/plain": [
              "<Figure size 432x288 with 1 Axes>"
            ],
            "image/png": "[encoded data removed]"
          },
          "metadata": {}
        },
        {
          "output_type": "stream",
          "name": "stdout",
          "text": [
            "BoxPlot of retail_shop_num\n",
            "----------------------------------------------------------------------------\n"
          ]
        },
        {
          "output_type": "display_data",
          "data": {
            "text/plain": [
              "<Figure size 432x288 with 1 Axes>"
            ],
            "image/png": "[encoded data removed]"
          },
          "metadata": {}
        },
        {
          "output_type": "stream",
          "name": "stdout",
          "text": [
            "Description of distributor_num\n",
            "----------------------------------------------------------------------------\n",
            "count    25000.000000\n",
            "mean        42.418120\n",
            "std         16.064329\n",
            "min         15.000000\n",
            "25%         29.000000\n",
            "50%         42.000000\n",
            "75%         56.000000\n",
            "max         70.000000\n",
            "Name: distributor_num, dtype: float64 Distribution of distributor_num\n",
            "----------------------------------------------------------------------------\n"
          ]
        },
        {
          "output_type": "stream",
          "name": "stderr",
          "text": [
            "/usr/local/lib/python3.8/dist-packages/seaborn/distributions.py:2619: FutureWarning: `distplot` is a deprecated function and will be removed in a future version. Please adapt your code to use either `displot` (a figure-level function with similar flexibility) or `histplot` (an axes-level function for histograms).\n",
            "  warnings.warn(msg, FutureWarning)\n"
          ]
        },
        {
          "output_type": "display_data",
          "data": {
            "text/plain": [
              "<Figure size 432x288 with 1 Axes>"
            ],
            "image/png": "[encoded data removed]"
          },
          "metadata": {}
        },
        {
          "output_type": "stream",
          "name": "stdout",
          "text": [
            "BoxPlot of distributor_num\n",
            "----------------------------------------------------------------------------\n"
          ]
        },
        {
          "output_type": "display_data",
          "data": {
            "text/plain": [
              "<Figure size 432x288 with 1 Axes>"
            ],
            "image/png": "[encoded data removed]"
          },
          "metadata": {}
        },
        {
          "output_type": "stream",
          "name": "stdout",
          "text": [
            "Description of dist_from_hub\n",
            "----------------------------------------------------------------------------\n",
            "count    25000.000000\n",
            "mean       163.537320\n",
            "std         62.718609\n",
            "min         55.000000\n",
            "25%        109.000000\n",
            "50%        164.000000\n",
            "75%        218.000000\n",
            "max        271.000000\n",
            "Name: dist_from_hub, dtype: float64 Distribution of dist_from_hub\n",
            "----------------------------------------------------------------------------\n"
          ]
        },
        {
          "output_type": "stream",
          "name": "stderr",
          "text": [
            "/usr/local/lib/python3.8/dist-packages/seaborn/distributions.py:2619: FutureWarning: `distplot` is a deprecated function and will be removed in a future version. Please adapt your code to use either `displot` (a figure-level function with similar flexibility) or `histplot` (an axes-level function for histograms).\n",
            "  warnings.warn(msg, FutureWarning)\n"
          ]
        },
        {
          "output_type": "display_data",
          "data": {
            "text/plain": [
              "<Figure size 432x288 with 1 Axes>"
            ],
            "image/png": "[encoded data removed]"
          },
          "metadata": {}
        },
        {
          "output_type": "stream",
          "name": "stdout",
          "text": [
            "BoxPlot of dist_from_hub\n",
            "----------------------------------------------------------------------------\n"
          ]
        },
        {
          "output_type": "display_data",
          "data": {
            "text/plain": [
              "<Figure size 432x288 with 1 Axes>"
            ],
            "image/png": "[encoded data removed]"
          },
          "metadata": {}
        },
        {
          "output_type": "stream",
          "name": "stdout",
          "text": [
            "Description of workers_num\n",
            "----------------------------------------------------------------------------\n",
            "count    25000.000000\n",
            "mean        28.907000\n",
            "std          7.717275\n",
            "min         10.000000\n",
            "25%         24.000000\n",
            "50%         28.000000\n",
            "75%         33.000000\n",
            "max         98.000000\n",
            "Name: workers_num, dtype: float64 Distribution of workers_num\n",
            "----------------------------------------------------------------------------\n"
          ]
        },
        {
          "output_type": "stream",
          "name": "stderr",
          "text": [
            "/usr/local/lib/python3.8/dist-packages/seaborn/distributions.py:2619: FutureWarning: `distplot` is a deprecated function and will be removed in a future version. Please adapt your code to use either `displot` (a figure-level function with similar flexibility) or `histplot` (an axes-level function for histograms).\n",
            "  warnings.warn(msg, FutureWarning)\n"
          ]
        },
        {
          "output_type": "display_data",
          "data": {
            "text/plain": [
              "<Figure size 432x288 with 1 Axes>"
            ],
            "image/png": "[encoded data removed]"
          },
          "metadata": {}
        },
        {
          "output_type": "stream",
          "name": "stdout",
          "text": [
            "BoxPlot of workers_num\n",
            "----------------------------------------------------------------------------\n"
          ]
        },
        {
          "output_type": "display_data",
          "data": {
            "text/plain": [
              "<Figure size 432x288 with 1 Axes>"
            ],
            "image/png": "[encoded data removed]"
          },
          "metadata": {}
        },
        {
          "output_type": "stream",
          "name": "stdout",
          "text": [
            "Description of storage_issue_reported\n",
            "----------------------------------------------------------------------------\n",
            "count    25000.000000\n",
            "mean        17.130440\n",
            "std          9.161108\n",
            "min          0.000000\n",
            "25%         10.000000\n",
            "50%         18.000000\n",
            "75%         24.000000\n",
            "max         39.000000\n",
            "Name: storage_issue_reported, dtype: float64 Distribution of storage_issue_reported\n",
            "----------------------------------------------------------------------------\n"
          ]
        },
        {
          "output_type": "stream",
          "name": "stderr",
          "text": [
            "/usr/local/lib/python3.8/dist-packages/seaborn/distributions.py:2619: FutureWarning: `distplot` is a deprecated function and will be removed in a future version. Please adapt your code to use either `displot` (a figure-level function with similar flexibility) or `histplot` (an axes-level function for histograms).\n",
            "  warnings.warn(msg, FutureWarning)\n"
          ]
        },
        {
          "output_type": "display_data",
          "data": {
            "text/plain": [
              "<Figure size 432x288 with 1 Axes>"
            ],
            "image/png": "[encoded data removed]"
          },
          "metadata": {}
        },
        {
          "output_type": "stream",
          "name": "stdout",
          "text": [
            "BoxPlot of storage_issue_reported\n",
            "----------------------------------------------------------------------------\n"
          ]
        },
        {
          "output_type": "display_data",
          "data": {
            "text/plain": [
              "<Figure size 432x288 with 1 Axes>"
            ],
            "image/png": "[encoded data removed]"
          },
          "metadata": {}
        },
        {
          "output_type": "stream",
          "name": "stdout",
          "text": [
            "Description of wh_breakdown\n",
            "----------------------------------------------------------------------------\n",
            "count    25000.000000\n",
            "mean         3.482040\n",
            "std          1.690335\n",
            "min          0.000000\n",
            "25%          2.000000\n",
            "50%          3.000000\n",
            "75%          5.000000\n",
            "max          6.000000\n",
            "Name: wh_breakdown, dtype: float64 Distribution of wh_breakdown\n",
            "----------------------------------------------------------------------------\n"
          ]
        },
        {
          "output_type": "stream",
          "name": "stderr",
          "text": [
            "/usr/local/lib/python3.8/dist-packages/seaborn/distributions.py:2619: FutureWarning: `distplot` is a deprecated function and will be removed in a future version. Please adapt your code to use either `displot` (a figure-level function with similar flexibility) or `histplot` (an axes-level function for histograms).\n",
            "  warnings.warn(msg, FutureWarning)\n"
          ]
        },
        {
          "output_type": "display_data",
          "data": {
            "text/plain": [
              "<Figure size 432x288 with 1 Axes>"
            ],
            "image/png": "[encoded data removed]"
          },
          "metadata": {}
        },
        {
          "output_type": "stream",
          "name": "stdout",
          "text": [
            "BoxPlot of wh_breakdown\n",
            "----------------------------------------------------------------------------\n"
          ]
        },
        {
          "output_type": "display_data",
          "data": {
            "text/plain": [
              "<Figure size 432x288 with 1 Axes>"
            ],
            "image/png": "[encoded data removed]"
          },
          "metadata": {}
        },
        {
          "output_type": "stream",
          "name": "stdout",
          "text": [
            "Description of govt_check\n",
            "----------------------------------------------------------------------------\n",
            "count    25000.000000\n",
            "mean        18.812280\n",
            "std          8.632382\n",
            "min          1.000000\n",
            "25%         11.000000\n",
            "50%         21.000000\n",
            "75%         26.000000\n",
            "max         32.000000\n",
            "Name: govt_check, dtype: float64 Distribution of govt_check\n",
            "----------------------------------------------------------------------------\n"
          ]
        },
        {
          "output_type": "stream",
          "name": "stderr",
          "text": [
            "/usr/local/lib/python3.8/dist-packages/seaborn/distributions.py:2619: FutureWarning: `distplot` is a deprecated function and will be removed in a future version. Please adapt your code to use either `displot` (a figure-level function with similar flexibility) or `histplot` (an axes-level function for histograms).\n",
            "  warnings.warn(msg, FutureWarning)\n"
          ]
        },
        {
          "output_type": "display_data",
          "data": {
            "text/plain": [
              "<Figure size 432x288 with 1 Axes>"
            ],
            "image/png": "[encoded data removed]"
          },
          "metadata": {}
        },
        {
          "output_type": "stream",
          "name": "stdout",
          "text": [
            "BoxPlot of govt_check\n",
            "----------------------------------------------------------------------------\n"
          ]
        },
        {
          "output_type": "display_data",
          "data": {
            "text/plain": [
              "<Figure size 432x288 with 1 Axes>"
            ],
            "image/png": "[encoded data removed]"
          },
          "metadata": {}
        },
        {
          "output_type": "stream",
          "name": "stdout",
          "text": [
            "Description of product_wg_ton\n",
            "----------------------------------------------------------------------------\n",
            "count    25000.000000\n",
            "mean     22102.632920\n",
            "std      11607.755077\n",
            "min       2065.000000\n",
            "25%      13059.000000\n",
            "50%      22101.000000\n",
            "75%      30103.000000\n",
            "max      55151.000000\n",
            "Name: product_wg_ton, dtype: float64 Distribution of product_wg_ton\n",
            "----------------------------------------------------------------------------\n"
          ]
        },
        {
          "output_type": "stream",
          "name": "stderr",
          "text": [
            "/usr/local/lib/python3.8/dist-packages/seaborn/distributions.py:2619: FutureWarning: `distplot` is a deprecated function and will be removed in a future version. Please adapt your code to use either `displot` (a figure-level function with similar flexibility) or `histplot` (an axes-level function for histograms).\n",
            "  warnings.warn(msg, FutureWarning)\n"
          ]
        },
        {
          "output_type": "display_data",
          "data": {
            "text/plain": [
              "<Figure size 432x288 with 1 Axes>"
            ],
            "image/png": "[encoded data removed]"
          },
          "metadata": {}
        },
        {
          "output_type": "stream",
          "name": "stdout",
          "text": [
            "BoxPlot of product_wg_ton\n",
            "----------------------------------------------------------------------------\n"
          ]
        },
        {
          "output_type": "display_data",
          "data": {
            "text/plain": [
              "<Figure size 432x288 with 1 Axes>"
            ],
            "image/png": "[encoded data removed]"
          },
          "metadata": {}
        },
        {
          "output_type": "stream",
          "name": "stdout",
          "text": [
            "Description of Dur_Wh_Est_Year\n",
            "----------------------------------------------------------------------------\n",
            "count    25000.000000\n",
            "mean        13.798920\n",
            "std          5.456731\n",
            "min          0.000000\n",
            "25%         13.000000\n",
            "50%         14.000000\n",
            "75%         14.000000\n",
            "max         27.000000\n",
            "Name: Dur_Wh_Est_Year, dtype: float64 Distribution of Dur_Wh_Est_Year\n",
            "----------------------------------------------------------------------------\n"
          ]
        },
        {
          "output_type": "stream",
          "name": "stderr",
          "text": [
            "/usr/local/lib/python3.8/dist-packages/seaborn/distributions.py:2619: FutureWarning: `distplot` is a deprecated function and will be removed in a future version. Please adapt your code to use either `displot` (a figure-level function with similar flexibility) or `histplot` (an axes-level function for histograms).\n",
            "  warnings.warn(msg, FutureWarning)\n"
          ]
        },
        {
          "output_type": "display_data",
          "data": {
            "text/plain": [
              "<Figure size 432x288 with 1 Axes>"
            ],
            "image/png": "[encoded data removed]"
          },
          "metadata": {}
        },
        {
          "output_type": "stream",
          "name": "stdout",
          "text": [
            "BoxPlot of Dur_Wh_Est_Year\n",
            "----------------------------------------------------------------------------\n"
          ]
        },
        {
          "output_type": "display_data",
          "data": {
            "text/plain": [
              "<Figure size 432x288 with 1 Axes>"
            ],
            "image/png": "[encoded data removed]"
          },
          "metadata": {}
        }
      ],
      "source": [
        "for x in lstnumericcolumns:\n",
        "    univariateAnalysis_numeric(x,20)"
      ],
      "id": "49ad6ea3"
    },
    {
      "cell_type": "code",
      "execution_count": null,
      "metadata": {
        "id": "cb1750a0"
      },
      "outputs": [],
      "source": [
        "def univariateAnalysis_category(cat_column):\n",
        "    print(\"Details of \" + cat_column)\n",
        "    print(\"----------------------------------------------------------------\")\n",
        "    print(y_cat[cat_column].value_counts())\n",
        "    plt.figure()\n",
        "    y_cat[cat_column].value_counts().plot.bar(title=\"Frequency Distribution of \" + cat_column)\n",
        "    plt.show()\n",
        "    print(\"       \")"
      ],
      "id": "cb1750a0"
    },
    {
      "cell_type": "code",
      "execution_count": null,
      "metadata": {
        "id": "0e087ffd"
      },
      "outputs": [],
      "source": [
        "listings.drop(['WH_Manager_ID'], axis='columns', inplace=True)"
      ],
      "id": "0e087ffd"
    },
    {
      "cell_type": "code",
      "execution_count": null,
      "metadata": {
        "id": "7c672714"
      },
      "outputs": [],
      "source": [
        "listings.drop(['Ware_house_ID'], axis='columns', inplace=True)"
      ],
      "id": "7c672714"
    },
    {
      "cell_type": "code",
      "execution_count": null,
      "metadata": {
        "colab": {
          "base_uri": "https://localhost:8080/"
        },
        "id": "a1d18329",
        "outputId": "c027a6d0-c785-42f7-a09f-bae9afde3821"
      },
      "outputs": [
        {
          "output_type": "stream",
          "name": "stdout",
          "text": [
            "<class 'pandas.core.frame.DataFrame'>\n",
            "RangeIndex: 25000 entries, 0 to 24999\n",
            "Data columns (total 22 columns):\n",
            " #   Column                        Non-Null Count  Dtype  \n",
            "---  ------                        --------------  -----  \n",
            " 0   Location_type                 25000 non-null  object \n",
            " 1   WH_capacity_size              25000 non-null  object \n",
            " 2   zone                          25000 non-null  object \n",
            " 3   WH_regional_zone              25000 non-null  object \n",
            " 4   num_refill_req                25000 non-null  int64  \n",
            " 5   transport_issue               25000 non-null  int64  \n",
            " 6   Competitor_in_mkt             25000 non-null  int64  \n",
            " 7   retail_shop_num               25000 non-null  int64  \n",
            " 8   wh_owner_type                 25000 non-null  object \n",
            " 9   distributor_num               25000 non-null  int64  \n",
            " 10  flood_impacted                25000 non-null  object \n",
            " 11  flood_proof                   25000 non-null  object \n",
            " 12  electric_supply               25000 non-null  object \n",
            " 13  dist_from_hub                 25000 non-null  int64  \n",
            " 14  workers_num                   25000 non-null  float64\n",
            " 15  storage_issue_reported        25000 non-null  int64  \n",
            " 16  temp_reg_mach                 25000 non-null  object \n",
            " 17  approved_wh_govt_certificate  25000 non-null  object \n",
            " 18  wh_breakdown                  25000 non-null  int64  \n",
            " 19  govt_check                    25000 non-null  int64  \n",
            " 20  product_wg_ton                25000 non-null  int64  \n",
            " 21  Dur_Wh_Est_Year               25000 non-null  float64\n",
            "dtypes: float64(2), int64(10), object(10)\n",
            "memory usage: 4.2+ MB\n"
          ]
        }
      ],
      "source": [
        "listings.info()"
      ],
      "id": "a1d18329"
    },
    {
      "cell_type": "code",
      "execution_count": null,
      "metadata": {
        "colab": {
          "base_uri": "https://localhost:8080/"
        },
        "id": "fc723512",
        "outputId": "f66d45ce-d826-43aa-9c35-70d49f5d66e5"
      },
      "outputs": [
        {
          "output_type": "execute_result",
          "data": {
            "text/plain": [
              "['Location_type',\n",
              " 'WH_capacity_size',\n",
              " 'zone',\n",
              " 'WH_regional_zone',\n",
              " 'wh_owner_type',\n",
              " 'flood_impacted',\n",
              " 'flood_proof',\n",
              " 'electric_supply',\n",
              " 'temp_reg_mach',\n",
              " 'approved_wh_govt_certificate']"
            ]
          },
          "metadata": {},
          "execution_count": 62
        }
      ],
      "source": [
        "df_cat = listings.select_dtypes(include = ['object'])\n",
        "lstcatcolumns = list(df_cat.columns.values)\n",
        "lstcatcolumns"
      ],
      "id": "fc723512"
    },
    {
      "cell_type": "code",
      "execution_count": null,
      "metadata": {
        "colab": {
          "base_uri": "https://localhost:8080/",
          "height": 1000
        },
        "id": "f5b4a2ac",
        "outputId": "32103c20-e385-4880-8508-403d9334287b"
      },
      "outputs": [
        {
          "output_type": "stream",
          "name": "stdout",
          "text": [
            "Details of Location_type\n",
            "----------------------------------------------------------------\n",
            "Rural    22957\n",
            "Urban     2043\n",
            "Name: Location_type, dtype: int64\n"
          ]
        },
        {
          "output_type": "display_data",
          "data": {
            "text/plain": [
              "<Figure size 432x288 with 1 Axes>"
            ],
            "image/png": "[encoded data removed]"
          },
          "metadata": {}
        },
        {
          "output_type": "stream",
          "name": "stdout",
          "text": [
            "       \n",
            "Details of WH_capacity_size\n",
            "----------------------------------------------------------------\n",
            "Large    10169\n",
            "Mid      10020\n",
            "Small     4811\n",
            "Name: WH_capacity_size, dtype: int64\n"
          ]
        },
        {
          "output_type": "display_data",
          "data": {
            "text/plain": [
              "<Figure size 432x288 with 1 Axes>"
            ],
            "image/png": "[encoded data removed]"
          },
          "metadata": {}
        },
        {
          "output_type": "stream",
          "name": "stdout",
          "text": [
            "       \n",
            "Details of zone\n",
            "----------------------------------------------------------------\n",
            "North    10278\n",
            "West      7931\n",
            "South     6362\n",
            "East       429\n",
            "Name: zone, dtype: int64\n"
          ]
        },
        {
          "output_type": "display_data",
          "data": {
            "text/plain": [
              "<Figure size 432x288 with 1 Axes>"
            ],
            "image/png": "[encoded data removed]"
          },
          "metadata": {}
        },
        {
          "output_type": "stream",
          "name": "stdout",
          "text": [
            "       \n",
            "Details of WH_regional_zone\n",
            "----------------------------------------------------------------\n",
            "Zone 6    8339\n",
            "Zone 5    4587\n",
            "Zone 4    4176\n",
            "Zone 2    2963\n",
            "Zone 3    2881\n",
            "Zone 1    2054\n",
            "Name: WH_regional_zone, dtype: int64\n"
          ]
        },
        {
          "output_type": "display_data",
          "data": {
            "text/plain": [
              "<Figure size 432x288 with 1 Axes>"
            ],
            "image/png": "[encoded data removed]"
          },
          "metadata": {}
        },
        {
          "output_type": "stream",
          "name": "stdout",
          "text": [
            "       \n",
            "Details of wh_owner_type\n",
            "----------------------------------------------------------------\n",
            "Company Owned    13578\n",
            "Rented           11422\n",
            "Name: wh_owner_type, dtype: int64\n"
          ]
        },
        {
          "output_type": "display_data",
          "data": {
            "text/plain": [
              "<Figure size 432x288 with 1 Axes>"
            ],
            "image/png": "[encoded data removed]"
          },
          "metadata": {}
        },
        {
          "output_type": "stream",
          "name": "stdout",
          "text": [
            "       \n",
            "Details of flood_impacted\n",
            "----------------------------------------------------------------\n",
            "0    22546\n",
            "1     2454\n",
            "Name: flood_impacted, dtype: int64\n"
          ]
        },
        {
          "output_type": "display_data",
          "data": {
            "text/plain": [
              "<Figure size 432x288 with 1 Axes>"
            ],
            "image/png": "[encoded data removed]"
          },
          "metadata": {}
        },
        {
          "output_type": "stream",
          "name": "stdout",
          "text": [
            "       \n",
            "Details of flood_proof\n",
            "----------------------------------------------------------------\n",
            "0    23634\n",
            "1     1366\n",
            "Name: flood_proof, dtype: int64\n"
          ]
        },
        {
          "output_type": "display_data",
          "data": {
            "text/plain": [
              "<Figure size 432x288 with 1 Axes>"
            ],
            "image/png": "[encoded data removed]"
          },
          "metadata": {}
        },
        {
          "output_type": "stream",
          "name": "stdout",
          "text": [
            "       \n",
            "Details of electric_supply\n",
            "----------------------------------------------------------------\n",
            "1    16422\n",
            "0     8578\n",
            "Name: electric_supply, dtype: int64\n"
          ]
        },
        {
          "output_type": "display_data",
          "data": {
            "text/plain": [
              "<Figure size 432x288 with 1 Axes>"
            ],
            "image/png": "[encoded data removed]"
          },
          "metadata": {}
        },
        {
          "output_type": "stream",
          "name": "stdout",
          "text": [
            "       \n",
            "Details of temp_reg_mach\n",
            "----------------------------------------------------------------\n",
            "0    17418\n",
            "1     7582\n",
            "Name: temp_reg_mach, dtype: int64\n"
          ]
        },
        {
          "output_type": "display_data",
          "data": {
            "text/plain": [
              "<Figure size 432x288 with 1 Axes>"
            ],
            "image/png": "[encoded data removed]"
          },
          "metadata": {}
        },
        {
          "output_type": "stream",
          "name": "stdout",
          "text": [
            "       \n",
            "Details of approved_wh_govt_certificate\n",
            "----------------------------------------------------------------\n",
            "C     5501\n",
            "B+    4917\n",
            "B     4812\n",
            "A     4671\n",
            "A+    4191\n",
            "Name: approved_wh_govt_certificate, dtype: int64\n"
          ]
        },
        {
          "output_type": "display_data",
          "data": {
            "text/plain": [
              "<Figure size 432x288 with 1 Axes>"
            ],
            "image/png": "[encoded data removed]"
          },
          "metadata": {}
        },
        {
          "output_type": "stream",
          "name": "stdout",
          "text": [
            "       \n"
          ]
        }
      ],
      "source": [
        "for x in lstcatcolumns:\n",
        "    univariateAnalysis_category(x)"
      ],
      "id": "f5b4a2ac"
    },
    {
      "cell_type": "code",
      "execution_count": null,
      "metadata": {
        "id": "3f8286c7"
      },
      "outputs": [],
      "source": [
        "#Bivariate Analysis"
      ],
      "id": "3f8286c7"
    },
    {
      "cell_type": "code",
      "execution_count": null,
      "metadata": {
        "colab": {
          "base_uri": "https://localhost:8080/",
          "height": 417
        },
        "id": "92b689e1",
        "outputId": "d3a1730e-b568-47a3-fe98-d67e7b666e1f"
      },
      "outputs": [
        {
          "output_type": "display_data",
          "data": {
            "text/plain": [
              "<Figure size 720x432 with 1 Axes>"
            ],
            "image/png": "[encoded data removed]"
          },
          "metadata": {}
        }
      ],
      "source": [
        "ct = pd.crosstab(index = listings['Location_type'],columns=listings['zone'], values=listings['product_wg_ton'],margins=True,aggfunc='mean')\n",
        "\n",
        "ct.drop('All',inplace = True)\n",
        "\n",
        "ct.drop('All',axis = 1,inplace = True)\n",
        "\n",
        "ct.plot.bar(figsize = (10,6))\n",
        "\n",
        "plt.ylabel(\"product_wg_ton\")\n",
        "\n",
        "plt.show()\n",
        "\n"
      ],
      "id": "92b689e1"
    },
    {
      "cell_type": "code",
      "execution_count": null,
      "metadata": {
        "colab": {
          "base_uri": "https://localhost:8080/",
          "height": 418
        },
        "id": "7e6a1fd1",
        "outputId": "8d22aefe-7798-4c9a-9db6-a3f384ec0b41"
      },
      "outputs": [
        {
          "output_type": "display_data",
          "data": {
            "text/plain": [
              "<Figure size 720x432 with 1 Axes>"
            ],
            "image/png": "[encoded data removed]"
          },
          "metadata": {}
        }
      ],
      "source": [
        "ct = pd.crosstab(index = listings['WH_capacity_size'],columns=listings['zone'], values=listings['product_wg_ton'],margins=True,aggfunc='mean')\n",
        "\n",
        "ct.drop('All',inplace = True)\n",
        "\n",
        "ct.drop('All',axis = 1,inplace = True)\n",
        "\n",
        "ct.plot.bar(figsize = (10,6))\n",
        "\n",
        "plt.ylabel(\"product_wg_ton\")\n",
        "\n",
        "plt.show()"
      ],
      "id": "7e6a1fd1"
    },
    {
      "cell_type": "code",
      "execution_count": null,
      "metadata": {
        "colab": {
          "base_uri": "https://localhost:8080/",
          "height": 425
        },
        "id": "430e0ccc",
        "outputId": "27635086-0cce-4795-a582-9abb753e03ea"
      },
      "outputs": [
        {
          "output_type": "display_data",
          "data": {
            "text/plain": [
              "<Figure size 720x432 with 1 Axes>"
            ],
            "image/png": "[encoded data removed]"
          },
          "metadata": {}
        }
      ],
      "source": [
        "ct = pd.crosstab(index = listings['WH_regional_zone'],columns=listings['zone'], values=listings['product_wg_ton'],margins=True,aggfunc='mean')\n",
        "\n",
        "ct.drop('All',inplace = True)\n",
        "\n",
        "ct.drop('All',axis = 1,inplace = True)\n",
        "\n",
        "ct.plot.bar(figsize = (10,6))\n",
        "\n",
        "plt.ylabel(\"product_wg_ton\")\n",
        "\n",
        "plt.show()"
      ],
      "id": "430e0ccc"
    },
    {
      "cell_type": "code",
      "execution_count": null,
      "metadata": {
        "colab": {
          "base_uri": "https://localhost:8080/",
          "height": 480
        },
        "id": "599f3e1b",
        "outputId": "281e4d82-e204-4030-ba98-5412675357d1"
      },
      "outputs": [
        {
          "output_type": "display_data",
          "data": {
            "text/plain": [
              "<Figure size 720x432 with 1 Axes>"
            ],
            "image/png": "[encoded data removed]"
          },
          "metadata": {}
        }
      ],
      "source": [
        "ct = pd.crosstab(index = listings['wh_owner_type'],columns=listings['zone'], values=listings['product_wg_ton'],margins=True,aggfunc='mean')\n",
        "\n",
        "ct.drop('All',inplace = True)\n",
        "\n",
        "ct.drop('All',axis = 1,inplace = True)\n",
        "\n",
        "ct.plot.bar(figsize = (10,6))\n",
        "\n",
        "plt.ylabel(\"product_wg_ton\")\n",
        "\n",
        "plt.show()"
      ],
      "id": "599f3e1b"
    },
    {
      "cell_type": "code",
      "execution_count": null,
      "metadata": {
        "colab": {
          "base_uri": "https://localhost:8080/",
          "height": 400
        },
        "id": "72543c44",
        "outputId": "179334ae-8ac9-4e71-c455-32d8b5bc47ef"
      },
      "outputs": [
        {
          "output_type": "display_data",
          "data": {
            "text/plain": [
              "<Figure size 720x432 with 1 Axes>"
            ],
            "image/png": "[encoded data removed]"
          },
          "metadata": {}
        }
      ],
      "source": [
        "ct = pd.crosstab(index = listings['approved_wh_govt_certificate'],columns=listings['zone'], values=listings['product_wg_ton'],margins=True,aggfunc='mean')\n",
        "\n",
        "ct.drop('All',inplace = True)\n",
        "\n",
        "ct.drop('All',axis = 1,inplace = True)\n",
        "\n",
        "ct.plot.bar(figsize = (10,6))\n",
        "\n",
        "plt.ylabel(\"product_wg_ton\")\n",
        "\n",
        "plt.show()"
      ],
      "id": "72543c44"
    },
    {
      "cell_type": "code",
      "execution_count": null,
      "metadata": {
        "id": "e56caaf7"
      },
      "outputs": [],
      "source": [
        "corr = df_num.corr(method='pearson')"
      ],
      "id": "e56caaf7"
    },
    {
      "cell_type": "code",
      "execution_count": null,
      "metadata": {
        "colab": {
          "base_uri": "https://localhost:8080/",
          "height": 946
        },
        "id": "c2ee284c",
        "outputId": "11889d30-0743-4130-ac08-50bab82dfd69"
      },
      "outputs": [
        {
          "output_type": "stream",
          "name": "stderr",
          "text": [
            "<ipython-input-71-9c73085bab70>:1: DeprecationWarning: `np.bool` is a deprecated alias for the builtin `bool`. To silence this warning, use `bool` by itself. Doing this will not modify any behavior and is safe. If you specifically wanted the numpy scalar type, use `np.bool_` here.\n",
            "Deprecated in NumPy 1.20; for more details and guidance: https://numpy.org/devdocs/release/1.20.0-notes.html#deprecations\n",
            "  mask = np.triu(np.ones_like(corr, dtype=np.bool))\n"
          ]
        },
        {
          "output_type": "display_data",
          "data": {
            "text/plain": [
              "<Figure size 1800x1080 with 2 Axes>"
            ],
            "image/png": "[encoded data removed]"
          },
          "metadata": {}
        }
      ],
      "source": [
        "mask = np.triu(np.ones_like(corr, dtype=np.bool)) \n",
        "fig = plt.subplots(figsize=(25, 15))\n",
        "sns.heatmap(df_num.corr(), annot=True,fmt='.2f',mask=mask)\n",
        "plt.show()"
      ],
      "id": "c2ee284c"
    },
    {
      "cell_type": "code",
      "execution_count": null,
      "metadata": {
        "id": "de126e5f"
      },
      "outputs": [],
      "source": [
        "#Outlier Treatment"
      ],
      "id": "de126e5f"
    },
    {
      "cell_type": "code",
      "execution_count": null,
      "metadata": {
        "id": "45a0d539"
      },
      "outputs": [],
      "source": [
        "outlier = ['transport_issue','Competitor_in_mkt','retail_shop_num','workers_num','Dur_Wh_Est_Year']"
      ],
      "id": "45a0d539"
    },
    {
      "cell_type": "code",
      "execution_count": null,
      "metadata": {
        "colab": {
          "base_uri": "https://localhost:8080/",
          "height": 1000
        },
        "id": "3cd96d3c",
        "outputId": "fd7dc8d9-12ab-4314-a0c3-02f9d68a7d2e"
      },
      "outputs": [
        {
          "output_type": "display_data",
          "data": {
            "text/plain": [
              "<Figure size 1440x1440 with 1 Axes>"
            ],
            "image/png": "[encoded data removed]"
          },
          "metadata": {}
        }
      ],
      "source": [
        "df_num[outlier].boxplot(figsize=(20,20))\n",
        "plt.xticks(rotation=90)\n",
        "plt.show()"
      ],
      "id": "3cd96d3c"
    },
    {
      "cell_type": "code",
      "execution_count": null,
      "metadata": {
        "id": "712950f9"
      },
      "outputs": [],
      "source": [
        "def remove_outlier(col):\n",
        "    sorted(col)\n",
        "    Q1,Q3=np.percentile(col,[25,75])\n",
        "    IQR=Q3-Q1\n",
        "    lower_range= Q1-(1.5 * IQR)\n",
        "    upper_range= Q3+(1.5 * IQR)\n",
        "    return lower_range, upper_range"
      ],
      "id": "712950f9"
    },
    {
      "cell_type": "code",
      "execution_count": null,
      "metadata": {
        "colab": {
          "base_uri": "https://localhost:8080/"
        },
        "id": "f2cd21f7",
        "outputId": "7accf1b7-aa19-4bf9-e00f-ad89829a140f"
      },
      "outputs": [
        {
          "output_type": "stream",
          "name": "stdout",
          "text": [
            "Lower Range : -1.5 \n",
            "Upper Range : 2.5\n",
            "\n"
          ]
        },
        {
          "output_type": "stream",
          "name": "stderr",
          "text": [
            "<ipython-input-76-19af53b53e2e>:3: SettingWithCopyWarning: \n",
            "A value is trying to be set on a copy of a slice from a DataFrame.\n",
            "Try using .loc[row_indexer,col_indexer] = value instead\n",
            "\n",
            "See the caveats in the documentation: https://pandas.pydata.org/pandas-docs/stable/user_guide/indexing.html#returning-a-view-versus-a-copy\n",
            "  df_num['transport_issue']=np.where(df_num['transport_issue']>ur,ur,df_num['transport_issue'])\n",
            "<ipython-input-76-19af53b53e2e>:4: SettingWithCopyWarning: \n",
            "A value is trying to be set on a copy of a slice from a DataFrame.\n",
            "Try using .loc[row_indexer,col_indexer] = value instead\n",
            "\n",
            "See the caveats in the documentation: https://pandas.pydata.org/pandas-docs/stable/user_guide/indexing.html#returning-a-view-versus-a-copy\n",
            "  df_num['transport_issue']=np.where(df_num['transport_issue']<lr,lr,df_num['transport_issue'])\n"
          ]
        }
      ],
      "source": [
        "lr,ur=remove_outlier(df_num['transport_issue'])\n",
        "print('Lower Range :',lr,'\\nUpper Range :',ur)\n",
        "df_num['transport_issue']=np.where(df_num['transport_issue']>ur,ur,df_num['transport_issue'])\n",
        "df_num['transport_issue']=np.where(df_num['transport_issue']<lr,lr,df_num['transport_issue'])\n",
        "print('')\n"
      ],
      "id": "f2cd21f7"
    },
    {
      "cell_type": "code",
      "execution_count": null,
      "metadata": {
        "colab": {
          "base_uri": "https://localhost:8080/"
        },
        "id": "12a38903",
        "outputId": "10a0d62e-cfb3-4a3a-a096-55bb236a5566"
      },
      "outputs": [
        {
          "output_type": "stream",
          "name": "stdout",
          "text": [
            "Lower Range : -1.0 \n",
            "Upper Range : 7.0\n",
            "\n"
          ]
        },
        {
          "output_type": "stream",
          "name": "stderr",
          "text": [
            "<ipython-input-77-d9ed6b2912a4>:3: SettingWithCopyWarning: \n",
            "A value is trying to be set on a copy of a slice from a DataFrame.\n",
            "Try using .loc[row_indexer,col_indexer] = value instead\n",
            "\n",
            "See the caveats in the documentation: https://pandas.pydata.org/pandas-docs/stable/user_guide/indexing.html#returning-a-view-versus-a-copy\n",
            "  df_num['Competitor_in_mkt']=np.where(df_num['Competitor_in_mkt']>ur,ur,df_num['Competitor_in_mkt'])\n",
            "<ipython-input-77-d9ed6b2912a4>:4: SettingWithCopyWarning: \n",
            "A value is trying to be set on a copy of a slice from a DataFrame.\n",
            "Try using .loc[row_indexer,col_indexer] = value instead\n",
            "\n",
            "See the caveats in the documentation: https://pandas.pydata.org/pandas-docs/stable/user_guide/indexing.html#returning-a-view-versus-a-copy\n",
            "  df_num['Competitor_in_mkt']=np.where(df_num['Competitor_in_mkt']<lr,lr,df_num['Competitor_in_mkt'])\n"
          ]
        }
      ],
      "source": [
        "lr,ur=remove_outlier(df_num['Competitor_in_mkt'])\n",
        "print('Lower Range :',lr,'\\nUpper Range :',ur)\n",
        "df_num['Competitor_in_mkt']=np.where(df_num['Competitor_in_mkt']>ur,ur,df_num['Competitor_in_mkt'])\n",
        "df_num['Competitor_in_mkt']=np.where(df_num['Competitor_in_mkt']<lr,lr,df_num['Competitor_in_mkt'])\n",
        "print('')"
      ],
      "id": "12a38903"
    },
    {
      "cell_type": "code",
      "execution_count": null,
      "metadata": {
        "colab": {
          "base_uri": "https://localhost:8080/"
        },
        "id": "b9a6c451",
        "outputId": "ac8e1934-a9d9-4cd9-8bcc-918d2833c9cb"
      },
      "outputs": [
        {
          "output_type": "stream",
          "name": "stdout",
          "text": [
            "Lower Range : 2532.5 \n",
            "Upper Range : 7280.5\n",
            "\n"
          ]
        },
        {
          "output_type": "stream",
          "name": "stderr",
          "text": [
            "<ipython-input-78-20a60ba38077>:3: SettingWithCopyWarning: \n",
            "A value is trying to be set on a copy of a slice from a DataFrame.\n",
            "Try using .loc[row_indexer,col_indexer] = value instead\n",
            "\n",
            "See the caveats in the documentation: https://pandas.pydata.org/pandas-docs/stable/user_guide/indexing.html#returning-a-view-versus-a-copy\n",
            "  df_num['retail_shop_num']=np.where(df_num['retail_shop_num']>ur,ur,df_num['retail_shop_num'])\n",
            "<ipython-input-78-20a60ba38077>:4: SettingWithCopyWarning: \n",
            "A value is trying to be set on a copy of a slice from a DataFrame.\n",
            "Try using .loc[row_indexer,col_indexer] = value instead\n",
            "\n",
            "See the caveats in the documentation: https://pandas.pydata.org/pandas-docs/stable/user_guide/indexing.html#returning-a-view-versus-a-copy\n",
            "  df_num['retail_shop_num']=np.where(df_num['retail_shop_num']<lr,lr,df_num['retail_shop_num'])\n"
          ]
        }
      ],
      "source": [
        "lr,ur=remove_outlier(df_num['retail_shop_num'])\n",
        "print('Lower Range :',lr,'\\nUpper Range :',ur)\n",
        "df_num['retail_shop_num']=np.where(df_num['retail_shop_num']>ur,ur,df_num['retail_shop_num'])\n",
        "df_num['retail_shop_num']=np.where(df_num['retail_shop_num']<lr,lr,df_num['retail_shop_num'])\n",
        "print('')"
      ],
      "id": "b9a6c451"
    },
    {
      "cell_type": "code",
      "execution_count": null,
      "metadata": {
        "colab": {
          "base_uri": "https://localhost:8080/"
        },
        "id": "ad7d1c0b",
        "outputId": "36e63429-f946-430b-c785-a93593d182a7"
      },
      "outputs": [
        {
          "output_type": "stream",
          "name": "stdout",
          "text": [
            "Lower Range : 10.5 \n",
            "Upper Range : 46.5\n",
            "\n"
          ]
        },
        {
          "output_type": "stream",
          "name": "stderr",
          "text": [
            "<ipython-input-79-cc53fed26468>:3: SettingWithCopyWarning: \n",
            "A value is trying to be set on a copy of a slice from a DataFrame.\n",
            "Try using .loc[row_indexer,col_indexer] = value instead\n",
            "\n",
            "See the caveats in the documentation: https://pandas.pydata.org/pandas-docs/stable/user_guide/indexing.html#returning-a-view-versus-a-copy\n",
            "  df_num['workers_num']=np.where(df_num['workers_num']>ur,ur,df_num['workers_num'])\n",
            "<ipython-input-79-cc53fed26468>:4: SettingWithCopyWarning: \n",
            "A value is trying to be set on a copy of a slice from a DataFrame.\n",
            "Try using .loc[row_indexer,col_indexer] = value instead\n",
            "\n",
            "See the caveats in the documentation: https://pandas.pydata.org/pandas-docs/stable/user_guide/indexing.html#returning-a-view-versus-a-copy\n",
            "  df_num['workers_num']=np.where(df_num['workers_num']<lr,lr,df_num['workers_num'])\n"
          ]
        }
      ],
      "source": [
        "lr,ur=remove_outlier(df_num['workers_num'])\n",
        "print('Lower Range :',lr,'\\nUpper Range :',ur)\n",
        "df_num['workers_num']=np.where(df_num['workers_num']>ur,ur,df_num['workers_num'])\n",
        "df_num['workers_num']=np.where(df_num['workers_num']<lr,lr,df_num['workers_num'])\n",
        "print('')"
      ],
      "id": "ad7d1c0b"
    },
    {
      "cell_type": "code",
      "execution_count": null,
      "metadata": {
        "colab": {
          "base_uri": "https://localhost:8080/"
        },
        "id": "912e78eb",
        "outputId": "98bf90e0-7574-4bd9-8554-9d2a03133b60"
      },
      "outputs": [
        {
          "output_type": "stream",
          "name": "stdout",
          "text": [
            "Lower Range : 11.5 \n",
            "Upper Range : 15.5\n",
            "\n"
          ]
        },
        {
          "output_type": "stream",
          "name": "stderr",
          "text": [
            "<ipython-input-80-85f511993c6e>:3: SettingWithCopyWarning: \n",
            "A value is trying to be set on a copy of a slice from a DataFrame.\n",
            "Try using .loc[row_indexer,col_indexer] = value instead\n",
            "\n",
            "See the caveats in the documentation: https://pandas.pydata.org/pandas-docs/stable/user_guide/indexing.html#returning-a-view-versus-a-copy\n",
            "  df_num['Dur_Wh_Est_Year']=np.where(df_num['Dur_Wh_Est_Year']>ur,ur,df_num['Dur_Wh_Est_Year'])\n",
            "<ipython-input-80-85f511993c6e>:4: SettingWithCopyWarning: \n",
            "A value is trying to be set on a copy of a slice from a DataFrame.\n",
            "Try using .loc[row_indexer,col_indexer] = value instead\n",
            "\n",
            "See the caveats in the documentation: https://pandas.pydata.org/pandas-docs/stable/user_guide/indexing.html#returning-a-view-versus-a-copy\n",
            "  df_num['Dur_Wh_Est_Year']=np.where(df_num['Dur_Wh_Est_Year']<lr,lr,df_num['Dur_Wh_Est_Year'])\n"
          ]
        }
      ],
      "source": [
        "lr,ur=remove_outlier(df_num['Dur_Wh_Est_Year'])\n",
        "print('Lower Range :',lr,'\\nUpper Range :',ur)\n",
        "df_num['Dur_Wh_Est_Year']=np.where(df_num['Dur_Wh_Est_Year']>ur,ur,df_num['Dur_Wh_Est_Year'])\n",
        "df_num['Dur_Wh_Est_Year']=np.where(df_num['Dur_Wh_Est_Year']<lr,lr,df_num['Dur_Wh_Est_Year'])\n",
        "print('')"
      ],
      "id": "912e78eb"
    },
    {
      "cell_type": "code",
      "execution_count": null,
      "metadata": {
        "colab": {
          "base_uri": "https://localhost:8080/",
          "height": 231
        },
        "id": "yJ95pT8tcEQI",
        "outputId": "3b3baacd-b382-4f0a-b192-ae3c2330b760"
      },
      "outputs": [
        {
          "output_type": "execute_result",
          "data": {
            "text/plain": [
              "<matplotlib.axes._subplots.AxesSubplot at 0x7f2b92e46fd0>"
            ]
          },
          "metadata": {},
          "execution_count": 81
        },
        {
          "output_type": "display_data",
          "data": {
            "text/plain": [
              "<Figure size 1440x216 with 1 Axes>"
            ],
            "image/png": "[encoded data removed]"
          },
          "metadata": {}
        }
      ],
      "source": [
        "df_num.boxplot('Dur_Wh_Est_Year',figsize=(20,3))"
      ],
      "id": "yJ95pT8tcEQI"
    },
    {
      "cell_type": "code",
      "execution_count": null,
      "metadata": {
        "colab": {
          "base_uri": "https://localhost:8080/",
          "height": 1000
        },
        "id": "e895e1e6",
        "outputId": "ab06ae86-ddd2-4b45-c28c-82699416efb4"
      },
      "outputs": [
        {
          "output_type": "display_data",
          "data": {
            "text/plain": [
              "<Figure size 1440x1440 with 1 Axes>"
            ],
            "image/png": "[encoded data removed]"
          },
          "metadata": {}
        }
      ],
      "source": [
        "df_num[outlier].boxplot(figsize=(20,20))\n",
        "plt.xticks(rotation=90)\n",
        "plt.show()"
      ],
      "id": "e895e1e6"
    },
    {
      "cell_type": "code",
      "execution_count": null,
      "metadata": {
        "id": "10899ca8"
      },
      "outputs": [],
      "source": [
        "df = pd.concat([df_cat, df_num], axis=1)"
      ],
      "id": "10899ca8"
    },
    {
      "cell_type": "code",
      "execution_count": null,
      "metadata": {
        "id": "099689c8"
      },
      "outputs": [],
      "source": [
        "cat1=['Location_type','zone', 'WH_regional_zone',\n",
        "       'wh_owner_type']"
      ],
      "id": "099689c8"
    },
    {
      "cell_type": "code",
      "execution_count": null,
      "metadata": {
        "id": "ee160f4d"
      },
      "outputs": [],
      "source": [
        "df_new =pd.get_dummies(df, columns=cat1,drop_first=True)"
      ],
      "id": "ee160f4d"
    },
    {
      "cell_type": "code",
      "execution_count": null,
      "metadata": {
        "colab": {
          "base_uri": "https://localhost:8080/",
          "height": 505
        },
        "id": "38f58762",
        "outputId": "36eca9a1-8848-4d6d-c5e8-5b2424cd46b2"
      },
      "outputs": [
        {
          "output_type": "execute_result",
          "data": {
            "text/plain": [
              "      WH_capacity_size flood_impacted flood_proof electric_supply  \\\n",
              "0                Small              0           1               1   \n",
              "1                Large              0           0               1   \n",
              "2                  Mid              0           0               0   \n",
              "3                  Mid              0           0               0   \n",
              "4                Large              1           0               1   \n",
              "...                ...            ...         ...             ...   \n",
              "24995            Small              0           0               1   \n",
              "24996              Mid              0           0               1   \n",
              "24997            Large              1           0               1   \n",
              "24998            Small              0           0               1   \n",
              "24999              Mid              0           1               1   \n",
              "\n",
              "      temp_reg_mach approved_wh_govt_certificate  num_refill_req  \\\n",
              "0                 0                            A               3   \n",
              "1                 0                            A               0   \n",
              "2                 0                            A               1   \n",
              "3                 1                           A+               7   \n",
              "4                 0                            C               3   \n",
              "...             ...                          ...             ...   \n",
              "24995             1                            A               3   \n",
              "24996             0                            B               6   \n",
              "24997             0                           B+               7   \n",
              "24998             0                            A               1   \n",
              "24999             0                           B+               8   \n",
              "\n",
              "       transport_issue  Competitor_in_mkt  retail_shop_num  distributor_num  \\\n",
              "0                  1.0                2.0           4651.0               24   \n",
              "1                  0.0                4.0           6217.0               47   \n",
              "2                  0.0                4.0           4306.0               64   \n",
              "3                  2.5                2.0           6000.0               50   \n",
              "4                  1.0                2.0           4740.0               42   \n",
              "...                ...                ...              ...              ...   \n",
              "24995              0.0                4.0           5390.0               19   \n",
              "24996              0.0                4.0           4490.0               57   \n",
              "24997              0.0                2.0           5403.0               31   \n",
              "24998              0.0                2.0           7280.5               25   \n",
              "24999              2.0                4.0           5664.0               21   \n",
              "\n",
              "       dist_from_hub  workers_num  storage_issue_reported  wh_breakdown  \\\n",
              "0                 91         29.0                      13             5   \n",
              "1                210         31.0                       4             3   \n",
              "2                161         37.0                      17             6   \n",
              "3                103         21.0                      17             3   \n",
              "4                112         25.0                      18             6   \n",
              "...              ...          ...                     ...           ...   \n",
              "24995            142         34.0                      22             2   \n",
              "24996            130         28.0                      10             4   \n",
              "24997            147         28.0                      23             5   \n",
              "24998             60         25.0                      18             6   \n",
              "24999            239         39.0                       4             2   \n",
              "\n",
              "       govt_check  product_wg_ton  Dur_Wh_Est_Year  Location_type_Urban  \\\n",
              "0              15           17115             14.0                    1   \n",
              "1              17            5074             14.0                    0   \n",
              "2              22           23137             14.0                    0   \n",
              "3              27           22115             14.0                    0   \n",
              "4              24           24071             14.0                    0   \n",
              "...           ...             ...              ...                  ...   \n",
              "24995          30           32093             15.5                    0   \n",
              "24996          18           12114             11.5                    0   \n",
              "24997          25           27080             14.0                    1   \n",
              "24998          30           25093             14.0                    0   \n",
              "24999          11            5058             11.5                    0   \n",
              "\n",
              "       zone_North  zone_South  zone_West  WH_regional_zone_Zone 2  \\\n",
              "0               0           0          1                        0   \n",
              "1               1           0          0                        0   \n",
              "2               0           1          0                        1   \n",
              "3               1           0          0                        0   \n",
              "4               1           0          0                        0   \n",
              "...           ...         ...        ...                      ...   \n",
              "24995           1           0          0                        0   \n",
              "24996           0           0          1                        1   \n",
              "24997           0           1          0                        0   \n",
              "24998           1           0          0                        0   \n",
              "24999           0           0          1                        0   \n",
              "\n",
              "       WH_regional_zone_Zone 3  WH_regional_zone_Zone 4  \\\n",
              "0                            0                        0   \n",
              "1                            0                        0   \n",
              "2                            0                        0   \n",
              "3                            1                        0   \n",
              "4                            0                        0   \n",
              "...                        ...                      ...   \n",
              "24995                        0                        0   \n",
              "24996                        0                        0   \n",
              "24997                        0                        0   \n",
              "24998                        0                        0   \n",
              "24999                        0                        1   \n",
              "\n",
              "       WH_regional_zone_Zone 5  WH_regional_zone_Zone 6  wh_owner_type_Rented  \n",
              "0                            0                        1                     1  \n",
              "1                            1                        0                     0  \n",
              "2                            0                        0                     0  \n",
              "3                            0                        0                     1  \n",
              "4                            1                        0                     0  \n",
              "...                        ...                      ...                   ...  \n",
              "24995                        0                        0                     1  \n",
              "24996                        0                        0                     0  \n",
              "24997                        1                        0                     1  \n",
              "24998                        0                        0                     1  \n",
              "24999                        0                        0                     0  \n",
              "\n",
              "[25000 rows x 28 columns]"
            ],
            "text/html": [
              "\n",
              "  <div id=\"df-7c45f885-d6e5-4d16-89b7-6c0260322ad3\">\n",
              "    <div class=\"colab-df-container\">\n",
              "      <div>\n",
              "<style scoped>\n",
              "    .dataframe tbody tr th:only-of-type {\n",
              "        vertical-align: middle;\n",
              "    }\n",
              "\n",
              "    .dataframe tbody tr th {\n",
              "        vertical-align: top;\n",
              "    }\n",
              "\n",
              "    .dataframe thead th {\n",
              "        text-align: right;\n",
              "    }\n",
              "</style>\n",
              "<table border=\"1\" class=\"dataframe\">\n",
              "  <thead>\n",
              "    <tr style=\"text-align: right;\">\n",
              "      <th></th>\n",
              "      <th>WH_capacity_size</th>\n",
              "      <th>flood_impacted</th>\n",
              "      <th>flood_proof</th>\n",
              "      <th>electric_supply</th>\n",
              "      <th>temp_reg_mach</th>\n",
              "      <th>approved_wh_govt_certificate</th>\n",
              "      <th>num_refill_req</th>\n",
              "      <th>transport_issue</th>\n",
              "      <th>Competitor_in_mkt</th>\n",
              "      <th>retail_shop_num</th>\n",
              "      <th>distributor_num</th>\n",
              "      <th>dist_from_hub</th>\n",
              "      <th>workers_num</th>\n",
              "      <th>storage_issue_reported</th>\n",
              "      <th>wh_breakdown</th>\n",
              "      <th>govt_check</th>\n",
              "      <th>product_wg_ton</th>\n",
              "      <th>Dur_Wh_Est_Year</th>\n",
              "      <th>Location_type_Urban</th>\n",
              "      <th>zone_North</th>\n",
              "      <th>zone_South</th>\n",
              "      <th>zone_West</th>\n",
              "      <th>WH_regional_zone_Zone 2</th>\n",
              "      <th>WH_regional_zone_Zone 3</th>\n",
              "      <th>WH_regional_zone_Zone 4</th>\n",
              "      <th>WH_regional_zone_Zone 5</th>\n",
              "      <th>WH_regional_zone_Zone 6</th>\n",
              "      <th>wh_owner_type_Rented</th>\n",
              "    </tr>\n",
              "  </thead>\n",
              "  <tbody>\n",
              "    <tr>\n",
              "      <th>0</th>\n",
              "      <td>Small</td>\n",
              "      <td>0</td>\n",
              "      <td>1</td>\n",
              "      <td>1</td>\n",
              "      <td>0</td>\n",
              "      <td>A</td>\n",
              "      <td>3</td>\n",
              "      <td>1.0</td>\n",
              "      <td>2.0</td>\n",
              "      <td>4651.0</td>\n",
              "      <td>24</td>\n",
              "      <td>91</td>\n",
              "      <td>29.0</td>\n",
              "      <td>13</td>\n",
              "      <td>5</td>\n",
              "      <td>15</td>\n",
              "      <td>17115</td>\n",
              "      <td>14.0</td>\n",
              "      <td>1</td>\n",
              "      <td>0</td>\n",
              "      <td>0</td>\n",
              "      <td>1</td>\n",
              "      <td>0</td>\n",
              "      <td>0</td>\n",
              "      <td>0</td>\n",
              "      <td>0</td>\n",
              "      <td>1</td>\n",
              "      <td>1</td>\n",
              "    </tr>\n",
              "    <tr>\n",
              "      <th>1</th>\n",
              "      <td>Large</td>\n",
              "      <td>0</td>\n",
              "      <td>0</td>\n",
              "      <td>1</td>\n",
              "      <td>0</td>\n",
              "      <td>A</td>\n",
              "      <td>0</td>\n",
              "      <td>0.0</td>\n",
              "      <td>4.0</td>\n",
              "      <td>6217.0</td>\n",
              "      <td>47</td>\n",
              "      <td>210</td>\n",
              "      <td>31.0</td>\n",
              "      <td>4</td>\n",
              "      <td>3</td>\n",
              "      <td>17</td>\n",
              "      <td>5074</td>\n",
              "      <td>14.0</td>\n",
              "      <td>0</td>\n",
              "      <td>1</td>\n",
              "      <td>0</td>\n",
              "      <td>0</td>\n",
              "      <td>0</td>\n",
              "      <td>0</td>\n",
              "      <td>0</td>\n",
              "      <td>1</td>\n",
              "      <td>0</td>\n",
              "      <td>0</td>\n",
              "    </tr>\n",
              "    <tr>\n",
              "      <th>2</th>\n",
              "      <td>Mid</td>\n",
              "      <td>0</td>\n",
              "      <td>0</td>\n",
              "      <td>0</td>\n",
              "      <td>0</td>\n",
              "      <td>A</td>\n",
              "      <td>1</td>\n",
              "      <td>0.0</td>\n",
              "      <td>4.0</td>\n",
              "      <td>4306.0</td>\n",
              "      <td>64</td>\n",
              "      <td>161</td>\n",
              "      <td>37.0</td>\n",
              "      <td>17</td>\n",
              "      <td>6</td>\n",
              "      <td>22</td>\n",
              "      <td>23137</td>\n",
              "      <td>14.0</td>\n",
              "      <td>0</td>\n",
              "      <td>0</td>\n",
              "      <td>1</td>\n",
              "      <td>0</td>\n",
              "      <td>1</td>\n",
              "      <td>0</td>\n",
              "      <td>0</td>\n",
              "      <td>0</td>\n",
              "      <td>0</td>\n",
              "      <td>0</td>\n",
              "    </tr>\n",
              "    <tr>\n",
              "      <th>3</th>\n",
              "      <td>Mid</td>\n",
              "      <td>0</td>\n",
              "      <td>0</td>\n",
              "      <td>0</td>\n",
              "      <td>1</td>\n",
              "      <td>A+</td>\n",
              "      <td>7</td>\n",
              "      <td>2.5</td>\n",
              "      <td>2.0</td>\n",
              "      <td>6000.0</td>\n",
              "      <td>50</td>\n",
              "      <td>103</td>\n",
              "      <td>21.0</td>\n",
              "      <td>17</td>\n",
              "      <td>3</td>\n",
              "      <td>27</td>\n",
              "      <td>22115</td>\n",
              "      <td>14.0</td>\n",
              "      <td>0</td>\n",
              "      <td>1</td>\n",
              "      <td>0</td>\n",
              "      <td>0</td>\n",
              "      <td>0</td>\n",
              "      <td>1</td>\n",
              "      <td>0</td>\n",
              "      <td>0</td>\n",
              "      <td>0</td>\n",
              "      <td>1</td>\n",
              "    </tr>\n",
              "    <tr>\n",
              "      <th>4</th>\n",
              "      <td>Large</td>\n",
              "      <td>1</td>\n",
              "      <td>0</td>\n",
              "      <td>1</td>\n",
              "      <td>0</td>\n",
              "      <td>C</td>\n",
              "      <td>3</td>\n",
              "      <td>1.0</td>\n",
              "      <td>2.0</td>\n",
              "      <td>4740.0</td>\n",
              "      <td>42</td>\n",
              "      <td>112</td>\n",
              "      <td>25.0</td>\n",
              "      <td>18</td>\n",
              "      <td>6</td>\n",
              "      <td>24</td>\n",
              "      <td>24071</td>\n",
              "      <td>14.0</td>\n",
              "      <td>0</td>\n",
              "      <td>1</td>\n",
              "      <td>0</td>\n",
              "      <td>0</td>\n",
              "      <td>0</td>\n",
              "      <td>0</td>\n",
              "      <td>0</td>\n",
              "      <td>1</td>\n",
              "      <td>0</td>\n",
              "      <td>0</td>\n",
              "    </tr>\n",
              "    <tr>\n",
              "      <th>...</th>\n",
              "      <td>...</td>\n",
              "      <td>...</td>\n",
              "      <td>...</td>\n",
              "      <td>...</td>\n",
              "      <td>...</td>\n",
              "      <td>...</td>\n",
              "      <td>...</td>\n",
              "      <td>...</td>\n",
              "      <td>...</td>\n",
              "      <td>...</td>\n",
              "      <td>...</td>\n",
              "      <td>...</td>\n",
              "      <td>...</td>\n",
              "      <td>...</td>\n",
              "      <td>...</td>\n",
              "      <td>...</td>\n",
              "      <td>...</td>\n",
              "      <td>...</td>\n",
              "      <td>...</td>\n",
              "      <td>...</td>\n",
              "      <td>...</td>\n",
              "      <td>...</td>\n",
              "      <td>...</td>\n",
              "      <td>...</td>\n",
              "      <td>...</td>\n",
              "      <td>...</td>\n",
              "      <td>...</td>\n",
              "      <td>...</td>\n",
              "    </tr>\n",
              "    <tr>\n",
              "      <th>24995</th>\n",
              "      <td>Small</td>\n",
              "      <td>0</td>\n",
              "      <td>0</td>\n",
              "      <td>1</td>\n",
              "      <td>1</td>\n",
              "      <td>A</td>\n",
              "      <td>3</td>\n",
              "      <td>0.0</td>\n",
              "      <td>4.0</td>\n",
              "      <td>5390.0</td>\n",
              "      <td>19</td>\n",
              "      <td>142</td>\n",
              "      <td>34.0</td>\n",
              "      <td>22</td>\n",
              "      <td>2</td>\n",
              "      <td>30</td>\n",
              "      <td>32093</td>\n",
              "      <td>15.5</td>\n",
              "      <td>0</td>\n",
              "      <td>1</td>\n",
              "      <td>0</td>\n",
              "      <td>0</td>\n",
              "      <td>0</td>\n",
              "      <td>0</td>\n",
              "      <td>0</td>\n",
              "      <td>0</td>\n",
              "      <td>0</td>\n",
              "      <td>1</td>\n",
              "    </tr>\n",
              "    <tr>\n",
              "      <th>24996</th>\n",
              "      <td>Mid</td>\n",
              "      <td>0</td>\n",
              "      <td>0</td>\n",
              "      <td>1</td>\n",
              "      <td>0</td>\n",
              "      <td>B</td>\n",
              "      <td>6</td>\n",
              "      <td>0.0</td>\n",
              "      <td>4.0</td>\n",
              "      <td>4490.0</td>\n",
              "      <td>57</td>\n",
              "      <td>130</td>\n",
              "      <td>28.0</td>\n",
              "      <td>10</td>\n",
              "      <td>4</td>\n",
              "      <td>18</td>\n",
              "      <td>12114</td>\n",
              "      <td>11.5</td>\n",
              "      <td>0</td>\n",
              "      <td>0</td>\n",
              "      <td>0</td>\n",
              "      <td>1</td>\n",
              "      <td>1</td>\n",
              "      <td>0</td>\n",
              "      <td>0</td>\n",
              "      <td>0</td>\n",
              "      <td>0</td>\n",
              "      <td>0</td>\n",
              "    </tr>\n",
              "    <tr>\n",
              "      <th>24997</th>\n",
              "      <td>Large</td>\n",
              "      <td>1</td>\n",
              "      <td>0</td>\n",
              "      <td>1</td>\n",
              "      <td>0</td>\n",
              "      <td>B+</td>\n",
              "      <td>7</td>\n",
              "      <td>0.0</td>\n",
              "      <td>2.0</td>\n",
              "      <td>5403.0</td>\n",
              "      <td>31</td>\n",
              "      <td>147</td>\n",
              "      <td>28.0</td>\n",
              "      <td>23</td>\n",
              "      <td>5</td>\n",
              "      <td>25</td>\n",
              "      <td>27080</td>\n",
              "      <td>14.0</td>\n",
              "      <td>1</td>\n",
              "      <td>0</td>\n",
              "      <td>1</td>\n",
              "      <td>0</td>\n",
              "      <td>0</td>\n",
              "      <td>0</td>\n",
              "      <td>0</td>\n",
              "      <td>1</td>\n",
              "      <td>0</td>\n",
              "      <td>1</td>\n",
              "    </tr>\n",
              "    <tr>\n",
              "      <th>24998</th>\n",
              "      <td>Small</td>\n",
              "      <td>0</td>\n",
              "      <td>0</td>\n",
              "      <td>1</td>\n",
              "      <td>0</td>\n",
              "      <td>A</td>\n",
              "      <td>1</td>\n",
              "      <td>0.0</td>\n",
              "      <td>2.0</td>\n",
              "      <td>7280.5</td>\n",
              "      <td>25</td>\n",
              "      <td>60</td>\n",
              "      <td>25.0</td>\n",
              "      <td>18</td>\n",
              "      <td>6</td>\n",
              "      <td>30</td>\n",
              "      <td>25093</td>\n",
              "      <td>14.0</td>\n",
              "      <td>0</td>\n",
              "      <td>1</td>\n",
              "      <td>0</td>\n",
              "      <td>0</td>\n",
              "      <td>0</td>\n",
              "      <td>0</td>\n",
              "      <td>0</td>\n",
              "      <td>0</td>\n",
              "      <td>0</td>\n",
              "      <td>1</td>\n",
              "    </tr>\n",
              "    <tr>\n",
              "      <th>24999</th>\n",
              "      <td>Mid</td>\n",
              "      <td>0</td>\n",
              "      <td>1</td>\n",
              "      <td>1</td>\n",
              "      <td>0</td>\n",
              "      <td>B+</td>\n",
              "      <td>8</td>\n",
              "      <td>2.0</td>\n",
              "      <td>4.0</td>\n",
              "      <td>5664.0</td>\n",
              "      <td>21</td>\n",
              "      <td>239</td>\n",
              "      <td>39.0</td>\n",
              "      <td>4</td>\n",
              "      <td>2</td>\n",
              "      <td>11</td>\n",
              "      <td>5058</td>\n",
              "      <td>11.5</td>\n",
              "      <td>0</td>\n",
              "      <td>0</td>\n",
              "      <td>0</td>\n",
              "      <td>1</td>\n",
              "      <td>0</td>\n",
              "      <td>0</td>\n",
              "      <td>1</td>\n",
              "      <td>0</td>\n",
              "      <td>0</td>\n",
              "      <td>0</td>\n",
              "    </tr>\n",
              "  </tbody>\n",
              "</table>\n",
              "<p>25000 rows × 28 columns</p>\n",
              "</div>\n",
              "      <button class=\"colab-df-convert\" onclick=\"convertToInteractive('df-7c45f885-d6e5-4d16-89b7-6c0260322ad3')\"\n",
              "              title=\"Convert this dataframe to an interactive table.\"\n",
              "              style=\"display:none;\">\n",
              "        \n",
              "  <svg xmlns=\"http://www.w3.org/2000/svg\" height=\"24px\"viewBox=\"0 0 24 24\"\n",
              "       width=\"24px\">\n",
              "    <path d=\"M0 0h24v24H0V0z\" fill=\"none\"/>\n",
              "    <path d=\"M18.56 5.44l.94 2.06.94-2.06 2.06-.94-2.06-.94-.94-2.06-.94 2.06-2.06.94zm-11 1L8.5 8.5l.94-2.06 2.06-.94-2.06-.94L8.5 2.5l-.94 2.06-2.06.94zm10 10l.94 2.06.94-2.06 2.06-.94-2.06-.94-.94-2.06-.94 2.06-2.06.94z\"/><path d=\"M17.41 7.96l-1.37-1.37c-.4-.4-.92-.59-1.43-.59-.52 0-1.04.2-1.43.59L10.3 9.45l-7.72 7.72c-.78.78-.78 2.05 0 2.83L4 21.41c.39.39.9.59 1.41.59.51 0 1.02-.2 1.41-.59l7.78-7.78 2.81-2.81c.8-.78.8-2.07 0-2.86zM5.41 20L4 18.59l7.72-7.72 1.47 1.35L5.41 20z\"/>\n",
              "  </svg>\n",
              "      </button>\n",
              "      \n",
              "  <style>\n",
              "    .colab-df-container {\n",
              "      display:flex;\n",
              "      flex-wrap:wrap;\n",
              "      gap: 12px;\n",
              "    }\n",
              "\n",
              "    .colab-df-convert {\n",
              "      background-color: #E8F0FE;\n",
              "      border: none;\n",
              "      border-radius: 50%;\n",
              "      cursor: pointer;\n",
              "      display: none;\n",
              "      fill: #1967D2;\n",
              "      height: 32px;\n",
              "      padding: 0 0 0 0;\n",
              "      width: 32px;\n",
              "    }\n",
              "\n",
              "    .colab-df-convert:hover {\n",
              "      background-color: #E2EBFA;\n",
              "      box-shadow: 0px 1px 2px rgba(60, 64, 67, 0.3), 0px 1px 3px 1px rgba(60, 64, 67, 0.15);\n",
              "      fill: #174EA6;\n",
              "    }\n",
              "\n",
              "    [theme=dark] .colab-df-convert {\n",
              "      background-color: #3B4455;\n",
              "      fill: #D2E3FC;\n",
              "    }\n",
              "\n",
              "    [theme=dark] .colab-df-convert:hover {\n",
              "      background-color: #434B5C;\n",
              "      box-shadow: 0px 1px 3px 1px rgba(0, 0, 0, 0.15);\n",
              "      filter: drop-shadow(0px 1px 2px rgba(0, 0, 0, 0.3));\n",
              "      fill: #FFFFFF;\n",
              "    }\n",
              "  </style>\n",
              "\n",
              "      <script>\n",
              "        const buttonEl =\n",
              "          document.querySelector('#df-7c45f885-d6e5-4d16-89b7-6c0260322ad3 button.colab-df-convert');\n",
              "        buttonEl.style.display =\n",
              "          google.colab.kernel.accessAllowed ? 'block' : 'none';\n",
              "\n",
              "        async function convertToInteractive(key) {\n",
              "          const element = document.querySelector('#df-7c45f885-d6e5-4d16-89b7-6c0260322ad3');\n",
              "          const dataTable =\n",
              "            await google.colab.kernel.invokeFunction('convertToInteractive',\n",
              "                                                     [key], {});\n",
              "          if (!dataTable) return;\n",
              "\n",
              "          const docLinkHtml = 'Like what you see? Visit the ' +\n",
              "            '<a target=\"_blank\" href=https://colab.research.google.com/notebooks/data_table.ipynb>data table notebook</a>'\n",
              "            + ' to learn more about interactive tables.';\n",
              "          element.innerHTML = '';\n",
              "          dataTable['output_type'] = 'display_data';\n",
              "          await google.colab.output.renderOutput(dataTable, element);\n",
              "          const docLink = document.createElement('div');\n",
              "          docLink.innerHTML = docLinkHtml;\n",
              "          element.appendChild(docLink);\n",
              "        }\n",
              "      </script>\n",
              "    </div>\n",
              "  </div>\n",
              "  "
            ]
          },
          "metadata": {},
          "execution_count": 86
        }
      ],
      "source": [
        "df_new"
      ],
      "id": "38f58762"
    },
    {
      "cell_type": "code",
      "execution_count": null,
      "metadata": {
        "id": "d438eebb"
      },
      "outputs": [],
      "source": [
        "df_new['WH_capacity_size']=df_new['WH_capacity_size'].replace('Small',0)\n",
        "df_new['WH_capacity_size']=df_new['WH_capacity_size'].replace('Mid',1)\n",
        "df_new['WH_capacity_size']=df_new['WH_capacity_size'].replace('Large',2)"
      ],
      "id": "d438eebb"
    },
    {
      "cell_type": "code",
      "execution_count": null,
      "metadata": {
        "id": "0dafa400"
      },
      "outputs": [],
      "source": [
        "df_new['approved_wh_govt_certificate']=df_new['approved_wh_govt_certificate'].replace('A+',5)\n",
        "df_new['approved_wh_govt_certificate']=df_new['approved_wh_govt_certificate'].replace('A',4)\n",
        "df_new['approved_wh_govt_certificate']=df_new['approved_wh_govt_certificate'].replace('B+',3)\n",
        "df_new['approved_wh_govt_certificate']=df_new['approved_wh_govt_certificate'].replace('B',2)\n",
        "df_new['approved_wh_govt_certificate']=df_new['approved_wh_govt_certificate'].replace('C',1)"
      ],
      "id": "0dafa400"
    },
    {
      "cell_type": "code",
      "execution_count": null,
      "metadata": {
        "colab": {
          "base_uri": "https://localhost:8080/",
          "height": 288
        },
        "id": "fa9fa291",
        "outputId": "52860eef-23b5-406c-e110-66f2a2c07d49"
      },
      "outputs": [
        {
          "output_type": "execute_result",
          "data": {
            "text/plain": [
              "   WH_capacity_size flood_impacted flood_proof electric_supply temp_reg_mach  \\\n",
              "0                 0              0           1               1             0   \n",
              "1                 2              0           0               1             0   \n",
              "2                 1              0           0               0             0   \n",
              "3                 1              0           0               0             1   \n",
              "4                 2              1           0               1             0   \n",
              "\n",
              "   approved_wh_govt_certificate  num_refill_req  transport_issue  \\\n",
              "0                             4               3              1.0   \n",
              "1                             4               0              0.0   \n",
              "2                             4               1              0.0   \n",
              "3                             5               7              2.5   \n",
              "4                             1               3              1.0   \n",
              "\n",
              "   Competitor_in_mkt  retail_shop_num  distributor_num  dist_from_hub  \\\n",
              "0                2.0           4651.0               24             91   \n",
              "1                4.0           6217.0               47            210   \n",
              "2                4.0           4306.0               64            161   \n",
              "3                2.0           6000.0               50            103   \n",
              "4                2.0           4740.0               42            112   \n",
              "\n",
              "   workers_num  storage_issue_reported  wh_breakdown  govt_check  \\\n",
              "0         29.0                      13             5          15   \n",
              "1         31.0                       4             3          17   \n",
              "2         37.0                      17             6          22   \n",
              "3         21.0                      17             3          27   \n",
              "4         25.0                      18             6          24   \n",
              "\n",
              "   product_wg_ton  Dur_Wh_Est_Year  Location_type_Urban  zone_North  \\\n",
              "0           17115             14.0                    1           0   \n",
              "1            5074             14.0                    0           1   \n",
              "2           23137             14.0                    0           0   \n",
              "3           22115             14.0                    0           1   \n",
              "4           24071             14.0                    0           1   \n",
              "\n",
              "   zone_South  zone_West  WH_regional_zone_Zone 2  WH_regional_zone_Zone 3  \\\n",
              "0           0          1                        0                        0   \n",
              "1           0          0                        0                        0   \n",
              "2           1          0                        1                        0   \n",
              "3           0          0                        0                        1   \n",
              "4           0          0                        0                        0   \n",
              "\n",
              "   WH_regional_zone_Zone 4  WH_regional_zone_Zone 5  WH_regional_zone_Zone 6  \\\n",
              "0                        0                        0                        1   \n",
              "1                        0                        1                        0   \n",
              "2                        0                        0                        0   \n",
              "3                        0                        0                        0   \n",
              "4                        0                        1                        0   \n",
              "\n",
              "   wh_owner_type_Rented  \n",
              "0                     1  \n",
              "1                     0  \n",
              "2                     0  \n",
              "3                     1  \n",
              "4                     0  "
            ],
            "text/html": [
              "\n",
              "  <div id=\"df-a9c52c07-6907-4ee7-bc54-e009332cd123\">\n",
              "    <div class=\"colab-df-container\">\n",
              "      <div>\n",
              "<style scoped>\n",
              "    .dataframe tbody tr th:only-of-type {\n",
              "        vertical-align: middle;\n",
              "    }\n",
              "\n",
              "    .dataframe tbody tr th {\n",
              "        vertical-align: top;\n",
              "    }\n",
              "\n",
              "    .dataframe thead th {\n",
              "        text-align: right;\n",
              "    }\n",
              "</style>\n",
              "<table border=\"1\" class=\"dataframe\">\n",
              "  <thead>\n",
              "    <tr style=\"text-align: right;\">\n",
              "      <th></th>\n",
              "      <th>WH_capacity_size</th>\n",
              "      <th>flood_impacted</th>\n",
              "      <th>flood_proof</th>\n",
              "      <th>electric_supply</th>\n",
              "      <th>temp_reg_mach</th>\n",
              "      <th>approved_wh_govt_certificate</th>\n",
              "      <th>num_refill_req</th>\n",
              "      <th>transport_issue</th>\n",
              "      <th>Competitor_in_mkt</th>\n",
              "      <th>retail_shop_num</th>\n",
              "      <th>distributor_num</th>\n",
              "      <th>dist_from_hub</th>\n",
              "      <th>workers_num</th>\n",
              "      <th>storage_issue_reported</th>\n",
              "      <th>wh_breakdown</th>\n",
              "      <th>govt_check</th>\n",
              "      <th>product_wg_ton</th>\n",
              "      <th>Dur_Wh_Est_Year</th>\n",
              "      <th>Location_type_Urban</th>\n",
              "      <th>zone_North</th>\n",
              "      <th>zone_South</th>\n",
              "      <th>zone_West</th>\n",
              "      <th>WH_regional_zone_Zone 2</th>\n",
              "      <th>WH_regional_zone_Zone 3</th>\n",
              "      <th>WH_regional_zone_Zone 4</th>\n",
              "      <th>WH_regional_zone_Zone 5</th>\n",
              "      <th>WH_regional_zone_Zone 6</th>\n",
              "      <th>wh_owner_type_Rented</th>\n",
              "    </tr>\n",
              "  </thead>\n",
              "  <tbody>\n",
              "    <tr>\n",
              "      <th>0</th>\n",
              "      <td>0</td>\n",
              "      <td>0</td>\n",
              "      <td>1</td>\n",
              "      <td>1</td>\n",
              "      <td>0</td>\n",
              "      <td>4</td>\n",
              "      <td>3</td>\n",
              "      <td>1.0</td>\n",
              "      <td>2.0</td>\n",
              "      <td>4651.0</td>\n",
              "      <td>24</td>\n",
              "      <td>91</td>\n",
              "      <td>29.0</td>\n",
              "      <td>13</td>\n",
              "      <td>5</td>\n",
              "      <td>15</td>\n",
              "      <td>17115</td>\n",
              "      <td>14.0</td>\n",
              "      <td>1</td>\n",
              "      <td>0</td>\n",
              "      <td>0</td>\n",
              "      <td>1</td>\n",
              "      <td>0</td>\n",
              "      <td>0</td>\n",
              "      <td>0</td>\n",
              "      <td>0</td>\n",
              "      <td>1</td>\n",
              "      <td>1</td>\n",
              "    </tr>\n",
              "    <tr>\n",
              "      <th>1</th>\n",
              "      <td>2</td>\n",
              "      <td>0</td>\n",
              "      <td>0</td>\n",
              "      <td>1</td>\n",
              "      <td>0</td>\n",
              "      <td>4</td>\n",
              "      <td>0</td>\n",
              "      <td>0.0</td>\n",
              "      <td>4.0</td>\n",
              "      <td>6217.0</td>\n",
              "      <td>47</td>\n",
              "      <td>210</td>\n",
              "      <td>31.0</td>\n",
              "      <td>4</td>\n",
              "      <td>3</td>\n",
              "      <td>17</td>\n",
              "      <td>5074</td>\n",
              "      <td>14.0</td>\n",
              "      <td>0</td>\n",
              "      <td>1</td>\n",
              "      <td>0</td>\n",
              "      <td>0</td>\n",
              "      <td>0</td>\n",
              "      <td>0</td>\n",
              "      <td>0</td>\n",
              "      <td>1</td>\n",
              "      <td>0</td>\n",
              "      <td>0</td>\n",
              "    </tr>\n",
              "    <tr>\n",
              "      <th>2</th>\n",
              "      <td>1</td>\n",
              "      <td>0</td>\n",
              "      <td>0</td>\n",
              "      <td>0</td>\n",
              "      <td>0</td>\n",
              "      <td>4</td>\n",
              "      <td>1</td>\n",
              "      <td>0.0</td>\n",
              "      <td>4.0</td>\n",
              "      <td>4306.0</td>\n",
              "      <td>64</td>\n",
              "      <td>161</td>\n",
              "      <td>37.0</td>\n",
              "      <td>17</td>\n",
              "      <td>6</td>\n",
              "      <td>22</td>\n",
              "      <td>23137</td>\n",
              "      <td>14.0</td>\n",
              "      <td>0</td>\n",
              "      <td>0</td>\n",
              "      <td>1</td>\n",
              "      <td>0</td>\n",
              "      <td>1</td>\n",
              "      <td>0</td>\n",
              "      <td>0</td>\n",
              "      <td>0</td>\n",
              "      <td>0</td>\n",
              "      <td>0</td>\n",
              "    </tr>\n",
              "    <tr>\n",
              "      <th>3</th>\n",
              "      <td>1</td>\n",
              "      <td>0</td>\n",
              "      <td>0</td>\n",
              "      <td>0</td>\n",
              "      <td>1</td>\n",
              "      <td>5</td>\n",
              "      <td>7</td>\n",
              "      <td>2.5</td>\n",
              "      <td>2.0</td>\n",
              "      <td>6000.0</td>\n",
              "      <td>50</td>\n",
              "      <td>103</td>\n",
              "      <td>21.0</td>\n",
              "      <td>17</td>\n",
              "      <td>3</td>\n",
              "      <td>27</td>\n",
              "      <td>22115</td>\n",
              "      <td>14.0</td>\n",
              "      <td>0</td>\n",
              "      <td>1</td>\n",
              "      <td>0</td>\n",
              "      <td>0</td>\n",
              "      <td>0</td>\n",
              "      <td>1</td>\n",
              "      <td>0</td>\n",
              "      <td>0</td>\n",
              "      <td>0</td>\n",
              "      <td>1</td>\n",
              "    </tr>\n",
              "    <tr>\n",
              "      <th>4</th>\n",
              "      <td>2</td>\n",
              "      <td>1</td>\n",
              "      <td>0</td>\n",
              "      <td>1</td>\n",
              "      <td>0</td>\n",
              "      <td>1</td>\n",
              "      <td>3</td>\n",
              "      <td>1.0</td>\n",
              "      <td>2.0</td>\n",
              "      <td>4740.0</td>\n",
              "      <td>42</td>\n",
              "      <td>112</td>\n",
              "      <td>25.0</td>\n",
              "      <td>18</td>\n",
              "      <td>6</td>\n",
              "      <td>24</td>\n",
              "      <td>24071</td>\n",
              "      <td>14.0</td>\n",
              "      <td>0</td>\n",
              "      <td>1</td>\n",
              "      <td>0</td>\n",
              "      <td>0</td>\n",
              "      <td>0</td>\n",
              "      <td>0</td>\n",
              "      <td>0</td>\n",
              "      <td>1</td>\n",
              "      <td>0</td>\n",
              "      <td>0</td>\n",
              "    </tr>\n",
              "  </tbody>\n",
              "</table>\n",
              "</div>\n",
              "      <button class=\"colab-df-convert\" onclick=\"convertToInteractive('df-a9c52c07-6907-4ee7-bc54-e009332cd123')\"\n",
              "              title=\"Convert this dataframe to an interactive table.\"\n",
              "              style=\"display:none;\">\n",
              "        \n",
              "  <svg xmlns=\"http://www.w3.org/2000/svg\" height=\"24px\"viewBox=\"0 0 24 24\"\n",
              "       width=\"24px\">\n",
              "    <path d=\"M0 0h24v24H0V0z\" fill=\"none\"/>\n",
              "    <path d=\"M18.56 5.44l.94 2.06.94-2.06 2.06-.94-2.06-.94-.94-2.06-.94 2.06-2.06.94zm-11 1L8.5 8.5l.94-2.06 2.06-.94-2.06-.94L8.5 2.5l-.94 2.06-2.06.94zm10 10l.94 2.06.94-2.06 2.06-.94-2.06-.94-.94-2.06-.94 2.06-2.06.94z\"/><path d=\"M17.41 7.96l-1.37-1.37c-.4-.4-.92-.59-1.43-.59-.52 0-1.04.2-1.43.59L10.3 9.45l-7.72 7.72c-.78.78-.78 2.05 0 2.83L4 21.41c.39.39.9.59 1.41.59.51 0 1.02-.2 1.41-.59l7.78-7.78 2.81-2.81c.8-.78.8-2.07 0-2.86zM5.41 20L4 18.59l7.72-7.72 1.47 1.35L5.41 20z\"/>\n",
              "  </svg>\n",
              "      </button>\n",
              "      \n",
              "  <style>\n",
              "    .colab-df-container {\n",
              "      display:flex;\n",
              "      flex-wrap:wrap;\n",
              "      gap: 12px;\n",
              "    }\n",
              "\n",
              "    .colab-df-convert {\n",
              "      background-color: #E8F0FE;\n",
              "      border: none;\n",
              "      border-radius: 50%;\n",
              "      cursor: pointer;\n",
              "      display: none;\n",
              "      fill: #1967D2;\n",
              "      height: 32px;\n",
              "      padding: 0 0 0 0;\n",
              "      width: 32px;\n",
              "    }\n",
              "\n",
              "    .colab-df-convert:hover {\n",
              "      background-color: #E2EBFA;\n",
              "      box-shadow: 0px 1px 2px rgba(60, 64, 67, 0.3), 0px 1px 3px 1px rgba(60, 64, 67, 0.15);\n",
              "      fill: #174EA6;\n",
              "    }\n",
              "\n",
              "    [theme=dark] .colab-df-convert {\n",
              "      background-color: #3B4455;\n",
              "      fill: #D2E3FC;\n",
              "    }\n",
              "\n",
              "    [theme=dark] .colab-df-convert:hover {\n",
              "      background-color: #434B5C;\n",
              "      box-shadow: 0px 1px 3px 1px rgba(0, 0, 0, 0.15);\n",
              "      filter: drop-shadow(0px 1px 2px rgba(0, 0, 0, 0.3));\n",
              "      fill: #FFFFFF;\n",
              "    }\n",
              "  </style>\n",
              "\n",
              "      <script>\n",
              "        const buttonEl =\n",
              "          document.querySelector('#df-a9c52c07-6907-4ee7-bc54-e009332cd123 button.colab-df-convert');\n",
              "        buttonEl.style.display =\n",
              "          google.colab.kernel.accessAllowed ? 'block' : 'none';\n",
              "\n",
              "        async function convertToInteractive(key) {\n",
              "          const element = document.querySelector('#df-a9c52c07-6907-4ee7-bc54-e009332cd123');\n",
              "          const dataTable =\n",
              "            await google.colab.kernel.invokeFunction('convertToInteractive',\n",
              "                                                     [key], {});\n",
              "          if (!dataTable) return;\n",
              "\n",
              "          const docLinkHtml = 'Like what you see? Visit the ' +\n",
              "            '<a target=\"_blank\" href=https://colab.research.google.com/notebooks/data_table.ipynb>data table notebook</a>'\n",
              "            + ' to learn more about interactive tables.';\n",
              "          element.innerHTML = '';\n",
              "          dataTable['output_type'] = 'display_data';\n",
              "          await google.colab.output.renderOutput(dataTable, element);\n",
              "          const docLink = document.createElement('div');\n",
              "          docLink.innerHTML = docLinkHtml;\n",
              "          element.appendChild(docLink);\n",
              "        }\n",
              "      </script>\n",
              "    </div>\n",
              "  </div>\n",
              "  "
            ]
          },
          "metadata": {},
          "execution_count": 89
        }
      ],
      "source": [
        "df_new.head()"
      ],
      "id": "fa9fa291"
    },
    {
      "cell_type": "code",
      "execution_count": null,
      "metadata": {
        "colab": {
          "base_uri": "https://localhost:8080/"
        },
        "id": "2f897570",
        "outputId": "ef526bf8-e48d-4e34-e0f9-6ae1813798b0"
      },
      "outputs": [
        {
          "output_type": "execute_result",
          "data": {
            "text/plain": [
              "Index(['WH_capacity_size', 'flood_impacted', 'flood_proof', 'electric_supply',\n",
              "       'temp_reg_mach', 'approved_wh_govt_certificate', 'num_refill_req',\n",
              "       'transport_issue', 'Competitor_in_mkt', 'retail_shop_num',\n",
              "       'distributor_num', 'dist_from_hub', 'workers_num',\n",
              "       'storage_issue_reported', 'wh_breakdown', 'govt_check',\n",
              "       'product_wg_ton', 'Dur_Wh_Est_Year', 'Location_type_Urban',\n",
              "       'zone_North', 'zone_South', 'zone_West', 'WH_regional_zone_Zone 2',\n",
              "       'WH_regional_zone_Zone 3', 'WH_regional_zone_Zone 4',\n",
              "       'WH_regional_zone_Zone 5', 'WH_regional_zone_Zone 6',\n",
              "       'wh_owner_type_Rented'],\n",
              "      dtype='object')"
            ]
          },
          "metadata": {},
          "execution_count": 90
        }
      ],
      "source": [
        "df_new.columns"
      ],
      "id": "2f897570"
    },
    {
      "cell_type": "code",
      "execution_count": null,
      "metadata": {
        "id": "f8dc8af9"
      },
      "outputs": [],
      "source": [
        "from sklearn.cluster import KMeans"
      ],
      "id": "f8dc8af9"
    },
    {
      "cell_type": "code",
      "execution_count": null,
      "metadata": {
        "id": "0df4daa9"
      },
      "outputs": [],
      "source": [
        "from sklearn.preprocessing import StandardScaler"
      ],
      "id": "0df4daa9"
    },
    {
      "cell_type": "code",
      "source": [
        "ss=StandardScaler()\n",
        "df_num_scaled=ss.fit_transform(df_num)"
      ],
      "metadata": {
        "id": "VrxGCmq5eE5R"
      },
      "id": "VrxGCmq5eE5R",
      "execution_count": null,
      "outputs": []
    },
    {
      "cell_type": "code",
      "execution_count": null,
      "metadata": {
        "id": "ea30b51f"
      },
      "outputs": [],
      "source": [
        "k_means = KMeans(n_clusters = 2)"
      ],
      "id": "ea30b51f"
    },
    {
      "cell_type": "code",
      "source": [
        "# Data must be given scaled"
      ],
      "metadata": {
        "id": "y_jeX1lMdDFS"
      },
      "id": "y_jeX1lMdDFS",
      "execution_count": null,
      "outputs": []
    },
    {
      "cell_type": "code",
      "execution_count": null,
      "metadata": {
        "colab": {
          "base_uri": "https://localhost:8080/"
        },
        "id": "e4cb065a",
        "outputId": "b5556be7-bd8c-43d8-b499-4934013a7038"
      },
      "outputs": [
        {
          "output_type": "execute_result",
          "data": {
            "text/plain": [
              "KMeans(n_clusters=2)"
            ]
          },
          "metadata": {},
          "execution_count": 106
        }
      ],
      "source": [
        "k_means.fit(df_num_scaled)"
      ],
      "id": "e4cb065a"
    },
    {
      "cell_type": "code",
      "execution_count": null,
      "metadata": {
        "colab": {
          "base_uri": "https://localhost:8080/"
        },
        "id": "9a1b18c7",
        "outputId": "7b49da2c-c628-4a85-a376-bf0a119183cd"
      },
      "outputs": [
        {
          "output_type": "execute_result",
          "data": {
            "text/plain": [
              "array([0, 0, 1, ..., 1, 1, 0], dtype=int32)"
            ]
          },
          "metadata": {},
          "execution_count": 107
        }
      ],
      "source": [
        "k_means.labels_"
      ],
      "id": "9a1b18c7"
    },
    {
      "cell_type": "code",
      "execution_count": null,
      "metadata": {
        "colab": {
          "base_uri": "https://localhost:8080/"
        },
        "id": "38cf7252",
        "outputId": "09e3a879-8221-469f-cb23-b35d8a930d86"
      },
      "outputs": [
        {
          "output_type": "execute_result",
          "data": {
            "text/plain": [
              "253998.2600991491"
            ]
          },
          "metadata": {},
          "execution_count": 108
        }
      ],
      "source": [
        "k_means.inertia_"
      ],
      "id": "38cf7252"
    },
    {
      "cell_type": "code",
      "execution_count": null,
      "metadata": {
        "colab": {
          "base_uri": "https://localhost:8080/"
        },
        "id": "a74f180a",
        "outputId": "e92c3561-0de1-4791-aedb-bc932ae2ab69"
      },
      "outputs": [
        {
          "output_type": "execute_result",
          "data": {
            "text/plain": [
              "236976.6567889577"
            ]
          },
          "metadata": {},
          "execution_count": 109
        }
      ],
      "source": [
        "k_means = KMeans(n_clusters = 3)\n",
        "k_means.fit(df_num_scaled)\n",
        "k_means.inertia_"
      ],
      "id": "a74f180a"
    },
    {
      "cell_type": "code",
      "execution_count": null,
      "metadata": {
        "id": "3ac8f0ca"
      },
      "outputs": [],
      "source": [
        "wss =[] "
      ],
      "id": "3ac8f0ca"
    },
    {
      "cell_type": "code",
      "source": [
        "# data must be scaled"
      ],
      "metadata": {
        "id": "vADyuCxVdUGj"
      },
      "id": "vADyuCxVdUGj",
      "execution_count": null,
      "outputs": []
    },
    {
      "cell_type": "code",
      "execution_count": null,
      "metadata": {
        "id": "c0c84a0d"
      },
      "outputs": [],
      "source": [
        "for i in range(1,11):\n",
        "    KM = KMeans(n_clusters=i)\n",
        "    KM.fit(df_num_scaled)\n",
        "    wss.append(KM.inertia_)"
      ],
      "id": "c0c84a0d"
    },
    {
      "cell_type": "code",
      "execution_count": null,
      "metadata": {
        "colab": {
          "base_uri": "https://localhost:8080/"
        },
        "id": "6b1b2f25",
        "outputId": "7f9da6c8-445f-4a00-da42-9885e5a1cb6d"
      },
      "outputs": [
        {
          "output_type": "execute_result",
          "data": {
            "text/plain": [
              "[299999.9999999996,\n",
              " 253998.32919274722,\n",
              " 236976.4954864544,\n",
              " 224886.0805441463,\n",
              " 215848.28957302374,\n",
              " 209472.3523255286,\n",
              " 203896.93817863683,\n",
              " 199194.63593591208,\n",
              " 194628.54273705604,\n",
              " 190504.18323024595]"
            ]
          },
          "metadata": {},
          "execution_count": 113
        }
      ],
      "source": [
        "wss"
      ],
      "id": "6b1b2f25"
    },
    {
      "cell_type": "code",
      "execution_count": null,
      "metadata": {
        "colab": {
          "base_uri": "https://localhost:8080/",
          "height": 285
        },
        "id": "a3d47722",
        "outputId": "f8795121-deb9-4fef-8aa2-3ae891ae4cd5"
      },
      "outputs": [
        {
          "output_type": "execute_result",
          "data": {
            "text/plain": [
              "[<matplotlib.lines.Line2D at 0x7f2b51207a60>]"
            ]
          },
          "metadata": {},
          "execution_count": 114
        },
        {
          "output_type": "display_data",
          "data": {
            "text/plain": [
              "<Figure size 432x288 with 1 Axes>"
            ],
            "image/png": "[encoded data removed]"
          },
          "metadata": {}
        }
      ],
      "source": [
        "plt.plot(range(1,11), wss)"
      ],
      "id": "a3d47722"
    },
    {
      "cell_type": "code",
      "execution_count": null,
      "metadata": {
        "id": "1045b4a8"
      },
      "outputs": [],
      "source": [
        "k_means = KMeans(n_clusters = 2)\n",
        "k_means.fit(df_num_scaled)\n",
        "labels = k_means.labels_"
      ],
      "id": "1045b4a8"
    },
    {
      "cell_type": "code",
      "execution_count": null,
      "metadata": {
        "colab": {
          "base_uri": "https://localhost:8080/",
          "height": 322
        },
        "id": "a94c7ac4",
        "outputId": "7d71be60-94cf-44d3-f690-311bb502a218"
      },
      "outputs": [
        {
          "output_type": "execute_result",
          "data": {
            "text/plain": [
              "  Location_type WH_capacity_size   zone WH_regional_zone  num_refill_req  \\\n",
              "0         Urban            Small   West           Zone 6               3   \n",
              "1         Rural            Large  North           Zone 5               0   \n",
              "2         Rural              Mid  South           Zone 2               1   \n",
              "3         Rural              Mid  North           Zone 3               7   \n",
              "4         Rural            Large  North           Zone 5               3   \n",
              "\n",
              "   transport_issue  Competitor_in_mkt  retail_shop_num  wh_owner_type  \\\n",
              "0                1                  2             4651         Rented   \n",
              "1                0                  4             6217  Company Owned   \n",
              "2                0                  4             4306  Company Owned   \n",
              "3                4                  2             6000         Rented   \n",
              "4                1                  2             4740  Company Owned   \n",
              "\n",
              "   distributor_num flood_impacted flood_proof electric_supply  dist_from_hub  \\\n",
              "0               24              0           1               1             91   \n",
              "1               47              0           0               1            210   \n",
              "2               64              0           0               0            161   \n",
              "3               50              0           0               0            103   \n",
              "4               42              1           0               1            112   \n",
              "\n",
              "   workers_num  storage_issue_reported temp_reg_mach  \\\n",
              "0         29.0                      13             0   \n",
              "1         31.0                       4             0   \n",
              "2         37.0                      17             0   \n",
              "3         21.0                      17             1   \n",
              "4         25.0                      18             0   \n",
              "\n",
              "  approved_wh_govt_certificate  wh_breakdown  govt_check  product_wg_ton  \\\n",
              "0                            A             5          15           17115   \n",
              "1                            A             3          17            5074   \n",
              "2                            A             6          22           23137   \n",
              "3                           A+             3          27           22115   \n",
              "4                            C             6          24           24071   \n",
              "\n",
              "   Dur_Wh_Est_Year  Clus_kmeans  \n",
              "0             14.0            0  \n",
              "1             14.0            0  \n",
              "2             14.0            1  \n",
              "3             14.0            0  \n",
              "4             14.0            1  "
            ],
            "text/html": [
              "\n",
              "  <div id=\"df-62b64650-3f1d-49c2-86e6-cd15a1ce1b16\">\n",
              "    <div class=\"colab-df-container\">\n",
              "      <div>\n",
              "<style scoped>\n",
              "    .dataframe tbody tr th:only-of-type {\n",
              "        vertical-align: middle;\n",
              "    }\n",
              "\n",
              "    .dataframe tbody tr th {\n",
              "        vertical-align: top;\n",
              "    }\n",
              "\n",
              "    .dataframe thead th {\n",
              "        text-align: right;\n",
              "    }\n",
              "</style>\n",
              "<table border=\"1\" class=\"dataframe\">\n",
              "  <thead>\n",
              "    <tr style=\"text-align: right;\">\n",
              "      <th></th>\n",
              "      <th>Location_type</th>\n",
              "      <th>WH_capacity_size</th>\n",
              "      <th>zone</th>\n",
              "      <th>WH_regional_zone</th>\n",
              "      <th>num_refill_req</th>\n",
              "      <th>transport_issue</th>\n",
              "      <th>Competitor_in_mkt</th>\n",
              "      <th>retail_shop_num</th>\n",
              "      <th>wh_owner_type</th>\n",
              "      <th>distributor_num</th>\n",
              "      <th>flood_impacted</th>\n",
              "      <th>flood_proof</th>\n",
              "      <th>electric_supply</th>\n",
              "      <th>dist_from_hub</th>\n",
              "      <th>workers_num</th>\n",
              "      <th>storage_issue_reported</th>\n",
              "      <th>temp_reg_mach</th>\n",
              "      <th>approved_wh_govt_certificate</th>\n",
              "      <th>wh_breakdown</th>\n",
              "      <th>govt_check</th>\n",
              "      <th>product_wg_ton</th>\n",
              "      <th>Dur_Wh_Est_Year</th>\n",
              "      <th>Clus_kmeans</th>\n",
              "    </tr>\n",
              "  </thead>\n",
              "  <tbody>\n",
              "    <tr>\n",
              "      <th>0</th>\n",
              "      <td>Urban</td>\n",
              "      <td>Small</td>\n",
              "      <td>West</td>\n",
              "      <td>Zone 6</td>\n",
              "      <td>3</td>\n",
              "      <td>1</td>\n",
              "      <td>2</td>\n",
              "      <td>4651</td>\n",
              "      <td>Rented</td>\n",
              "      <td>24</td>\n",
              "      <td>0</td>\n",
              "      <td>1</td>\n",
              "      <td>1</td>\n",
              "      <td>91</td>\n",
              "      <td>29.0</td>\n",
              "      <td>13</td>\n",
              "      <td>0</td>\n",
              "      <td>A</td>\n",
              "      <td>5</td>\n",
              "      <td>15</td>\n",
              "      <td>17115</td>\n",
              "      <td>14.0</td>\n",
              "      <td>0</td>\n",
              "    </tr>\n",
              "    <tr>\n",
              "      <th>1</th>\n",
              "      <td>Rural</td>\n",
              "      <td>Large</td>\n",
              "      <td>North</td>\n",
              "      <td>Zone 5</td>\n",
              "      <td>0</td>\n",
              "      <td>0</td>\n",
              "      <td>4</td>\n",
              "      <td>6217</td>\n",
              "      <td>Company Owned</td>\n",
              "      <td>47</td>\n",
              "      <td>0</td>\n",
              "      <td>0</td>\n",
              "      <td>1</td>\n",
              "      <td>210</td>\n",
              "      <td>31.0</td>\n",
              "      <td>4</td>\n",
              "      <td>0</td>\n",
              "      <td>A</td>\n",
              "      <td>3</td>\n",
              "      <td>17</td>\n",
              "      <td>5074</td>\n",
              "      <td>14.0</td>\n",
              "      <td>0</td>\n",
              "    </tr>\n",
              "    <tr>\n",
              "      <th>2</th>\n",
              "      <td>Rural</td>\n",
              "      <td>Mid</td>\n",
              "      <td>South</td>\n",
              "      <td>Zone 2</td>\n",
              "      <td>1</td>\n",
              "      <td>0</td>\n",
              "      <td>4</td>\n",
              "      <td>4306</td>\n",
              "      <td>Company Owned</td>\n",
              "      <td>64</td>\n",
              "      <td>0</td>\n",
              "      <td>0</td>\n",
              "      <td>0</td>\n",
              "      <td>161</td>\n",
              "      <td>37.0</td>\n",
              "      <td>17</td>\n",
              "      <td>0</td>\n",
              "      <td>A</td>\n",
              "      <td>6</td>\n",
              "      <td>22</td>\n",
              "      <td>23137</td>\n",
              "      <td>14.0</td>\n",
              "      <td>1</td>\n",
              "    </tr>\n",
              "    <tr>\n",
              "      <th>3</th>\n",
              "      <td>Rural</td>\n",
              "      <td>Mid</td>\n",
              "      <td>North</td>\n",
              "      <td>Zone 3</td>\n",
              "      <td>7</td>\n",
              "      <td>4</td>\n",
              "      <td>2</td>\n",
              "      <td>6000</td>\n",
              "      <td>Rented</td>\n",
              "      <td>50</td>\n",
              "      <td>0</td>\n",
              "      <td>0</td>\n",
              "      <td>0</td>\n",
              "      <td>103</td>\n",
              "      <td>21.0</td>\n",
              "      <td>17</td>\n",
              "      <td>1</td>\n",
              "      <td>A+</td>\n",
              "      <td>3</td>\n",
              "      <td>27</td>\n",
              "      <td>22115</td>\n",
              "      <td>14.0</td>\n",
              "      <td>0</td>\n",
              "    </tr>\n",
              "    <tr>\n",
              "      <th>4</th>\n",
              "      <td>Rural</td>\n",
              "      <td>Large</td>\n",
              "      <td>North</td>\n",
              "      <td>Zone 5</td>\n",
              "      <td>3</td>\n",
              "      <td>1</td>\n",
              "      <td>2</td>\n",
              "      <td>4740</td>\n",
              "      <td>Company Owned</td>\n",
              "      <td>42</td>\n",
              "      <td>1</td>\n",
              "      <td>0</td>\n",
              "      <td>1</td>\n",
              "      <td>112</td>\n",
              "      <td>25.0</td>\n",
              "      <td>18</td>\n",
              "      <td>0</td>\n",
              "      <td>C</td>\n",
              "      <td>6</td>\n",
              "      <td>24</td>\n",
              "      <td>24071</td>\n",
              "      <td>14.0</td>\n",
              "      <td>1</td>\n",
              "    </tr>\n",
              "  </tbody>\n",
              "</table>\n",
              "</div>\n",
              "      <button class=\"colab-df-convert\" onclick=\"convertToInteractive('df-62b64650-3f1d-49c2-86e6-cd15a1ce1b16')\"\n",
              "              title=\"Convert this dataframe to an interactive table.\"\n",
              "              style=\"display:none;\">\n",
              "        \n",
              "  <svg xmlns=\"http://www.w3.org/2000/svg\" height=\"24px\"viewBox=\"0 0 24 24\"\n",
              "       width=\"24px\">\n",
              "    <path d=\"M0 0h24v24H0V0z\" fill=\"none\"/>\n",
              "    <path d=\"M18.56 5.44l.94 2.06.94-2.06 2.06-.94-2.06-.94-.94-2.06-.94 2.06-2.06.94zm-11 1L8.5 8.5l.94-2.06 2.06-.94-2.06-.94L8.5 2.5l-.94 2.06-2.06.94zm10 10l.94 2.06.94-2.06 2.06-.94-2.06-.94-.94-2.06-.94 2.06-2.06.94z\"/><path d=\"M17.41 7.96l-1.37-1.37c-.4-.4-.92-.59-1.43-.59-.52 0-1.04.2-1.43.59L10.3 9.45l-7.72 7.72c-.78.78-.78 2.05 0 2.83L4 21.41c.39.39.9.59 1.41.59.51 0 1.02-.2 1.41-.59l7.78-7.78 2.81-2.81c.8-.78.8-2.07 0-2.86zM5.41 20L4 18.59l7.72-7.72 1.47 1.35L5.41 20z\"/>\n",
              "  </svg>\n",
              "      </button>\n",
              "      \n",
              "  <style>\n",
              "    .colab-df-container {\n",
              "      display:flex;\n",
              "      flex-wrap:wrap;\n",
              "      gap: 12px;\n",
              "    }\n",
              "\n",
              "    .colab-df-convert {\n",
              "      background-color: #E8F0FE;\n",
              "      border: none;\n",
              "      border-radius: 50%;\n",
              "      cursor: pointer;\n",
              "      display: none;\n",
              "      fill: #1967D2;\n",
              "      height: 32px;\n",
              "      padding: 0 0 0 0;\n",
              "      width: 32px;\n",
              "    }\n",
              "\n",
              "    .colab-df-convert:hover {\n",
              "      background-color: #E2EBFA;\n",
              "      box-shadow: 0px 1px 2px rgba(60, 64, 67, 0.3), 0px 1px 3px 1px rgba(60, 64, 67, 0.15);\n",
              "      fill: #174EA6;\n",
              "    }\n",
              "\n",
              "    [theme=dark] .colab-df-convert {\n",
              "      background-color: #3B4455;\n",
              "      fill: #D2E3FC;\n",
              "    }\n",
              "\n",
              "    [theme=dark] .colab-df-convert:hover {\n",
              "      background-color: #434B5C;\n",
              "      box-shadow: 0px 1px 3px 1px rgba(0, 0, 0, 0.15);\n",
              "      filter: drop-shadow(0px 1px 2px rgba(0, 0, 0, 0.3));\n",
              "      fill: #FFFFFF;\n",
              "    }\n",
              "  </style>\n",
              "\n",
              "      <script>\n",
              "        const buttonEl =\n",
              "          document.querySelector('#df-62b64650-3f1d-49c2-86e6-cd15a1ce1b16 button.colab-df-convert');\n",
              "        buttonEl.style.display =\n",
              "          google.colab.kernel.accessAllowed ? 'block' : 'none';\n",
              "\n",
              "        async function convertToInteractive(key) {\n",
              "          const element = document.querySelector('#df-62b64650-3f1d-49c2-86e6-cd15a1ce1b16');\n",
              "          const dataTable =\n",
              "            await google.colab.kernel.invokeFunction('convertToInteractive',\n",
              "                                                     [key], {});\n",
              "          if (!dataTable) return;\n",
              "\n",
              "          const docLinkHtml = 'Like what you see? Visit the ' +\n",
              "            '<a target=\"_blank\" href=https://colab.research.google.com/notebooks/data_table.ipynb>data table notebook</a>'\n",
              "            + ' to learn more about interactive tables.';\n",
              "          element.innerHTML = '';\n",
              "          dataTable['output_type'] = 'display_data';\n",
              "          await google.colab.output.renderOutput(dataTable, element);\n",
              "          const docLink = document.createElement('div');\n",
              "          docLink.innerHTML = docLinkHtml;\n",
              "          element.appendChild(docLink);\n",
              "        }\n",
              "      </script>\n",
              "    </div>\n",
              "  </div>\n",
              "  "
            ]
          },
          "metadata": {},
          "execution_count": 118
        }
      ],
      "source": [
        "listings[\"Clus_kmeans\"] = labels\n",
        "listings.head(5)"
      ],
      "id": "a94c7ac4"
    },
    {
      "cell_type": "code",
      "execution_count": null,
      "metadata": {
        "id": "a1aa4612"
      },
      "outputs": [],
      "source": [
        "from sklearn.metrics import silhouette_samples, silhouette_score"
      ],
      "id": "a1aa4612"
    },
    {
      "cell_type": "code",
      "execution_count": null,
      "metadata": {
        "colab": {
          "base_uri": "https://localhost:8080/"
        },
        "id": "c954f0c1",
        "outputId": "7cb7142e-47fb-466a-b303-f28feec8156d"
      },
      "outputs": [
        {
          "output_type": "execute_result",
          "data": {
            "text/plain": [
              "0.14114292098686038"
            ]
          },
          "metadata": {},
          "execution_count": 120
        }
      ],
      "source": [
        "silhouette_score(df_num_scaled,labels)"
      ],
      "id": "c954f0c1"
    },
    {
      "cell_type": "code",
      "execution_count": null,
      "metadata": {
        "id": "8b9a946c"
      },
      "outputs": [],
      "source": [
        "sil_width = silhouette_samples(df_num_scaled,labels)"
      ],
      "id": "8b9a946c"
    },
    {
      "cell_type": "code",
      "execution_count": null,
      "metadata": {
        "colab": {
          "base_uri": "https://localhost:8080/",
          "height": 322
        },
        "id": "44cc653c",
        "outputId": "ce714451-484f-46cf-8827-726463d035b8"
      },
      "outputs": [
        {
          "output_type": "execute_result",
          "data": {
            "text/plain": [
              "  Location_type WH_capacity_size   zone WH_regional_zone  num_refill_req  \\\n",
              "0         Urban            Small   West           Zone 6               3   \n",
              "1         Rural            Large  North           Zone 5               0   \n",
              "2         Rural              Mid  South           Zone 2               1   \n",
              "3         Rural              Mid  North           Zone 3               7   \n",
              "4         Rural            Large  North           Zone 5               3   \n",
              "\n",
              "   transport_issue  Competitor_in_mkt  retail_shop_num  wh_owner_type  \\\n",
              "0                1                  2             4651         Rented   \n",
              "1                0                  4             6217  Company Owned   \n",
              "2                0                  4             4306  Company Owned   \n",
              "3                4                  2             6000         Rented   \n",
              "4                1                  2             4740  Company Owned   \n",
              "\n",
              "   distributor_num flood_impacted flood_proof electric_supply  dist_from_hub  \\\n",
              "0               24              0           1               1             91   \n",
              "1               47              0           0               1            210   \n",
              "2               64              0           0               0            161   \n",
              "3               50              0           0               0            103   \n",
              "4               42              1           0               1            112   \n",
              "\n",
              "   workers_num  storage_issue_reported temp_reg_mach  \\\n",
              "0         29.0                      13             0   \n",
              "1         31.0                       4             0   \n",
              "2         37.0                      17             0   \n",
              "3         21.0                      17             1   \n",
              "4         25.0                      18             0   \n",
              "\n",
              "  approved_wh_govt_certificate  wh_breakdown  govt_check  product_wg_ton  \\\n",
              "0                            A             5          15           17115   \n",
              "1                            A             3          17            5074   \n",
              "2                            A             6          22           23137   \n",
              "3                           A+             3          27           22115   \n",
              "4                            C             6          24           24071   \n",
              "\n",
              "   Dur_Wh_Est_Year  Clus_kmeans  sil_width  \n",
              "0             14.0            0   0.000350  \n",
              "1             14.0            0   0.155608  \n",
              "2             14.0            1   0.112178  \n",
              "3             14.0            0   0.014426  \n",
              "4             14.0            1   0.125312  "
            ],
            "text/html": [
              "\n",
              "  <div id=\"df-1349ea27-d60a-4315-a58a-80a014ea42a6\">\n",
              "    <div class=\"colab-df-container\">\n",
              "      <div>\n",
              "<style scoped>\n",
              "    .dataframe tbody tr th:only-of-type {\n",
              "        vertical-align: middle;\n",
              "    }\n",
              "\n",
              "    .dataframe tbody tr th {\n",
              "        vertical-align: top;\n",
              "    }\n",
              "\n",
              "    .dataframe thead th {\n",
              "        text-align: right;\n",
              "    }\n",
              "</style>\n",
              "<table border=\"1\" class=\"dataframe\">\n",
              "  <thead>\n",
              "    <tr style=\"text-align: right;\">\n",
              "      <th></th>\n",
              "      <th>Location_type</th>\n",
              "      <th>WH_capacity_size</th>\n",
              "      <th>zone</th>\n",
              "      <th>WH_regional_zone</th>\n",
              "      <th>num_refill_req</th>\n",
              "      <th>transport_issue</th>\n",
              "      <th>Competitor_in_mkt</th>\n",
              "      <th>retail_shop_num</th>\n",
              "      <th>wh_owner_type</th>\n",
              "      <th>distributor_num</th>\n",
              "      <th>flood_impacted</th>\n",
              "      <th>flood_proof</th>\n",
              "      <th>electric_supply</th>\n",
              "      <th>dist_from_hub</th>\n",
              "      <th>workers_num</th>\n",
              "      <th>storage_issue_reported</th>\n",
              "      <th>temp_reg_mach</th>\n",
              "      <th>approved_wh_govt_certificate</th>\n",
              "      <th>wh_breakdown</th>\n",
              "      <th>govt_check</th>\n",
              "      <th>product_wg_ton</th>\n",
              "      <th>Dur_Wh_Est_Year</th>\n",
              "      <th>Clus_kmeans</th>\n",
              "      <th>sil_width</th>\n",
              "    </tr>\n",
              "  </thead>\n",
              "  <tbody>\n",
              "    <tr>\n",
              "      <th>0</th>\n",
              "      <td>Urban</td>\n",
              "      <td>Small</td>\n",
              "      <td>West</td>\n",
              "      <td>Zone 6</td>\n",
              "      <td>3</td>\n",
              "      <td>1</td>\n",
              "      <td>2</td>\n",
              "      <td>4651</td>\n",
              "      <td>Rented</td>\n",
              "      <td>24</td>\n",
              "      <td>0</td>\n",
              "      <td>1</td>\n",
              "      <td>1</td>\n",
              "      <td>91</td>\n",
              "      <td>29.0</td>\n",
              "      <td>13</td>\n",
              "      <td>0</td>\n",
              "      <td>A</td>\n",
              "      <td>5</td>\n",
              "      <td>15</td>\n",
              "      <td>17115</td>\n",
              "      <td>14.0</td>\n",
              "      <td>0</td>\n",
              "      <td>0.000350</td>\n",
              "    </tr>\n",
              "    <tr>\n",
              "      <th>1</th>\n",
              "      <td>Rural</td>\n",
              "      <td>Large</td>\n",
              "      <td>North</td>\n",
              "      <td>Zone 5</td>\n",
              "      <td>0</td>\n",
              "      <td>0</td>\n",
              "      <td>4</td>\n",
              "      <td>6217</td>\n",
              "      <td>Company Owned</td>\n",
              "      <td>47</td>\n",
              "      <td>0</td>\n",
              "      <td>0</td>\n",
              "      <td>1</td>\n",
              "      <td>210</td>\n",
              "      <td>31.0</td>\n",
              "      <td>4</td>\n",
              "      <td>0</td>\n",
              "      <td>A</td>\n",
              "      <td>3</td>\n",
              "      <td>17</td>\n",
              "      <td>5074</td>\n",
              "      <td>14.0</td>\n",
              "      <td>0</td>\n",
              "      <td>0.155608</td>\n",
              "    </tr>\n",
              "    <tr>\n",
              "      <th>2</th>\n",
              "      <td>Rural</td>\n",
              "      <td>Mid</td>\n",
              "      <td>South</td>\n",
              "      <td>Zone 2</td>\n",
              "      <td>1</td>\n",
              "      <td>0</td>\n",
              "      <td>4</td>\n",
              "      <td>4306</td>\n",
              "      <td>Company Owned</td>\n",
              "      <td>64</td>\n",
              "      <td>0</td>\n",
              "      <td>0</td>\n",
              "      <td>0</td>\n",
              "      <td>161</td>\n",
              "      <td>37.0</td>\n",
              "      <td>17</td>\n",
              "      <td>0</td>\n",
              "      <td>A</td>\n",
              "      <td>6</td>\n",
              "      <td>22</td>\n",
              "      <td>23137</td>\n",
              "      <td>14.0</td>\n",
              "      <td>1</td>\n",
              "      <td>0.112178</td>\n",
              "    </tr>\n",
              "    <tr>\n",
              "      <th>3</th>\n",
              "      <td>Rural</td>\n",
              "      <td>Mid</td>\n",
              "      <td>North</td>\n",
              "      <td>Zone 3</td>\n",
              "      <td>7</td>\n",
              "      <td>4</td>\n",
              "      <td>2</td>\n",
              "      <td>6000</td>\n",
              "      <td>Rented</td>\n",
              "      <td>50</td>\n",
              "      <td>0</td>\n",
              "      <td>0</td>\n",
              "      <td>0</td>\n",
              "      <td>103</td>\n",
              "      <td>21.0</td>\n",
              "      <td>17</td>\n",
              "      <td>1</td>\n",
              "      <td>A+</td>\n",
              "      <td>3</td>\n",
              "      <td>27</td>\n",
              "      <td>22115</td>\n",
              "      <td>14.0</td>\n",
              "      <td>0</td>\n",
              "      <td>0.014426</td>\n",
              "    </tr>\n",
              "    <tr>\n",
              "      <th>4</th>\n",
              "      <td>Rural</td>\n",
              "      <td>Large</td>\n",
              "      <td>North</td>\n",
              "      <td>Zone 5</td>\n",
              "      <td>3</td>\n",
              "      <td>1</td>\n",
              "      <td>2</td>\n",
              "      <td>4740</td>\n",
              "      <td>Company Owned</td>\n",
              "      <td>42</td>\n",
              "      <td>1</td>\n",
              "      <td>0</td>\n",
              "      <td>1</td>\n",
              "      <td>112</td>\n",
              "      <td>25.0</td>\n",
              "      <td>18</td>\n",
              "      <td>0</td>\n",
              "      <td>C</td>\n",
              "      <td>6</td>\n",
              "      <td>24</td>\n",
              "      <td>24071</td>\n",
              "      <td>14.0</td>\n",
              "      <td>1</td>\n",
              "      <td>0.125312</td>\n",
              "    </tr>\n",
              "  </tbody>\n",
              "</table>\n",
              "</div>\n",
              "      <button class=\"colab-df-convert\" onclick=\"convertToInteractive('df-1349ea27-d60a-4315-a58a-80a014ea42a6')\"\n",
              "              title=\"Convert this dataframe to an interactive table.\"\n",
              "              style=\"display:none;\">\n",
              "        \n",
              "  <svg xmlns=\"http://www.w3.org/2000/svg\" height=\"24px\"viewBox=\"0 0 24 24\"\n",
              "       width=\"24px\">\n",
              "    <path d=\"M0 0h24v24H0V0z\" fill=\"none\"/>\n",
              "    <path d=\"M18.56 5.44l.94 2.06.94-2.06 2.06-.94-2.06-.94-.94-2.06-.94 2.06-2.06.94zm-11 1L8.5 8.5l.94-2.06 2.06-.94-2.06-.94L8.5 2.5l-.94 2.06-2.06.94zm10 10l.94 2.06.94-2.06 2.06-.94-2.06-.94-.94-2.06-.94 2.06-2.06.94z\"/><path d=\"M17.41 7.96l-1.37-1.37c-.4-.4-.92-.59-1.43-.59-.52 0-1.04.2-1.43.59L10.3 9.45l-7.72 7.72c-.78.78-.78 2.05 0 2.83L4 21.41c.39.39.9.59 1.41.59.51 0 1.02-.2 1.41-.59l7.78-7.78 2.81-2.81c.8-.78.8-2.07 0-2.86zM5.41 20L4 18.59l7.72-7.72 1.47 1.35L5.41 20z\"/>\n",
              "  </svg>\n",
              "      </button>\n",
              "      \n",
              "  <style>\n",
              "    .colab-df-container {\n",
              "      display:flex;\n",
              "      flex-wrap:wrap;\n",
              "      gap: 12px;\n",
              "    }\n",
              "\n",
              "    .colab-df-convert {\n",
              "      background-color: #E8F0FE;\n",
              "      border: none;\n",
              "      border-radius: 50%;\n",
              "      cursor: pointer;\n",
              "      display: none;\n",
              "      fill: #1967D2;\n",
              "      height: 32px;\n",
              "      padding: 0 0 0 0;\n",
              "      width: 32px;\n",
              "    }\n",
              "\n",
              "    .colab-df-convert:hover {\n",
              "      background-color: #E2EBFA;\n",
              "      box-shadow: 0px 1px 2px rgba(60, 64, 67, 0.3), 0px 1px 3px 1px rgba(60, 64, 67, 0.15);\n",
              "      fill: #174EA6;\n",
              "    }\n",
              "\n",
              "    [theme=dark] .colab-df-convert {\n",
              "      background-color: #3B4455;\n",
              "      fill: #D2E3FC;\n",
              "    }\n",
              "\n",
              "    [theme=dark] .colab-df-convert:hover {\n",
              "      background-color: #434B5C;\n",
              "      box-shadow: 0px 1px 3px 1px rgba(0, 0, 0, 0.15);\n",
              "      filter: drop-shadow(0px 1px 2px rgba(0, 0, 0, 0.3));\n",
              "      fill: #FFFFFF;\n",
              "    }\n",
              "  </style>\n",
              "\n",
              "      <script>\n",
              "        const buttonEl =\n",
              "          document.querySelector('#df-1349ea27-d60a-4315-a58a-80a014ea42a6 button.colab-df-convert');\n",
              "        buttonEl.style.display =\n",
              "          google.colab.kernel.accessAllowed ? 'block' : 'none';\n",
              "\n",
              "        async function convertToInteractive(key) {\n",
              "          const element = document.querySelector('#df-1349ea27-d60a-4315-a58a-80a014ea42a6');\n",
              "          const dataTable =\n",
              "            await google.colab.kernel.invokeFunction('convertToInteractive',\n",
              "                                                     [key], {});\n",
              "          if (!dataTable) return;\n",
              "\n",
              "          const docLinkHtml = 'Like what you see? Visit the ' +\n",
              "            '<a target=\"_blank\" href=https://colab.research.google.com/notebooks/data_table.ipynb>data table notebook</a>'\n",
              "            + ' to learn more about interactive tables.';\n",
              "          element.innerHTML = '';\n",
              "          dataTable['output_type'] = 'display_data';\n",
              "          await google.colab.output.renderOutput(dataTable, element);\n",
              "          const docLink = document.createElement('div');\n",
              "          docLink.innerHTML = docLinkHtml;\n",
              "          element.appendChild(docLink);\n",
              "        }\n",
              "      </script>\n",
              "    </div>\n",
              "  </div>\n",
              "  "
            ]
          },
          "metadata": {},
          "execution_count": 122
        }
      ],
      "source": [
        "listings[\"sil_width\"] = sil_width\n",
        "listings.head(5)"
      ],
      "id": "44cc653c"
    },
    {
      "cell_type": "code",
      "execution_count": null,
      "metadata": {
        "colab": {
          "base_uri": "https://localhost:8080/"
        },
        "id": "564d88e9",
        "outputId": "040ddb84-5622-43ab-8ea9-f9671c4f5af5"
      },
      "outputs": [
        {
          "output_type": "execute_result",
          "data": {
            "text/plain": [
              "-0.026554721767978635"
            ]
          },
          "metadata": {},
          "execution_count": 123
        }
      ],
      "source": [
        "silhouette_samples(df_num_scaled,labels).min()"
      ],
      "id": "564d88e9"
    },
    {
      "cell_type": "markdown",
      "source": [
        "Recommendations based on best model important features:\n",
        "1.\tWh_owner_type_rented.\n",
        "2.\tWh_regional_zone_6\n",
        "3.\tWh_regional_zone_5\n",
        "4.\tWh_regional_zone_4\n",
        "#Insight 1. \n",
        " 91.25 % warehouses are in rural areas in comparison of rural area has 8.17%.\n",
        "#Insight 2. \n",
        "82 % warehouses are of large & mid type.\n",
        "#Insight 3: \n",
        "North zone & Zone 6 has majority of warehouses.\n",
        "#Insight 4:\n",
        "Avg Product wt tone is supplied more to urban area in comparison of rural area\n",
        "#Recommendation 1: \n",
        "Product wt tone should be supplied to be increased for rural area. Those warehouses are in urban areas should managed properly to cater more customer demand.\n",
        "#Insight 5:\n",
        "Govt checks are more in zone 3 & zone 4.\n",
        "#Recommendation 2:\n",
        "In zone 3 & zone 4,all documents should be maintained properly for audit purposes to avoid unnecessary breakdown.\n",
        "#Insight 6: \n",
        "Warehouse breakdown are more in urban zone than rural zone.\n",
        "#Recommendation 3: \n",
        "Strike from worker, flood, or electrical failure should be taken care properly by respective managers to reduce warehouse breakdowns.\n",
        "#Insight 7: \n",
        "Older warehouses are more in urban area comparison of rural area.\n",
        "#Recommendation 4:\n",
        " Renovation of roofs, pallets and others broken racks etc should be done to avoid unnecessary loss of product.\n",
        "#Insight 8: \n",
        "Transport issues are more in urban areas in comparison of rural area.\n",
        "#Recommendation 5:\n",
        "Latest technology could be used like drone to avoid delays. \n",
        "#Insight 9:Wh_Regional _Zone 6 has most number of breakdowns than 5 followed by zone 4.\n",
        "#Recommendation 6: \n",
        "In zone 6 specially ,electricity, worker strike & flood failure should be checked & planned in advance to avoid these failure.\n",
        "#Insight 10:\n",
        "Company owned warehouses has more numbers of workers than rented whereas supply is same.\n",
        "#Recommendation 7:\n",
        "HR manager should refer rented warehouse system as benchmark for company owned warehouse.\n",
        "#Insight 11:\n",
        "No of refills are more in urban areas than rural areas.\n",
        "#Recommendation 8: Transportation system of urban areas must be improved. \n",
        "#Insight 12: \n",
        "Storage issues are more where product is stored more.\n",
        "#Recommendation 9: \n",
        "Large & medium size specially older warehouses warehouses renovation must be done properly.\n"
      ],
      "metadata": {
        "id": "oUByEKhk3Xt2"
      },
      "id": "oUByEKhk3Xt2"
    },
    {
      "cell_type": "markdown",
      "source": [
        "#END"
      ],
      "metadata": {
        "id": "w5TfAHdi0HaN"
      },
      "id": "w5TfAHdi0HaN"
    },
    {
      "cell_type": "code",
      "execution_count": null,
      "metadata": {
        "id": "egZH3b4CNNq3"
      },
      "outputs": [],
      "source": [],
      "id": "egZH3b4CNNq3"
    },
    {
      "cell_type": "code",
      "execution_count": null,
      "metadata": {
        "id": "jhAFcQUaLIV6"
      },
      "outputs": [],
      "source": [],
      "id": "jhAFcQUaLIV6"
    }
  ],
  "metadata": {
    "colab": {
      "provenance": []
    },
    "kernelspec": {
      "display_name": "Python 3 (ipykernel)",
      "language": "python",
      "name": "python3"
    },
    "language_info": {
      "codemirror_mode": {
        "name": "ipython",
        "version": 3
      },
      "file_extension": ".py",
      "mimetype": "text/x-python",
      "name": "python",
      "nbconvert_exporter": "python",
      "pygments_lexer": "ipython3",
      "version": "3.9.13"
    }
  },
  "nbformat": 4,
  "nbformat_minor": 5
}