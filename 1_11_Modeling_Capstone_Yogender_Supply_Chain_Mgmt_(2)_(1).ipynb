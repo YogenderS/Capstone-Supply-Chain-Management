{
  "cells": [
    {
      "cell_type": "markdown",
      "source": [
        "#PART B\n",
        "#Business Problem\n",
        "A FMCG company has entered into the instant noodles business two years back. Their higher management has notices that there is a miss match in the demand and supply. Where the demand is high, supply is pretty low and where the demand is low, supply is pretty high. In both the ways it is an inventory cost loss to the company; hence, the higher management wants to optimize the supply quantity in each and every warehouse in entire country.\n",
        "\n",
        "#Goal & Objective:\n",
        "The objective of this exercise is to build a model, using historical data that will determine an optimum weight of the product to be shipped each time to the warehouse. Also try to analysis the demand pattern in different pockets of the country so management can drive the advertisement campaign particular in those pockets. This is the first phase of the agreement; hence, company has shared very limited information. Once you are able to showcase a tangible impact with this much of information then company will open the 360 degree data lake for your consulting company to build a more robust model."
      ],
      "metadata": {
        "id": "Wy5Bd3lwxulb"
      },
      "id": "Wy5Bd3lwxulb"
    },
    {
      "cell_type": "code",
      "source": [
        "import numpy as np\n",
        "import pandas as pd\n",
        "import seaborn as sns\n",
        "import matplotlib\n",
        "from matplotlib import pyplot as plt\n",
        "from sklearn.preprocessing import StandardScaler\n",
        "from sklearn.model_selection import train_test_split\n",
        "from sklearn.linear_model import LinearRegression\n",
        "from sklearn import tree\n",
        "from sklearn.ensemble import RandomForestRegressor\n",
        "from sklearn.neural_network import MLPRegressor\n",
        "from sklearn.metrics import mean_squared_error\n",
        "from sklearn.metrics import mean_absolute_error\n",
        "from sklearn.model_selection import GridSearchCV"
      ],
      "metadata": {
        "id": "gXuvf3t4xj3W"
      },
      "id": "gXuvf3t4xj3W",
      "execution_count": null,
      "outputs": []
    },
    {
      "cell_type": "code",
      "execution_count": null,
      "metadata": {
        "id": "5ccfbb8b"
      },
      "outputs": [],
      "source": [
        "sns.set()\n",
        "sns.set_palette(palette='deep')\n",
        "import folium\n",
        "from folium.plugins import FastMarkerCluster #For Interactive Maps of World"
      ],
      "id": "5ccfbb8b"
    },
    {
      "cell_type": "code",
      "execution_count": null,
      "metadata": {
        "colab": {
          "base_uri": "https://localhost:8080/",
          "height": 300
        },
        "id": "f7c0cdc5",
        "outputId": "f8dfe91a-49d4-48f6-c668-1fdc1cb6a54b"
      },
      "outputs": [
        {
          "output_type": "execute_result",
          "data": {
            "text/plain": [
              "  Ware_house_ID WH_Manager_ID Location_type WH_capacity_size   zone  \\\n",
              "0     WH_100000     EID_50000         Urban            Small   West   \n",
              "1     WH_100001     EID_50001         Rural            Large  North   \n",
              "2     WH_100002     EID_50002         Rural              Mid  South   \n",
              "3     WH_100003     EID_50003         Rural              Mid  North   \n",
              "4     WH_100004     EID_50004         Rural            Large  North   \n",
              "\n",
              "  WH_regional_zone  num_refill_req  transport_issue  Competitor_in_mkt  \\\n",
              "0           Zone 6               3                1                  2   \n",
              "1           Zone 5               0                0                  4   \n",
              "2           Zone 2               1                0                  4   \n",
              "3           Zone 3               7                4                  2   \n",
              "4           Zone 5               3                1                  2   \n",
              "\n",
              "   retail_shop_num  ... electric_supply  dist_from_hub  workers_num  \\\n",
              "0             4651  ...               1             91         29.0   \n",
              "1             6217  ...               1            210         31.0   \n",
              "2             4306  ...               0            161         37.0   \n",
              "3             6000  ...               0            103         21.0   \n",
              "4             4740  ...               1            112         25.0   \n",
              "\n",
              "   wh_est_year  storage_issue_reported  temp_reg_mach  \\\n",
              "0          NaN                      13              0   \n",
              "1          NaN                       4              0   \n",
              "2          NaN                      17              0   \n",
              "3          NaN                      17              1   \n",
              "4       2009.0                      18              0   \n",
              "\n",
              "   approved_wh_govt_certificate  wh_breakdown  govt_check  product_wg_ton  \n",
              "0                             A             5          15           17115  \n",
              "1                             A             3          17            5074  \n",
              "2                             A             6          22           23137  \n",
              "3                            A+             3          27           22115  \n",
              "4                             C             6          24           24071  \n",
              "\n",
              "[5 rows x 24 columns]"
            ],
            "text/html": [
              "\n",
              "  <div id=\"df-3dbf45b5-c12d-4cf9-8349-e72f371d8154\">\n",
              "    <div class=\"colab-df-container\">\n",
              "      <div>\n",
              "<style scoped>\n",
              "    .dataframe tbody tr th:only-of-type {\n",
              "        vertical-align: middle;\n",
              "    }\n",
              "\n",
              "    .dataframe tbody tr th {\n",
              "        vertical-align: top;\n",
              "    }\n",
              "\n",
              "    .dataframe thead th {\n",
              "        text-align: right;\n",
              "    }\n",
              "</style>\n",
              "<table border=\"1\" class=\"dataframe\">\n",
              "  <thead>\n",
              "    <tr style=\"text-align: right;\">\n",
              "      <th></th>\n",
              "      <th>Ware_house_ID</th>\n",
              "      <th>WH_Manager_ID</th>\n",
              "      <th>Location_type</th>\n",
              "      <th>WH_capacity_size</th>\n",
              "      <th>zone</th>\n",
              "      <th>WH_regional_zone</th>\n",
              "      <th>num_refill_req</th>\n",
              "      <th>transport_issue</th>\n",
              "      <th>Competitor_in_mkt</th>\n",
              "      <th>retail_shop_num</th>\n",
              "      <th>...</th>\n",
              "      <th>electric_supply</th>\n",
              "      <th>dist_from_hub</th>\n",
              "      <th>workers_num</th>\n",
              "      <th>wh_est_year</th>\n",
              "      <th>storage_issue_reported</th>\n",
              "      <th>temp_reg_mach</th>\n",
              "      <th>approved_wh_govt_certificate</th>\n",
              "      <th>wh_breakdown</th>\n",
              "      <th>govt_check</th>\n",
              "      <th>product_wg_ton</th>\n",
              "    </tr>\n",
              "  </thead>\n",
              "  <tbody>\n",
              "    <tr>\n",
              "      <th>0</th>\n",
              "      <td>WH_100000</td>\n",
              "      <td>EID_50000</td>\n",
              "      <td>Urban</td>\n",
              "      <td>Small</td>\n",
              "      <td>West</td>\n",
              "      <td>Zone 6</td>\n",
              "      <td>3</td>\n",
              "      <td>1</td>\n",
              "      <td>2</td>\n",
              "      <td>4651</td>\n",
              "      <td>...</td>\n",
              "      <td>1</td>\n",
              "      <td>91</td>\n",
              "      <td>29.0</td>\n",
              "      <td>NaN</td>\n",
              "      <td>13</td>\n",
              "      <td>0</td>\n",
              "      <td>A</td>\n",
              "      <td>5</td>\n",
              "      <td>15</td>\n",
              "      <td>17115</td>\n",
              "    </tr>\n",
              "    <tr>\n",
              "      <th>1</th>\n",
              "      <td>WH_100001</td>\n",
              "      <td>EID_50001</td>\n",
              "      <td>Rural</td>\n",
              "      <td>Large</td>\n",
              "      <td>North</td>\n",
              "      <td>Zone 5</td>\n",
              "      <td>0</td>\n",
              "      <td>0</td>\n",
              "      <td>4</td>\n",
              "      <td>6217</td>\n",
              "      <td>...</td>\n",
              "      <td>1</td>\n",
              "      <td>210</td>\n",
              "      <td>31.0</td>\n",
              "      <td>NaN</td>\n",
              "      <td>4</td>\n",
              "      <td>0</td>\n",
              "      <td>A</td>\n",
              "      <td>3</td>\n",
              "      <td>17</td>\n",
              "      <td>5074</td>\n",
              "    </tr>\n",
              "    <tr>\n",
              "      <th>2</th>\n",
              "      <td>WH_100002</td>\n",
              "      <td>EID_50002</td>\n",
              "      <td>Rural</td>\n",
              "      <td>Mid</td>\n",
              "      <td>South</td>\n",
              "      <td>Zone 2</td>\n",
              "      <td>1</td>\n",
              "      <td>0</td>\n",
              "      <td>4</td>\n",
              "      <td>4306</td>\n",
              "      <td>...</td>\n",
              "      <td>0</td>\n",
              "      <td>161</td>\n",
              "      <td>37.0</td>\n",
              "      <td>NaN</td>\n",
              "      <td>17</td>\n",
              "      <td>0</td>\n",
              "      <td>A</td>\n",
              "      <td>6</td>\n",
              "      <td>22</td>\n",
              "      <td>23137</td>\n",
              "    </tr>\n",
              "    <tr>\n",
              "      <th>3</th>\n",
              "      <td>WH_100003</td>\n",
              "      <td>EID_50003</td>\n",
              "      <td>Rural</td>\n",
              "      <td>Mid</td>\n",
              "      <td>North</td>\n",
              "      <td>Zone 3</td>\n",
              "      <td>7</td>\n",
              "      <td>4</td>\n",
              "      <td>2</td>\n",
              "      <td>6000</td>\n",
              "      <td>...</td>\n",
              "      <td>0</td>\n",
              "      <td>103</td>\n",
              "      <td>21.0</td>\n",
              "      <td>NaN</td>\n",
              "      <td>17</td>\n",
              "      <td>1</td>\n",
              "      <td>A+</td>\n",
              "      <td>3</td>\n",
              "      <td>27</td>\n",
              "      <td>22115</td>\n",
              "    </tr>\n",
              "    <tr>\n",
              "      <th>4</th>\n",
              "      <td>WH_100004</td>\n",
              "      <td>EID_50004</td>\n",
              "      <td>Rural</td>\n",
              "      <td>Large</td>\n",
              "      <td>North</td>\n",
              "      <td>Zone 5</td>\n",
              "      <td>3</td>\n",
              "      <td>1</td>\n",
              "      <td>2</td>\n",
              "      <td>4740</td>\n",
              "      <td>...</td>\n",
              "      <td>1</td>\n",
              "      <td>112</td>\n",
              "      <td>25.0</td>\n",
              "      <td>2009.0</td>\n",
              "      <td>18</td>\n",
              "      <td>0</td>\n",
              "      <td>C</td>\n",
              "      <td>6</td>\n",
              "      <td>24</td>\n",
              "      <td>24071</td>\n",
              "    </tr>\n",
              "  </tbody>\n",
              "</table>\n",
              "<p>5 rows × 24 columns</p>\n",
              "</div>\n",
              "      <button class=\"colab-df-convert\" onclick=\"convertToInteractive('df-3dbf45b5-c12d-4cf9-8349-e72f371d8154')\"\n",
              "              title=\"Convert this dataframe to an interactive table.\"\n",
              "              style=\"display:none;\">\n",
              "        \n",
              "  <svg xmlns=\"http://www.w3.org/2000/svg\" height=\"24px\"viewBox=\"0 0 24 24\"\n",
              "       width=\"24px\">\n",
              "    <path d=\"M0 0h24v24H0V0z\" fill=\"none\"/>\n",
              "    <path d=\"M18.56 5.44l.94 2.06.94-2.06 2.06-.94-2.06-.94-.94-2.06-.94 2.06-2.06.94zm-11 1L8.5 8.5l.94-2.06 2.06-.94-2.06-.94L8.5 2.5l-.94 2.06-2.06.94zm10 10l.94 2.06.94-2.06 2.06-.94-2.06-.94-.94-2.06-.94 2.06-2.06.94z\"/><path d=\"M17.41 7.96l-1.37-1.37c-.4-.4-.92-.59-1.43-.59-.52 0-1.04.2-1.43.59L10.3 9.45l-7.72 7.72c-.78.78-.78 2.05 0 2.83L4 21.41c.39.39.9.59 1.41.59.51 0 1.02-.2 1.41-.59l7.78-7.78 2.81-2.81c.8-.78.8-2.07 0-2.86zM5.41 20L4 18.59l7.72-7.72 1.47 1.35L5.41 20z\"/>\n",
              "  </svg>\n",
              "      </button>\n",
              "      \n",
              "  <style>\n",
              "    .colab-df-container {\n",
              "      display:flex;\n",
              "      flex-wrap:wrap;\n",
              "      gap: 12px;\n",
              "    }\n",
              "\n",
              "    .colab-df-convert {\n",
              "      background-color: #E8F0FE;\n",
              "      border: none;\n",
              "      border-radius: 50%;\n",
              "      cursor: pointer;\n",
              "      display: none;\n",
              "      fill: #1967D2;\n",
              "      height: 32px;\n",
              "      padding: 0 0 0 0;\n",
              "      width: 32px;\n",
              "    }\n",
              "\n",
              "    .colab-df-convert:hover {\n",
              "      background-color: #E2EBFA;\n",
              "      box-shadow: 0px 1px 2px rgba(60, 64, 67, 0.3), 0px 1px 3px 1px rgba(60, 64, 67, 0.15);\n",
              "      fill: #174EA6;\n",
              "    }\n",
              "\n",
              "    [theme=dark] .colab-df-convert {\n",
              "      background-color: #3B4455;\n",
              "      fill: #D2E3FC;\n",
              "    }\n",
              "\n",
              "    [theme=dark] .colab-df-convert:hover {\n",
              "      background-color: #434B5C;\n",
              "      box-shadow: 0px 1px 3px 1px rgba(0, 0, 0, 0.15);\n",
              "      filter: drop-shadow(0px 1px 2px rgba(0, 0, 0, 0.3));\n",
              "      fill: #FFFFFF;\n",
              "    }\n",
              "  </style>\n",
              "\n",
              "      <script>\n",
              "        const buttonEl =\n",
              "          document.querySelector('#df-3dbf45b5-c12d-4cf9-8349-e72f371d8154 button.colab-df-convert');\n",
              "        buttonEl.style.display =\n",
              "          google.colab.kernel.accessAllowed ? 'block' : 'none';\n",
              "\n",
              "        async function convertToInteractive(key) {\n",
              "          const element = document.querySelector('#df-3dbf45b5-c12d-4cf9-8349-e72f371d8154');\n",
              "          const dataTable =\n",
              "            await google.colab.kernel.invokeFunction('convertToInteractive',\n",
              "                                                     [key], {});\n",
              "          if (!dataTable) return;\n",
              "\n",
              "          const docLinkHtml = 'Like what you see? Visit the ' +\n",
              "            '<a target=\"_blank\" href=https://colab.research.google.com/notebooks/data_table.ipynb>data table notebook</a>'\n",
              "            + ' to learn more about interactive tables.';\n",
              "          element.innerHTML = '';\n",
              "          dataTable['output_type'] = 'display_data';\n",
              "          await google.colab.output.renderOutput(dataTable, element);\n",
              "          const docLink = document.createElement('div');\n",
              "          docLink.innerHTML = docLinkHtml;\n",
              "          element.appendChild(docLink);\n",
              "        }\n",
              "      </script>\n",
              "    </div>\n",
              "  </div>\n",
              "  "
            ]
          },
          "metadata": {},
          "execution_count": 3
        }
      ],
      "source": [
        "# import os\n",
        "# os.chdir('C:\\\\GL Class\\\\Solution Preparation\\EDA')\n",
        "listings= pd.read_csv('/content/Data.csv')\n",
        "listings.head()"
      ],
      "id": "f7c0cdc5"
    },
    {
      "cell_type": "code",
      "execution_count": null,
      "metadata": {
        "id": "24914909"
      },
      "outputs": [],
      "source": [
        "pd.options.display.max_columns = None"
      ],
      "id": "24914909"
    },
    {
      "cell_type": "code",
      "execution_count": null,
      "metadata": {
        "colab": {
          "base_uri": "https://localhost:8080/",
          "height": 322
        },
        "id": "772fd802",
        "outputId": "7de4d4e3-5e73-47c1-e93d-b983cb4e445b"
      },
      "outputs": [
        {
          "output_type": "execute_result",
          "data": {
            "text/plain": [
              "  Ware_house_ID WH_Manager_ID Location_type WH_capacity_size   zone  \\\n",
              "0     WH_100000     EID_50000         Urban            Small   West   \n",
              "1     WH_100001     EID_50001         Rural            Large  North   \n",
              "2     WH_100002     EID_50002         Rural              Mid  South   \n",
              "3     WH_100003     EID_50003         Rural              Mid  North   \n",
              "4     WH_100004     EID_50004         Rural            Large  North   \n",
              "\n",
              "  WH_regional_zone  num_refill_req  transport_issue  Competitor_in_mkt  \\\n",
              "0           Zone 6               3                1                  2   \n",
              "1           Zone 5               0                0                  4   \n",
              "2           Zone 2               1                0                  4   \n",
              "3           Zone 3               7                4                  2   \n",
              "4           Zone 5               3                1                  2   \n",
              "\n",
              "   retail_shop_num  wh_owner_type  distributor_num  flood_impacted  \\\n",
              "0             4651         Rented               24               0   \n",
              "1             6217  Company Owned               47               0   \n",
              "2             4306  Company Owned               64               0   \n",
              "3             6000         Rented               50               0   \n",
              "4             4740  Company Owned               42               1   \n",
              "\n",
              "   flood_proof  electric_supply  dist_from_hub  workers_num  wh_est_year  \\\n",
              "0            1                1             91         29.0          NaN   \n",
              "1            0                1            210         31.0          NaN   \n",
              "2            0                0            161         37.0          NaN   \n",
              "3            0                0            103         21.0          NaN   \n",
              "4            0                1            112         25.0       2009.0   \n",
              "\n",
              "   storage_issue_reported  temp_reg_mach approved_wh_govt_certificate  \\\n",
              "0                      13              0                            A   \n",
              "1                       4              0                            A   \n",
              "2                      17              0                            A   \n",
              "3                      17              1                           A+   \n",
              "4                      18              0                            C   \n",
              "\n",
              "   wh_breakdown  govt_check  product_wg_ton  \n",
              "0             5          15           17115  \n",
              "1             3          17            5074  \n",
              "2             6          22           23137  \n",
              "3             3          27           22115  \n",
              "4             6          24           24071  "
            ],
            "text/html": [
              "\n",
              "  <div id=\"df-78b2cd80-7310-420f-8d1b-d2969f9a7448\">\n",
              "    <div class=\"colab-df-container\">\n",
              "      <div>\n",
              "<style scoped>\n",
              "    .dataframe tbody tr th:only-of-type {\n",
              "        vertical-align: middle;\n",
              "    }\n",
              "\n",
              "    .dataframe tbody tr th {\n",
              "        vertical-align: top;\n",
              "    }\n",
              "\n",
              "    .dataframe thead th {\n",
              "        text-align: right;\n",
              "    }\n",
              "</style>\n",
              "<table border=\"1\" class=\"dataframe\">\n",
              "  <thead>\n",
              "    <tr style=\"text-align: right;\">\n",
              "      <th></th>\n",
              "      <th>Ware_house_ID</th>\n",
              "      <th>WH_Manager_ID</th>\n",
              "      <th>Location_type</th>\n",
              "      <th>WH_capacity_size</th>\n",
              "      <th>zone</th>\n",
              "      <th>WH_regional_zone</th>\n",
              "      <th>num_refill_req</th>\n",
              "      <th>transport_issue</th>\n",
              "      <th>Competitor_in_mkt</th>\n",
              "      <th>retail_shop_num</th>\n",
              "      <th>wh_owner_type</th>\n",
              "      <th>distributor_num</th>\n",
              "      <th>flood_impacted</th>\n",
              "      <th>flood_proof</th>\n",
              "      <th>electric_supply</th>\n",
              "      <th>dist_from_hub</th>\n",
              "      <th>workers_num</th>\n",
              "      <th>wh_est_year</th>\n",
              "      <th>storage_issue_reported</th>\n",
              "      <th>temp_reg_mach</th>\n",
              "      <th>approved_wh_govt_certificate</th>\n",
              "      <th>wh_breakdown</th>\n",
              "      <th>govt_check</th>\n",
              "      <th>product_wg_ton</th>\n",
              "    </tr>\n",
              "  </thead>\n",
              "  <tbody>\n",
              "    <tr>\n",
              "      <th>0</th>\n",
              "      <td>WH_100000</td>\n",
              "      <td>EID_50000</td>\n",
              "      <td>Urban</td>\n",
              "      <td>Small</td>\n",
              "      <td>West</td>\n",
              "      <td>Zone 6</td>\n",
              "      <td>3</td>\n",
              "      <td>1</td>\n",
              "      <td>2</td>\n",
              "      <td>4651</td>\n",
              "      <td>Rented</td>\n",
              "      <td>24</td>\n",
              "      <td>0</td>\n",
              "      <td>1</td>\n",
              "      <td>1</td>\n",
              "      <td>91</td>\n",
              "      <td>29.0</td>\n",
              "      <td>NaN</td>\n",
              "      <td>13</td>\n",
              "      <td>0</td>\n",
              "      <td>A</td>\n",
              "      <td>5</td>\n",
              "      <td>15</td>\n",
              "      <td>17115</td>\n",
              "    </tr>\n",
              "    <tr>\n",
              "      <th>1</th>\n",
              "      <td>WH_100001</td>\n",
              "      <td>EID_50001</td>\n",
              "      <td>Rural</td>\n",
              "      <td>Large</td>\n",
              "      <td>North</td>\n",
              "      <td>Zone 5</td>\n",
              "      <td>0</td>\n",
              "      <td>0</td>\n",
              "      <td>4</td>\n",
              "      <td>6217</td>\n",
              "      <td>Company Owned</td>\n",
              "      <td>47</td>\n",
              "      <td>0</td>\n",
              "      <td>0</td>\n",
              "      <td>1</td>\n",
              "      <td>210</td>\n",
              "      <td>31.0</td>\n",
              "      <td>NaN</td>\n",
              "      <td>4</td>\n",
              "      <td>0</td>\n",
              "      <td>A</td>\n",
              "      <td>3</td>\n",
              "      <td>17</td>\n",
              "      <td>5074</td>\n",
              "    </tr>\n",
              "    <tr>\n",
              "      <th>2</th>\n",
              "      <td>WH_100002</td>\n",
              "      <td>EID_50002</td>\n",
              "      <td>Rural</td>\n",
              "      <td>Mid</td>\n",
              "      <td>South</td>\n",
              "      <td>Zone 2</td>\n",
              "      <td>1</td>\n",
              "      <td>0</td>\n",
              "      <td>4</td>\n",
              "      <td>4306</td>\n",
              "      <td>Company Owned</td>\n",
              "      <td>64</td>\n",
              "      <td>0</td>\n",
              "      <td>0</td>\n",
              "      <td>0</td>\n",
              "      <td>161</td>\n",
              "      <td>37.0</td>\n",
              "      <td>NaN</td>\n",
              "      <td>17</td>\n",
              "      <td>0</td>\n",
              "      <td>A</td>\n",
              "      <td>6</td>\n",
              "      <td>22</td>\n",
              "      <td>23137</td>\n",
              "    </tr>\n",
              "    <tr>\n",
              "      <th>3</th>\n",
              "      <td>WH_100003</td>\n",
              "      <td>EID_50003</td>\n",
              "      <td>Rural</td>\n",
              "      <td>Mid</td>\n",
              "      <td>North</td>\n",
              "      <td>Zone 3</td>\n",
              "      <td>7</td>\n",
              "      <td>4</td>\n",
              "      <td>2</td>\n",
              "      <td>6000</td>\n",
              "      <td>Rented</td>\n",
              "      <td>50</td>\n",
              "      <td>0</td>\n",
              "      <td>0</td>\n",
              "      <td>0</td>\n",
              "      <td>103</td>\n",
              "      <td>21.0</td>\n",
              "      <td>NaN</td>\n",
              "      <td>17</td>\n",
              "      <td>1</td>\n",
              "      <td>A+</td>\n",
              "      <td>3</td>\n",
              "      <td>27</td>\n",
              "      <td>22115</td>\n",
              "    </tr>\n",
              "    <tr>\n",
              "      <th>4</th>\n",
              "      <td>WH_100004</td>\n",
              "      <td>EID_50004</td>\n",
              "      <td>Rural</td>\n",
              "      <td>Large</td>\n",
              "      <td>North</td>\n",
              "      <td>Zone 5</td>\n",
              "      <td>3</td>\n",
              "      <td>1</td>\n",
              "      <td>2</td>\n",
              "      <td>4740</td>\n",
              "      <td>Company Owned</td>\n",
              "      <td>42</td>\n",
              "      <td>1</td>\n",
              "      <td>0</td>\n",
              "      <td>1</td>\n",
              "      <td>112</td>\n",
              "      <td>25.0</td>\n",
              "      <td>2009.0</td>\n",
              "      <td>18</td>\n",
              "      <td>0</td>\n",
              "      <td>C</td>\n",
              "      <td>6</td>\n",
              "      <td>24</td>\n",
              "      <td>24071</td>\n",
              "    </tr>\n",
              "  </tbody>\n",
              "</table>\n",
              "</div>\n",
              "      <button class=\"colab-df-convert\" onclick=\"convertToInteractive('df-78b2cd80-7310-420f-8d1b-d2969f9a7448')\"\n",
              "              title=\"Convert this dataframe to an interactive table.\"\n",
              "              style=\"display:none;\">\n",
              "        \n",
              "  <svg xmlns=\"http://www.w3.org/2000/svg\" height=\"24px\"viewBox=\"0 0 24 24\"\n",
              "       width=\"24px\">\n",
              "    <path d=\"M0 0h24v24H0V0z\" fill=\"none\"/>\n",
              "    <path d=\"M18.56 5.44l.94 2.06.94-2.06 2.06-.94-2.06-.94-.94-2.06-.94 2.06-2.06.94zm-11 1L8.5 8.5l.94-2.06 2.06-.94-2.06-.94L8.5 2.5l-.94 2.06-2.06.94zm10 10l.94 2.06.94-2.06 2.06-.94-2.06-.94-.94-2.06-.94 2.06-2.06.94z\"/><path d=\"M17.41 7.96l-1.37-1.37c-.4-.4-.92-.59-1.43-.59-.52 0-1.04.2-1.43.59L10.3 9.45l-7.72 7.72c-.78.78-.78 2.05 0 2.83L4 21.41c.39.39.9.59 1.41.59.51 0 1.02-.2 1.41-.59l7.78-7.78 2.81-2.81c.8-.78.8-2.07 0-2.86zM5.41 20L4 18.59l7.72-7.72 1.47 1.35L5.41 20z\"/>\n",
              "  </svg>\n",
              "      </button>\n",
              "      \n",
              "  <style>\n",
              "    .colab-df-container {\n",
              "      display:flex;\n",
              "      flex-wrap:wrap;\n",
              "      gap: 12px;\n",
              "    }\n",
              "\n",
              "    .colab-df-convert {\n",
              "      background-color: #E8F0FE;\n",
              "      border: none;\n",
              "      border-radius: 50%;\n",
              "      cursor: pointer;\n",
              "      display: none;\n",
              "      fill: #1967D2;\n",
              "      height: 32px;\n",
              "      padding: 0 0 0 0;\n",
              "      width: 32px;\n",
              "    }\n",
              "\n",
              "    .colab-df-convert:hover {\n",
              "      background-color: #E2EBFA;\n",
              "      box-shadow: 0px 1px 2px rgba(60, 64, 67, 0.3), 0px 1px 3px 1px rgba(60, 64, 67, 0.15);\n",
              "      fill: #174EA6;\n",
              "    }\n",
              "\n",
              "    [theme=dark] .colab-df-convert {\n",
              "      background-color: #3B4455;\n",
              "      fill: #D2E3FC;\n",
              "    }\n",
              "\n",
              "    [theme=dark] .colab-df-convert:hover {\n",
              "      background-color: #434B5C;\n",
              "      box-shadow: 0px 1px 3px 1px rgba(0, 0, 0, 0.15);\n",
              "      filter: drop-shadow(0px 1px 2px rgba(0, 0, 0, 0.3));\n",
              "      fill: #FFFFFF;\n",
              "    }\n",
              "  </style>\n",
              "\n",
              "      <script>\n",
              "        const buttonEl =\n",
              "          document.querySelector('#df-78b2cd80-7310-420f-8d1b-d2969f9a7448 button.colab-df-convert');\n",
              "        buttonEl.style.display =\n",
              "          google.colab.kernel.accessAllowed ? 'block' : 'none';\n",
              "\n",
              "        async function convertToInteractive(key) {\n",
              "          const element = document.querySelector('#df-78b2cd80-7310-420f-8d1b-d2969f9a7448');\n",
              "          const dataTable =\n",
              "            await google.colab.kernel.invokeFunction('convertToInteractive',\n",
              "                                                     [key], {});\n",
              "          if (!dataTable) return;\n",
              "\n",
              "          const docLinkHtml = 'Like what you see? Visit the ' +\n",
              "            '<a target=\"_blank\" href=https://colab.research.google.com/notebooks/data_table.ipynb>data table notebook</a>'\n",
              "            + ' to learn more about interactive tables.';\n",
              "          element.innerHTML = '';\n",
              "          dataTable['output_type'] = 'display_data';\n",
              "          await google.colab.output.renderOutput(dataTable, element);\n",
              "          const docLink = document.createElement('div');\n",
              "          docLink.innerHTML = docLinkHtml;\n",
              "          element.appendChild(docLink);\n",
              "        }\n",
              "      </script>\n",
              "    </div>\n",
              "  </div>\n",
              "  "
            ]
          },
          "metadata": {},
          "execution_count": 5
        }
      ],
      "source": [
        "listings.head()"
      ],
      "id": "772fd802"
    },
    {
      "cell_type": "code",
      "execution_count": null,
      "metadata": {
        "colab": {
          "base_uri": "https://localhost:8080/"
        },
        "id": "00a0f5fa",
        "outputId": "01d1a29f-292c-4e52-8024-5bfe0fb00d8a"
      },
      "outputs": [
        {
          "output_type": "execute_result",
          "data": {
            "text/plain": [
              "(25000, 24)"
            ]
          },
          "metadata": {},
          "execution_count": 6
        }
      ],
      "source": [
        "## Checking the shape of the data: Number of columns and rows\n",
        "\n",
        "listings.shape"
      ],
      "id": "00a0f5fa"
    },
    {
      "cell_type": "code",
      "execution_count": null,
      "metadata": {
        "colab": {
          "base_uri": "https://localhost:8080/"
        },
        "id": "7059d26e",
        "outputId": "99f546ed-30b6-4483-883c-2dc928402337"
      },
      "outputs": [
        {
          "output_type": "stream",
          "name": "stdout",
          "text": [
            "<class 'pandas.core.frame.DataFrame'>\n",
            "RangeIndex: 25000 entries, 0 to 24999\n",
            "Data columns (total 24 columns):\n",
            " #   Column                        Non-Null Count  Dtype  \n",
            "---  ------                        --------------  -----  \n",
            " 0   Ware_house_ID                 25000 non-null  object \n",
            " 1   WH_Manager_ID                 25000 non-null  object \n",
            " 2   Location_type                 25000 non-null  object \n",
            " 3   WH_capacity_size              25000 non-null  object \n",
            " 4   zone                          25000 non-null  object \n",
            " 5   WH_regional_zone              25000 non-null  object \n",
            " 6   num_refill_req                25000 non-null  int64  \n",
            " 7   transport_issue               25000 non-null  int64  \n",
            " 8   Competitor_in_mkt             25000 non-null  int64  \n",
            " 9   retail_shop_num               25000 non-null  int64  \n",
            " 10  wh_owner_type                 25000 non-null  object \n",
            " 11  distributor_num               25000 non-null  int64  \n",
            " 12  flood_impacted                25000 non-null  int64  \n",
            " 13  flood_proof                   25000 non-null  int64  \n",
            " 14  electric_supply               25000 non-null  int64  \n",
            " 15  dist_from_hub                 25000 non-null  int64  \n",
            " 16  workers_num                   24010 non-null  float64\n",
            " 17  wh_est_year                   13119 non-null  float64\n",
            " 18  storage_issue_reported        25000 non-null  int64  \n",
            " 19  temp_reg_mach                 25000 non-null  int64  \n",
            " 20  approved_wh_govt_certificate  24092 non-null  object \n",
            " 21  wh_breakdown                  25000 non-null  int64  \n",
            " 22  govt_check                    25000 non-null  int64  \n",
            " 23  product_wg_ton                25000 non-null  int64  \n",
            "dtypes: float64(2), int64(14), object(8)\n",
            "memory usage: 4.6+ MB\n"
          ]
        }
      ],
      "source": [
        "listings.info()"
      ],
      "id": "7059d26e"
    },
    {
      "cell_type": "code",
      "execution_count": null,
      "metadata": {
        "colab": {
          "base_uri": "https://localhost:8080/"
        },
        "id": "1760f9fc",
        "outputId": "5aaf2095-f06c-49d3-8402-3eb7ab90e49f",
        "scrolled": true
      },
      "outputs": [
        {
          "output_type": "execute_result",
          "data": {
            "text/plain": [
              "wh_est_year                     11881\n",
              "workers_num                       990\n",
              "approved_wh_govt_certificate      908\n",
              "dtype: int64"
            ]
          },
          "metadata": {},
          "execution_count": 8
        }
      ],
      "source": [
        "### Examine missing values   What is standard practice of dropping Nan Valus????\n",
        "listings_na = listings.isna().sum()\n",
        "listings_na[listings_na.values > 0].sort_values(ascending=False) # Find out all variables that contain missing values"
      ],
      "id": "1760f9fc"
    },
    {
      "cell_type": "code",
      "execution_count": null,
      "metadata": {
        "id": "471565fc"
      },
      "outputs": [],
      "source": [
        "#Target Variable Analysis"
      ],
      "id": "471565fc"
    },
    {
      "cell_type": "code",
      "execution_count": null,
      "metadata": {
        "colab": {
          "base_uri": "https://localhost:8080/"
        },
        "id": "98131356",
        "outputId": "0630a353-88c0-4e35-a1bc-96151e99b6c8",
        "scrolled": true
      },
      "outputs": [
        {
          "output_type": "execute_result",
          "data": {
            "text/plain": [
              "count     25000.000000\n",
              "unique             NaN\n",
              "top                NaN\n",
              "freq               NaN\n",
              "mean      22102.632920\n",
              "std       11607.755077\n",
              "min        2065.000000\n",
              "25%       13059.000000\n",
              "50%       22101.000000\n",
              "75%       30103.000000\n",
              "max       55151.000000\n",
              "Name: product_wg_ton, dtype: float64"
            ]
          },
          "metadata": {},
          "execution_count": 10
        }
      ],
      "source": [
        "### Let's examine the target column which is product_wg_ton\n",
        "\n",
        "listings.describe(include=\"all\")[\"product_wg_ton\"]"
      ],
      "id": "98131356"
    },
    {
      "cell_type": "code",
      "execution_count": null,
      "metadata": {
        "colab": {
          "base_uri": "https://localhost:8080/"
        },
        "id": "70541f41",
        "outputId": "2887f3ca-e2d2-4a01-8920-ca11c1c112d7"
      },
      "outputs": [
        {
          "output_type": "stream",
          "name": "stdout",
          "text": [
            "0.5% properties have a product_wg_ton lower than  3090.99\n",
            "  1% properties have a product_wg_ton lower than  3130.00\n",
            "  5% properties have a product_wg_ton lower than  5128.00\n",
            " 10% properties have a product_wg_ton lower than  6134.00\n",
            " 90% properties have a product_wg_ton lower than  37147.00\n",
            " 95% properties have a product_wg_ton lower than  43113.00\n",
            " 99% properties have a product_wg_ton lower than  51075.02\n",
            "99.5% properties have a product_wg_ton lower than  52117.01\n"
          ]
        }
      ],
      "source": [
        "#Let's look at the distribution of price at different percentiles\n",
        "print(\"0.5% properties have a product_wg_ton lower than {0: .2f}\".format(np.percentile(listings[\"product_wg_ton\"], 0.5)))\n",
        "print(\"  1% properties have a product_wg_ton lower than {0: .2f}\".format(np.percentile(listings[\"product_wg_ton\"], 1)))\n",
        "print(\"  5% properties have a product_wg_ton lower than {0: .2f}\".format(np.percentile(listings[\"product_wg_ton\"], 5)))\n",
        "print(\" 10% properties have a product_wg_ton lower than {0: .2f}\".format(np.percentile(listings[\"product_wg_ton\"], 10)))\n",
        "print(\" 90% properties have a product_wg_ton lower than {0: .2f}\".format(np.percentile(listings[\"product_wg_ton\"], 90)))\n",
        "print(\" 95% properties have a product_wg_ton lower than {0: .2f}\".format(np.percentile(listings[\"product_wg_ton\"], 95)))\n",
        "print(\" 99% properties have a product_wg_ton lower than {0: .2f}\".format(np.percentile(listings[\"product_wg_ton\"], 99)))\n",
        "print(\"99.5% properties have a product_wg_ton lower than {0: .2f}\".format(np.percentile(listings[\"product_wg_ton\"], 99.5)))"
      ],
      "id": "70541f41"
    },
    {
      "cell_type": "code",
      "execution_count": null,
      "metadata": {
        "colab": {
          "base_uri": "https://localhost:8080/",
          "height": 629
        },
        "id": "29d27472",
        "outputId": "42a78213-0201-4228-d2d1-de2248f09c71"
      },
      "outputs": [
        {
          "output_type": "stream",
          "name": "stderr",
          "text": [
            "/usr/local/lib/python3.8/dist-packages/seaborn/distributions.py:2619: FutureWarning: `distplot` is a deprecated function and will be removed in a future version. Please adapt your code to use either `displot` (a figure-level function with similar flexibility) or `histplot` (an axes-level function for histograms).\n",
            "  warnings.warn(msg, FutureWarning)\n"
          ]
        },
        {
          "output_type": "execute_result",
          "data": {
            "text/plain": [
              "<matplotlib.axes._subplots.AxesSubplot at 0x7f25201ed430>"
            ]
          },
          "metadata": {},
          "execution_count": 12
        },
        {
          "output_type": "display_data",
          "data": {
            "text/plain": [
              "<Figure size 1368x648 with 1 Axes>"
            ],
            "image/png": "[encoded data removed]"
          },
          "metadata": {}
        }
      ],
      "source": [
        "plt.figure(figsize=(19,9))\n",
        "sns.distplot(listings[\"product_wg_ton\"],bins = 26,kde = False,color = 'b',hist_kws = {'linewidth' : 0.5,'edgecolor' : 'black'})"
      ],
      "id": "29d27472"
    },
    {
      "cell_type": "code",
      "execution_count": null,
      "metadata": {
        "id": "4c4e87d2"
      },
      "outputs": [],
      "source": [
        "#Log transformation of target variable"
      ],
      "id": "4c4e87d2"
    },
    {
      "cell_type": "code",
      "execution_count": null,
      "metadata": {
        "colab": {
          "base_uri": "https://localhost:8080/",
          "height": 285
        },
        "id": "e6616546",
        "outputId": "cf597c05-788f-4d11-f4df-3e43132b6f9c",
        "scrolled": true
      },
      "outputs": [
        {
          "output_type": "display_data",
          "data": {
            "text/plain": [
              "<Figure size 432x288 with 1 Axes>"
            ],
            "image/png": "[encoded data removed]"
          },
          "metadata": {}
        }
      ],
      "source": [
        "sns.histplot(np.log(listings[\"product_wg_ton\"]),bins=20);"
      ],
      "id": "e6616546"
    },
    {
      "cell_type": "code",
      "execution_count": null,
      "metadata": {
        "colab": {
          "base_uri": "https://localhost:8080/"
        },
        "id": "7001633c",
        "outputId": "ddad0e22-bf56-438d-c389-f9529e6b3939"
      },
      "outputs": [
        {
          "output_type": "stream",
          "name": "stderr",
          "text": [
            "<ipython-input-15-28df6a01928b>:1: DeprecationWarning: `np.object` is a deprecated alias for the builtin `object`. To silence this warning, use `object` by itself. Doing this will not modify any behavior and is safe. \n",
            "Deprecated in NumPy 1.20; for more details and guidance: https://numpy.org/devdocs/release/1.20.0-notes.html#deprecations\n",
            "  listings[\"flood_impacted\"]=listings[\"flood_impacted\"].astype(np.object)\n",
            "<ipython-input-15-28df6a01928b>:2: DeprecationWarning: `np.object` is a deprecated alias for the builtin `object`. To silence this warning, use `object` by itself. Doing this will not modify any behavior and is safe. \n",
            "Deprecated in NumPy 1.20; for more details and guidance: https://numpy.org/devdocs/release/1.20.0-notes.html#deprecations\n",
            "  listings[\"flood_proof\"]=listings[\"flood_proof\"].astype(np.object)\n",
            "<ipython-input-15-28df6a01928b>:3: DeprecationWarning: `np.object` is a deprecated alias for the builtin `object`. To silence this warning, use `object` by itself. Doing this will not modify any behavior and is safe. \n",
            "Deprecated in NumPy 1.20; for more details and guidance: https://numpy.org/devdocs/release/1.20.0-notes.html#deprecations\n",
            "  listings[\"electric_supply\"]=listings[\"electric_supply\"].astype(np.object)\n",
            "<ipython-input-15-28df6a01928b>:4: DeprecationWarning: `np.object` is a deprecated alias for the builtin `object`. To silence this warning, use `object` by itself. Doing this will not modify any behavior and is safe. \n",
            "Deprecated in NumPy 1.20; for more details and guidance: https://numpy.org/devdocs/release/1.20.0-notes.html#deprecations\n",
            "  listings[\"temp_reg_mach\"]=listings[\"temp_reg_mach\"].astype(np.object)\n"
          ]
        }
      ],
      "source": [
        "listings[\"flood_impacted\"]=listings[\"flood_impacted\"].astype(np.object)\n",
        "listings[\"flood_proof\"]=listings[\"flood_proof\"].astype(np.object)\n",
        "listings[\"electric_supply\"]=listings[\"electric_supply\"].astype(np.object)\n",
        "listings[\"temp_reg_mach\"]=listings[\"temp_reg_mach\"].astype(np.object)"
      ],
      "id": "7001633c"
    },
    {
      "cell_type": "code",
      "execution_count": null,
      "metadata": {
        "colab": {
          "base_uri": "https://localhost:8080/"
        },
        "id": "8bbb1c86",
        "outputId": "115f4e28-e421-44a5-d994-e70b5cfa5b45"
      },
      "outputs": [
        {
          "output_type": "execute_result",
          "data": {
            "text/plain": [
              "Ware_house_ID                       0\n",
              "WH_Manager_ID                       0\n",
              "Location_type                       0\n",
              "WH_capacity_size                    0\n",
              "zone                                0\n",
              "WH_regional_zone                    0\n",
              "num_refill_req                      0\n",
              "transport_issue                     0\n",
              "Competitor_in_mkt                   0\n",
              "retail_shop_num                     0\n",
              "wh_owner_type                       0\n",
              "distributor_num                     0\n",
              "flood_impacted                      0\n",
              "flood_proof                         0\n",
              "electric_supply                     0\n",
              "dist_from_hub                       0\n",
              "workers_num                       990\n",
              "wh_est_year                     11881\n",
              "storage_issue_reported              0\n",
              "temp_reg_mach                       0\n",
              "approved_wh_govt_certificate      908\n",
              "wh_breakdown                        0\n",
              "govt_check                          0\n",
              "product_wg_ton                      0\n",
              "dtype: int64"
            ]
          },
          "metadata": {},
          "execution_count": 16
        }
      ],
      "source": [
        "listings.isnull().sum()"
      ],
      "id": "8bbb1c86"
    },
    {
      "cell_type": "code",
      "execution_count": null,
      "metadata": {
        "id": "20427864"
      },
      "outputs": [],
      "source": [
        "for column in listings[['workers_num', 'wh_est_year']]:\n",
        "    median = listings[column].median()\n",
        "    listings[column] = listings[column].fillna(median)"
      ],
      "id": "20427864"
    },
    {
      "cell_type": "markdown",
      "metadata": {
        "id": "qnMnSq2kILyb"
      },
      "source": [
        "Adding New Feature Duration of Estblished Warehouse Years "
      ],
      "id": "qnMnSq2kILyb"
    },
    {
      "cell_type": "code",
      "execution_count": null,
      "metadata": {
        "id": "zz0eqIYukgzZ"
      },
      "outputs": [],
      "source": [
        "listings[\"Current_Year\"] = 2023"
      ],
      "id": "zz0eqIYukgzZ"
    },
    {
      "cell_type": "code",
      "execution_count": null,
      "metadata": {
        "id": "GiGMdtrYpKMD"
      },
      "outputs": [],
      "source": [
        "listings[\"Dur_Wh_Est_Year\"] = listings[\"Current_Year\"]-listings[\"wh_est_year\"]"
      ],
      "id": "GiGMdtrYpKMD"
    },
    {
      "cell_type": "code",
      "execution_count": null,
      "metadata": {
        "colab": {
          "base_uri": "https://localhost:8080/",
          "height": 488
        },
        "id": "iBAHBRsEpnpJ",
        "outputId": "b77ec7f3-9e9e-40d6-bb12-735ff5c6108d"
      },
      "outputs": [
        {
          "output_type": "execute_result",
          "data": {
            "text/plain": [
              "                          count         mean           std     min      25%  \\\n",
              "num_refill_req          25000.0      4.08904      2.606612     0.0      2.0   \n",
              "transport_issue         25000.0      0.77368      1.199449     0.0      0.0   \n",
              "Competitor_in_mkt       25000.0      3.10420      1.141663     0.0      2.0   \n",
              "retail_shop_num         25000.0   4985.71156   1052.825252  1821.0   4313.0   \n",
              "distributor_num         25000.0     42.41812     16.064329    15.0     29.0   \n",
              "dist_from_hub           25000.0    163.53732     62.718609    55.0    109.0   \n",
              "workers_num             25000.0     28.90700      7.717275    10.0     24.0   \n",
              "wh_est_year             25000.0   2009.20108      5.456731  1996.0   2009.0   \n",
              "storage_issue_reported  25000.0     17.13044      9.161108     0.0     10.0   \n",
              "wh_breakdown            25000.0      3.48204      1.690335     0.0      2.0   \n",
              "govt_check              25000.0     18.81228      8.632382     1.0     11.0   \n",
              "product_wg_ton          25000.0  22102.63292  11607.755077  2065.0  13059.0   \n",
              "Current_Year            25000.0   2023.00000      0.000000  2023.0   2023.0   \n",
              "Dur_Wh_Est_Year         25000.0     13.79892      5.456731     0.0     13.0   \n",
              "\n",
              "                            50%      75%      max  \n",
              "num_refill_req              4.0      6.0      8.0  \n",
              "transport_issue             0.0      1.0      5.0  \n",
              "Competitor_in_mkt           3.0      4.0     12.0  \n",
              "retail_shop_num          4859.0   5500.0  11008.0  \n",
              "distributor_num            42.0     56.0     70.0  \n",
              "dist_from_hub             164.0    218.0    271.0  \n",
              "workers_num                28.0     33.0     98.0  \n",
              "wh_est_year              2009.0   2010.0   2023.0  \n",
              "storage_issue_reported     18.0     24.0     39.0  \n",
              "wh_breakdown                3.0      5.0      6.0  \n",
              "govt_check                 21.0     26.0     32.0  \n",
              "product_wg_ton          22101.0  30103.0  55151.0  \n",
              "Current_Year             2023.0   2023.0   2023.0  \n",
              "Dur_Wh_Est_Year            14.0     14.0     27.0  "
            ],
            "text/html": [
              "\n",
              "  <div id=\"df-3e0aa459-1ac3-498c-99a9-adf488764d70\">\n",
              "    <div class=\"colab-df-container\">\n",
              "      <div>\n",
              "<style scoped>\n",
              "    .dataframe tbody tr th:only-of-type {\n",
              "        vertical-align: middle;\n",
              "    }\n",
              "\n",
              "    .dataframe tbody tr th {\n",
              "        vertical-align: top;\n",
              "    }\n",
              "\n",
              "    .dataframe thead th {\n",
              "        text-align: right;\n",
              "    }\n",
              "</style>\n",
              "<table border=\"1\" class=\"dataframe\">\n",
              "  <thead>\n",
              "    <tr style=\"text-align: right;\">\n",
              "      <th></th>\n",
              "      <th>count</th>\n",
              "      <th>mean</th>\n",
              "      <th>std</th>\n",
              "      <th>min</th>\n",
              "      <th>25%</th>\n",
              "      <th>50%</th>\n",
              "      <th>75%</th>\n",
              "      <th>max</th>\n",
              "    </tr>\n",
              "  </thead>\n",
              "  <tbody>\n",
              "    <tr>\n",
              "      <th>num_refill_req</th>\n",
              "      <td>25000.0</td>\n",
              "      <td>4.08904</td>\n",
              "      <td>2.606612</td>\n",
              "      <td>0.0</td>\n",
              "      <td>2.0</td>\n",
              "      <td>4.0</td>\n",
              "      <td>6.0</td>\n",
              "      <td>8.0</td>\n",
              "    </tr>\n",
              "    <tr>\n",
              "      <th>transport_issue</th>\n",
              "      <td>25000.0</td>\n",
              "      <td>0.77368</td>\n",
              "      <td>1.199449</td>\n",
              "      <td>0.0</td>\n",
              "      <td>0.0</td>\n",
              "      <td>0.0</td>\n",
              "      <td>1.0</td>\n",
              "      <td>5.0</td>\n",
              "    </tr>\n",
              "    <tr>\n",
              "      <th>Competitor_in_mkt</th>\n",
              "      <td>25000.0</td>\n",
              "      <td>3.10420</td>\n",
              "      <td>1.141663</td>\n",
              "      <td>0.0</td>\n",
              "      <td>2.0</td>\n",
              "      <td>3.0</td>\n",
              "      <td>4.0</td>\n",
              "      <td>12.0</td>\n",
              "    </tr>\n",
              "    <tr>\n",
              "      <th>retail_shop_num</th>\n",
              "      <td>25000.0</td>\n",
              "      <td>4985.71156</td>\n",
              "      <td>1052.825252</td>\n",
              "      <td>1821.0</td>\n",
              "      <td>4313.0</td>\n",
              "      <td>4859.0</td>\n",
              "      <td>5500.0</td>\n",
              "      <td>11008.0</td>\n",
              "    </tr>\n",
              "    <tr>\n",
              "      <th>distributor_num</th>\n",
              "      <td>25000.0</td>\n",
              "      <td>42.41812</td>\n",
              "      <td>16.064329</td>\n",
              "      <td>15.0</td>\n",
              "      <td>29.0</td>\n",
              "      <td>42.0</td>\n",
              "      <td>56.0</td>\n",
              "      <td>70.0</td>\n",
              "    </tr>\n",
              "    <tr>\n",
              "      <th>dist_from_hub</th>\n",
              "      <td>25000.0</td>\n",
              "      <td>163.53732</td>\n",
              "      <td>62.718609</td>\n",
              "      <td>55.0</td>\n",
              "      <td>109.0</td>\n",
              "      <td>164.0</td>\n",
              "      <td>218.0</td>\n",
              "      <td>271.0</td>\n",
              "    </tr>\n",
              "    <tr>\n",
              "      <th>workers_num</th>\n",
              "      <td>25000.0</td>\n",
              "      <td>28.90700</td>\n",
              "      <td>7.717275</td>\n",
              "      <td>10.0</td>\n",
              "      <td>24.0</td>\n",
              "      <td>28.0</td>\n",
              "      <td>33.0</td>\n",
              "      <td>98.0</td>\n",
              "    </tr>\n",
              "    <tr>\n",
              "      <th>wh_est_year</th>\n",
              "      <td>25000.0</td>\n",
              "      <td>2009.20108</td>\n",
              "      <td>5.456731</td>\n",
              "      <td>1996.0</td>\n",
              "      <td>2009.0</td>\n",
              "      <td>2009.0</td>\n",
              "      <td>2010.0</td>\n",
              "      <td>2023.0</td>\n",
              "    </tr>\n",
              "    <tr>\n",
              "      <th>storage_issue_reported</th>\n",
              "      <td>25000.0</td>\n",
              "      <td>17.13044</td>\n",
              "      <td>9.161108</td>\n",
              "      <td>0.0</td>\n",
              "      <td>10.0</td>\n",
              "      <td>18.0</td>\n",
              "      <td>24.0</td>\n",
              "      <td>39.0</td>\n",
              "    </tr>\n",
              "    <tr>\n",
              "      <th>wh_breakdown</th>\n",
              "      <td>25000.0</td>\n",
              "      <td>3.48204</td>\n",
              "      <td>1.690335</td>\n",
              "      <td>0.0</td>\n",
              "      <td>2.0</td>\n",
              "      <td>3.0</td>\n",
              "      <td>5.0</td>\n",
              "      <td>6.0</td>\n",
              "    </tr>\n",
              "    <tr>\n",
              "      <th>govt_check</th>\n",
              "      <td>25000.0</td>\n",
              "      <td>18.81228</td>\n",
              "      <td>8.632382</td>\n",
              "      <td>1.0</td>\n",
              "      <td>11.0</td>\n",
              "      <td>21.0</td>\n",
              "      <td>26.0</td>\n",
              "      <td>32.0</td>\n",
              "    </tr>\n",
              "    <tr>\n",
              "      <th>product_wg_ton</th>\n",
              "      <td>25000.0</td>\n",
              "      <td>22102.63292</td>\n",
              "      <td>11607.755077</td>\n",
              "      <td>2065.0</td>\n",
              "      <td>13059.0</td>\n",
              "      <td>22101.0</td>\n",
              "      <td>30103.0</td>\n",
              "      <td>55151.0</td>\n",
              "    </tr>\n",
              "    <tr>\n",
              "      <th>Current_Year</th>\n",
              "      <td>25000.0</td>\n",
              "      <td>2023.00000</td>\n",
              "      <td>0.000000</td>\n",
              "      <td>2023.0</td>\n",
              "      <td>2023.0</td>\n",
              "      <td>2023.0</td>\n",
              "      <td>2023.0</td>\n",
              "      <td>2023.0</td>\n",
              "    </tr>\n",
              "    <tr>\n",
              "      <th>Dur_Wh_Est_Year</th>\n",
              "      <td>25000.0</td>\n",
              "      <td>13.79892</td>\n",
              "      <td>5.456731</td>\n",
              "      <td>0.0</td>\n",
              "      <td>13.0</td>\n",
              "      <td>14.0</td>\n",
              "      <td>14.0</td>\n",
              "      <td>27.0</td>\n",
              "    </tr>\n",
              "  </tbody>\n",
              "</table>\n",
              "</div>\n",
              "      <button class=\"colab-df-convert\" onclick=\"convertToInteractive('df-3e0aa459-1ac3-498c-99a9-adf488764d70')\"\n",
              "              title=\"Convert this dataframe to an interactive table.\"\n",
              "              style=\"display:none;\">\n",
              "        \n",
              "  <svg xmlns=\"http://www.w3.org/2000/svg\" height=\"24px\"viewBox=\"0 0 24 24\"\n",
              "       width=\"24px\">\n",
              "    <path d=\"M0 0h24v24H0V0z\" fill=\"none\"/>\n",
              "    <path d=\"M18.56 5.44l.94 2.06.94-2.06 2.06-.94-2.06-.94-.94-2.06-.94 2.06-2.06.94zm-11 1L8.5 8.5l.94-2.06 2.06-.94-2.06-.94L8.5 2.5l-.94 2.06-2.06.94zm10 10l.94 2.06.94-2.06 2.06-.94-2.06-.94-.94-2.06-.94 2.06-2.06.94z\"/><path d=\"M17.41 7.96l-1.37-1.37c-.4-.4-.92-.59-1.43-.59-.52 0-1.04.2-1.43.59L10.3 9.45l-7.72 7.72c-.78.78-.78 2.05 0 2.83L4 21.41c.39.39.9.59 1.41.59.51 0 1.02-.2 1.41-.59l7.78-7.78 2.81-2.81c.8-.78.8-2.07 0-2.86zM5.41 20L4 18.59l7.72-7.72 1.47 1.35L5.41 20z\"/>\n",
              "  </svg>\n",
              "      </button>\n",
              "      \n",
              "  <style>\n",
              "    .colab-df-container {\n",
              "      display:flex;\n",
              "      flex-wrap:wrap;\n",
              "      gap: 12px;\n",
              "    }\n",
              "\n",
              "    .colab-df-convert {\n",
              "      background-color: #E8F0FE;\n",
              "      border: none;\n",
              "      border-radius: 50%;\n",
              "      cursor: pointer;\n",
              "      display: none;\n",
              "      fill: #1967D2;\n",
              "      height: 32px;\n",
              "      padding: 0 0 0 0;\n",
              "      width: 32px;\n",
              "    }\n",
              "\n",
              "    .colab-df-convert:hover {\n",
              "      background-color: #E2EBFA;\n",
              "      box-shadow: 0px 1px 2px rgba(60, 64, 67, 0.3), 0px 1px 3px 1px rgba(60, 64, 67, 0.15);\n",
              "      fill: #174EA6;\n",
              "    }\n",
              "\n",
              "    [theme=dark] .colab-df-convert {\n",
              "      background-color: #3B4455;\n",
              "      fill: #D2E3FC;\n",
              "    }\n",
              "\n",
              "    [theme=dark] .colab-df-convert:hover {\n",
              "      background-color: #434B5C;\n",
              "      box-shadow: 0px 1px 3px 1px rgba(0, 0, 0, 0.15);\n",
              "      filter: drop-shadow(0px 1px 2px rgba(0, 0, 0, 0.3));\n",
              "      fill: #FFFFFF;\n",
              "    }\n",
              "  </style>\n",
              "\n",
              "      <script>\n",
              "        const buttonEl =\n",
              "          document.querySelector('#df-3e0aa459-1ac3-498c-99a9-adf488764d70 button.colab-df-convert');\n",
              "        buttonEl.style.display =\n",
              "          google.colab.kernel.accessAllowed ? 'block' : 'none';\n",
              "\n",
              "        async function convertToInteractive(key) {\n",
              "          const element = document.querySelector('#df-3e0aa459-1ac3-498c-99a9-adf488764d70');\n",
              "          const dataTable =\n",
              "            await google.colab.kernel.invokeFunction('convertToInteractive',\n",
              "                                                     [key], {});\n",
              "          if (!dataTable) return;\n",
              "\n",
              "          const docLinkHtml = 'Like what you see? Visit the ' +\n",
              "            '<a target=\"_blank\" href=https://colab.research.google.com/notebooks/data_table.ipynb>data table notebook</a>'\n",
              "            + ' to learn more about interactive tables.';\n",
              "          element.innerHTML = '';\n",
              "          dataTable['output_type'] = 'display_data';\n",
              "          await google.colab.output.renderOutput(dataTable, element);\n",
              "          const docLink = document.createElement('div');\n",
              "          docLink.innerHTML = docLinkHtml;\n",
              "          element.appendChild(docLink);\n",
              "        }\n",
              "      </script>\n",
              "    </div>\n",
              "  </div>\n",
              "  "
            ]
          },
          "metadata": {},
          "execution_count": 20
        }
      ],
      "source": [
        "listings.describe().T"
      ],
      "id": "iBAHBRsEpnpJ"
    },
    {
      "cell_type": "code",
      "execution_count": null,
      "metadata": {
        "id": "-xbxF-lrsMsK"
      },
      "outputs": [],
      "source": [
        "listings.drop('Current_Year',\n",
        "  axis='columns', inplace=True)"
      ],
      "id": "-xbxF-lrsMsK"
    },
    {
      "cell_type": "code",
      "execution_count": null,
      "metadata": {
        "id": "y8-iBGIFsvGW"
      },
      "outputs": [],
      "source": [
        "listings.drop('wh_est_year',\n",
        "  axis='columns', inplace=True)"
      ],
      "id": "y8-iBGIFsvGW"
    },
    {
      "cell_type": "code",
      "execution_count": null,
      "metadata": {
        "colab": {
          "base_uri": "https://localhost:8080/"
        },
        "id": "pwDNz87zxlH4",
        "outputId": "8a975151-f57b-4edd-b3c5-d4a89e7110b4"
      },
      "outputs": [
        {
          "output_type": "stream",
          "name": "stdout",
          "text": [
            "['Ware_house_ID', 'WH_Manager_ID', 'Location_type', 'WH_capacity_size', 'zone', 'WH_regional_zone', 'wh_owner_type', 'flood_impacted', 'flood_proof', 'electric_supply', 'temp_reg_mach', 'approved_wh_govt_certificate']\n",
            "['num_refill_req', 'transport_issue', 'Competitor_in_mkt', 'retail_shop_num', 'distributor_num', 'dist_from_hub', 'workers_num', 'storage_issue_reported', 'wh_breakdown', 'govt_check', 'product_wg_ton', 'Dur_Wh_Est_Year']\n"
          ]
        }
      ],
      "source": [
        "cat = []\n",
        "num = []\n",
        "for i in listings.columns:\n",
        "    if listings[i].dtype == 'object':\n",
        "        cat.append(i)\n",
        "    else:\n",
        "        num.append(i)\n",
        "print(cat)\n",
        "print(num)\n",
        "x_num=listings[num]\n",
        "y_cat=listings[cat]"
      ],
      "id": "pwDNz87zxlH4"
    },
    {
      "cell_type": "code",
      "execution_count": null,
      "metadata": {
        "colab": {
          "base_uri": "https://localhost:8080/"
        },
        "id": "-hnoQ-4ElPqj",
        "outputId": "94377d05-67fa-4a9e-b7b2-c142c81f5e95"
      },
      "outputs": [
        {
          "output_type": "stream",
          "name": "stdout",
          "text": [
            "<class 'pandas.core.frame.DataFrame'>\n",
            "RangeIndex: 25000 entries, 0 to 24999\n",
            "Data columns (total 24 columns):\n",
            " #   Column                        Non-Null Count  Dtype  \n",
            "---  ------                        --------------  -----  \n",
            " 0   Ware_house_ID                 25000 non-null  object \n",
            " 1   WH_Manager_ID                 25000 non-null  object \n",
            " 2   Location_type                 25000 non-null  object \n",
            " 3   WH_capacity_size              25000 non-null  object \n",
            " 4   zone                          25000 non-null  object \n",
            " 5   WH_regional_zone              25000 non-null  object \n",
            " 6   num_refill_req                25000 non-null  int64  \n",
            " 7   transport_issue               25000 non-null  int64  \n",
            " 8   Competitor_in_mkt             25000 non-null  int64  \n",
            " 9   retail_shop_num               25000 non-null  int64  \n",
            " 10  wh_owner_type                 25000 non-null  object \n",
            " 11  distributor_num               25000 non-null  int64  \n",
            " 12  flood_impacted                25000 non-null  object \n",
            " 13  flood_proof                   25000 non-null  object \n",
            " 14  electric_supply               25000 non-null  object \n",
            " 15  dist_from_hub                 25000 non-null  int64  \n",
            " 16  workers_num                   25000 non-null  float64\n",
            " 17  storage_issue_reported        25000 non-null  int64  \n",
            " 18  temp_reg_mach                 25000 non-null  object \n",
            " 19  approved_wh_govt_certificate  24092 non-null  object \n",
            " 20  wh_breakdown                  25000 non-null  int64  \n",
            " 21  govt_check                    25000 non-null  int64  \n",
            " 22  product_wg_ton                25000 non-null  int64  \n",
            " 23  Dur_Wh_Est_Year               25000 non-null  float64\n",
            "dtypes: float64(2), int64(10), object(12)\n",
            "memory usage: 4.6+ MB\n"
          ]
        }
      ],
      "source": [
        "listings.info()"
      ],
      "id": "-hnoQ-4ElPqj"
    },
    {
      "cell_type": "code",
      "execution_count": null,
      "metadata": {
        "id": "3f81006d"
      },
      "outputs": [],
      "source": [
        "for column in ['approved_wh_govt_certificate']:\n",
        "    listings[column].fillna(listings[column].mode()[0],inplace = True)"
      ],
      "id": "3f81006d"
    },
    {
      "cell_type": "code",
      "execution_count": null,
      "metadata": {
        "colab": {
          "base_uri": "https://localhost:8080/"
        },
        "id": "60d3d524",
        "outputId": "49c70bed-c88e-47a2-c258-e1f0a2ab8079"
      },
      "outputs": [
        {
          "output_type": "stream",
          "name": "stdout",
          "text": [
            "Number of duplicate rows = 0\n"
          ]
        }
      ],
      "source": [
        "dups = listings.duplicated()\n",
        "print('Number of duplicate rows = %d' % (dups.sum()))\n"
      ],
      "id": "60d3d524"
    },
    {
      "cell_type": "code",
      "execution_count": null,
      "metadata": {
        "colab": {
          "base_uri": "https://localhost:8080/",
          "height": 364
        },
        "id": "9d858ed6",
        "outputId": "595a086e-d786-468c-99b9-72a595e930ed"
      },
      "outputs": [
        {
          "output_type": "execute_result",
          "data": {
            "text/plain": [
              "       num_refill_req  transport_issue  Competitor_in_mkt  retail_shop_num  \\\n",
              "count    25000.000000     25000.000000       25000.000000     25000.000000   \n",
              "mean         4.089040         0.773680           3.104200      4985.711560   \n",
              "std          2.606612         1.199449           1.141663      1052.825252   \n",
              "min          0.000000         0.000000           0.000000      1821.000000   \n",
              "25%          2.000000         0.000000           2.000000      4313.000000   \n",
              "50%          4.000000         0.000000           3.000000      4859.000000   \n",
              "75%          6.000000         1.000000           4.000000      5500.000000   \n",
              "max          8.000000         5.000000          12.000000     11008.000000   \n",
              "\n",
              "       distributor_num  dist_from_hub   workers_num  storage_issue_reported  \\\n",
              "count     25000.000000   25000.000000  25000.000000            25000.000000   \n",
              "mean         42.418120     163.537320     28.907000               17.130440   \n",
              "std          16.064329      62.718609      7.717275                9.161108   \n",
              "min          15.000000      55.000000     10.000000                0.000000   \n",
              "25%          29.000000     109.000000     24.000000               10.000000   \n",
              "50%          42.000000     164.000000     28.000000               18.000000   \n",
              "75%          56.000000     218.000000     33.000000               24.000000   \n",
              "max          70.000000     271.000000     98.000000               39.000000   \n",
              "\n",
              "       wh_breakdown    govt_check  product_wg_ton  Dur_Wh_Est_Year  \n",
              "count  25000.000000  25000.000000    25000.000000     25000.000000  \n",
              "mean       3.482040     18.812280    22102.632920        13.798920  \n",
              "std        1.690335      8.632382    11607.755077         5.456731  \n",
              "min        0.000000      1.000000     2065.000000         0.000000  \n",
              "25%        2.000000     11.000000    13059.000000        13.000000  \n",
              "50%        3.000000     21.000000    22101.000000        14.000000  \n",
              "75%        5.000000     26.000000    30103.000000        14.000000  \n",
              "max        6.000000     32.000000    55151.000000        27.000000  "
            ],
            "text/html": [
              "\n",
              "  <div id=\"df-e089c81a-664f-41f4-9a4d-4bc858897e97\">\n",
              "    <div class=\"colab-df-container\">\n",
              "      <div>\n",
              "<style scoped>\n",
              "    .dataframe tbody tr th:only-of-type {\n",
              "        vertical-align: middle;\n",
              "    }\n",
              "\n",
              "    .dataframe tbody tr th {\n",
              "        vertical-align: top;\n",
              "    }\n",
              "\n",
              "    .dataframe thead th {\n",
              "        text-align: right;\n",
              "    }\n",
              "</style>\n",
              "<table border=\"1\" class=\"dataframe\">\n",
              "  <thead>\n",
              "    <tr style=\"text-align: right;\">\n",
              "      <th></th>\n",
              "      <th>num_refill_req</th>\n",
              "      <th>transport_issue</th>\n",
              "      <th>Competitor_in_mkt</th>\n",
              "      <th>retail_shop_num</th>\n",
              "      <th>distributor_num</th>\n",
              "      <th>dist_from_hub</th>\n",
              "      <th>workers_num</th>\n",
              "      <th>storage_issue_reported</th>\n",
              "      <th>wh_breakdown</th>\n",
              "      <th>govt_check</th>\n",
              "      <th>product_wg_ton</th>\n",
              "      <th>Dur_Wh_Est_Year</th>\n",
              "    </tr>\n",
              "  </thead>\n",
              "  <tbody>\n",
              "    <tr>\n",
              "      <th>count</th>\n",
              "      <td>25000.000000</td>\n",
              "      <td>25000.000000</td>\n",
              "      <td>25000.000000</td>\n",
              "      <td>25000.000000</td>\n",
              "      <td>25000.000000</td>\n",
              "      <td>25000.000000</td>\n",
              "      <td>25000.000000</td>\n",
              "      <td>25000.000000</td>\n",
              "      <td>25000.000000</td>\n",
              "      <td>25000.000000</td>\n",
              "      <td>25000.000000</td>\n",
              "      <td>25000.000000</td>\n",
              "    </tr>\n",
              "    <tr>\n",
              "      <th>mean</th>\n",
              "      <td>4.089040</td>\n",
              "      <td>0.773680</td>\n",
              "      <td>3.104200</td>\n",
              "      <td>4985.711560</td>\n",
              "      <td>42.418120</td>\n",
              "      <td>163.537320</td>\n",
              "      <td>28.907000</td>\n",
              "      <td>17.130440</td>\n",
              "      <td>3.482040</td>\n",
              "      <td>18.812280</td>\n",
              "      <td>22102.632920</td>\n",
              "      <td>13.798920</td>\n",
              "    </tr>\n",
              "    <tr>\n",
              "      <th>std</th>\n",
              "      <td>2.606612</td>\n",
              "      <td>1.199449</td>\n",
              "      <td>1.141663</td>\n",
              "      <td>1052.825252</td>\n",
              "      <td>16.064329</td>\n",
              "      <td>62.718609</td>\n",
              "      <td>7.717275</td>\n",
              "      <td>9.161108</td>\n",
              "      <td>1.690335</td>\n",
              "      <td>8.632382</td>\n",
              "      <td>11607.755077</td>\n",
              "      <td>5.456731</td>\n",
              "    </tr>\n",
              "    <tr>\n",
              "      <th>min</th>\n",
              "      <td>0.000000</td>\n",
              "      <td>0.000000</td>\n",
              "      <td>0.000000</td>\n",
              "      <td>1821.000000</td>\n",
              "      <td>15.000000</td>\n",
              "      <td>55.000000</td>\n",
              "      <td>10.000000</td>\n",
              "      <td>0.000000</td>\n",
              "      <td>0.000000</td>\n",
              "      <td>1.000000</td>\n",
              "      <td>2065.000000</td>\n",
              "      <td>0.000000</td>\n",
              "    </tr>\n",
              "    <tr>\n",
              "      <th>25%</th>\n",
              "      <td>2.000000</td>\n",
              "      <td>0.000000</td>\n",
              "      <td>2.000000</td>\n",
              "      <td>4313.000000</td>\n",
              "      <td>29.000000</td>\n",
              "      <td>109.000000</td>\n",
              "      <td>24.000000</td>\n",
              "      <td>10.000000</td>\n",
              "      <td>2.000000</td>\n",
              "      <td>11.000000</td>\n",
              "      <td>13059.000000</td>\n",
              "      <td>13.000000</td>\n",
              "    </tr>\n",
              "    <tr>\n",
              "      <th>50%</th>\n",
              "      <td>4.000000</td>\n",
              "      <td>0.000000</td>\n",
              "      <td>3.000000</td>\n",
              "      <td>4859.000000</td>\n",
              "      <td>42.000000</td>\n",
              "      <td>164.000000</td>\n",
              "      <td>28.000000</td>\n",
              "      <td>18.000000</td>\n",
              "      <td>3.000000</td>\n",
              "      <td>21.000000</td>\n",
              "      <td>22101.000000</td>\n",
              "      <td>14.000000</td>\n",
              "    </tr>\n",
              "    <tr>\n",
              "      <th>75%</th>\n",
              "      <td>6.000000</td>\n",
              "      <td>1.000000</td>\n",
              "      <td>4.000000</td>\n",
              "      <td>5500.000000</td>\n",
              "      <td>56.000000</td>\n",
              "      <td>218.000000</td>\n",
              "      <td>33.000000</td>\n",
              "      <td>24.000000</td>\n",
              "      <td>5.000000</td>\n",
              "      <td>26.000000</td>\n",
              "      <td>30103.000000</td>\n",
              "      <td>14.000000</td>\n",
              "    </tr>\n",
              "    <tr>\n",
              "      <th>max</th>\n",
              "      <td>8.000000</td>\n",
              "      <td>5.000000</td>\n",
              "      <td>12.000000</td>\n",
              "      <td>11008.000000</td>\n",
              "      <td>70.000000</td>\n",
              "      <td>271.000000</td>\n",
              "      <td>98.000000</td>\n",
              "      <td>39.000000</td>\n",
              "      <td>6.000000</td>\n",
              "      <td>32.000000</td>\n",
              "      <td>55151.000000</td>\n",
              "      <td>27.000000</td>\n",
              "    </tr>\n",
              "  </tbody>\n",
              "</table>\n",
              "</div>\n",
              "      <button class=\"colab-df-convert\" onclick=\"convertToInteractive('df-e089c81a-664f-41f4-9a4d-4bc858897e97')\"\n",
              "              title=\"Convert this dataframe to an interactive table.\"\n",
              "              style=\"display:none;\">\n",
              "        \n",
              "  <svg xmlns=\"http://www.w3.org/2000/svg\" height=\"24px\"viewBox=\"0 0 24 24\"\n",
              "       width=\"24px\">\n",
              "    <path d=\"M0 0h24v24H0V0z\" fill=\"none\"/>\n",
              "    <path d=\"M18.56 5.44l.94 2.06.94-2.06 2.06-.94-2.06-.94-.94-2.06-.94 2.06-2.06.94zm-11 1L8.5 8.5l.94-2.06 2.06-.94-2.06-.94L8.5 2.5l-.94 2.06-2.06.94zm10 10l.94 2.06.94-2.06 2.06-.94-2.06-.94-.94-2.06-.94 2.06-2.06.94z\"/><path d=\"M17.41 7.96l-1.37-1.37c-.4-.4-.92-.59-1.43-.59-.52 0-1.04.2-1.43.59L10.3 9.45l-7.72 7.72c-.78.78-.78 2.05 0 2.83L4 21.41c.39.39.9.59 1.41.59.51 0 1.02-.2 1.41-.59l7.78-7.78 2.81-2.81c.8-.78.8-2.07 0-2.86zM5.41 20L4 18.59l7.72-7.72 1.47 1.35L5.41 20z\"/>\n",
              "  </svg>\n",
              "      </button>\n",
              "      \n",
              "  <style>\n",
              "    .colab-df-container {\n",
              "      display:flex;\n",
              "      flex-wrap:wrap;\n",
              "      gap: 12px;\n",
              "    }\n",
              "\n",
              "    .colab-df-convert {\n",
              "      background-color: #E8F0FE;\n",
              "      border: none;\n",
              "      border-radius: 50%;\n",
              "      cursor: pointer;\n",
              "      display: none;\n",
              "      fill: #1967D2;\n",
              "      height: 32px;\n",
              "      padding: 0 0 0 0;\n",
              "      width: 32px;\n",
              "    }\n",
              "\n",
              "    .colab-df-convert:hover {\n",
              "      background-color: #E2EBFA;\n",
              "      box-shadow: 0px 1px 2px rgba(60, 64, 67, 0.3), 0px 1px 3px 1px rgba(60, 64, 67, 0.15);\n",
              "      fill: #174EA6;\n",
              "    }\n",
              "\n",
              "    [theme=dark] .colab-df-convert {\n",
              "      background-color: #3B4455;\n",
              "      fill: #D2E3FC;\n",
              "    }\n",
              "\n",
              "    [theme=dark] .colab-df-convert:hover {\n",
              "      background-color: #434B5C;\n",
              "      box-shadow: 0px 1px 3px 1px rgba(0, 0, 0, 0.15);\n",
              "      filter: drop-shadow(0px 1px 2px rgba(0, 0, 0, 0.3));\n",
              "      fill: #FFFFFF;\n",
              "    }\n",
              "  </style>\n",
              "\n",
              "      <script>\n",
              "        const buttonEl =\n",
              "          document.querySelector('#df-e089c81a-664f-41f4-9a4d-4bc858897e97 button.colab-df-convert');\n",
              "        buttonEl.style.display =\n",
              "          google.colab.kernel.accessAllowed ? 'block' : 'none';\n",
              "\n",
              "        async function convertToInteractive(key) {\n",
              "          const element = document.querySelector('#df-e089c81a-664f-41f4-9a4d-4bc858897e97');\n",
              "          const dataTable =\n",
              "            await google.colab.kernel.invokeFunction('convertToInteractive',\n",
              "                                                     [key], {});\n",
              "          if (!dataTable) return;\n",
              "\n",
              "          const docLinkHtml = 'Like what you see? Visit the ' +\n",
              "            '<a target=\"_blank\" href=https://colab.research.google.com/notebooks/data_table.ipynb>data table notebook</a>'\n",
              "            + ' to learn more about interactive tables.';\n",
              "          element.innerHTML = '';\n",
              "          dataTable['output_type'] = 'display_data';\n",
              "          await google.colab.output.renderOutput(dataTable, element);\n",
              "          const docLink = document.createElement('div');\n",
              "          docLink.innerHTML = docLinkHtml;\n",
              "          element.appendChild(docLink);\n",
              "        }\n",
              "      </script>\n",
              "    </div>\n",
              "  </div>\n",
              "  "
            ]
          },
          "metadata": {},
          "execution_count": 27
        }
      ],
      "source": [
        "x_num.describe()"
      ],
      "id": "9d858ed6"
    },
    {
      "cell_type": "code",
      "execution_count": null,
      "metadata": {
        "colab": {
          "base_uri": "https://localhost:8080/",
          "height": 256
        },
        "id": "d76c2a07",
        "outputId": "afca3cf4-9099-4e87-996a-f162042bafd5"
      },
      "outputs": [
        {
          "output_type": "execute_result",
          "data": {
            "text/plain": [
              "       Ware_house_ID WH_Manager_ID Location_type WH_capacity_size   zone  \\\n",
              "count          25000         25000         25000            25000  25000   \n",
              "unique         25000         25000             2                3      4   \n",
              "top        WH_100000     EID_50000         Rural            Large  North   \n",
              "freq               1             1         22957            10169  10278   \n",
              "\n",
              "       WH_regional_zone  wh_owner_type  flood_impacted  flood_proof  \\\n",
              "count             25000          25000           25000        25000   \n",
              "unique                6              2               2            2   \n",
              "top              Zone 6  Company Owned               0            0   \n",
              "freq               8339          13578           22546        23634   \n",
              "\n",
              "        electric_supply  temp_reg_mach approved_wh_govt_certificate  \n",
              "count             25000          25000                        24092  \n",
              "unique                2              2                            5  \n",
              "top                   1              0                            C  \n",
              "freq              16422          17418                         5501  "
            ],
            "text/html": [
              "\n",
              "  <div id=\"df-7020e4d2-1977-4ba9-88d6-7a293357e997\">\n",
              "    <div class=\"colab-df-container\">\n",
              "      <div>\n",
              "<style scoped>\n",
              "    .dataframe tbody tr th:only-of-type {\n",
              "        vertical-align: middle;\n",
              "    }\n",
              "\n",
              "    .dataframe tbody tr th {\n",
              "        vertical-align: top;\n",
              "    }\n",
              "\n",
              "    .dataframe thead th {\n",
              "        text-align: right;\n",
              "    }\n",
              "</style>\n",
              "<table border=\"1\" class=\"dataframe\">\n",
              "  <thead>\n",
              "    <tr style=\"text-align: right;\">\n",
              "      <th></th>\n",
              "      <th>Ware_house_ID</th>\n",
              "      <th>WH_Manager_ID</th>\n",
              "      <th>Location_type</th>\n",
              "      <th>WH_capacity_size</th>\n",
              "      <th>zone</th>\n",
              "      <th>WH_regional_zone</th>\n",
              "      <th>wh_owner_type</th>\n",
              "      <th>flood_impacted</th>\n",
              "      <th>flood_proof</th>\n",
              "      <th>electric_supply</th>\n",
              "      <th>temp_reg_mach</th>\n",
              "      <th>approved_wh_govt_certificate</th>\n",
              "    </tr>\n",
              "  </thead>\n",
              "  <tbody>\n",
              "    <tr>\n",
              "      <th>count</th>\n",
              "      <td>25000</td>\n",
              "      <td>25000</td>\n",
              "      <td>25000</td>\n",
              "      <td>25000</td>\n",
              "      <td>25000</td>\n",
              "      <td>25000</td>\n",
              "      <td>25000</td>\n",
              "      <td>25000</td>\n",
              "      <td>25000</td>\n",
              "      <td>25000</td>\n",
              "      <td>25000</td>\n",
              "      <td>24092</td>\n",
              "    </tr>\n",
              "    <tr>\n",
              "      <th>unique</th>\n",
              "      <td>25000</td>\n",
              "      <td>25000</td>\n",
              "      <td>2</td>\n",
              "      <td>3</td>\n",
              "      <td>4</td>\n",
              "      <td>6</td>\n",
              "      <td>2</td>\n",
              "      <td>2</td>\n",
              "      <td>2</td>\n",
              "      <td>2</td>\n",
              "      <td>2</td>\n",
              "      <td>5</td>\n",
              "    </tr>\n",
              "    <tr>\n",
              "      <th>top</th>\n",
              "      <td>WH_100000</td>\n",
              "      <td>EID_50000</td>\n",
              "      <td>Rural</td>\n",
              "      <td>Large</td>\n",
              "      <td>North</td>\n",
              "      <td>Zone 6</td>\n",
              "      <td>Company Owned</td>\n",
              "      <td>0</td>\n",
              "      <td>0</td>\n",
              "      <td>1</td>\n",
              "      <td>0</td>\n",
              "      <td>C</td>\n",
              "    </tr>\n",
              "    <tr>\n",
              "      <th>freq</th>\n",
              "      <td>1</td>\n",
              "      <td>1</td>\n",
              "      <td>22957</td>\n",
              "      <td>10169</td>\n",
              "      <td>10278</td>\n",
              "      <td>8339</td>\n",
              "      <td>13578</td>\n",
              "      <td>22546</td>\n",
              "      <td>23634</td>\n",
              "      <td>16422</td>\n",
              "      <td>17418</td>\n",
              "      <td>5501</td>\n",
              "    </tr>\n",
              "  </tbody>\n",
              "</table>\n",
              "</div>\n",
              "      <button class=\"colab-df-convert\" onclick=\"convertToInteractive('df-7020e4d2-1977-4ba9-88d6-7a293357e997')\"\n",
              "              title=\"Convert this dataframe to an interactive table.\"\n",
              "              style=\"display:none;\">\n",
              "        \n",
              "  <svg xmlns=\"http://www.w3.org/2000/svg\" height=\"24px\"viewBox=\"0 0 24 24\"\n",
              "       width=\"24px\">\n",
              "    <path d=\"M0 0h24v24H0V0z\" fill=\"none\"/>\n",
              "    <path d=\"M18.56 5.44l.94 2.06.94-2.06 2.06-.94-2.06-.94-.94-2.06-.94 2.06-2.06.94zm-11 1L8.5 8.5l.94-2.06 2.06-.94-2.06-.94L8.5 2.5l-.94 2.06-2.06.94zm10 10l.94 2.06.94-2.06 2.06-.94-2.06-.94-.94-2.06-.94 2.06-2.06.94z\"/><path d=\"M17.41 7.96l-1.37-1.37c-.4-.4-.92-.59-1.43-.59-.52 0-1.04.2-1.43.59L10.3 9.45l-7.72 7.72c-.78.78-.78 2.05 0 2.83L4 21.41c.39.39.9.59 1.41.59.51 0 1.02-.2 1.41-.59l7.78-7.78 2.81-2.81c.8-.78.8-2.07 0-2.86zM5.41 20L4 18.59l7.72-7.72 1.47 1.35L5.41 20z\"/>\n",
              "  </svg>\n",
              "      </button>\n",
              "      \n",
              "  <style>\n",
              "    .colab-df-container {\n",
              "      display:flex;\n",
              "      flex-wrap:wrap;\n",
              "      gap: 12px;\n",
              "    }\n",
              "\n",
              "    .colab-df-convert {\n",
              "      background-color: #E8F0FE;\n",
              "      border: none;\n",
              "      border-radius: 50%;\n",
              "      cursor: pointer;\n",
              "      display: none;\n",
              "      fill: #1967D2;\n",
              "      height: 32px;\n",
              "      padding: 0 0 0 0;\n",
              "      width: 32px;\n",
              "    }\n",
              "\n",
              "    .colab-df-convert:hover {\n",
              "      background-color: #E2EBFA;\n",
              "      box-shadow: 0px 1px 2px rgba(60, 64, 67, 0.3), 0px 1px 3px 1px rgba(60, 64, 67, 0.15);\n",
              "      fill: #174EA6;\n",
              "    }\n",
              "\n",
              "    [theme=dark] .colab-df-convert {\n",
              "      background-color: #3B4455;\n",
              "      fill: #D2E3FC;\n",
              "    }\n",
              "\n",
              "    [theme=dark] .colab-df-convert:hover {\n",
              "      background-color: #434B5C;\n",
              "      box-shadow: 0px 1px 3px 1px rgba(0, 0, 0, 0.15);\n",
              "      filter: drop-shadow(0px 1px 2px rgba(0, 0, 0, 0.3));\n",
              "      fill: #FFFFFF;\n",
              "    }\n",
              "  </style>\n",
              "\n",
              "      <script>\n",
              "        const buttonEl =\n",
              "          document.querySelector('#df-7020e4d2-1977-4ba9-88d6-7a293357e997 button.colab-df-convert');\n",
              "        buttonEl.style.display =\n",
              "          google.colab.kernel.accessAllowed ? 'block' : 'none';\n",
              "\n",
              "        async function convertToInteractive(key) {\n",
              "          const element = document.querySelector('#df-7020e4d2-1977-4ba9-88d6-7a293357e997');\n",
              "          const dataTable =\n",
              "            await google.colab.kernel.invokeFunction('convertToInteractive',\n",
              "                                                     [key], {});\n",
              "          if (!dataTable) return;\n",
              "\n",
              "          const docLinkHtml = 'Like what you see? Visit the ' +\n",
              "            '<a target=\"_blank\" href=https://colab.research.google.com/notebooks/data_table.ipynb>data table notebook</a>'\n",
              "            + ' to learn more about interactive tables.';\n",
              "          element.innerHTML = '';\n",
              "          dataTable['output_type'] = 'display_data';\n",
              "          await google.colab.output.renderOutput(dataTable, element);\n",
              "          const docLink = document.createElement('div');\n",
              "          docLink.innerHTML = docLinkHtml;\n",
              "          element.appendChild(docLink);\n",
              "        }\n",
              "      </script>\n",
              "    </div>\n",
              "  </div>\n",
              "  "
            ]
          },
          "metadata": {},
          "execution_count": 28
        }
      ],
      "source": [
        "y_cat.describe(include='all')"
      ],
      "id": "d76c2a07"
    },
    {
      "cell_type": "code",
      "execution_count": null,
      "metadata": {
        "colab": {
          "base_uri": "https://localhost:8080/"
        },
        "id": "dff848a0",
        "outputId": "13224d85-78ab-4f6e-cebd-d3f0548ffd3e"
      },
      "outputs": [
        {
          "output_type": "execute_result",
          "data": {
            "text/plain": [
              "12"
            ]
          },
          "metadata": {},
          "execution_count": 36
        }
      ],
      "source": [
        "df_num = listings.select_dtypes(include = ['float64', 'int64'])\n",
        "lstnumericcolumns = list(df_num.columns.values)\n",
        "len(lstnumericcolumns)"
      ],
      "id": "dff848a0"
    },
    {
      "cell_type": "code",
      "execution_count": null,
      "metadata": {
        "colab": {
          "base_uri": "https://localhost:8080/"
        },
        "id": "drMLxTkCuTxE",
        "outputId": "79415824-95f7-4755-d233-33d4957a1d16"
      },
      "outputs": [
        {
          "output_type": "execute_result",
          "data": {
            "text/plain": [
              "count    25000.000000\n",
              "mean        13.798920\n",
              "std          5.456731\n",
              "min          0.000000\n",
              "25%         13.000000\n",
              "50%         14.000000\n",
              "75%         14.000000\n",
              "max         27.000000\n",
              "Name: Dur_Wh_Est_Year, dtype: float64"
            ]
          },
          "metadata": {},
          "execution_count": 37
        }
      ],
      "source": [
        "listings.Dur_Wh_Est_Year.describe()"
      ],
      "id": "drMLxTkCuTxE"
    },
    {
      "cell_type": "code",
      "execution_count": null,
      "metadata": {
        "id": "0e087ffd"
      },
      "outputs": [],
      "source": [
        "listings.drop(['WH_Manager_ID'], axis='columns', inplace=True)"
      ],
      "id": "0e087ffd"
    },
    {
      "cell_type": "code",
      "execution_count": null,
      "metadata": {
        "id": "7c672714"
      },
      "outputs": [],
      "source": [
        "listings.drop(['Ware_house_ID'], axis='columns', inplace=True)"
      ],
      "id": "7c672714"
    },
    {
      "cell_type": "code",
      "execution_count": null,
      "metadata": {
        "colab": {
          "base_uri": "https://localhost:8080/"
        },
        "id": "a1d18329",
        "outputId": "cfd22af4-9646-4081-cbcc-d9a9d2895961"
      },
      "outputs": [
        {
          "output_type": "stream",
          "name": "stdout",
          "text": [
            "<class 'pandas.core.frame.DataFrame'>\n",
            "RangeIndex: 25000 entries, 0 to 24999\n",
            "Data columns (total 22 columns):\n",
            " #   Column                        Non-Null Count  Dtype  \n",
            "---  ------                        --------------  -----  \n",
            " 0   Location_type                 25000 non-null  object \n",
            " 1   WH_capacity_size              25000 non-null  object \n",
            " 2   zone                          25000 non-null  object \n",
            " 3   WH_regional_zone              25000 non-null  object \n",
            " 4   num_refill_req                25000 non-null  int64  \n",
            " 5   transport_issue               25000 non-null  int64  \n",
            " 6   Competitor_in_mkt             25000 non-null  int64  \n",
            " 7   retail_shop_num               25000 non-null  int64  \n",
            " 8   wh_owner_type                 25000 non-null  object \n",
            " 9   distributor_num               25000 non-null  int64  \n",
            " 10  flood_impacted                25000 non-null  object \n",
            " 11  flood_proof                   25000 non-null  object \n",
            " 12  electric_supply               25000 non-null  object \n",
            " 13  dist_from_hub                 25000 non-null  int64  \n",
            " 14  workers_num                   25000 non-null  float64\n",
            " 15  storage_issue_reported        25000 non-null  int64  \n",
            " 16  temp_reg_mach                 25000 non-null  object \n",
            " 17  approved_wh_govt_certificate  25000 non-null  object \n",
            " 18  wh_breakdown                  25000 non-null  int64  \n",
            " 19  govt_check                    25000 non-null  int64  \n",
            " 20  product_wg_ton                25000 non-null  int64  \n",
            " 21  Dur_Wh_Est_Year               25000 non-null  float64\n",
            "dtypes: float64(2), int64(10), object(10)\n",
            "memory usage: 4.2+ MB\n"
          ]
        }
      ],
      "source": [
        "listings.info()"
      ],
      "id": "a1d18329"
    },
    {
      "cell_type": "code",
      "execution_count": null,
      "metadata": {
        "colab": {
          "base_uri": "https://localhost:8080/"
        },
        "id": "fc723512",
        "outputId": "38a6b0c0-1bb2-40bb-ae9f-866af83f4b73"
      },
      "outputs": [
        {
          "output_type": "execute_result",
          "data": {
            "text/plain": [
              "['Location_type',\n",
              " 'WH_capacity_size',\n",
              " 'zone',\n",
              " 'WH_regional_zone',\n",
              " 'wh_owner_type',\n",
              " 'flood_impacted',\n",
              " 'flood_proof',\n",
              " 'electric_supply',\n",
              " 'temp_reg_mach',\n",
              " 'approved_wh_govt_certificate']"
            ]
          },
          "metadata": {},
          "execution_count": 43
        }
      ],
      "source": [
        "df_cat = listings.select_dtypes(include = ['object'])\n",
        "lstcatcolumns = list(df_cat.columns.values)\n",
        "lstcatcolumns"
      ],
      "id": "fc723512"
    },
    {
      "cell_type": "code",
      "execution_count": null,
      "metadata": {
        "id": "e56caaf7"
      },
      "outputs": [],
      "source": [
        "corr = df_num.corr(method='pearson')"
      ],
      "id": "e56caaf7"
    },
    {
      "cell_type": "code",
      "execution_count": null,
      "metadata": {
        "colab": {
          "base_uri": "https://localhost:8080/",
          "height": 946
        },
        "id": "c2ee284c",
        "outputId": "16bfafb8-628d-40a9-abe4-0470974954d8"
      },
      "outputs": [
        {
          "output_type": "stream",
          "name": "stderr",
          "text": [
            "<ipython-input-52-9c73085bab70>:1: DeprecationWarning: `np.bool` is a deprecated alias for the builtin `bool`. To silence this warning, use `bool` by itself. Doing this will not modify any behavior and is safe. If you specifically wanted the numpy scalar type, use `np.bool_` here.\n",
            "Deprecated in NumPy 1.20; for more details and guidance: https://numpy.org/devdocs/release/1.20.0-notes.html#deprecations\n",
            "  mask = np.triu(np.ones_like(corr, dtype=np.bool))\n"
          ]
        },
        {
          "output_type": "display_data",
          "data": {
            "text/plain": [
              "<Figure size 1800x1080 with 2 Axes>"
            ],
            "image/png": "[encoded data removed]"
          },
          "metadata": {}
        }
      ],
      "source": [
        "mask = np.triu(np.ones_like(corr, dtype=np.bool)) \n",
        "fig = plt.subplots(figsize=(25, 15))\n",
        "sns.heatmap(df_num.corr(), annot=True,fmt='.2f',mask=mask)\n",
        "plt.show()"
      ],
      "id": "c2ee284c"
    },
    {
      "cell_type": "code",
      "execution_count": null,
      "metadata": {
        "id": "de126e5f"
      },
      "outputs": [],
      "source": [
        "#Outlier Treatment"
      ],
      "id": "de126e5f"
    },
    {
      "cell_type": "code",
      "execution_count": null,
      "metadata": {
        "id": "45a0d539"
      },
      "outputs": [],
      "source": [
        "outlier = ['transport_issue','Competitor_in_mkt','retail_shop_num','workers_num','Dur_Wh_Est_Year']"
      ],
      "id": "45a0d539"
    },
    {
      "cell_type": "code",
      "execution_count": null,
      "metadata": {
        "id": "712950f9"
      },
      "outputs": [],
      "source": [
        "def remove_outlier(col):\n",
        "    sorted(col)\n",
        "    Q1,Q3=np.percentile(col,[25,75])\n",
        "    IQR=Q3-Q1\n",
        "    lower_range= Q1-(1.5 * IQR)\n",
        "    upper_range= Q3+(1.5 * IQR)\n",
        "    return lower_range, upper_range"
      ],
      "id": "712950f9"
    },
    {
      "cell_type": "code",
      "execution_count": null,
      "metadata": {
        "colab": {
          "base_uri": "https://localhost:8080/"
        },
        "id": "f2cd21f7",
        "outputId": "ddbf1324-af78-49ca-e97c-dd00023852ce"
      },
      "outputs": [
        {
          "output_type": "stream",
          "name": "stdout",
          "text": [
            "Lower Range : -1.5 \n",
            "Upper Range : 2.5\n",
            "\n"
          ]
        },
        {
          "output_type": "stream",
          "name": "stderr",
          "text": [
            "<ipython-input-57-19af53b53e2e>:3: SettingWithCopyWarning: \n",
            "A value is trying to be set on a copy of a slice from a DataFrame.\n",
            "Try using .loc[row_indexer,col_indexer] = value instead\n",
            "\n",
            "See the caveats in the documentation: https://pandas.pydata.org/pandas-docs/stable/user_guide/indexing.html#returning-a-view-versus-a-copy\n",
            "  df_num['transport_issue']=np.where(df_num['transport_issue']>ur,ur,df_num['transport_issue'])\n",
            "<ipython-input-57-19af53b53e2e>:4: SettingWithCopyWarning: \n",
            "A value is trying to be set on a copy of a slice from a DataFrame.\n",
            "Try using .loc[row_indexer,col_indexer] = value instead\n",
            "\n",
            "See the caveats in the documentation: https://pandas.pydata.org/pandas-docs/stable/user_guide/indexing.html#returning-a-view-versus-a-copy\n",
            "  df_num['transport_issue']=np.where(df_num['transport_issue']<lr,lr,df_num['transport_issue'])\n"
          ]
        }
      ],
      "source": [
        "lr,ur=remove_outlier(df_num['transport_issue'])\n",
        "print('Lower Range :',lr,'\\nUpper Range :',ur)\n",
        "df_num['transport_issue']=np.where(df_num['transport_issue']>ur,ur,df_num['transport_issue'])\n",
        "df_num['transport_issue']=np.where(df_num['transport_issue']<lr,lr,df_num['transport_issue'])\n",
        "print('')\n"
      ],
      "id": "f2cd21f7"
    },
    {
      "cell_type": "code",
      "execution_count": null,
      "metadata": {
        "colab": {
          "base_uri": "https://localhost:8080/"
        },
        "id": "12a38903",
        "outputId": "83c0fc3e-5d60-4c52-ab84-0902a1b15489"
      },
      "outputs": [
        {
          "output_type": "stream",
          "name": "stdout",
          "text": [
            "Lower Range : -1.0 \n",
            "Upper Range : 7.0\n",
            "\n"
          ]
        },
        {
          "output_type": "stream",
          "name": "stderr",
          "text": [
            "<ipython-input-58-d9ed6b2912a4>:3: SettingWithCopyWarning: \n",
            "A value is trying to be set on a copy of a slice from a DataFrame.\n",
            "Try using .loc[row_indexer,col_indexer] = value instead\n",
            "\n",
            "See the caveats in the documentation: https://pandas.pydata.org/pandas-docs/stable/user_guide/indexing.html#returning-a-view-versus-a-copy\n",
            "  df_num['Competitor_in_mkt']=np.where(df_num['Competitor_in_mkt']>ur,ur,df_num['Competitor_in_mkt'])\n",
            "<ipython-input-58-d9ed6b2912a4>:4: SettingWithCopyWarning: \n",
            "A value is trying to be set on a copy of a slice from a DataFrame.\n",
            "Try using .loc[row_indexer,col_indexer] = value instead\n",
            "\n",
            "See the caveats in the documentation: https://pandas.pydata.org/pandas-docs/stable/user_guide/indexing.html#returning-a-view-versus-a-copy\n",
            "  df_num['Competitor_in_mkt']=np.where(df_num['Competitor_in_mkt']<lr,lr,df_num['Competitor_in_mkt'])\n"
          ]
        }
      ],
      "source": [
        "lr,ur=remove_outlier(df_num['Competitor_in_mkt'])\n",
        "print('Lower Range :',lr,'\\nUpper Range :',ur)\n",
        "df_num['Competitor_in_mkt']=np.where(df_num['Competitor_in_mkt']>ur,ur,df_num['Competitor_in_mkt'])\n",
        "df_num['Competitor_in_mkt']=np.where(df_num['Competitor_in_mkt']<lr,lr,df_num['Competitor_in_mkt'])\n",
        "print('')"
      ],
      "id": "12a38903"
    },
    {
      "cell_type": "code",
      "execution_count": null,
      "metadata": {
        "colab": {
          "base_uri": "https://localhost:8080/"
        },
        "id": "b9a6c451",
        "outputId": "1f564fe8-6679-46d0-8d8f-6cd8c93cf081"
      },
      "outputs": [
        {
          "output_type": "stream",
          "name": "stdout",
          "text": [
            "Lower Range : 2532.5 \n",
            "Upper Range : 7280.5\n",
            "\n"
          ]
        },
        {
          "output_type": "stream",
          "name": "stderr",
          "text": [
            "<ipython-input-59-20a60ba38077>:3: SettingWithCopyWarning: \n",
            "A value is trying to be set on a copy of a slice from a DataFrame.\n",
            "Try using .loc[row_indexer,col_indexer] = value instead\n",
            "\n",
            "See the caveats in the documentation: https://pandas.pydata.org/pandas-docs/stable/user_guide/indexing.html#returning-a-view-versus-a-copy\n",
            "  df_num['retail_shop_num']=np.where(df_num['retail_shop_num']>ur,ur,df_num['retail_shop_num'])\n",
            "<ipython-input-59-20a60ba38077>:4: SettingWithCopyWarning: \n",
            "A value is trying to be set on a copy of a slice from a DataFrame.\n",
            "Try using .loc[row_indexer,col_indexer] = value instead\n",
            "\n",
            "See the caveats in the documentation: https://pandas.pydata.org/pandas-docs/stable/user_guide/indexing.html#returning-a-view-versus-a-copy\n",
            "  df_num['retail_shop_num']=np.where(df_num['retail_shop_num']<lr,lr,df_num['retail_shop_num'])\n"
          ]
        }
      ],
      "source": [
        "lr,ur=remove_outlier(df_num['retail_shop_num'])\n",
        "print('Lower Range :',lr,'\\nUpper Range :',ur)\n",
        "df_num['retail_shop_num']=np.where(df_num['retail_shop_num']>ur,ur,df_num['retail_shop_num'])\n",
        "df_num['retail_shop_num']=np.where(df_num['retail_shop_num']<lr,lr,df_num['retail_shop_num'])\n",
        "print('')"
      ],
      "id": "b9a6c451"
    },
    {
      "cell_type": "code",
      "execution_count": null,
      "metadata": {
        "colab": {
          "base_uri": "https://localhost:8080/"
        },
        "id": "ad7d1c0b",
        "outputId": "092c3294-19d1-405e-9a6f-b8153c305cf9"
      },
      "outputs": [
        {
          "output_type": "stream",
          "name": "stdout",
          "text": [
            "Lower Range : 10.5 \n",
            "Upper Range : 46.5\n",
            "\n"
          ]
        },
        {
          "output_type": "stream",
          "name": "stderr",
          "text": [
            "<ipython-input-60-cc53fed26468>:3: SettingWithCopyWarning: \n",
            "A value is trying to be set on a copy of a slice from a DataFrame.\n",
            "Try using .loc[row_indexer,col_indexer] = value instead\n",
            "\n",
            "See the caveats in the documentation: https://pandas.pydata.org/pandas-docs/stable/user_guide/indexing.html#returning-a-view-versus-a-copy\n",
            "  df_num['workers_num']=np.where(df_num['workers_num']>ur,ur,df_num['workers_num'])\n",
            "<ipython-input-60-cc53fed26468>:4: SettingWithCopyWarning: \n",
            "A value is trying to be set on a copy of a slice from a DataFrame.\n",
            "Try using .loc[row_indexer,col_indexer] = value instead\n",
            "\n",
            "See the caveats in the documentation: https://pandas.pydata.org/pandas-docs/stable/user_guide/indexing.html#returning-a-view-versus-a-copy\n",
            "  df_num['workers_num']=np.where(df_num['workers_num']<lr,lr,df_num['workers_num'])\n"
          ]
        }
      ],
      "source": [
        "lr,ur=remove_outlier(df_num['workers_num'])\n",
        "print('Lower Range :',lr,'\\nUpper Range :',ur)\n",
        "df_num['workers_num']=np.where(df_num['workers_num']>ur,ur,df_num['workers_num'])\n",
        "df_num['workers_num']=np.where(df_num['workers_num']<lr,lr,df_num['workers_num'])\n",
        "print('')"
      ],
      "id": "ad7d1c0b"
    },
    {
      "cell_type": "code",
      "execution_count": null,
      "metadata": {
        "colab": {
          "base_uri": "https://localhost:8080/"
        },
        "id": "912e78eb",
        "outputId": "8f93ad12-baac-4cc7-e4a6-a1db45d801c0"
      },
      "outputs": [
        {
          "output_type": "stream",
          "name": "stdout",
          "text": [
            "Lower Range : 11.5 \n",
            "Upper Range : 15.5\n",
            "\n"
          ]
        },
        {
          "output_type": "stream",
          "name": "stderr",
          "text": [
            "<ipython-input-61-85f511993c6e>:3: SettingWithCopyWarning: \n",
            "A value is trying to be set on a copy of a slice from a DataFrame.\n",
            "Try using .loc[row_indexer,col_indexer] = value instead\n",
            "\n",
            "See the caveats in the documentation: https://pandas.pydata.org/pandas-docs/stable/user_guide/indexing.html#returning-a-view-versus-a-copy\n",
            "  df_num['Dur_Wh_Est_Year']=np.where(df_num['Dur_Wh_Est_Year']>ur,ur,df_num['Dur_Wh_Est_Year'])\n",
            "<ipython-input-61-85f511993c6e>:4: SettingWithCopyWarning: \n",
            "A value is trying to be set on a copy of a slice from a DataFrame.\n",
            "Try using .loc[row_indexer,col_indexer] = value instead\n",
            "\n",
            "See the caveats in the documentation: https://pandas.pydata.org/pandas-docs/stable/user_guide/indexing.html#returning-a-view-versus-a-copy\n",
            "  df_num['Dur_Wh_Est_Year']=np.where(df_num['Dur_Wh_Est_Year']<lr,lr,df_num['Dur_Wh_Est_Year'])\n"
          ]
        }
      ],
      "source": [
        "lr,ur=remove_outlier(df_num['Dur_Wh_Est_Year'])\n",
        "print('Lower Range :',lr,'\\nUpper Range :',ur)\n",
        "df_num['Dur_Wh_Est_Year']=np.where(df_num['Dur_Wh_Est_Year']>ur,ur,df_num['Dur_Wh_Est_Year'])\n",
        "df_num['Dur_Wh_Est_Year']=np.where(df_num['Dur_Wh_Est_Year']<lr,lr,df_num['Dur_Wh_Est_Year'])\n",
        "print('')"
      ],
      "id": "912e78eb"
    },
    {
      "cell_type": "code",
      "execution_count": null,
      "metadata": {
        "colab": {
          "base_uri": "https://localhost:8080/",
          "height": 231
        },
        "id": "yJ95pT8tcEQI",
        "outputId": "2a8aa4de-3c4c-4120-cfed-eef5ea522931"
      },
      "outputs": [
        {
          "output_type": "execute_result",
          "data": {
            "text/plain": [
              "<matplotlib.axes._subplots.AxesSubplot at 0x7f251f23aaf0>"
            ]
          },
          "metadata": {},
          "execution_count": 62
        },
        {
          "output_type": "display_data",
          "data": {
            "text/plain": [
              "<Figure size 1440x216 with 1 Axes>"
            ],
            "image/png": "[encoded data removed]"
          },
          "metadata": {}
        }
      ],
      "source": [
        "df_num.boxplot('Dur_Wh_Est_Year',figsize=(20,3))"
      ],
      "id": "yJ95pT8tcEQI"
    },
    {
      "cell_type": "code",
      "execution_count": null,
      "metadata": {
        "id": "10899ca8"
      },
      "outputs": [],
      "source": [
        "df = pd.concat([df_cat, df_num], axis=1)"
      ],
      "id": "10899ca8"
    },
    {
      "cell_type": "code",
      "execution_count": null,
      "metadata": {
        "id": "099689c8"
      },
      "outputs": [],
      "source": [
        "cat1=['Location_type','zone', 'WH_regional_zone',\n",
        "       'wh_owner_type']"
      ],
      "id": "099689c8"
    },
    {
      "cell_type": "code",
      "execution_count": null,
      "metadata": {
        "id": "ee160f4d"
      },
      "outputs": [],
      "source": [
        "df_new =pd.get_dummies(df, columns=cat1,drop_first=True)"
      ],
      "id": "ee160f4d"
    },
    {
      "cell_type": "code",
      "execution_count": null,
      "metadata": {
        "id": "d438eebb"
      },
      "outputs": [],
      "source": [
        "df_new['WH_capacity_size']=df_new['WH_capacity_size'].replace('Small',0)\n",
        "df_new['WH_capacity_size']=df_new['WH_capacity_size'].replace('Mid',1)\n",
        "df_new['WH_capacity_size']=df_new['WH_capacity_size'].replace('Large',2)"
      ],
      "id": "d438eebb"
    },
    {
      "cell_type": "code",
      "execution_count": null,
      "metadata": {
        "id": "0dafa400"
      },
      "outputs": [],
      "source": [
        "df_new['approved_wh_govt_certificate']=df_new['approved_wh_govt_certificate'].replace('A+',5)\n",
        "df_new['approved_wh_govt_certificate']=df_new['approved_wh_govt_certificate'].replace('A',4)\n",
        "df_new['approved_wh_govt_certificate']=df_new['approved_wh_govt_certificate'].replace('B+',3)\n",
        "df_new['approved_wh_govt_certificate']=df_new['approved_wh_govt_certificate'].replace('B',2)\n",
        "df_new['approved_wh_govt_certificate']=df_new['approved_wh_govt_certificate'].replace('C',1)"
      ],
      "id": "0dafa400"
    },
    {
      "cell_type": "code",
      "execution_count": null,
      "metadata": {
        "id": "0df4daa9"
      },
      "outputs": [],
      "source": [
        "from sklearn.preprocessing import StandardScaler"
      ],
      "id": "0df4daa9"
    },
    {
      "cell_type": "code",
      "execution_count": null,
      "metadata": {
        "id": "Q5W-SNb4ocVm"
      },
      "outputs": [],
      "source": [
        "df_new.columns=df_new.columns.str.replace(' ','_')"
      ],
      "id": "Q5W-SNb4ocVm"
    },
    {
      "cell_type": "markdown",
      "metadata": {
        "id": "oxGve29gLjzY"
      },
      "source": [
        "Building Regression Models"
      ],
      "id": "oxGve29gLjzY"
    },
    {
      "cell_type": "code",
      "execution_count": null,
      "metadata": {
        "id": "8ZSV-AK-LoFf"
      },
      "outputs": [],
      "source": [
        "# Copy all the predictor variables into X dataframe. Since 'mpg' is dependent variable drop it\n",
        "X = df_new.drop('product_wg_ton', axis=1)"
      ],
      "id": "8ZSV-AK-LoFf"
    },
    {
      "cell_type": "code",
      "execution_count": null,
      "metadata": {
        "id": "vf4jDO9zL-W0"
      },
      "outputs": [],
      "source": [
        "# Copy the 'mpg' column alone into the y dataframe. This is the dependent variable\n",
        "y =df_new.pop('product_wg_ton')"
      ],
      "id": "vf4jDO9zL-W0"
    },
    {
      "cell_type": "code",
      "execution_count": null,
      "metadata": {
        "colab": {
          "base_uri": "https://localhost:8080/"
        },
        "id": "wHL5lBNvMD5Q",
        "outputId": "47f020c1-fcc0-4c25-f9b1-f5a4a5481bbf"
      },
      "outputs": [
        {
          "output_type": "execute_result",
          "data": {
            "text/plain": [
              "(25000, 27)"
            ]
          },
          "metadata": {},
          "execution_count": 93
        }
      ],
      "source": [
        "X.shape"
      ],
      "id": "wHL5lBNvMD5Q"
    },
    {
      "cell_type": "code",
      "execution_count": null,
      "metadata": {
        "colab": {
          "base_uri": "https://localhost:8080/"
        },
        "id": "b--70WNDMHi9",
        "outputId": "2bbb56be-2f3a-4136-9133-1b631ac86750"
      },
      "outputs": [
        {
          "output_type": "execute_result",
          "data": {
            "text/plain": [
              "(25000,)"
            ]
          },
          "metadata": {},
          "execution_count": 94
        }
      ],
      "source": [
        "y.shape"
      ],
      "id": "b--70WNDMHi9"
    },
    {
      "cell_type": "code",
      "execution_count": null,
      "metadata": {
        "id": "N1ZavHZhMKOt"
      },
      "outputs": [],
      "source": [
        "#Let us break the X and y dataframes into training set and test set. For this we will use\n",
        "#Sklearn package's data splitting function which is based on random function\n",
        "\n",
        "from sklearn.model_selection import train_test_split"
      ],
      "id": "N1ZavHZhMKOt"
    },
    {
      "cell_type": "code",
      "execution_count": null,
      "metadata": {
        "id": "HO3unaJRMP2s"
      },
      "outputs": [],
      "source": [
        "# Split X and y into training and test set in 70:30 ratio\n",
        "\n",
        "x_train, x_test, y_train, y_test = train_test_split(X, y, test_size=0.30 , random_state=10)"
      ],
      "id": "HO3unaJRMP2s"
    },
    {
      "cell_type": "code",
      "execution_count": null,
      "metadata": {
        "id": "GlExY1kyHzE8"
      },
      "outputs": [],
      "source": [
        "ss=StandardScaler() \n",
        "# we are scaling the data for ANN. Without scaling it will give very poor results. Computations becomes easier\n",
        "x_train_scaled=ss.fit_transform(x_train)\n",
        "x_test_scaled=ss.transform(x_test)"
      ],
      "id": "GlExY1kyHzE8"
    },
    {
      "cell_type": "code",
      "execution_count": null,
      "metadata": {
        "id": "Rcz5J41IZ4eE"
      },
      "outputs": [],
      "source": [
        "def percentage_error(actual,predicted):\n",
        "    res =np.empty(actual.shape)\n",
        "    for j in range(actual.shape[0]):\n",
        "        if actual[j]!=0:\n",
        "            res[j]=(actual[j]-predicted[j])/actual[j]\n",
        "        else:\n",
        "            res[j] = predicted[j]/np.mean(actual)\n",
        "    return res\n",
        "def mape(y_true, y_pred):\n",
        "    return np.mean(np.abs(percentage_error(np.asarray(y_true),np.asarray(y_pred))))*100"
      ],
      "id": "Rcz5J41IZ4eE"
    },
    {
      "cell_type": "code",
      "execution_count": null,
      "metadata": {
        "colab": {
          "base_uri": "https://localhost:8080/"
        },
        "id": "tllVazYjLpAf",
        "outputId": "076f2e58-c6a3-43f2-98dc-a05127dc5a69"
      },
      "outputs": [
        {
          "output_type": "stream",
          "name": "stderr",
          "text": [
            "/usr/local/lib/python3.8/dist-packages/sklearn/neural_network/_multilayer_perceptron.py:692: ConvergenceWarning: Stochastic Optimizer: Maximum iterations (1000) reached and the optimization hasn't converged yet.\n",
            "  warnings.warn(\n"
          ]
        },
        {
          "output_type": "stream",
          "name": "stdout",
          "text": [
            "                          Train RMSE    Test RMSE  Training Score  Test Score  \\\n",
            "Linear Regression        1744.605000  1760.647905        0.977398    0.977021   \n",
            "Decision Tree Regressor     0.000000  1250.725933        1.000000    0.988404   \n",
            "Random Forest Regressor   342.542504   931.400962        0.999129    0.993569   \n",
            "ANN Regressor            1072.283522  1157.639978        0.991462    0.990066   \n",
            "\n",
            "                         Taining MAPE  Test MAPE  \n",
            "Linear Regression            8.906356   9.149702  \n",
            "Decision Tree Regressor      0.000000   5.093023  \n",
            "Random Forest Regressor      1.542697   4.270517  \n",
            "ANN Regressor                5.167553   5.654945  \n"
          ]
        }
      ],
      "source": [
        "annr = MLPRegressor(hidden_layer_sizes=(250),random_state=123, max_iter=1000)#you are free to tweak the layer sizes\n",
        "rfr = RandomForestRegressor(random_state=123)\n",
        "dtr = tree.DecisionTreeRegressor(random_state=123)\n",
        "regression_model = LinearRegression()\n",
        "\n",
        "models=[regression_model,dtr,rfr,annr]\n",
        "\n",
        "rmse_train=[]\n",
        "rmse_test=[]\n",
        "scores_train=[]\n",
        "scores_test=[]\n",
        "mape_train=[]\n",
        "mape_test=[]\n",
        "\n",
        "for i in models:  # we are scaling the data for ANN. Without scaling it will give very poor results. Computations becomes easier \n",
        "   if (i != annr):\n",
        "        i.fit(x_train,y_train)\n",
        "        scores_train.append(i.score(x_train, y_train))\n",
        "        scores_test.append(i.score(x_test, y_test))\n",
        "        rmse_train.append(np.sqrt(mean_squared_error(y_train,i.predict(x_train))))\n",
        "        rmse_test.append(np.sqrt(mean_squared_error(y_test,i.predict(x_test))))\n",
        "        mape_train.append(mape(y_train,i.predict(x_train)))\n",
        "        mape_test.append(mape(y_test,i.predict(x_test)))\n",
        "\n",
        "   else:\n",
        "        i.fit(x_train_scaled,y_train)\n",
        "        scores_train.append(i.score(x_train_scaled, y_train))\n",
        "        scores_test.append(i.score(x_test_scaled, y_test))\n",
        "        rmse_train.append(np.sqrt(mean_squared_error(y_train,i.predict(x_train_scaled))))\n",
        "        rmse_test.append(np.sqrt(mean_squared_error(y_test,i.predict(x_test_scaled))))\n",
        "        mape_train.append(mape(y_train,i.predict(x_train_scaled)))\n",
        "        mape_test.append(mape(y_test,i.predict(x_test_scaled)))\n",
        "\n",
        "        \n",
        "print(pd.DataFrame({'Train RMSE': rmse_train,'Test RMSE': rmse_test,'Training Score':scores_train,'Test Score': scores_test,'Taining MAPE': mape_train,'Test MAPE' : mape_test},\n",
        "            index=['Linear Regression','Decision Tree Regressor','Random Forest Regressor', 'ANN Regressor']))"
      ],
      "id": "tllVazYjLpAf"
    },
    {
      "cell_type": "code",
      "execution_count": null,
      "metadata": {
        "colab": {
          "base_uri": "https://localhost:8080/"
        },
        "id": "UQFeJZ_7NvfO",
        "outputId": "f5b0c4cc-608d-4a6c-fa15-81be32bf0653"
      },
      "outputs": [
        {
          "output_type": "stream",
          "name": "stdout",
          "text": [
            "{'max_depth': 10, 'min_samples_leaf': 15, 'min_samples_split': 40}\n"
          ]
        }
      ],
      "source": [
        "param_grid = {\n",
        "    'max_depth': [10,15,20,25,30],\n",
        "    'min_samples_leaf': [3, 15,30],\n",
        "    'min_samples_split': [15,30,35,40,50],\n",
        "}\n",
        "\n",
        "dtr=tree.DecisionTreeRegressor(random_state=123)\n",
        "\n",
        "grid_search = GridSearchCV(estimator = dtr, param_grid = param_grid, cv = 3)\n",
        "\n",
        "\n",
        "grid_search.fit(x_train,y_train)\n",
        "\n",
        "print(grid_search.best_params_)"
      ],
      "id": "UQFeJZ_7NvfO"
    },
    {
      "cell_type": "code",
      "execution_count": null,
      "metadata": {
        "id": "sP2CtnBlNvqd"
      },
      "outputs": [],
      "source": [
        "param_grid = {\n",
        "    'max_depth': [7,10],\n",
        "    'max_features': [4, 6],\n",
        "    'min_samples_leaf': [3, 15,30],\n",
        "    'min_samples_split': [30, 50,100],\n",
        "    'n_estimators': [300, 500]\n",
        "}\n",
        "\n",
        "rfr = RandomForestRegressor(random_state=123)\n",
        "\n",
        "grid_search = GridSearchCV(estimator = rfr, param_grid = param_grid, cv = 3)"
      ],
      "id": "sP2CtnBlNvqd"
    },
    {
      "cell_type": "code",
      "execution_count": null,
      "metadata": {
        "colab": {
          "base_uri": "https://localhost:8080/"
        },
        "id": "gAxE85XoNv1S",
        "outputId": "0dfdebe3-e420-4894-9fa8-db1ef89af475"
      },
      "outputs": [
        {
          "output_type": "execute_result",
          "data": {
            "text/plain": [
              "GridSearchCV(cv=3, estimator=RandomForestRegressor(random_state=123),\n",
              "             param_grid={'max_depth': [7, 10], 'max_features': [4, 6],\n",
              "                         'min_samples_leaf': [3, 15, 30],\n",
              "                         'min_samples_split': [30, 50, 100],\n",
              "                         'n_estimators': [300, 500]})"
            ]
          },
          "metadata": {},
          "execution_count": 102
        }
      ],
      "source": [
        "grid_search.fit(x_train,y_train)"
      ],
      "id": "gAxE85XoNv1S"
    },
    {
      "cell_type": "code",
      "execution_count": null,
      "metadata": {
        "colab": {
          "base_uri": "https://localhost:8080/"
        },
        "id": "vYPX4gsxNwAu",
        "outputId": "76d1e4bd-8cd5-4cef-fe78-d72d4f2f3aa4"
      },
      "outputs": [
        {
          "output_type": "stream",
          "name": "stdout",
          "text": [
            "{'max_depth': 10, 'max_features': 6, 'min_samples_leaf': 3, 'min_samples_split': 30, 'n_estimators': 300}\n"
          ]
        }
      ],
      "source": [
        "print(grid_search.best_params_)"
      ],
      "id": "vYPX4gsxNwAu"
    },
    {
      "cell_type": "code",
      "execution_count": null,
      "metadata": {
        "id": "PHiX_5x9TRiQ"
      },
      "outputs": [],
      "source": [
        "param_grid = {\n",
        "    'hidden_layer_sizes':[25,50,100], \n",
        "    # keeping these simple because it would take too much time to run on low-end computers\n",
        "    \"activation\": [\"tanh\", \"relu\"], \n",
        "    \"solver\": [\"sgd\", \"adam\"]}\n",
        "\n",
        "annr = MLPRegressor(max_iter=1000, random_state=123)\n",
        "\n",
        "grid_search = GridSearchCV(estimator = annr, param_grid = param_grid, cv = 2)"
      ],
      "id": "PHiX_5x9TRiQ"
    },
    {
      "cell_type": "code",
      "execution_count": null,
      "metadata": {
        "colab": {
          "base_uri": "https://localhost:8080/"
        },
        "id": "t4byfAO-TRsR",
        "outputId": "84efdaf0-8ddf-41ee-b4a8-bd1a77043ea5"
      },
      "outputs": [
        {
          "output_type": "stream",
          "name": "stderr",
          "text": [
            "/usr/local/lib/python3.8/dist-packages/sklearn/neural_network/_multilayer_perceptron.py:692: ConvergenceWarning: Stochastic Optimizer: Maximum iterations (1000) reached and the optimization hasn't converged yet.\n",
            "  warnings.warn(\n",
            "/usr/local/lib/python3.8/dist-packages/sklearn/neural_network/_multilayer_perceptron.py:692: ConvergenceWarning: Stochastic Optimizer: Maximum iterations (1000) reached and the optimization hasn't converged yet.\n",
            "  warnings.warn(\n",
            "/usr/local/lib/python3.8/dist-packages/sklearn/neural_network/_multilayer_perceptron.py:692: ConvergenceWarning: Stochastic Optimizer: Maximum iterations (1000) reached and the optimization hasn't converged yet.\n",
            "  warnings.warn(\n",
            "/usr/local/lib/python3.8/dist-packages/sklearn/neural_network/_multilayer_perceptron.py:692: ConvergenceWarning: Stochastic Optimizer: Maximum iterations (1000) reached and the optimization hasn't converged yet.\n",
            "  warnings.warn(\n",
            "/usr/local/lib/python3.8/dist-packages/sklearn/neural_network/_multilayer_perceptron.py:692: ConvergenceWarning: Stochastic Optimizer: Maximum iterations (1000) reached and the optimization hasn't converged yet.\n",
            "  warnings.warn(\n",
            "/usr/local/lib/python3.8/dist-packages/sklearn/neural_network/_multilayer_perceptron.py:692: ConvergenceWarning: Stochastic Optimizer: Maximum iterations (1000) reached and the optimization hasn't converged yet.\n",
            "  warnings.warn(\n",
            "/usr/local/lib/python3.8/dist-packages/sklearn/neural_network/_base.py:174: RuntimeWarning: overflow encountered in square\n",
            "  return ((y_true - y_pred) ** 2).mean() / 2\n",
            "/usr/local/lib/python3.8/dist-packages/sklearn/utils/extmath.py:153: RuntimeWarning: overflow encountered in matmul\n",
            "  ret = a @ b\n",
            "/usr/local/lib/python3.8/dist-packages/sklearn/utils/extmath.py:153: RuntimeWarning: invalid value encountered in matmul\n",
            "  ret = a @ b\n",
            "/usr/local/lib/python3.8/dist-packages/sklearn/neural_network/_multilayer_perceptron.py:692: ConvergenceWarning: Stochastic Optimizer: Maximum iterations (1000) reached and the optimization hasn't converged yet.\n",
            "  warnings.warn(\n",
            "/usr/local/lib/python3.8/dist-packages/sklearn/model_selection/_validation.py:770: UserWarning: Scoring failed. The score on this train-test partition for these parameters will be set to nan. Details: \n",
            "Traceback (most recent call last):\n",
            "  File \"/usr/local/lib/python3.8/dist-packages/sklearn/model_selection/_validation.py\", line 761, in _score\n",
            "    scores = scorer(estimator, X_test, y_test)\n",
            "  File \"/usr/local/lib/python3.8/dist-packages/sklearn/metrics/_scorer.py\", line 418, in _passthrough_scorer\n",
            "    return estimator.score(*args, **kwargs)\n",
            "  File \"/usr/local/lib/python3.8/dist-packages/sklearn/base.py\", line 706, in score\n",
            "    return r2_score(y, y_pred, sample_weight=sample_weight)\n",
            "  File \"/usr/local/lib/python3.8/dist-packages/sklearn/metrics/_regression.py\", line 789, in r2_score\n",
            "    y_type, y_true, y_pred, multioutput = _check_reg_targets(\n",
            "  File \"/usr/local/lib/python3.8/dist-packages/sklearn/metrics/_regression.py\", line 96, in _check_reg_targets\n",
            "    y_pred = check_array(y_pred, ensure_2d=False, dtype=dtype)\n",
            "  File \"/usr/local/lib/python3.8/dist-packages/sklearn/utils/validation.py\", line 800, in check_array\n",
            "    _assert_all_finite(array, allow_nan=force_all_finite == \"allow-nan\")\n",
            "  File \"/usr/local/lib/python3.8/dist-packages/sklearn/utils/validation.py\", line 114, in _assert_all_finite\n",
            "    raise ValueError(\n",
            "ValueError: Input contains NaN, infinity or a value too large for dtype('float64').\n",
            "\n",
            "  warnings.warn(\n",
            "/usr/local/lib/python3.8/dist-packages/sklearn/utils/extmath.py:153: RuntimeWarning: overflow encountered in matmul\n",
            "  ret = a @ b\n",
            "/usr/local/lib/python3.8/dist-packages/sklearn/neural_network/_base.py:174: RuntimeWarning: overflow encountered in square\n",
            "  return ((y_true - y_pred) ** 2).mean() / 2\n",
            "/usr/local/lib/python3.8/dist-packages/sklearn/utils/extmath.py:153: RuntimeWarning: invalid value encountered in matmul\n",
            "  ret = a @ b\n",
            "/usr/local/lib/python3.8/dist-packages/sklearn/neural_network/_multilayer_perceptron.py:692: ConvergenceWarning: Stochastic Optimizer: Maximum iterations (1000) reached and the optimization hasn't converged yet.\n",
            "  warnings.warn(\n",
            "/usr/local/lib/python3.8/dist-packages/sklearn/model_selection/_validation.py:770: UserWarning: Scoring failed. The score on this train-test partition for these parameters will be set to nan. Details: \n",
            "Traceback (most recent call last):\n",
            "  File \"/usr/local/lib/python3.8/dist-packages/sklearn/model_selection/_validation.py\", line 761, in _score\n",
            "    scores = scorer(estimator, X_test, y_test)\n",
            "  File \"/usr/local/lib/python3.8/dist-packages/sklearn/metrics/_scorer.py\", line 418, in _passthrough_scorer\n",
            "    return estimator.score(*args, **kwargs)\n",
            "  File \"/usr/local/lib/python3.8/dist-packages/sklearn/base.py\", line 706, in score\n",
            "    return r2_score(y, y_pred, sample_weight=sample_weight)\n",
            "  File \"/usr/local/lib/python3.8/dist-packages/sklearn/metrics/_regression.py\", line 789, in r2_score\n",
            "    y_type, y_true, y_pred, multioutput = _check_reg_targets(\n",
            "  File \"/usr/local/lib/python3.8/dist-packages/sklearn/metrics/_regression.py\", line 96, in _check_reg_targets\n",
            "    y_pred = check_array(y_pred, ensure_2d=False, dtype=dtype)\n",
            "  File \"/usr/local/lib/python3.8/dist-packages/sklearn/utils/validation.py\", line 800, in check_array\n",
            "    _assert_all_finite(array, allow_nan=force_all_finite == \"allow-nan\")\n",
            "  File \"/usr/local/lib/python3.8/dist-packages/sklearn/utils/validation.py\", line 114, in _assert_all_finite\n",
            "    raise ValueError(\n",
            "ValueError: Input contains NaN, infinity or a value too large for dtype('float64').\n",
            "\n",
            "  warnings.warn(\n",
            "/usr/local/lib/python3.8/dist-packages/sklearn/neural_network/_multilayer_perceptron.py:692: ConvergenceWarning: Stochastic Optimizer: Maximum iterations (1000) reached and the optimization hasn't converged yet.\n",
            "  warnings.warn(\n",
            "/usr/local/lib/python3.8/dist-packages/sklearn/neural_network/_multilayer_perceptron.py:692: ConvergenceWarning: Stochastic Optimizer: Maximum iterations (1000) reached and the optimization hasn't converged yet.\n",
            "  warnings.warn(\n",
            "/usr/local/lib/python3.8/dist-packages/sklearn/utils/extmath.py:153: RuntimeWarning: overflow encountered in matmul\n",
            "  ret = a @ b\n",
            "/usr/local/lib/python3.8/dist-packages/sklearn/utils/extmath.py:153: RuntimeWarning: invalid value encountered in matmul\n",
            "  ret = a @ b\n",
            "/usr/local/lib/python3.8/dist-packages/sklearn/neural_network/_multilayer_perceptron.py:692: ConvergenceWarning: Stochastic Optimizer: Maximum iterations (1000) reached and the optimization hasn't converged yet.\n",
            "  warnings.warn(\n",
            "/usr/local/lib/python3.8/dist-packages/sklearn/model_selection/_validation.py:770: UserWarning: Scoring failed. The score on this train-test partition for these parameters will be set to nan. Details: \n",
            "Traceback (most recent call last):\n",
            "  File \"/usr/local/lib/python3.8/dist-packages/sklearn/model_selection/_validation.py\", line 761, in _score\n",
            "    scores = scorer(estimator, X_test, y_test)\n",
            "  File \"/usr/local/lib/python3.8/dist-packages/sklearn/metrics/_scorer.py\", line 418, in _passthrough_scorer\n",
            "    return estimator.score(*args, **kwargs)\n",
            "  File \"/usr/local/lib/python3.8/dist-packages/sklearn/base.py\", line 706, in score\n",
            "    return r2_score(y, y_pred, sample_weight=sample_weight)\n",
            "  File \"/usr/local/lib/python3.8/dist-packages/sklearn/metrics/_regression.py\", line 789, in r2_score\n",
            "    y_type, y_true, y_pred, multioutput = _check_reg_targets(\n",
            "  File \"/usr/local/lib/python3.8/dist-packages/sklearn/metrics/_regression.py\", line 96, in _check_reg_targets\n",
            "    y_pred = check_array(y_pred, ensure_2d=False, dtype=dtype)\n",
            "  File \"/usr/local/lib/python3.8/dist-packages/sklearn/utils/validation.py\", line 800, in check_array\n",
            "    _assert_all_finite(array, allow_nan=force_all_finite == \"allow-nan\")\n",
            "  File \"/usr/local/lib/python3.8/dist-packages/sklearn/utils/validation.py\", line 114, in _assert_all_finite\n",
            "    raise ValueError(\n",
            "ValueError: Input contains NaN, infinity or a value too large for dtype('float64').\n",
            "\n",
            "  warnings.warn(\n",
            "/usr/local/lib/python3.8/dist-packages/sklearn/utils/extmath.py:153: RuntimeWarning: overflow encountered in matmul\n",
            "  ret = a @ b\n",
            "/usr/local/lib/python3.8/dist-packages/sklearn/utils/extmath.py:153: RuntimeWarning: invalid value encountered in matmul\n",
            "  ret = a @ b\n",
            "/usr/local/lib/python3.8/dist-packages/sklearn/neural_network/_multilayer_perceptron.py:692: ConvergenceWarning: Stochastic Optimizer: Maximum iterations (1000) reached and the optimization hasn't converged yet.\n",
            "  warnings.warn(\n",
            "/usr/local/lib/python3.8/dist-packages/sklearn/model_selection/_validation.py:770: UserWarning: Scoring failed. The score on this train-test partition for these parameters will be set to nan. Details: \n",
            "Traceback (most recent call last):\n",
            "  File \"/usr/local/lib/python3.8/dist-packages/sklearn/model_selection/_validation.py\", line 761, in _score\n",
            "    scores = scorer(estimator, X_test, y_test)\n",
            "  File \"/usr/local/lib/python3.8/dist-packages/sklearn/metrics/_scorer.py\", line 418, in _passthrough_scorer\n",
            "    return estimator.score(*args, **kwargs)\n",
            "  File \"/usr/local/lib/python3.8/dist-packages/sklearn/base.py\", line 706, in score\n",
            "    return r2_score(y, y_pred, sample_weight=sample_weight)\n",
            "  File \"/usr/local/lib/python3.8/dist-packages/sklearn/metrics/_regression.py\", line 789, in r2_score\n",
            "    y_type, y_true, y_pred, multioutput = _check_reg_targets(\n",
            "  File \"/usr/local/lib/python3.8/dist-packages/sklearn/metrics/_regression.py\", line 96, in _check_reg_targets\n",
            "    y_pred = check_array(y_pred, ensure_2d=False, dtype=dtype)\n",
            "  File \"/usr/local/lib/python3.8/dist-packages/sklearn/utils/validation.py\", line 800, in check_array\n",
            "    _assert_all_finite(array, allow_nan=force_all_finite == \"allow-nan\")\n",
            "  File \"/usr/local/lib/python3.8/dist-packages/sklearn/utils/validation.py\", line 114, in _assert_all_finite\n",
            "    raise ValueError(\n",
            "ValueError: Input contains NaN, infinity or a value too large for dtype('float64').\n",
            "\n",
            "  warnings.warn(\n",
            "/usr/local/lib/python3.8/dist-packages/sklearn/neural_network/_multilayer_perceptron.py:692: ConvergenceWarning: Stochastic Optimizer: Maximum iterations (1000) reached and the optimization hasn't converged yet.\n",
            "  warnings.warn(\n",
            "/usr/local/lib/python3.8/dist-packages/sklearn/neural_network/_multilayer_perceptron.py:692: ConvergenceWarning: Stochastic Optimizer: Maximum iterations (1000) reached and the optimization hasn't converged yet.\n",
            "  warnings.warn(\n",
            "/usr/local/lib/python3.8/dist-packages/sklearn/utils/extmath.py:153: RuntimeWarning: overflow encountered in matmul\n",
            "  ret = a @ b\n",
            "/usr/local/lib/python3.8/dist-packages/sklearn/utils/extmath.py:153: RuntimeWarning: invalid value encountered in matmul\n",
            "  ret = a @ b\n",
            "/usr/local/lib/python3.8/dist-packages/sklearn/neural_network/_multilayer_perceptron.py:692: ConvergenceWarning: Stochastic Optimizer: Maximum iterations (1000) reached and the optimization hasn't converged yet.\n",
            "  warnings.warn(\n",
            "/usr/local/lib/python3.8/dist-packages/sklearn/model_selection/_validation.py:770: UserWarning: Scoring failed. The score on this train-test partition for these parameters will be set to nan. Details: \n",
            "Traceback (most recent call last):\n",
            "  File \"/usr/local/lib/python3.8/dist-packages/sklearn/model_selection/_validation.py\", line 761, in _score\n",
            "    scores = scorer(estimator, X_test, y_test)\n",
            "  File \"/usr/local/lib/python3.8/dist-packages/sklearn/metrics/_scorer.py\", line 418, in _passthrough_scorer\n",
            "    return estimator.score(*args, **kwargs)\n",
            "  File \"/usr/local/lib/python3.8/dist-packages/sklearn/base.py\", line 706, in score\n",
            "    return r2_score(y, y_pred, sample_weight=sample_weight)\n",
            "  File \"/usr/local/lib/python3.8/dist-packages/sklearn/metrics/_regression.py\", line 789, in r2_score\n",
            "    y_type, y_true, y_pred, multioutput = _check_reg_targets(\n",
            "  File \"/usr/local/lib/python3.8/dist-packages/sklearn/metrics/_regression.py\", line 96, in _check_reg_targets\n",
            "    y_pred = check_array(y_pred, ensure_2d=False, dtype=dtype)\n",
            "  File \"/usr/local/lib/python3.8/dist-packages/sklearn/utils/validation.py\", line 800, in check_array\n",
            "    _assert_all_finite(array, allow_nan=force_all_finite == \"allow-nan\")\n",
            "  File \"/usr/local/lib/python3.8/dist-packages/sklearn/utils/validation.py\", line 114, in _assert_all_finite\n",
            "    raise ValueError(\n",
            "ValueError: Input contains NaN, infinity or a value too large for dtype('float64').\n",
            "\n",
            "  warnings.warn(\n",
            "/usr/local/lib/python3.8/dist-packages/sklearn/utils/extmath.py:153: RuntimeWarning: overflow encountered in matmul\n",
            "  ret = a @ b\n",
            "/usr/local/lib/python3.8/dist-packages/sklearn/neural_network/_base.py:174: RuntimeWarning: overflow encountered in square\n",
            "  return ((y_true - y_pred) ** 2).mean() / 2\n",
            "/usr/local/lib/python3.8/dist-packages/sklearn/utils/extmath.py:153: RuntimeWarning: invalid value encountered in matmul\n",
            "  ret = a @ b\n",
            "/usr/local/lib/python3.8/dist-packages/sklearn/neural_network/_multilayer_perceptron.py:692: ConvergenceWarning: Stochastic Optimizer: Maximum iterations (1000) reached and the optimization hasn't converged yet.\n",
            "  warnings.warn(\n",
            "/usr/local/lib/python3.8/dist-packages/sklearn/model_selection/_validation.py:770: UserWarning: Scoring failed. The score on this train-test partition for these parameters will be set to nan. Details: \n",
            "Traceback (most recent call last):\n",
            "  File \"/usr/local/lib/python3.8/dist-packages/sklearn/model_selection/_validation.py\", line 761, in _score\n",
            "    scores = scorer(estimator, X_test, y_test)\n",
            "  File \"/usr/local/lib/python3.8/dist-packages/sklearn/metrics/_scorer.py\", line 418, in _passthrough_scorer\n",
            "    return estimator.score(*args, **kwargs)\n",
            "  File \"/usr/local/lib/python3.8/dist-packages/sklearn/base.py\", line 706, in score\n",
            "    return r2_score(y, y_pred, sample_weight=sample_weight)\n",
            "  File \"/usr/local/lib/python3.8/dist-packages/sklearn/metrics/_regression.py\", line 789, in r2_score\n",
            "    y_type, y_true, y_pred, multioutput = _check_reg_targets(\n",
            "  File \"/usr/local/lib/python3.8/dist-packages/sklearn/metrics/_regression.py\", line 96, in _check_reg_targets\n",
            "    y_pred = check_array(y_pred, ensure_2d=False, dtype=dtype)\n",
            "  File \"/usr/local/lib/python3.8/dist-packages/sklearn/utils/validation.py\", line 800, in check_array\n",
            "    _assert_all_finite(array, allow_nan=force_all_finite == \"allow-nan\")\n",
            "  File \"/usr/local/lib/python3.8/dist-packages/sklearn/utils/validation.py\", line 114, in _assert_all_finite\n",
            "    raise ValueError(\n",
            "ValueError: Input contains NaN, infinity or a value too large for dtype('float64').\n",
            "\n",
            "  warnings.warn(\n",
            "/usr/local/lib/python3.8/dist-packages/sklearn/neural_network/_multilayer_perceptron.py:692: ConvergenceWarning: Stochastic Optimizer: Maximum iterations (1000) reached and the optimization hasn't converged yet.\n",
            "  warnings.warn(\n",
            "/usr/local/lib/python3.8/dist-packages/sklearn/neural_network/_multilayer_perceptron.py:692: ConvergenceWarning: Stochastic Optimizer: Maximum iterations (1000) reached and the optimization hasn't converged yet.\n",
            "  warnings.warn(\n",
            "/usr/local/lib/python3.8/dist-packages/sklearn/model_selection/_search.py:969: UserWarning: One or more of the test scores are non-finite: [ 0.78957849 -3.26634345  0.86737501 -2.93194569  0.92259786 -2.31771277\n",
            "         nan  0.96338619         nan  0.97939032         nan  0.98260764]\n",
            "  warnings.warn(\n",
            "/usr/local/lib/python3.8/dist-packages/sklearn/neural_network/_multilayer_perceptron.py:692: ConvergenceWarning: Stochastic Optimizer: Maximum iterations (1000) reached and the optimization hasn't converged yet.\n",
            "  warnings.warn(\n"
          ]
        },
        {
          "output_type": "execute_result",
          "data": {
            "text/plain": [
              "GridSearchCV(cv=2, estimator=MLPRegressor(max_iter=1000, random_state=123),\n",
              "             param_grid={'activation': ['tanh', 'relu'],\n",
              "                         'hidden_layer_sizes': [25, 50, 100],\n",
              "                         'solver': ['sgd', 'adam']})"
            ]
          },
          "metadata": {},
          "execution_count": 105
        }
      ],
      "source": [
        "grid_search.fit(x_train_scaled,y_train)"
      ],
      "id": "t4byfAO-TRsR"
    },
    {
      "cell_type": "code",
      "execution_count": null,
      "metadata": {
        "id": "GTujYXCfTR0I",
        "colab": {
          "base_uri": "https://localhost:8080/"
        },
        "outputId": "e8281c7d-cef1-4bb1-c495-5a6dc5e54efc"
      },
      "outputs": [
        {
          "output_type": "stream",
          "name": "stdout",
          "text": [
            "{'activation': 'relu', 'hidden_layer_sizes': 100, 'solver': 'adam'}\n"
          ]
        }
      ],
      "source": [
        "print(grid_search.best_params_)"
      ],
      "id": "GTujYXCfTR0I"
    },
    {
      "cell_type": "code",
      "execution_count": null,
      "metadata": {
        "id": "PpLwfj2UNNRh",
        "colab": {
          "base_uri": "https://localhost:8080/"
        },
        "outputId": "75179f9e-de46-40bf-c21c-706a5fdd7813"
      },
      "outputs": [
        {
          "output_type": "stream",
          "name": "stderr",
          "text": [
            "/usr/local/lib/python3.8/dist-packages/sklearn/neural_network/_multilayer_perceptron.py:692: ConvergenceWarning: Stochastic Optimizer: Maximum iterations (1000) reached and the optimization hasn't converged yet.\n",
            "  warnings.warn(\n"
          ]
        },
        {
          "output_type": "stream",
          "name": "stdout",
          "text": [
            "                          Train RMSE    Test RMSE  Training Score  Test Score  \\\n",
            "Linear Regression        1744.605000  1760.647905        0.977398    0.977021   \n",
            "Decision Tree Regressor   847.965507   954.163756        0.994660    0.993251   \n",
            "Random Forest Regressor  2110.658138  2282.903578        0.966918    0.961367   \n",
            "ANN Regressor            1228.992631  1289.817158        0.988784    0.987668   \n",
            "\n",
            "                         Taining MAPE  Test MAPE  \n",
            "Linear Regression            8.906356   9.149702  \n",
            "Decision Tree Regressor      3.781706   4.338371  \n",
            "Random Forest Regressor     10.927756  11.831595  \n",
            "ANN Regressor                5.829211   6.198369  \n"
          ]
        }
      ],
      "source": [
        "annr  = MLPRegressor(activation='relu', hidden_layer_sizes=(100), \n",
        "                    solver='adam',random_state=123, \n",
        "                    max_iter=1000)\n",
        "rfr = RandomForestRegressor(max_depth=10, max_features=6, \n",
        "                            min_samples_leaf= 3,\n",
        "                            min_samples_split= 30, n_estimators= 300,\n",
        "                            random_state=123)\n",
        "dtr = tree.DecisionTreeRegressor(max_depth=10,min_samples_split=40,min_samples_leaf=15,random_state=123)\n",
        "regression_model = LinearRegression()\n",
        "\n",
        "models=[regression_model,dtr,rfr,annr]\n",
        "\n",
        "rmse_train=[]\n",
        "rmse_test=[]\n",
        "scores_train=[]\n",
        "scores_test=[]\n",
        "mape_train=[]\n",
        "mape_test=[]\n",
        "\n",
        "for i in models:  # we are scaling the data for ANN. Without scaling it will give very poor results. Computations becomes easier \n",
        "   if (i != annr):\n",
        "        i.fit(x_train,y_train)\n",
        "        scores_train.append(i.score(x_train, y_train))\n",
        "        scores_test.append(i.score(x_test, y_test))\n",
        "        rmse_train.append(np.sqrt(mean_squared_error(y_train,i.predict(x_train))))\n",
        "        rmse_test.append(np.sqrt(mean_squared_error(y_test,i.predict(x_test))))\n",
        "        mape_train.append(mape(y_train,i.predict(x_train)))\n",
        "        mape_test.append(mape(y_test,i.predict(x_test)))\n",
        "\n",
        "   else:\n",
        "        i.fit(x_train_scaled,y_train)\n",
        "        scores_train.append(i.score(x_train_scaled, y_train))\n",
        "        scores_test.append(i.score(x_test_scaled, y_test))\n",
        "        rmse_train.append(np.sqrt(mean_squared_error(y_train,i.predict(x_train_scaled))))\n",
        "        rmse_test.append(np.sqrt(mean_squared_error(y_test,i.predict(x_test_scaled))))\n",
        "        mape_train.append(mape(y_train,i.predict(x_train_scaled)))\n",
        "        mape_test.append(mape(y_test,i.predict(x_test_scaled)))\n",
        "\n",
        "        \n",
        "print(pd.DataFrame({'Train RMSE': rmse_train,'Test RMSE': rmse_test,'Training Score':scores_train,'Test Score': scores_test,'Taining MAPE': mape_train,'Test MAPE' : mape_test},\n",
        "            index=['Linear Regression','Decision Tree Regressor','Random Forest Regressor', 'ANN Regressor']))"
      ],
      "id": "PpLwfj2UNNRh"
    },
    {
      "cell_type": "code",
      "execution_count": null,
      "metadata": {
        "id": "xSuLK2c8NNkx",
        "colab": {
          "base_uri": "https://localhost:8080/",
          "height": 302
        },
        "outputId": "b5f870cd-a32c-42d4-fb3e-5755c8069135"
      },
      "outputs": [
        {
          "output_type": "execute_result",
          "data": {
            "text/plain": [
              "Text(0.5, 0, 'Random Forest Feature Importance')"
            ]
          },
          "metadata": {},
          "execution_count": 110
        },
        {
          "output_type": "display_data",
          "data": {
            "text/plain": [
              "<Figure size 432x288 with 1 Axes>"
            ],
            "image/png": "[encoded data removed]"
          },
          "metadata": {}
        }
      ],
      "source": [
        "sorted_idx = dtr.feature_importances_.argsort()\n",
        "plt.barh(x_train.columns,dtr.feature_importances_[sorted_idx])\n",
        "plt.xlabel(\"Random Forest Feature Importance\")"
      ],
      "id": "xSuLK2c8NNkx"
    },
    {
      "cell_type": "code",
      "execution_count": null,
      "metadata": {
        "id": "nVKr0GiKNNnq"
      },
      "outputs": [],
      "source": [
        "pred = dtr.predict(x_test)"
      ],
      "id": "nVKr0GiKNNnq"
    },
    {
      "cell_type": "code",
      "execution_count": null,
      "metadata": {
        "id": "egZH3b4CNNq3",
        "colab": {
          "base_uri": "https://localhost:8080/",
          "height": 466
        },
        "outputId": "ed9be5cc-52c4-4d21-cc31-7268fbbf74fc"
      },
      "outputs": [
        {
          "output_type": "stream",
          "name": "stderr",
          "text": [
            "/usr/local/lib/python3.8/dist-packages/seaborn/_decorators.py:36: FutureWarning: Pass the following variables as keyword args: x, y. From version 0.12, the only valid positional argument will be `data`, and passing other arguments without an explicit keyword will result in an error or misinterpretation.\n",
            "  warnings.warn(\n"
          ]
        },
        {
          "output_type": "execute_result",
          "data": {
            "text/plain": [
              "<matplotlib.axes._subplots.AxesSubplot at 0x7f251f0bd040>"
            ]
          },
          "metadata": {},
          "execution_count": 113
        },
        {
          "output_type": "display_data",
          "data": {
            "text/plain": [
              "<Figure size 1080x432 with 1 Axes>"
            ],
            "image/png": "[encoded data removed]"
          },
          "metadata": {}
        }
      ],
      "source": [
        "plt.figure(figsize = (15,6))\n",
        "sns.scatterplot(y_test,pred)"
      ],
      "id": "egZH3b4CNNq3"
    },
    {
      "cell_type": "markdown",
      "source": [
        "# Recommendations based on best model important features:\n",
        "\n",
        "Wh_owner_type_rented.\n",
        "Wh_regional_zone_6\n",
        "Wh_regional_zone_5\n",
        "Wh_regional_zone_4\n",
        "#Insight 1.\n",
        "91.25 % warehouses are in rural areas in comparison of rural area has 8.17%.\n",
        "#Insight 2.\n",
        "82 % warehouses are of large & mid type.\n",
        "#Insight 3:\n",
        "North zone & Zone 6 has majority of warehouses.\n",
        "#Insight 4:\n",
        "Avg Product wt tone is supplied more to urban area in comparison of rural area\n",
        "#Recommendation 1:\n",
        "Product wt tone should be supplied to be increased for rural area. Those warehouses are in urban areas should managed properly to cater more customer demand.\n",
        "#Insight 5:\n",
        "Govt checks are more in zone 3 & zone 4.\n",
        "#Recommendation 2:\n",
        "In zone 3 & zone 4,all documents should be maintained properly for audit purposes to avoid unnecessary breakdown.\n",
        "#Insight 6:\n",
        "Warehouse breakdown are more in urban zone than rural zone.\n",
        "#Recommendation 3:\n",
        "Strike from worker, flood, or electrical failure should be taken care properly by respective managers to reduce warehouse breakdowns.\n",
        "#Insight 7:\n",
        "Older warehouses are more in urban area comparison of rural area.\n",
        "#Recommendation 4:\n",
        "Renovation of roofs, pallets and others broken racks etc should be done to avoid unnecessary loss of product.\n",
        "#Insight 8:\n",
        "Transport issues are more in urban areas in comparison of rural area.\n",
        "#Recommendation 5:\n",
        "Latest technology could be used like drone to avoid delays.\n",
        "#Insight 9:\n",
        "Wh_Regional _Zone 6 has most number of breakdowns than 5 followed by zone 4.\n",
        "Recommendation 6:\n",
        "In zone 6 specially ,electricity, worker strike & flood failure should be checked & planned in advance to avoid these failure.\n",
        "#Insight 10:\n",
        "Company owned warehouses has more numbers of workers than rented whereas supply is same.\n",
        "#Recommendation 7:\n",
        "HR manager should refer rented warehouse system as benchmark for company owned warehouse.\n",
        "#Insight 11:\n",
        "No of refills are more in urban areas than rural areas.\n",
        "Recommendation 8: Transportation system of urban areas must be improved.\n",
        "#Insight 12:\n",
        "Storage issues are more where product is stored more.\n",
        "#Recommendation 9:\n",
        "Large & medium size specially older warehouses warehouses renovation must be done properly."
      ],
      "metadata": {
        "id": "B1CtDX809XJJ"
      },
      "id": "B1CtDX809XJJ"
    },
    {
      "cell_type": "markdown",
      "source": [
        "#END"
      ],
      "metadata": {
        "id": "G-t3UjHI1JjW"
      },
      "id": "G-t3UjHI1JjW"
    },
    {
      "cell_type": "code",
      "source": [],
      "metadata": {
        "id": "8Jy0PhWK04mm"
      },
      "id": "8Jy0PhWK04mm",
      "execution_count": null,
      "outputs": []
    }
  ],
  "metadata": {
    "colab": {
      "provenance": []
    },
    "kernelspec": {
      "display_name": "Python 3 (ipykernel)",
      "language": "python",
      "name": "python3"
    },
    "language_info": {
      "codemirror_mode": {
        "name": "ipython",
        "version": 3
      },
      "file_extension": ".py",
      "mimetype": "text/x-python",
      "name": "python",
      "nbconvert_exporter": "python",
      "pygments_lexer": "ipython3",
      "version": "3.9.13"
    }
  },
  "nbformat": 4,
  "nbformat_minor": 5
}